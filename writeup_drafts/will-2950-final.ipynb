{
 "cells": [
  {
   "cell_type": "markdown",
   "metadata": {},
   "source": [
    "# Import libraries and data pre-processing"
   ]
  },
  {
   "cell_type": "code",
   "execution_count": 1,
   "metadata": {},
   "outputs": [],
   "source": [
    "import numpy as np\n",
    "import pandas as pd\n",
    "from matplotlib import pyplot as plt\n",
    "from sklearn.linear_model import LinearRegression, LogisticRegression\n",
    "import scipy\n",
    "import datetime\n",
    "import seaborn as sn\n",
    "from collections import Counter\n",
    "import re\n",
    "from itertools import chain, islice\n",
    "import requests\n",
    "import urllib.request\n",
    "import time\n",
    "from bs4 import BeautifulSoup"
   ]
  },
  {
   "cell_type": "code",
   "execution_count": 2,
   "metadata": {},
   "outputs": [],
   "source": [
    "dat= pd.read_csv('data/TopCharts_complete.csv')"
   ]
  },
  {
   "cell_type": "code",
   "execution_count": 3,
   "metadata": {
    "scrolled": true
   },
   "outputs": [
    {
     "name": "stdout",
     "output_type": "stream",
     "text": [
      "rank                  int64\n",
      "date                 object\n",
      "artist               object\n",
      "title                object\n",
      "streams              object\n",
      "danceability        float64\n",
      "energy              float64\n",
      "key                 float64\n",
      "loudness            float64\n",
      "mode                float64\n",
      "speechiness         float64\n",
      "acousticness        float64\n",
      "instrumentalness    float64\n",
      "liveness            float64\n",
      "valence             float64\n",
      "tempo               float64\n",
      "uri                  object\n",
      "duration_ms         float64\n",
      "time_signature      float64\n",
      "dtype: object\n"
     ]
    }
   ],
   "source": [
    "print(dat.dtypes) # type of each feature"
   ]
  },
  {
   "cell_type": "code",
   "execution_count": 4,
   "metadata": {},
   "outputs": [
    {
     "name": "stdout",
     "output_type": "stream",
     "text": [
      "0    1371493\n",
      "1    1180074\n",
      "2    1064351\n",
      "3    1010492\n",
      "4     874289\n",
      "Name: streams, dtype: int32\n"
     ]
    }
   ],
   "source": [
    "# we see problem with 'streams' feature being a string due to the commas present in the numbers\n",
    "dat_copy = dat.copy()\n",
    "dat_copy.streams = dat_copy.streams.str.replace(',', '') # remove commas\n",
    "dat_copy.streams = dat_copy.streams.astype(int) # convert to int\n",
    "dat.loc[:,'streams'] = dat_copy['streams']\n",
    "print(dat.streams.head())"
   ]
  },
  {
   "cell_type": "markdown",
   "metadata": {},
   "source": [
    "# Artists"
   ]
  },
  {
   "cell_type": "markdown",
   "metadata": {},
   "source": [
    "### Comparing the probability of an artist having another number one song (after having one already) to the probability of an artist having a number one song"
   ]
  },
  {
   "cell_type": "code",
   "execution_count": 5,
   "metadata": {},
   "outputs": [
    {
     "name": "stdout",
     "output_type": "stream",
     "text": [
      "Number of different artists with a #1 song: 40\n",
      "Total number of artists included in dataset: 813\n",
      "\n",
      "Proportion of artists in dataset with a #1 song: 0.04920049200492005\n"
     ]
    }
   ],
   "source": [
    "print('Number of different artists with a #1 song:', len(dat.artist[dat['rank']==1].unique()))\n",
    "print('Total number of artists included in dataset:', len(dat.artist.unique()))\n",
    "print('\\nProportion of artists in dataset with a #1 song:', len(dat.artist[dat['rank']==1].unique())/len(dat.artist.unique()))"
   ]
  },
  {
   "cell_type": "markdown",
   "metadata": {},
   "source": [
    "* Wow, very few artists -- only around five percent -- have a number one song! This is not too surprising, however, since it feels like the same artists seem to appear over and over in the number one song position (e.g., Drake, Post Malone, etc.). Keep in mind that this dataset only includes songs and artists that reach the top 200 -- I can only imagine how small the proportion of __ALL__ artists that reach the number one song position must be."
   ]
  },
  {
   "cell_type": "markdown",
   "metadata": {},
   "source": [
    "* Now, let's examine the breakdown of number one songs by artist:"
   ]
  },
  {
   "cell_type": "code",
   "execution_count": 6,
   "metadata": {
    "scrolled": true
   },
   "outputs": [
    {
     "name": "stdout",
     "output_type": "stream",
     "text": [
      "Artists with #1 songs: ['Taylor Swift' 'Logic' 'Ariana Grande' 'Harry Styles' 'Mariah Carey'\n",
      " 'Kanye West' 'DaBaby' 'Lil Uzi Vert' 'Migos' '21 Savage' 'Post Malone'\n",
      " 'The Weeknd' 'Luis Fonsi' 'Lil Baby' 'Tyler, The Creator' 'Lil Peep'\n",
      " 'Drake' 'Travis Scott' 'Kendrick Lamar' 'Ed Sheeran' 'J. Cole'\n",
      " 'Selena Gomez' 'Juice WRLD' 'Eminem' 'Sheck Wes' 'Lil Wayne' 'Lil Nas X'\n",
      " 'Arizona Zervas' 'Lil Tecca' 'XXXTENTACION' 'Shawn Mendes'\n",
      " 'Jonas Brothers' 'Roddy Ricch' 'Young Thug' 'Childish Gambino' 'NAV'\n",
      " 'French Montana' 'DJ Khaled' 'Kodak Black' 'Billie Eilish']\n"
     ]
    }
   ],
   "source": [
    "num_one_artists = dat['artist'].groupby(dat.title[dat['rank']==1]).unique().apply(pd.Series)[0]\n",
    "print('Artists with #1 songs:', num_one_artists.unique())"
   ]
  },
  {
   "cell_type": "code",
   "execution_count": 7,
   "metadata": {},
   "outputs": [
    {
     "name": "stdout",
     "output_type": "stream",
     "text": [
      "Number of different number one songs by artist: {'Taylor Swift': 5, 'Logic': 2, 'Ariana Grande': 4, 'Harry Styles': 1, 'Mariah Carey': 1, 'Kanye West': 3, 'DaBaby': 1, 'Lil Uzi Vert': 5, 'Migos': 1, '21 Savage': 1, 'Post Malone': 8, 'The Weeknd': 3, 'Luis Fonsi': 2, 'Lil Baby': 2, 'Tyler, The Creator': 1, 'Lil Peep': 1, 'Drake': 7, 'Travis Scott': 3, 'Kendrick Lamar': 1, 'Ed Sheeran': 2, 'J. Cole': 2, 'Selena Gomez': 1, 'Juice WRLD': 1, 'Eminem': 1, 'Sheck Wes': 1, 'Lil Wayne': 1, 'Lil Nas X': 3, 'Arizona Zervas': 1, 'Lil Tecca': 1, 'XXXTENTACION': 2, 'Shawn Mendes': 1, 'Jonas Brothers': 1, 'Roddy Ricch': 1, 'Young Thug': 1, 'Childish Gambino': 1, 'NAV': 1, 'French Montana': 1, 'DJ Khaled': 1, 'Kodak Black': 1, 'Billie Eilish': 2}\n"
     ]
    }
   ],
   "source": [
    "num_one_artists_freq_dict = dict(zip(Counter(num_one_artists).keys(), Counter(num_one_artists).values()))\n",
    "print('Number of different number one songs by artist:', num_one_artists_freq_dict)"
   ]
  },
  {
   "cell_type": "markdown",
   "metadata": {},
   "source": [
    "* We observe that only some of the biggest names in music have a number one song. It appears that artists with more than one number one song are in an even more exclusive group, as we can see that very few artists have more than one number one hit."
   ]
  },
  {
   "cell_type": "markdown",
   "metadata": {},
   "source": [
    "* So, if an artist has a number one song, just how many do they have?"
   ]
  },
  {
   "cell_type": "code",
   "execution_count": 8,
   "metadata": {},
   "outputs": [
    {
     "data": {
      "image/png": "[encoded data removed]",
      "text/plain": [
       "<Figure size 432x288 with 1 Axes>"
      ]
     },
     "metadata": {
      "needs_background": "light"
     },
     "output_type": "display_data"
    }
   ],
   "source": [
    "num_one_songs_by_art = [x for x in Counter(num_one_artists).values()]\n",
    "plt.hist(num_one_songs_by_art, bins = np.arange(0.5,9,1)) # better align our bins\n",
    "plt.title('#1 songs by artist')\n",
    "plt.xlabel('Count of #1 songs')\n",
    "plt.ylabel('Frequency of artists')\n",
    "plt.show()"
   ]
  },
  {
   "cell_type": "markdown",
   "metadata": {},
   "source": [
    "* We confirm that the number of artists with a particular count of number one songs decreases significantly for each additional number one song.\n",
    "\n",
    "\n",
    "* So, we now model the probability of an artist having a number one song after having one already -- let's try using the Geometric model supported on the set {1, 2, 3, ...} (since there is no clear maximum to the number of number one songs artists can have) with different parameters and maximize the log-likelihood."
   ]
  },
  {
   "cell_type": "code",
   "execution_count": 9,
   "metadata": {},
   "outputs": [
    {
     "name": "stdout",
     "output_type": "stream",
     "text": [
      "The log-likelihoods for each of the Geometric models are listed as follows: [-96.21246383041704, -73.0801149986182, -62.06923498664801, -56.573828601839836, -54.75862726423568, -56.168363493731675, -61.2219371262608, -71.6938206374983, -94.01523925308085].\n"
     ]
    },
    {
     "data": {
      "image/png": "[encoded data removed]",
      "text/plain": [
       "<Figure size 432x288 with 1 Axes>"
      ]
     },
     "metadata": {
      "needs_background": "light"
     },
     "output_type": "display_data"
    }
   ],
   "source": [
    "### Geometric model\n",
    "\n",
    "data = num_one_songs_by_art\n",
    "p_vals = [0.1, 0.2, 0.3, 0.4, 0.5, 0.6, 0.7, 0.8, 0.9]\n",
    "n = len(data)\n",
    "\n",
    "def log_likelihood_geometric(x, n, p):\n",
    "    ## probability mass function: p(X=k) = p*(1-p)^(k-1)\n",
    "    x = np.array(x)\n",
    "    loglik = n*np.log(p) + np.log(1-p)*sum(x-1) # = log(joint pmf)\n",
    "    return loglik\n",
    "\n",
    "loglik = []\n",
    "for p in p_vals:\n",
    "    loglik.append(log_likelihood_geometric(data, n, p))\n",
    "    \n",
    "print('The log-likelihoods for each of the Geometric models are listed as follows: {}.'.format(loglik))\n",
    "\n",
    "line_graph = plt.plot(p_vals, loglik)\n",
    "plt.xlabel('Success probability p')\n",
    "plt.ylabel('Log-likelihood')\n",
    "plt.show()"
   ]
  },
  {
   "cell_type": "markdown",
   "metadata": {},
   "source": [
    "* We see that the log-likelihood using a Geometric model is maximized with success probability $p=0.5$. This model suggests that the probability of artists having an additional number one song after having at least one comes down to a coin flip."
   ]
  },
  {
   "cell_type": "markdown",
   "metadata": {},
   "source": [
    "* Since Geometric(0.5) has the highest log-likelihood, we choose to model the probability of artists with a certain number of number one songs as a draw from a Geometric distribution with success probability $p=0.5$. This model suggests that the probability that an artist who has at least one number one song gets another can be modelled by a coin flip.\n",
    "\n",
    "\n",
    "* We note that there are some downfalls with using this model, such as the lack of independence between trials (whether or not an artist will get another number one song). There is also a potential issue with a non-constant probability of getting an additional number one song. These issues arise due to the fact that more popular artists tend to accumulate number one songs with little difficulty, but newer, less popular artists have difficulty establishing themselves. Likewise, if an artist stops making music or puts out a very popular album, the probability of an additional number one song changes.\n",
    "\n",
    "\n",
    "* Using the model, the fact that the probability an artist has an additional number one song after having at least one can simply come down to a coin flip is quite an interesting finding!"
   ]
  },
  {
   "cell_type": "markdown",
   "metadata": {},
   "source": [
    "* Thus, since the probability of an artist having another number one song (after having one already) is approximately 0.5 and since very few artists -- only around five percent -- have a number one song, we conclude that the probability of an artist having a number one song is about ten times greater if the artist has already had a number one song."
   ]
  },
  {
   "cell_type": "markdown",
   "metadata": {},
   "source": [
    "# Songs"
   ]
  },
  {
   "cell_type": "markdown",
   "metadata": {},
   "source": [
    "### Comparing the probability that a number one song leaves the top spot on a particular day to the probability that any song in the top 200 leaves the charts on a particular day"
   ]
  },
  {
   "cell_type": "code",
   "execution_count": 10,
   "metadata": {},
   "outputs": [
    {
     "name": "stdout",
     "output_type": "stream",
     "text": [
      "Number of different #1 songs: 79\n",
      "Total number of songs included in dataset: 4933\n",
      "\n",
      "Proportion of songs in dataset that have been at #1 position: 0.016014595580782484\n"
     ]
    }
   ],
   "source": [
    "print('Number of different #1 songs:', len(dat.title[dat['rank']==1].unique()))\n",
    "print('Total number of songs included in dataset:', len(dat.title.unique()))\n",
    "print('\\nProportion of songs in dataset that have been at #1 position:', len(dat.title[dat['rank']==1].unique())/len(dat.title.unique()))"
   ]
  },
  {
   "cell_type": "markdown",
   "metadata": {},
   "source": [
    "* We observe that very few songs ever reach the number one position. Again, I can only imagine how small this proportion becomes once we include the population of __ALL__ songs. These number one songs must be serious bops."
   ]
  },
  {
   "cell_type": "markdown",
   "metadata": {},
   "source": [
    "* Now, let's see just how long a number one song stays at number one:"
   ]
  },
  {
   "cell_type": "code",
   "execution_count": 11,
   "metadata": {},
   "outputs": [
    {
     "name": "stdout",
     "output_type": "stream",
     "text": [
      "Number of days each song is at the #1 position: {'Bad and Boujee (feat. Lil Uzi Vert)': 29, 'Shape of You': 48, 'Passionfruit': 12, 'HUMBLE.': 64, 'Despacito (Featuring Daddy Yankee)': 2, 'Despacito - Remix': 46, 'XO TOUR Llif3': 4, 'Wild Thoughts (feat. Rihanna & Bryson Tiller)': 1, 'Unforgettable': 7, 'Bank Account': 20, 'Look What You Made Me Do': 10, '...Ready For It?': 2, '1-800-273-8255': 10, 'rockstar': 124, 'All I Want for Christmas Is You': 5, \"God's Plan\": 70, 'Psycho (feat. Ty Dolla $ign)': 1, 'Call Out My Name': 6, 'Nice For What': 32, 'KOD': 2, 'Paranoid': 1, 'Better Now': 8, 'This Is America': 13, 'All Mine': 4, 'Lucid Dreams': 20, 'SAD!': 6, 'Nonstop': 7, 'In My Feelings': 37, 'STARGAZING': 1, 'SICKO MODE': 19, 'Lucky You (feat. Joyner Lucas)': 9, 'I Love It (& Lil Pump)': 11, 'New Patek': 1, 'Falling Down - Bonus Track': 6, 'Mona Lisa (feat. Kendrick Lamar)': 7, 'Never Recover (Lil Baby & Gunna, Drake)': 1, 'Drip Too Hard (Lil Baby & Gunna)': 6, 'ZEZE (feat. Travis Scott & Offset)': 16, 'Mo Bamba': 7, 'thank u, next': 42, 'whoa (mind in awe)': 1, 'Sunflower - Spider-Man: Into the Spider-Verse': 29, 'Wow.': 6, '7 rings': 34, 'MIDDLE CHILD': 16, \"break up with your girlfriend, i'm bored\": 4, 'Sucker': 11, 'Old Town Road': 2, 'bad guy': 20, 'Old Town Road (feat. Billy Ray Cyrus) - Remix': 30, 'ME! (feat. Brendon Urie of Panic! At The Disco)': 3, 'Homicide': 7, \"I Don't Care (with Justin Bieber)\": 7, 'EARFQUAKE': 7, 'The London (feat. J. Cole & Travis Scott)': 3, 'You Need To Calm Down': 1, 'Money In The Grave (Drake ft. Rick Ross)': 6, 'Panini': 2, 'Señorita': 26, 'Goodbyes (Feat. Young Thug)': 7, 'Ransom': 26, 'boyfriend (with Social House)': 1, 'Lover': 7, 'Circles': 38, 'BOP': 1, 'HIGHEST IN THE ROOM': 21, 'Lose You To Love Me': 5, 'Follow God': 4, 'ROXANNE': 23, 'everything i wanted': 4, 'Heartless': 8, 'Adore You': 1, 'Futsal Shuffle 2020': 7, 'The Box': 85, 'Baby Pluto': 2, 'Myron': 1, 'Blinding Lights': 11, 'Turks (feat. Travis Scott)': 1, 'Toosie Slide': 10}\n"
     ]
    }
   ],
   "source": [
    "num_one_songs = dat.title[dat['rank']==1]\n",
    "num_one_songs_freq_dict = dict(zip(Counter(num_one_songs).keys(), Counter(num_one_songs).values()))\n",
    "print('Number of days each song is at the #1 position:', num_one_songs_freq_dict)"
   ]
  },
  {
   "cell_type": "markdown",
   "metadata": {},
   "source": [
    "* Rather expectedly, we observe that most songs do not last long at the number one position, but some notable ones last very long (e.g., 'Rockstar' by Post Malone and 'The Box' by Roddy Ricch). These songs have such a high position for many possible reasons, such as because they are very popular or have little competition for the top position on a given day.\n",
    "\n",
    "\n",
    "* We note one possible downfall of only examining the top song for a given day is possibly ignoring a song that seems to be an eternal resident in the top few songs on the charts, such as 'Sunflower' by Post Malone. \n",
    "\n",
    "\n",
    "* Now, let's check the distribution of the number of days a song stays at the number one position on the charts:"
   ]
  },
  {
   "cell_type": "code",
   "execution_count": 12,
   "metadata": {},
   "outputs": [
    {
     "data": {
      "image/png": "[encoded data removed]",
      "text/plain": [
       "<Figure size 432x288 with 1 Axes>"
      ]
     },
     "metadata": {
      "needs_background": "light"
     },
     "output_type": "display_data"
    }
   ],
   "source": [
    "plt.hist(Counter(num_one_songs).values(), bins = np.arange(0,125,10)) # better align our bins\n",
    "plt.title('Songs at #1 position on the charts')\n",
    "plt.xlabel('Number of days spent at #1')\n",
    "plt.ylabel('Frequency of songs')\n",
    "plt.show()"
   ]
  },
  {
   "cell_type": "markdown",
   "metadata": {},
   "source": [
    "* We once again see that the number of days a song stays at the number one position on the charts decreases significantly for each increment of ten days. This distribution actually looks a lot like the total count of number one songs for particular artists.\n",
    "\n",
    "\n",
    "* So, we now model the probability that a number one song leaves the top spot on a particular day -- let's again try using the Geometric model supported on the set {1, 2, 3, ...} with different parameters and maximize the log-likelihood."
   ]
  },
  {
   "cell_type": "code",
   "execution_count": 13,
   "metadata": {},
   "outputs": [
    {
     "name": "stdout",
     "output_type": "stream",
     "text": [
      "The log-likelihoods for each of the Geometric models are listed as follows: [-375.0246195055668, -293.90616614727173, -299.48655782066373, -331.24360412550146, -376.17379834895195, -430.57044738465885, -493.16308897737434].\n"
     ]
    },
    {
     "data": {
      "image/png": "[encoded data removed]",
      "text/plain": [
       "<Figure size 432x288 with 1 Axes>"
      ]
     },
     "metadata": {
      "needs_background": "light"
     },
     "output_type": "display_data"
    }
   ],
   "source": [
    "### Geometric model\n",
    "\n",
    "data = list(Counter(num_one_songs).values())\n",
    "p_vals = [0.01, 0.05, 0.1, 0.15, 0.2, 0.25, 0.3]\n",
    "n = len(data)\n",
    "\n",
    "def log_likelihood_geometric(x, n, p):\n",
    "    ## probability mass function: p(X=k) = p*(1-p)^(k-1)\n",
    "    x = np.array(x)\n",
    "    loglik = n*np.log(p) + np.log(1-p)*sum(x-1) # = log(joint pmf)\n",
    "    return loglik\n",
    "\n",
    "loglik = []\n",
    "for p in p_vals:\n",
    "    loglik.append(log_likelihood_geometric(data, n, p))\n",
    "    \n",
    "print('The log-likelihoods for each of the Geometric models are listed as follows: {}.'.format(loglik))\n",
    "\n",
    "line_graph = plt.plot(p_vals, loglik)\n",
    "plt.xlabel('Success probability p')\n",
    "plt.ylabel('Log-likelihood')\n",
    "plt.show()"
   ]
  },
  {
   "cell_type": "markdown",
   "metadata": {},
   "source": [
    "* We see that the log-likelihood using the Geometric model is maximized with success probability $p=0.05$. This model suggests that the probability a song loses its number one position on a particular day equals 0.05."
   ]
  },
  {
   "cell_type": "markdown",
   "metadata": {},
   "source": [
    "* Since Geometric(0.05) has highest log-likelihood, we choose to model the probability that a number one song leaves the top spot as a draw from a Geometric distribution with success probability $p=0.05$. This model suggests that the probability a song loses its number one position on the charts for any particular day equals 0.05.\n",
    "\n",
    "\n",
    "* We note that there are a couple of downfalls with using this model, such as the lack of independence between trials (whether or not a song will last another day at number one). There is also a potential issue with a non-constant probability of exiting the number one position. These issues are due to the irregular release of music, such that very popular albums can immediately flood the charts, causing songs to lose their spot at number one, while other periods of time can be without any new music. Additionally, we should note that we are not exactly finding the probability that a song leaves the top spot on the charts on a particular day. Technically, our model is using the total number of days a song spends at the number one position and allowing songs to go in and out of the top spot. Even though this is not technically accurate, it is unlikely that a song leaves the top spot and later returns (barring weird external factors such as artist death).\n",
    "\n",
    "\n",
    "* Using the model, we conclude that the probability a song loses its number one position on the charts on a particular day equals 0.05. It is also interesting that we had observed the distribution of the number of days a song stays at the number one position to have about the same shape as the distribution of the frequency of number one songs for particular artists, except for a scaling factor of approximately ten, and that both distributions were best modeled using a Geometric distribution with a success parameter a factor of ten apart.\n",
    "\n",
    "\n",
    "* Now, let's model the probability that a song in the top 200 exits the charts entirely on a particular day:"
   ]
  },
  {
   "cell_type": "code",
   "execution_count": 14,
   "metadata": {},
   "outputs": [
    {
     "name": "stdout",
     "output_type": "stream",
     "text": [
      "Number of days some songs are in the top 200: {'Bad and Boujee (feat. Lil Uzi Vert)': 429, 'Fake Love': 455, 'Starboy': 464, 'Closer': 536, 'Black Beatles': 240, 'Broccoli (feat. Lil Yachty)': 393, 'One Dance': 498, 'Caroline': 389, 'Let Me Love You': 151, 'Bounce Back': 468}\n"
     ]
    }
   ],
   "source": [
    "songs = dat.title\n",
    "songs_freq_dict = dict(zip(Counter(songs).keys(), Counter(songs).values()))\n",
    "print('Number of days some songs are in the top 200:', dict(islice(songs_freq_dict.items(), 10)))"
   ]
  },
  {
   "cell_type": "markdown",
   "metadata": {},
   "source": [
    "* It makes sense that songs tend to spend significantly more days in the top 200 than at number one position. Let's examine the distribution of the number of days a song stays on the charts:"
   ]
  },
  {
   "cell_type": "code",
   "execution_count": 15,
   "metadata": {},
   "outputs": [
    {
     "data": {
      "image/png": "[encoded data removed]",
      "text/plain": [
       "<Figure size 432x288 with 1 Axes>"
      ]
     },
     "metadata": {
      "needs_background": "light"
     },
     "output_type": "display_data"
    }
   ],
   "source": [
    "plt.hist(Counter(songs).values(), bins = np.arange(0,1200,100)) # better align our bins\n",
    "plt.title('Song timeline in the top 200')\n",
    "plt.xlabel('Number of days spent in top 200')\n",
    "plt.ylabel('Frequency of songs')\n",
    "plt.show()"
   ]
  },
  {
   "cell_type": "markdown",
   "metadata": {},
   "source": [
    "* We see a very steep decrease in the number of days a song stays on the charts followed by a lesser degree of decrease. This suggests that a song is very likely to leave the charts quickly. If a song makes it past a certain amount of time on the charts, it is still likely to exit but less so than before.\n",
    "\n",
    "\n",
    "* Let's now model the probability that a song in the top 200 exits the charts entirely on a particular day -- we again use the Geometric model (for comparison and since other log-likelihood calculations require us to take factorials, but some of our entries are too high resulting in an overflow error) with different parameters and maximize the log-likelihood."
   ]
  },
  {
   "cell_type": "code",
   "execution_count": 16,
   "metadata": {},
   "outputs": [
    {
     "name": "stdout",
     "output_type": "stream",
     "text": [
      "The log-likelihoods for each of the Geometric models are listed as follows: [-34310.12489479444, -27309.789995523828, -25069.59568432712, -24254.50719226127, -24026.473336149793, -24122.900623675083, -24426.858078482997, -24876.001358448775, -25433.143083535077, -26074.320579374667, -26783.194150142437].\n"
     ]
    },
    {
     "data": {
      "image/png": "[encoded data removed]",
      "text/plain": [
       "<Figure size 432x288 with 1 Axes>"
      ]
     },
     "metadata": {
      "needs_background": "light"
     },
     "output_type": "display_data"
    }
   ],
   "source": [
    "### Geometric model\n",
    "\n",
    "data = list(Counter(songs).values())\n",
    "p_vals = [0.001, 0.005, 0.01, 0.015, 0.02, 0.025, 0.03, 0.035, 0.04, 0.045, 0.05]\n",
    "n = len(data)\n",
    "\n",
    "def log_likelihood_geometric(x, n, p):\n",
    "    ## probability mass function: p(X=k) = p*(1-p)^(k-1)\n",
    "    x = np.array(x)\n",
    "    loglik = n*np.log(p) + np.log(1-p)*sum(x-1) # = log(joint pmf)\n",
    "    return loglik\n",
    "\n",
    "loglik = []\n",
    "for p in p_vals:\n",
    "    loglik.append(log_likelihood_geometric(data, n, p))\n",
    "    \n",
    "print('The log-likelihoods for each of the Geometric models are listed as follows: {}.'.format(loglik))\n",
    "\n",
    "line_graph = plt.plot(p_vals, loglik)\n",
    "plt.xlabel('Success probability p')\n",
    "plt.ylabel('Log-likelihood')\n",
    "plt.show()"
   ]
  },
  {
   "cell_type": "markdown",
   "metadata": {},
   "source": [
    "* We see that the log-likelihood using a Geometric model is maximized with success probability $p=0.02$. This suggests that the probability a song exits the charts on a given day is equal to 0.02."
   ]
  },
  {
   "cell_type": "markdown",
   "metadata": {},
   "source": [
    "* We note that many of the downfalls mentioned when using the Geometric model to find the probability that a song exits the top spot on the charts hold in this scenario as well. We have an additional problem here where our success parameter $p$ appears to decrease past a certain number of days spent on the charts, as previously discussed."
   ]
  },
  {
   "cell_type": "markdown",
   "metadata": {},
   "source": [
    "* Thus, since the probability of a number one song leaving the top spot on a given day is approximately 0.05 and the probability that a song exits the charts entirely on a particular day is approximately 0.02, we conclude that it is more than twice as likely for a song to leave the top spot than for a song to leave the charts on a given day. This makes sense since there is much more competition for the top spot than there is for the top 200 (plus, there are many more opportunities to be in the top 200 than the number one position)."
   ]
  },
  {
   "cell_type": "markdown",
   "metadata": {},
   "source": [
    "### Most important words in song titles "
   ]
  },
  {
   "cell_type": "markdown",
   "metadata": {},
   "source": [
    "* Next, we look to find the most \"important\" words in song titles. We break this task up into three parts:\n",
    "\n",
    "    1. Finding the most frequently used words in song titles\n",
    "    2. Finding the words which are most commonly used in English language\n",
    "    3. Removing most common words in song titles which are also most common in English language\n",
    "    \n",
    "    \n",
    "* The remaining words are the most frequently used words in song titles and are not simply prevalent due to being commonly used in English. Thus, we define the remaining words as the most important words in song titles."
   ]
  },
  {
   "cell_type": "markdown",
   "metadata": {},
   "source": [
    "__Part 1__: Finding the most frequently used words in song titles"
   ]
  },
  {
   "cell_type": "code",
   "execution_count": 17,
   "metadata": {},
   "outputs": [
    {
     "name": "stdout",
     "output_type": "stream",
     "text": [
      "Some song titles: ['bad and boujee ' 'fake love' 'starboy' 'closer' 'black beatles'\n",
      " 'broccoli ' 'one dance' 'caroline' 'let me love you' 'bounce back']\n"
     ]
    }
   ],
   "source": [
    "# pre-process song titles\n",
    "song_titles = np.asarray([x.lower() for x in dat.title.unique()]) # lowercase all song titles\n",
    "song_titles = np.asarray([re.sub(r'\\([^)]*\\)', '', x) for x in song_titles]) # get rid of text in parentheses to remove featured artists\n",
    "print('Some song titles:', song_titles[0:10])"
   ]
  },
  {
   "cell_type": "code",
   "execution_count": 18,
   "metadata": {},
   "outputs": [
    {
     "name": "stdout",
     "output_type": "stream",
     "text": [
      "Words in some song titles: [['bad', 'and', 'boujee'], ['fake', 'love'], ['starboy'], ['closer'], ['black', 'beatles'], ['broccoli'], ['one', 'dance'], ['caroline'], ['let', 'me', 'love', 'you'], ['bounce', 'back']]\n"
     ]
    }
   ],
   "source": [
    "song_titles_words = [re.findall(r'\\b\\w+\\b',x) for x in song_titles] # extract words from each song\n",
    "print('Words in some song titles:', song_titles_words[0:10])"
   ]
  },
  {
   "cell_type": "code",
   "execution_count": 19,
   "metadata": {},
   "outputs": [
    {
     "name": "stdout",
     "output_type": "stream",
     "text": [
      "Pooled words from some song titles: ['bad', 'and', 'boujee', 'fake', 'love', 'starboy', 'closer', 'black', 'beatles', 'broccoli']\n"
     ]
    }
   ],
   "source": [
    "song_titles_words_all = (list(chain.from_iterable(song_titles_words))) # aggregate words in song titles\n",
    "print('Pooled words from some song titles:', song_titles_words_all[0:10])"
   ]
  },
  {
   "cell_type": "code",
   "execution_count": 20,
   "metadata": {},
   "outputs": [
    {
     "name": "stdout",
     "output_type": "stream",
     "text": [
      "Dictionary of some words in song titles and their frequency: {'bad': 38, 'and': 43, 'boujee': 1, 'fake': 4, 'love': 137, 'starboy': 1, 'closer': 4, 'black': 18, 'beatles': 1, 'broccoli': 1}\n"
     ]
    }
   ],
   "source": [
    "# first ten elements in dictionary of song title words and frequency in song titles\n",
    "print('Dictionary of some words in song titles and their frequency:',dict(islice(dict(zip(Counter(song_titles_words_all).keys(), Counter(song_titles_words_all).values())).items(), 10)))"
   ]
  },
  {
   "cell_type": "code",
   "execution_count": 21,
   "metadata": {
    "scrolled": false
   },
   "outputs": [
    {
     "name": "stdout",
     "output_type": "stream",
     "text": [
      "Top 25 most frequent words in song titles: [['the', 382], ['me', 244], ['i', 243], ['you', 237], ['it', 156], ['love', 137], ['a', 128], ['my', 122], ['t', 121], ['to', 117], ['in', 113], ['on', 109], ['up', 100], ['of', 92], ['s', 92], ['remix', 81], ['no', 69], ['for', 69], ['don', 65], ['christmas', 62], ['out', 58], ['like', 54], ['from', 50], ['what', 50], ['all', 50]]\n"
     ]
    }
   ],
   "source": [
    "song_word_dict = dict(zip(Counter(song_titles_words_all).keys(), Counter(song_titles_words_all).values())) # save above dictionary\n",
    "\n",
    "# sort dictionary by count and append to list\n",
    "song_word_list = []\n",
    "[song_word_list.append([w, song_word_dict[w]]) for w in sorted(song_word_dict, key=song_word_dict.get, reverse=True)]\n",
    "\n",
    "print('Top 25 most frequent words in song titles:', song_word_list[0:25])"
   ]
  },
  {
   "cell_type": "code",
   "execution_count": 22,
   "metadata": {},
   "outputs": [
    {
     "data": {
      "image/png": "[encoded data removed]",
      "text/plain": [
       "<Figure size 432x288 with 1 Axes>"
      ]
     },
     "metadata": {
      "needs_background": "light"
     },
     "output_type": "display_data"
    }
   ],
   "source": [
    "song_word_freq = np.asarray([value for word, value in song_word_list]) # extract counts of each word in song titles\n",
    "\n",
    "# plot histogram of unique word counts in song titles\n",
    "plt.hist(song_word_freq, bins = np.arange(0,400,10)) # show sharp decrease in word usage past most common words\n",
    "plt.title('Word count in song titles')\n",
    "plt.xlabel('Sorted word indices')\n",
    "plt.ylabel('Combined frequency in song titles')\n",
    "plt.show()"
   ]
  },
  {
   "cell_type": "markdown",
   "metadata": {},
   "source": [
    "* We observe that, other than the most common words, most words in song titles are not at all prevalent. We want to find the words that are most frequently used in song titles, but we want these words to not just be the commonly used words in English -- we want to find what makes these song titles important by finding their prominent, __unique__ words."
   ]
  },
  {
   "cell_type": "markdown",
   "metadata": {},
   "source": [
    "__Part 2__: Finding the words which are most commonly used in English language"
   ]
  },
  {
   "cell_type": "code",
   "execution_count": 23,
   "metadata": {},
   "outputs": [],
   "source": [
    "url = 'https://www.rypeapp.com/most-common-english-words/' # webpage listing 100 most common words in English language\n",
    "response = requests.get(url)"
   ]
  },
  {
   "cell_type": "code",
   "execution_count": 24,
   "metadata": {},
   "outputs": [
    {
     "data": {
      "text/plain": [
       "<Response [200]>"
      ]
     },
     "execution_count": 24,
     "metadata": {},
     "output_type": "execute_result"
    }
   ],
   "source": [
    "response # successful!"
   ]
  },
  {
   "cell_type": "code",
   "execution_count": 25,
   "metadata": {},
   "outputs": [],
   "source": [
    "soup = BeautifulSoup(response.text, 'html.parser') # use BeautifulSoup library"
   ]
  },
  {
   "cell_type": "code",
   "execution_count": 26,
   "metadata": {},
   "outputs": [
    {
     "data": {
      "text/plain": [
       "[<td nowrap=\"nowrap\" valign=\"bottom\" width=\"90\">1. the</td>,\n",
       " <td nowrap=\"nowrap\" valign=\"bottom\" width=\"90\">21. at</td>,\n",
       " <td nowrap=\"nowrap\" valign=\"bottom\" width=\"90\">41. there</td>,\n",
       " <td nowrap=\"nowrap\" valign=\"bottom\" width=\"100\">61. some</td>,\n",
       " <td nowrap=\"nowrap\" valign=\"bottom\" width=\"90\">81. my</td>]"
      ]
     },
     "execution_count": 26,
     "metadata": {},
     "output_type": "execute_result"
    }
   ],
   "source": [
    "soup.findAll('td')[0:5] # first five words on webpage (note: the words do not appear in the correct order of frequency)"
   ]
  },
  {
   "cell_type": "code",
   "execution_count": 27,
   "metadata": {},
   "outputs": [
    {
     "name": "stdout",
     "output_type": "stream",
     "text": [
      "Some of the most frequently used words in English language: [['the'], ['at'], ['there'], ['some'], ['my']]\n",
      "Corresponding rank of usage frequency: [['1'], ['21'], ['41'], ['61'], ['81']]\n"
     ]
    }
   ],
   "source": [
    "english_word_rank_list = []\n",
    "english_word_list = []\n",
    "\n",
    "for text in soup.findAll('td'):\n",
    "    english_word_rank_list.append(re.findall(r'[0-9]+', text.get_text())) # extract numbers => rank of words\n",
    "    english_word_list.append(re.findall(r'[a-zA-Z]+', text.get_text())) # extract words\n",
    "    \n",
    "print('Some of the most frequently used words in English language:', english_word_list[0:5])\n",
    "print('Corresponding rank of usage frequency:', english_word_rank_list[0:5])"
   ]
  },
  {
   "cell_type": "code",
   "execution_count": 28,
   "metadata": {
    "scrolled": true
   },
   "outputs": [],
   "source": [
    "# unlist individual elements\n",
    "english_word_rank_list = (list(chain.from_iterable(english_word_rank_list)))\n",
    "english_word_list = (list(chain.from_iterable(english_word_list)))"
   ]
  },
  {
   "cell_type": "code",
   "execution_count": 29,
   "metadata": {},
   "outputs": [
    {
     "name": "stdout",
     "output_type": "stream",
     "text": [
      "Dictionary of some frequently used words in English language and their rank: {1: 'the', 21: 'at', 41: 'there', 61: 'some', 81: 'my', 2: 'of', 22: 'be', 42: 'use', 62: 'her', 82: 'than'}\n"
     ]
    }
   ],
   "source": [
    "english_words_dict = dict(zip(np.asarray(english_word_rank_list).astype(int), english_word_list)) # concatenate lists into dictionary\n",
    "print('Dictionary of some frequently used words in English language and their rank:',dict(islice(english_words_dict.items(), 10)))"
   ]
  },
  {
   "cell_type": "code",
   "execution_count": 30,
   "metadata": {},
   "outputs": [
    {
     "name": "stdout",
     "output_type": "stream",
     "text": [
      "First four elements in list of most frequently used words in English language: [[1, 'the'], [2, 'of'], [3, 'and'], [4, 'a']]\n"
     ]
    }
   ],
   "source": [
    "# sort by rank of how common each word is and append to list\n",
    "english_words_list = []\n",
    "[english_words_list.append([w, english_words_dict[w]]) for w in sorted(english_words_dict)]\n",
    "print('First four elements in list of most frequently used words in English language:', english_words_list[0:4])"
   ]
  },
  {
   "cell_type": "markdown",
   "metadata": {},
   "source": [
    "__Part 3__: Removing most common words in song titles which are also most common in English language"
   ]
  },
  {
   "cell_type": "code",
   "execution_count": 31,
   "metadata": {},
   "outputs": [
    {
     "name": "stdout",
     "output_type": "stream",
     "text": [
      "Top 10 words in song titles: ['the' 'me' 'i' 'you' 'it' 'love' 'a' 'my' 't' 'to']\n",
      "Top 10 words in English language: ['the' 'of' 'and' 'a' 'to' 'in' 'is' 'you' 'that' 'it']\n"
     ]
    }
   ],
   "source": [
    "most_words_songs = np.asarray([word for word,count in song_word_list]) # list of most common words in song titles\n",
    "most_words_english = np.char.lower(np.asarray([word for count,word in english_words_list])) # list of most common words in English language\n",
    "\n",
    "print('Top 10 words in song titles:',most_words_songs[0:10])\n",
    "print('Top 10 words in English language:',most_words_english[0:10])"
   ]
  },
  {
   "cell_type": "code",
   "execution_count": 32,
   "metadata": {},
   "outputs": [
    {
     "data": {
      "text/plain": [
       "['me',\n",
       " 'love',\n",
       " 't',\n",
       " 's',\n",
       " 'remix',\n",
       " 'don',\n",
       " 'christmas',\n",
       " 'good',\n",
       " 'm',\n",
       " 'bad',\n",
       " 'back',\n",
       " 'let',\n",
       " 'off',\n",
       " 'life',\n",
       " 'know',\n",
       " '2',\n",
       " 'u',\n",
       " 'feat',\n",
       " 'big',\n",
       " 'girl',\n",
       " 'feel',\n",
       " 'never',\n",
       " 'la',\n",
       " 'night',\n",
       " 'version',\n",
       " 'new',\n",
       " 'too',\n",
       " 'god',\n",
       " 'man',\n",
       " 'home',\n",
       " 'right',\n",
       " 'money',\n",
       " 'heart',\n",
       " 'high',\n",
       " 'remastered',\n",
       " 'talk',\n",
       " 'better',\n",
       " 'say',\n",
       " 'want',\n",
       " 'summer',\n",
       " 'baby',\n",
       " 'boy',\n",
       " 'black']"
      ]
     },
     "execution_count": 32,
     "metadata": {},
     "output_type": "execute_result"
    }
   ],
   "source": [
    "# top 43 words in song titles NOT in most commmon English words\n",
    "song_words = [word for word in most_words_songs[~np.in1d(most_words_songs, most_words_english)]][0:43] \n",
    "song_words"
   ]
  },
  {
   "cell_type": "code",
   "execution_count": 33,
   "metadata": {},
   "outputs": [],
   "source": [
    "# extract top 35 words in song titles NOT in most commmon English words\n",
    "### IMPORTANT NOTE: we remove words that were part of contractions (e.g. 't', 'don'), slang (e.g., 'u'), numbers (e.g., '2'), \n",
    "### other languages (e.g., 'la'), and 'feat' (we do not want to take feat, or featuring artists into account)\n",
    "\n",
    "want_to_remove = ['t','s','don','m','2','u','feat','la']\n",
    "idxs_real_words = [i for i, x in enumerate(song_words) if x not in want_to_remove]\n",
    "\n",
    "# get words in most_words_songs that are not in our want_to_remove list\n",
    "song_words = [word for word in np.take([word for word in most_words_songs[~np.in1d(most_words_songs, most_words_english)]], idxs_real_words)]"
   ]
  },
  {
   "cell_type": "code",
   "execution_count": 34,
   "metadata": {},
   "outputs": [
    {
     "name": "stdout",
     "output_type": "stream",
     "text": [
      "Top 35 most important words in song titles:\n",
      "\n",
      " ['me', 'love', 'remix', 'christmas', 'good', 'bad', 'back', 'let', 'off', 'life', 'know', 'big', 'girl', 'feel', 'never', 'night', 'version', 'new', 'too', 'god', 'man', 'home', 'right', 'money', 'heart', 'high', 'remastered', 'talk', 'better', 'say', 'want', 'summer', 'baby', 'boy', 'black']\n"
     ]
    }
   ],
   "source": [
    "print('Top 35 most important words in song titles:\\n\\n',song_words)"
   ]
  },
  {
   "cell_type": "markdown",
   "metadata": {},
   "source": [
    "###### Notable words:\n",
    "* __infatuated__ -- love, heart, girl, baby, feel (note: I manually went through song titles and saw that 'man' and 'boy' usually were not infatuated-type songs)\n",
    "* __seasonal__ -- christmas, summer\n",
    "* __musical__ -- remix, remastered, version\n",
    "* __profound__ -- life, god\n",
    "* __enjoyment__ -- night, money"
   ]
  },
  {
   "cell_type": "markdown",
   "metadata": {},
   "source": [
    "* We found that, after processing words that are very common, many words used in song titles are very thematic. That is, they tend to fall into a few notable categories which help us classify the songs.\n",
    "\n",
    "\n",
    "* Some of these words suggest infatuation, perhaps indicating a love song, while others are associated with seasonal songs and enjoyment/party songs. Interestingly, there is a whole category dedicated to rather profound concepts, such as life and god. Another category has words with musical concepts, such as 'version' and 'remix'."
   ]
  },
  {
   "cell_type": "markdown",
   "metadata": {},
   "source": [
    "### Song categories and their muscial attributes"
   ]
  },
  {
   "cell_type": "markdown",
   "metadata": {},
   "source": [
    "* Now, let's examine the categories of songs we defined using their titles and see if they have any notable musical attributes. We do this by fitting simple linear regression models between songs in a particular catergory and examining the slopes associated with each audio feature:"
   ]
  },
  {
   "cell_type": "code",
   "execution_count": 35,
   "metadata": {},
   "outputs": [],
   "source": [
    "unique_songs_dat = dat.drop_duplicates(['title']) # dataframe where each song appears only once"
   ]
  },
  {
   "cell_type": "code",
   "execution_count": 36,
   "metadata": {},
   "outputs": [
    {
     "name": "stdout",
     "output_type": "stream",
     "text": [
      "0    bad and boujee (feat. lil uzi vert)\n",
      "1                              fake love\n",
      "2                                starboy\n",
      "3                                 closer\n",
      "4                          black beatles\n",
      "Name: title, dtype: object\n"
     ]
    }
   ],
   "source": [
    "# lowercase all song titles\n",
    "pd.options.mode.chained_assignment = None # ignore chained assignment warnings\n",
    "unique_songs_dat_copy = unique_songs_dat.copy()\n",
    "unique_songs_dat_copy.title = unique_songs_dat_copy.title.str.lower() # lowercase all song titles\n",
    "unique_songs_dat.loc[:,'title'] = unique_songs_dat_copy['title']\n",
    "print(unique_songs_dat.title.head())"
   ]
  },
  {
   "cell_type": "code",
   "execution_count": 37,
   "metadata": {
    "scrolled": true
   },
   "outputs": [
    {
     "name": "stdout",
     "output_type": "stream",
     "text": [
      "Individual words from first five songs: [['bad', 'and', 'boujee', 'feat', 'lil', 'uzi', 'vert'], ['fake', 'love'], ['starboy'], ['closer'], ['black', 'beatles']]\n"
     ]
    }
   ],
   "source": [
    "song_titles_words = [re.findall(r'\\b\\w+\\b',x) for x in unique_songs_dat.title] # extract words from each song\n",
    "print('Individual words from first five songs:', song_titles_words[0:5])"
   ]
  },
  {
   "cell_type": "markdown",
   "metadata": {},
   "source": [
    "* __Note__: we hypothesize that songs related to Christmas and songs related to summer will have very different musical attributes. This is because Christmas songs tend to be slower and calmer while summer songs tend towards being upbeat and exciting. Thus, we break up the seasonal song category into two separate groups."
   ]
  },
  {
   "cell_type": "code",
   "execution_count": 38,
   "metadata": {},
   "outputs": [],
   "source": [
    "# from previous findings\n",
    "infatuated_words = ['love', 'heart', 'girl', 'baby', 'feel']\n",
    "christmas_words = ['christmas']\n",
    "summer_words = ['summer']\n",
    "musical_words = ['remix', 'remastered', 'version']\n",
    "profound_words = ['life', 'god']\n",
    "enjoyment_words = ['night', 'money']"
   ]
  },
  {
   "cell_type": "code",
   "execution_count": 39,
   "metadata": {},
   "outputs": [],
   "source": [
    "infatuated_songs_list = []\n",
    "christmas_songs_list = []\n",
    "summer_songs_list = []\n",
    "musical_songs_list = []\n",
    "profound_songs_list = []\n",
    "enjoyment_songs_list = []\n",
    "\n",
    "# for each song, append 'True' to song category list if the song title contains an important word in that category; append 'False' otherwise\n",
    "for song_ix in range(len(unique_songs_dat.title)):\n",
    "    infatuated_songs_list.append(any(song_titles_words[song_ix][x] in infatuated_words for x in range(len(song_titles_words[song_ix]))))\n",
    "    christmas_songs_list.append(any(song_titles_words[song_ix][x] in christmas_words for x in range(len(song_titles_words[song_ix]))))\n",
    "    summer_songs_list.append(any(song_titles_words[song_ix][x] in summer_words for x in range(len(song_titles_words[song_ix]))))\n",
    "    musical_songs_list.append(any(song_titles_words[song_ix][x] in musical_words for x in range(len(song_titles_words[song_ix]))))\n",
    "    profound_songs_list.append(any(song_titles_words[song_ix][x] in profound_words for x in range(len(song_titles_words[song_ix]))))\n",
    "    enjoyment_songs_list.append(any(song_titles_words[song_ix][x] in enjoyment_words for x in range(len(song_titles_words[song_ix]))))"
   ]
  },
  {
   "cell_type": "code",
   "execution_count": 40,
   "metadata": {},
   "outputs": [],
   "source": [
    "# convert 'T/F' to numeric 0/1\n",
    "infatuated_ixs = np.asarray(infatuated_songs_list).astype(int)\n",
    "christmas_ixs = np.asarray(christmas_songs_list).astype(int)\n",
    "summer_ixs = np.asarray(summer_songs_list).astype(int)\n",
    "musical_ixs = np.asarray(musical_songs_list).astype(int)\n",
    "profound_ixs = np.asarray(profound_songs_list).astype(int)\n",
    "enjoyment_ixs = np.asarray(enjoyment_songs_list).astype(int)"
   ]
  },
  {
   "cell_type": "code",
   "execution_count": 41,
   "metadata": {},
   "outputs": [
    {
     "name": "stdout",
     "output_type": "stream",
     "text": [
      "Infatuated song percentage: 5.371984593553618\n",
      "Christmas song percentage: 1.3379282383944862\n",
      "Summer song percentage: 0.3851611595378066\n",
      "Musical song percentage: 2.71639975674032\n",
      "Profound song percentage: 1.1554834786134198\n",
      "Enjoyment song percentage: 0.9730387188323535\n"
     ]
    }
   ],
   "source": [
    "total_num_songs = len(unique_songs_dat.title) # total number of songs\n",
    "\n",
    "print('Infatuated song percentage:', 100*sum(infatuated_ixs)/total_num_songs)\n",
    "print('Christmas song percentage:', 100*sum(christmas_ixs)/total_num_songs)\n",
    "print('Summer song percentage:', 100*sum(summer_ixs)/total_num_songs)\n",
    "print('Musical song percentage:', 100*sum(musical_ixs)/total_num_songs)\n",
    "print('Profound song percentage:', 100*sum(profound_ixs)/total_num_songs)\n",
    "print('Enjoyment song percentage:', 100*sum(enjoyment_ixs)/total_num_songs)"
   ]
  },
  {
   "cell_type": "markdown",
   "metadata": {},
   "source": [
    "* Clearly, our grouping songs into categories by the presence of our defined \"important\" words in song tiles does an okay, but not very realistic job of grouping the song types. For example, we expect more than 5% of songs to be love songs and more than 1% of songs to be enjoyment/party type songs. We continue our analysis with this note in mind.\n",
    "\n",
    "\n",
    "* We should also be careful when drawing conclusions about a category of songs which makes up very little of our total data. Arbitrarily, we will define 1% of the data as a cutoff, so we will be cognizant when drawing conclusions about summer songs."
   ]
  },
  {
   "cell_type": "code",
   "execution_count": 42,
   "metadata": {
    "scrolled": true
   },
   "outputs": [],
   "source": [
    "# append our lists to the unique_songs_dat dataframe \n",
    "unique_songs_dat['infatuated'] = infatuated_ixs\n",
    "unique_songs_dat['christmas'] = christmas_ixs\n",
    "unique_songs_dat['summer'] = summer_ixs\n",
    "unique_songs_dat['musical'] = musical_ixs\n",
    "unique_songs_dat['profound'] = profound_ixs\n",
    "unique_songs_dat['enjoyment'] = enjoyment_ixs"
   ]
  },
  {
   "cell_type": "code",
   "execution_count": 43,
   "metadata": {},
   "outputs": [
    {
     "data": {
      "text/html": [
       "<div>\n",
       "<style scoped>\n",
       "    .dataframe tbody tr th:only-of-type {\n",
       "        vertical-align: middle;\n",
       "    }\n",
       "\n",
       "    .dataframe tbody tr th {\n",
       "        vertical-align: top;\n",
       "    }\n",
       "\n",
       "    .dataframe thead th {\n",
       "        text-align: right;\n",
       "    }\n",
       "</style>\n",
       "<table border=\"1\" class=\"dataframe\">\n",
       "  <thead>\n",
       "    <tr style=\"text-align: right;\">\n",
       "      <th></th>\n",
       "      <th>rank</th>\n",
       "      <th>date</th>\n",
       "      <th>artist</th>\n",
       "      <th>title</th>\n",
       "      <th>streams</th>\n",
       "      <th>danceability</th>\n",
       "      <th>energy</th>\n",
       "      <th>key</th>\n",
       "      <th>loudness</th>\n",
       "      <th>mode</th>\n",
       "      <th>...</th>\n",
       "      <th>tempo</th>\n",
       "      <th>uri</th>\n",
       "      <th>duration_ms</th>\n",
       "      <th>time_signature</th>\n",
       "      <th>infatuated</th>\n",
       "      <th>christmas</th>\n",
       "      <th>summer</th>\n",
       "      <th>musical</th>\n",
       "      <th>profound</th>\n",
       "      <th>enjoyment</th>\n",
       "    </tr>\n",
       "  </thead>\n",
       "  <tbody>\n",
       "    <tr>\n",
       "      <td>0</td>\n",
       "      <td>1</td>\n",
       "      <td>2017-01-01</td>\n",
       "      <td>Migos</td>\n",
       "      <td>bad and boujee (feat. lil uzi vert)</td>\n",
       "      <td>1371493</td>\n",
       "      <td>0.927</td>\n",
       "      <td>0.665</td>\n",
       "      <td>11.0</td>\n",
       "      <td>-5.313</td>\n",
       "      <td>1.0</td>\n",
       "      <td>...</td>\n",
       "      <td>127.076</td>\n",
       "      <td>spotify:track:4Km5HrUvYTaSUfiSGPJeQR</td>\n",
       "      <td>343150.0</td>\n",
       "      <td>4.0</td>\n",
       "      <td>0</td>\n",
       "      <td>0</td>\n",
       "      <td>0</td>\n",
       "      <td>0</td>\n",
       "      <td>0</td>\n",
       "      <td>0</td>\n",
       "    </tr>\n",
       "    <tr>\n",
       "      <td>1</td>\n",
       "      <td>2</td>\n",
       "      <td>2017-01-01</td>\n",
       "      <td>Drake</td>\n",
       "      <td>fake love</td>\n",
       "      <td>1180074</td>\n",
       "      <td>0.928</td>\n",
       "      <td>0.481</td>\n",
       "      <td>9.0</td>\n",
       "      <td>-9.350</td>\n",
       "      <td>0.0</td>\n",
       "      <td>...</td>\n",
       "      <td>134.007</td>\n",
       "      <td>spotify:track:343YBumqHu19cGoGARUTsd</td>\n",
       "      <td>210937.0</td>\n",
       "      <td>4.0</td>\n",
       "      <td>1</td>\n",
       "      <td>0</td>\n",
       "      <td>0</td>\n",
       "      <td>0</td>\n",
       "      <td>0</td>\n",
       "      <td>0</td>\n",
       "    </tr>\n",
       "    <tr>\n",
       "      <td>2</td>\n",
       "      <td>3</td>\n",
       "      <td>2017-01-01</td>\n",
       "      <td>The Weeknd</td>\n",
       "      <td>starboy</td>\n",
       "      <td>1064351</td>\n",
       "      <td>0.679</td>\n",
       "      <td>0.587</td>\n",
       "      <td>7.0</td>\n",
       "      <td>-7.015</td>\n",
       "      <td>1.0</td>\n",
       "      <td>...</td>\n",
       "      <td>186.003</td>\n",
       "      <td>spotify:track:7MXVkk9YMctZqd1Srtv4MB</td>\n",
       "      <td>230453.0</td>\n",
       "      <td>4.0</td>\n",
       "      <td>0</td>\n",
       "      <td>0</td>\n",
       "      <td>0</td>\n",
       "      <td>0</td>\n",
       "      <td>0</td>\n",
       "      <td>0</td>\n",
       "    </tr>\n",
       "    <tr>\n",
       "      <td>3</td>\n",
       "      <td>4</td>\n",
       "      <td>2017-01-01</td>\n",
       "      <td>The Chainsmokers</td>\n",
       "      <td>closer</td>\n",
       "      <td>1010492</td>\n",
       "      <td>0.748</td>\n",
       "      <td>0.524</td>\n",
       "      <td>8.0</td>\n",
       "      <td>-5.599</td>\n",
       "      <td>1.0</td>\n",
       "      <td>...</td>\n",
       "      <td>95.010</td>\n",
       "      <td>spotify:track:7BKLCZ1jbUBVqRi2FVlTVw</td>\n",
       "      <td>244960.0</td>\n",
       "      <td>4.0</td>\n",
       "      <td>0</td>\n",
       "      <td>0</td>\n",
       "      <td>0</td>\n",
       "      <td>0</td>\n",
       "      <td>0</td>\n",
       "      <td>0</td>\n",
       "    </tr>\n",
       "    <tr>\n",
       "      <td>4</td>\n",
       "      <td>5</td>\n",
       "      <td>2017-01-01</td>\n",
       "      <td>Rae Sremmurd</td>\n",
       "      <td>black beatles</td>\n",
       "      <td>874289</td>\n",
       "      <td>0.794</td>\n",
       "      <td>0.632</td>\n",
       "      <td>0.0</td>\n",
       "      <td>-6.163</td>\n",
       "      <td>1.0</td>\n",
       "      <td>...</td>\n",
       "      <td>145.926</td>\n",
       "      <td>spotify:track:6fujklziTHa8uoM5OQSfIo</td>\n",
       "      <td>291893.0</td>\n",
       "      <td>4.0</td>\n",
       "      <td>0</td>\n",
       "      <td>0</td>\n",
       "      <td>0</td>\n",
       "      <td>0</td>\n",
       "      <td>0</td>\n",
       "      <td>0</td>\n",
       "    </tr>\n",
       "  </tbody>\n",
       "</table>\n",
       "<p>5 rows × 25 columns</p>\n",
       "</div>"
      ],
      "text/plain": [
       "   rank        date            artist                                title  \\\n",
       "0     1  2017-01-01             Migos  bad and boujee (feat. lil uzi vert)   \n",
       "1     2  2017-01-01             Drake                            fake love   \n",
       "2     3  2017-01-01        The Weeknd                              starboy   \n",
       "3     4  2017-01-01  The Chainsmokers                               closer   \n",
       "4     5  2017-01-01      Rae Sremmurd                        black beatles   \n",
       "\n",
       "   streams  danceability  energy   key  loudness  mode  ...    tempo  \\\n",
       "0  1371493         0.927   0.665  11.0    -5.313   1.0  ...  127.076   \n",
       "1  1180074         0.928   0.481   9.0    -9.350   0.0  ...  134.007   \n",
       "2  1064351         0.679   0.587   7.0    -7.015   1.0  ...  186.003   \n",
       "3  1010492         0.748   0.524   8.0    -5.599   1.0  ...   95.010   \n",
       "4   874289         0.794   0.632   0.0    -6.163   1.0  ...  145.926   \n",
       "\n",
       "                                    uri  duration_ms  time_signature  \\\n",
       "0  spotify:track:4Km5HrUvYTaSUfiSGPJeQR     343150.0             4.0   \n",
       "1  spotify:track:343YBumqHu19cGoGARUTsd     210937.0             4.0   \n",
       "2  spotify:track:7MXVkk9YMctZqd1Srtv4MB     230453.0             4.0   \n",
       "3  spotify:track:7BKLCZ1jbUBVqRi2FVlTVw     244960.0             4.0   \n",
       "4  spotify:track:6fujklziTHa8uoM5OQSfIo     291893.0             4.0   \n",
       "\n",
       "   infatuated  christmas summer  musical  profound  enjoyment  \n",
       "0           0          0      0        0         0          0  \n",
       "1           1          0      0        0         0          0  \n",
       "2           0          0      0        0         0          0  \n",
       "3           0          0      0        0         0          0  \n",
       "4           0          0      0        0         0          0  \n",
       "\n",
       "[5 rows x 25 columns]"
      ]
     },
     "execution_count": 43,
     "metadata": {},
     "output_type": "execute_result"
    }
   ],
   "source": [
    "unique_songs_dat.head() # observe new features based on song classification"
   ]
  },
  {
   "cell_type": "code",
   "execution_count": 44,
   "metadata": {},
   "outputs": [
    {
     "name": "stdout",
     "output_type": "stream",
     "text": [
      "Number of rows(songs) removed: 105\n"
     ]
    }
   ],
   "source": [
    "# we observed some NaNs in the data, so we remove all rows(songs) with NaNs to do analysis\n",
    "clean_data = unique_songs_dat[unique_songs_dat.key.notna()]\n",
    "print('Number of rows(songs) removed:', len(unique_songs_dat.artist) - len(clean_data.artist))"
   ]
  },
  {
   "cell_type": "code",
   "execution_count": 45,
   "metadata": {},
   "outputs": [
    {
     "name": "stdout",
     "output_type": "stream",
     "text": [
      "\n",
      "\n",
      "Song type:\n",
      " INFATUATED\n",
      "\n",
      "Feature: danceability\n",
      "Slope: -0.016253158642173245\n",
      "\n",
      "Feature: energy\n",
      "Slope: 0.0009713710285316907\n",
      "\n",
      "Feature: key\n",
      "Slope: 0.281324676514562\n",
      "\n",
      "Feature: loudness\n",
      "Slope: -0.012348672949662555\n",
      "\n",
      "Feature: mode\n",
      "Slope: -0.004434467909661248\n",
      "\n",
      "Feature: speechiness\n",
      "Slope: -0.012400192238015301\n",
      "\n",
      "Feature: acousticness\n",
      "Slope: 0.01688165277753946\n",
      "\n",
      "Feature: instrumentalness\n",
      "Slope: -0.0040639379215055855\n",
      "\n",
      "Feature: liveness\n",
      "Slope: -0.004254701876985995\n",
      "\n",
      "Feature: valence\n",
      "Slope: 0.01022022663762549\n",
      "\n",
      "Feature: tempo\n",
      "Slope: -0.12323252304065835\n",
      "\n",
      "Feature: duration_ms\n",
      "Slope: -4649.827894502309\n",
      "\n",
      "Feature: time_signature\n",
      "Slope: -0.0016591773245765316\n",
      "\n",
      "\n",
      "Song type:\n",
      " CHRISTMAS\n",
      "\n",
      "Feature: danceability\n",
      "Slope: -0.16308222925790733\n",
      "\n",
      "Feature: energy\n",
      "Slope: -0.17494838773731688\n",
      "\n",
      "Feature: key\n",
      "Slope: -0.16088796714065604\n",
      "\n",
      "Feature: loudness\n",
      "Slope: -3.357610626335287\n",
      "\n",
      "Feature: mode\n",
      "Slope: 0.22992715492357035\n",
      "\n",
      "Feature: speechiness\n",
      "Slope: -0.09962194103998233\n",
      "\n",
      "Feature: acousticness\n",
      "Slope: 0.3381712919339071\n",
      "\n",
      "Feature: instrumentalness\n",
      "Slope: -0.007855004025380016\n",
      "\n",
      "Feature: liveness\n",
      "Slope: 0.03855908467458741\n",
      "\n",
      "Feature: valence\n",
      "Slope: 0.0761553736573673\n",
      "\n",
      "Feature: tempo\n",
      "Slope: -9.031476019224353\n",
      "\n",
      "Feature: duration_ms\n",
      "Slope: -24853.6246364182\n",
      "\n",
      "Feature: time_signature\n",
      "Slope: -0.3004261859847718\n",
      "\n",
      "\n",
      "Song type:\n",
      " SUMMER\n",
      "\n",
      "Feature: danceability\n",
      "Slope: -0.03275946416258982\n",
      "\n",
      "Feature: energy\n",
      "Slope: 0.010083072309594966\n",
      "\n",
      "Feature: key\n",
      "Slope: 0.9147869674185443\n",
      "\n",
      "Feature: loudness\n",
      "Slope: -0.48442047257882714\n",
      "\n",
      "Feature: mode\n",
      "Slope: 0.08720491184292795\n",
      "\n",
      "Feature: speechiness\n",
      "Slope: -0.031161405697650173\n",
      "\n",
      "Feature: acousticness\n",
      "Slope: 0.011667309144586288\n",
      "\n",
      "Feature: instrumentalness\n",
      "Slope: 0.008811262856376977\n",
      "\n",
      "Feature: liveness\n",
      "Slope: 0.03286124262621616\n",
      "\n",
      "Feature: valence\n",
      "Slope: -0.001083076687351573\n",
      "\n",
      "Feature: tempo\n",
      "Slope: 5.403926026857524\n",
      "\n",
      "Feature: duration_ms\n",
      "Slope: 10321.61292970414\n",
      "\n",
      "Feature: time_signature\n",
      "Slope: -0.01624147705508298\n",
      "\n",
      "\n",
      "Song type:\n",
      " MUSICAL\n",
      "\n",
      "Feature: danceability\n",
      "Slope: 0.016364891924511734\n",
      "\n",
      "Feature: energy\n",
      "Slope: 0.022397892665130606\n",
      "\n",
      "Feature: key\n",
      "Slope: -0.15780667105551469\n",
      "\n",
      "Feature: loudness\n",
      "Slope: 0.1427842604783851\n",
      "\n",
      "Feature: mode\n",
      "Slope: -0.017143954355935978\n",
      "\n",
      "Feature: speechiness\n",
      "Slope: -0.0351371879800308\n",
      "\n",
      "Feature: acousticness\n",
      "Slope: 0.03851559654549327\n",
      "\n",
      "Feature: instrumentalness\n",
      "Slope: -0.010468028956618948\n",
      "\n",
      "Feature: liveness\n",
      "Slope: -0.011907609172701365\n",
      "\n",
      "Feature: valence\n",
      "Slope: 0.11861504759161753\n",
      "\n",
      "Feature: tempo\n",
      "Slope: 0.5440246187184572\n",
      "\n",
      "Feature: duration_ms\n",
      "Slope: 2812.4207332126457\n",
      "\n",
      "Feature: time_signature\n",
      "Slope: 0.004306561334211059\n",
      "\n",
      "\n",
      "Song type:\n",
      " PROFOUND\n",
      "\n",
      "Feature: danceability\n",
      "Slope: -0.04337296932458219\n",
      "\n",
      "Feature: energy\n",
      "Slope: 0.00907156045865721\n",
      "\n",
      "Feature: key\n",
      "Slope: -0.5895591863333783\n",
      "\n",
      "Feature: loudness\n",
      "Slope: 0.09056217319120541\n",
      "\n",
      "Feature: mode\n",
      "Slope: 0.07010194106968262\n",
      "\n",
      "Feature: speechiness\n",
      "Slope: 0.022331367437819036\n",
      "\n",
      "Feature: acousticness\n",
      "Slope: 0.07451523205208768\n",
      "\n",
      "Feature: instrumentalness\n",
      "Slope: -0.0025126659787584604\n",
      "\n",
      "Feature: liveness\n",
      "Slope: 0.010167375754472527\n",
      "\n",
      "Feature: valence\n",
      "Slope: -0.007986168908749538\n",
      "\n",
      "Feature: tempo\n",
      "Slope: 3.121346871169447\n",
      "\n",
      "Feature: duration_ms\n",
      "Slope: 16668.65739577028\n",
      "\n",
      "Feature: time_signature\n",
      "Slope: -0.0005896134928395061\n",
      "\n",
      "\n",
      "Song type:\n",
      " ENJOYMENT\n",
      "\n",
      "Feature: danceability\n",
      "Slope: -0.03770604440565163\n",
      "\n",
      "Feature: energy\n",
      "Slope: 0.010452130271125409\n",
      "\n",
      "Feature: key\n",
      "Slope: -0.34958085574527537\n",
      "\n",
      "Feature: loudness\n",
      "Slope: -0.0029506755405231348\n",
      "\n",
      "Feature: mode\n",
      "Slope: 0.03340425145018407\n",
      "\n",
      "Feature: speechiness\n",
      "Slope: 0.005434746240430625\n",
      "\n",
      "Feature: acousticness\n",
      "Slope: 0.0011141372579237217\n",
      "\n",
      "Feature: instrumentalness\n",
      "Slope: -0.005909908448620746\n",
      "\n",
      "Feature: liveness\n",
      "Slope: 0.034902218464168154\n",
      "\n",
      "Feature: valence\n",
      "Slope: -0.05137343661920607\n",
      "\n",
      "Feature: tempo\n",
      "Slope: 3.9375658629280084\n",
      "\n",
      "Feature: duration_ms\n",
      "Slope: 10511.92427218009\n",
      "\n",
      "Feature: time_signature\n",
      "Slope: -0.050988307602785596\n"
     ]
    }
   ],
   "source": [
    "musical_features = list(clean_data.iloc[:, 5:19]) # names of musical features\n",
    "del musical_features[11] # get rid of 'song_uri' as a musical feature\n",
    "\n",
    "for song_type in list(['infatuated', 'christmas', 'summer', 'musical', 'profound', 'enjoyment']):\n",
    "    print('\\n\\nSong type:\\n', song_type.upper())\n",
    "    for feature in musical_features:\n",
    "        model = LinearRegression().fit(clean_data[[song_type]], clean_data[[feature]]) # simple linear regression of musical feature on song type\n",
    "        print('\\nFeature:', feature)\n",
    "        print('Slope:', *model.coef_[0]) # associated slope of regression"
   ]
  },
  {
   "cell_type": "code",
   "execution_count": 46,
   "metadata": {},
   "outputs": [
    {
     "data": {
      "text/html": [
       "<div>\n",
       "<style scoped>\n",
       "    .dataframe tbody tr th:only-of-type {\n",
       "        vertical-align: middle;\n",
       "    }\n",
       "\n",
       "    .dataframe tbody tr th {\n",
       "        vertical-align: top;\n",
       "    }\n",
       "\n",
       "    .dataframe thead th {\n",
       "        text-align: right;\n",
       "    }\n",
       "</style>\n",
       "<table border=\"1\" class=\"dataframe\">\n",
       "  <thead>\n",
       "    <tr style=\"text-align: right;\">\n",
       "      <th></th>\n",
       "      <th>danceability</th>\n",
       "      <th>energy</th>\n",
       "      <th>key</th>\n",
       "      <th>loudness</th>\n",
       "      <th>mode</th>\n",
       "      <th>speechiness</th>\n",
       "      <th>acousticness</th>\n",
       "      <th>instrumentalness</th>\n",
       "      <th>liveness</th>\n",
       "      <th>valence</th>\n",
       "      <th>tempo</th>\n",
       "      <th>duration_ms</th>\n",
       "      <th>time_signature</th>\n",
       "    </tr>\n",
       "  </thead>\n",
       "  <tbody>\n",
       "    <tr>\n",
       "      <td>std</td>\n",
       "      <td>0.151638</td>\n",
       "      <td>0.172021</td>\n",
       "      <td>3.684613</td>\n",
       "      <td>2.691636</td>\n",
       "      <td>0.490482</td>\n",
       "      <td>0.132605</td>\n",
       "      <td>0.24606</td>\n",
       "      <td>0.08523</td>\n",
       "      <td>0.1393</td>\n",
       "      <td>0.218618</td>\n",
       "      <td>29.535939</td>\n",
       "      <td>55967.440219</td>\n",
       "      <td>0.337426</td>\n",
       "    </tr>\n",
       "  </tbody>\n",
       "</table>\n",
       "</div>"
      ],
      "text/plain": [
       "     danceability    energy       key  loudness      mode  speechiness  \\\n",
       "std      0.151638  0.172021  3.684613  2.691636  0.490482     0.132605   \n",
       "\n",
       "     acousticness  instrumentalness  liveness   valence      tempo  \\\n",
       "std       0.24606           0.08523    0.1393  0.218618  29.535939   \n",
       "\n",
       "      duration_ms  time_signature  \n",
       "std  55967.440219        0.337426  "
      ]
     },
     "execution_count": 46,
     "metadata": {},
     "output_type": "execute_result"
    }
   ],
   "source": [
    "clean_data[musical_features].describe().iloc[[2]] # get standard deviation of each musical feature for a standard of comparison"
   ]
  },
  {
   "cell_type": "markdown",
   "metadata": {},
   "source": [
    "* Using standard deviation of each musical feature as a standard of comparison, we determine that danceability and energy are more than one standard deviation lower for Christmas songs as compared to non-Christmas songs. Thus, we can say that Christmas songs are much more quaint and peaceful than other songs. Likewise, we determine that loudness is well over one standard deviation lower for Christmas songs as compared to non-Christmas songs. This substantiates our previous argument that Christmas songs tend to be quiter and more peaceful. Acousticness is also well over one standard deviation higher for Christmas songs compared to other songs. According to Wikipedia, accoustic songs produce sound through acoustic means, as opposed to electric or electronic means, which makes sense because Christmas songs tend to sound more natural and man-made as opposed to produced. Additionally, the time signature for Christmas songs is also almost one standard deviation lower than non-Christmas songs. While most songs tend to be set in 4/4 time, many Christmas songs are made in 3/4 time, such as 'Christmastime is Here', 'We Wish You a Merry Christmas', and 'Silver Bells' (according to http://www.musicalmama.com/blogposts/2018/11/28/christmas-songs-in-34-time), which lowers the average time signature of Christmas songs.\n",
    "\n",
    "\n",
    "* We also make some observations by \"eye-ing\" notable differences (less significant than those found using standard deviation as method of comparison). We see that tempo tends to be lower for Christmas songs, which is sensible given its peaceful nature. Interestingly, Christmas songs also tend to be a bit shorter than other types of songs. In addition, we observe that tempo tends to be slightly higher for summer and enjoyment songs. These songs usually take on an upbeat character, so I am not surprised that they tend to be a bit more quickly paced according to their tempo.\n",
    "\n",
    "\n",
    "* While using the important words in song titles was by no means a comprehensive method to cluster the songs based on their musical features, it does give us some valuable insight into the different song types and their characters. In particular, we can see just how distinct Christmas music is as a genre."
   ]
  },
  {
   "cell_type": "markdown",
   "metadata": {},
   "source": [
    "# Streams"
   ]
  },
  {
   "cell_type": "markdown",
   "metadata": {},
   "source": [
    "### Spotify usage (as measured by total weekly streams) over time (2017-present)"
   ]
  },
  {
   "cell_type": "code",
   "execution_count": 47,
   "metadata": {},
   "outputs": [
    {
     "name": "stdout",
     "output_type": "stream",
     "text": [
      "Total streams for first few days: [55139058, 48894824, 55168814, 55939894, 56235124, 59503480, 54059621]\n"
     ]
    }
   ],
   "source": [
    "# total streams for each day appended to list 'strms'\n",
    "strms = [sum(dat.streams[dat.date == date]) for date in dat.date.unique()]\n",
    "print('Total streams for first few days:', strms[0:7])"
   ]
  },
  {
   "cell_type": "code",
   "execution_count": 48,
   "metadata": {},
   "outputs": [
    {
     "name": "stdout",
     "output_type": "stream",
     "text": [
      "Total streams for first few weeks: [384940815 410773282 418037694 424685581 446362951 446611950 459244530]\n"
     ]
    }
   ],
   "source": [
    "# total streams for each week appended to list 'tot_weekly_streams'\n",
    "tot_weekly_streams = np.add.reduceat(np.asarray(strms), np.arange(0, len(strms), 7))\n",
    "tot_weekly_streams = tot_weekly_streams[:-1] # remove last entry bc not a full week of data\n",
    "print('Total streams for first few weeks:', tot_weekly_streams[0:7]) # note that sum(strms[0:7]) = tot_weekly_streams[0]"
   ]
  },
  {
   "cell_type": "code",
   "execution_count": 55,
   "metadata": {},
   "outputs": [
    {
     "data": {
      "image/png": "[encoded data removed]",
      "text/plain": [
       "<Figure size 432x288 with 1 Axes>"
      ]
     },
     "metadata": {
      "needs_background": "light"
     },
     "output_type": "display_data"
    }
   ],
   "source": [
    "each_date = pd.to_datetime(dat.date.unique()) # convert each date to 'datetime' object\n",
    "dates = [each_date[0]+datetime.timedelta(7*wk) for wk in range(len(tot_weekly_streams))] # store first day of each week\n",
    "\n",
    "plt.plot(dates,tot_weekly_streams)\n",
    "plt.title('Total song streams per week')\n",
    "plt.xlabel('Week of certain date')\n",
    "plt.ylabel('Total song streams')\n",
    "plt.xticks(rotation=90)\n",
    "plt.show()"
   ]
  },
  {
   "cell_type": "code",
   "execution_count": 50,
   "metadata": {},
   "outputs": [
    {
     "name": "stdout",
     "output_type": "stream",
     "text": [
      "𝑟-squared: 0.251937642059627\n"
     ]
    }
   ],
   "source": [
    "# fit linear regression model between date (first day of each week) and total number of streams during the week\n",
    "streams_model = LinearRegression().fit(pd.DataFrame(pd.to_datetime(np.asarray(dates)).map(datetime.datetime.toordinal)), tot_weekly_streams)\n",
    "print('𝑟-squared:', streams_model.score(pd.DataFrame(pd.to_datetime(np.asarray(dates)).map(datetime.datetime.toordinal)), tot_weekly_streams))"
   ]
  },
  {
   "cell_type": "code",
   "execution_count": 51,
   "metadata": {},
   "outputs": [
    {
     "data": {
      "image/png": "[encoded data removed]",
      "text/plain": [
       "<Figure size 432x288 with 1 Axes>"
      ]
     },
     "metadata": {
      "needs_background": "light"
     },
     "output_type": "display_data"
    }
   ],
   "source": [
    "m = streams_model.coef_[0] # slope from regression model\n",
    "b = streams_model.intercept_ # intercept from regression model\n",
    "plt.plot(dates,tot_weekly_streams)\n",
    "\n",
    "# add line of best fit from regression model to plot of total song streams per week\n",
    "plt.plot(pd.to_datetime(np.asarray(dates)).map(datetime.datetime.toordinal), m*pd.to_datetime(np.asarray(dates)).map(datetime.datetime.toordinal) + b)\n",
    "plt.xticks(rotation=90)\n",
    "plt.show()"
   ]
  },
  {
   "cell_type": "code",
   "execution_count": 52,
   "metadata": {},
   "outputs": [
    {
     "name": "stdout",
     "output_type": "stream",
     "text": [
      "Slope -- Expected increase in total number of streams per week: 88863.13070825336\n"
     ]
    }
   ],
   "source": [
    "print('Slope -- Expected increase in total number of streams per week:', m)"
   ]
  },
  {
   "cell_type": "markdown",
   "metadata": {},
   "source": [
    "* While it makes sense for the slope to suggest a modest increase in the total number of streams per week on the platform, we must note the poor linear relationship between the date and total number of weekly streams on Spotify (as determined by $r^2$ value and seen in our plot above). Unfortunately, there does not even appear to be a constant seasonal effect for which we can account in our model. One reason I hypothesize that linear regression does not work well in this scenario is due to the lack of independence between observations; that is, the lack of independence between number of streams by week. This is largely due, I believe, to the seemingly random pattern by which music is released. When new music is released, many people are motivated to stream it on Spotify, thereby increasing the number of weekly streams on the platform. On the other hand, many users get bored of hearing the same songs on repeat, and are less inclined to stream music on the platform when no new music is released. Since this release timing is seemingly random (I am surprised not to see a \"song of the summer\" type effect; nevertheless, I digress), there are random surges of streaming and equally random periods of decreased listening on the platform."
   ]
  },
  {
   "cell_type": "markdown",
   "metadata": {},
   "source": [
    "### Predicting max streams"
   ]
  },
  {
   "cell_type": "code",
   "execution_count": 53,
   "metadata": {},
   "outputs": [
    {
     "data": {
      "text/html": [
       "<div>\n",
       "<style scoped>\n",
       "    .dataframe tbody tr th:only-of-type {\n",
       "        vertical-align: middle;\n",
       "    }\n",
       "\n",
       "    .dataframe tbody tr th {\n",
       "        vertical-align: top;\n",
       "    }\n",
       "\n",
       "    .dataframe thead th {\n",
       "        text-align: right;\n",
       "    }\n",
       "</style>\n",
       "<table border=\"1\" class=\"dataframe\">\n",
       "  <thead>\n",
       "    <tr style=\"text-align: right;\">\n",
       "      <th></th>\n",
       "      <th>rank</th>\n",
       "      <th>streams</th>\n",
       "      <th>danceability</th>\n",
       "      <th>energy</th>\n",
       "      <th>key</th>\n",
       "      <th>loudness</th>\n",
       "      <th>mode</th>\n",
       "      <th>speechiness</th>\n",
       "      <th>acousticness</th>\n",
       "      <th>instrumentalness</th>\n",
       "      <th>liveness</th>\n",
       "      <th>valence</th>\n",
       "      <th>tempo</th>\n",
       "      <th>duration_ms</th>\n",
       "      <th>time_signature</th>\n",
       "    </tr>\n",
       "  </thead>\n",
       "  <tbody>\n",
       "    <tr>\n",
       "      <td>rank</td>\n",
       "      <td>1.000000</td>\n",
       "      <td>-0.724975</td>\n",
       "      <td>-0.083407</td>\n",
       "      <td>0.025537</td>\n",
       "      <td>0.018969</td>\n",
       "      <td>-0.015841</td>\n",
       "      <td>0.035518</td>\n",
       "      <td>-0.021400</td>\n",
       "      <td>0.020887</td>\n",
       "      <td>-0.012169</td>\n",
       "      <td>-0.007103</td>\n",
       "      <td>-0.002531</td>\n",
       "      <td>-0.006837</td>\n",
       "      <td>0.019675</td>\n",
       "      <td>-0.008730</td>\n",
       "    </tr>\n",
       "    <tr>\n",
       "      <td>streams</td>\n",
       "      <td>-0.724975</td>\n",
       "      <td>1.000000</td>\n",
       "      <td>0.075135</td>\n",
       "      <td>-0.028150</td>\n",
       "      <td>-0.009408</td>\n",
       "      <td>0.009745</td>\n",
       "      <td>-0.025449</td>\n",
       "      <td>0.019268</td>\n",
       "      <td>-0.017938</td>\n",
       "      <td>0.009392</td>\n",
       "      <td>0.039713</td>\n",
       "      <td>0.013407</td>\n",
       "      <td>0.006813</td>\n",
       "      <td>-0.026280</td>\n",
       "      <td>0.012693</td>\n",
       "    </tr>\n",
       "    <tr>\n",
       "      <td>danceability</td>\n",
       "      <td>-0.083407</td>\n",
       "      <td>0.075135</td>\n",
       "      <td>1.000000</td>\n",
       "      <td>-0.009159</td>\n",
       "      <td>-0.023191</td>\n",
       "      <td>0.073905</td>\n",
       "      <td>-0.083410</td>\n",
       "      <td>0.280305</td>\n",
       "      <td>-0.280773</td>\n",
       "      <td>-0.044703</td>\n",
       "      <td>-0.050056</td>\n",
       "      <td>0.228950</td>\n",
       "      <td>0.015487</td>\n",
       "      <td>-0.123850</td>\n",
       "      <td>0.100677</td>\n",
       "    </tr>\n",
       "    <tr>\n",
       "      <td>energy</td>\n",
       "      <td>0.025537</td>\n",
       "      <td>-0.028150</td>\n",
       "      <td>-0.009159</td>\n",
       "      <td>1.000000</td>\n",
       "      <td>0.015939</td>\n",
       "      <td>0.728078</td>\n",
       "      <td>0.007087</td>\n",
       "      <td>-0.061341</td>\n",
       "      <td>-0.455068</td>\n",
       "      <td>-0.091591</td>\n",
       "      <td>0.075383</td>\n",
       "      <td>0.359844</td>\n",
       "      <td>0.143536</td>\n",
       "      <td>0.036688</td>\n",
       "      <td>0.092241</td>\n",
       "    </tr>\n",
       "    <tr>\n",
       "      <td>key</td>\n",
       "      <td>0.018969</td>\n",
       "      <td>-0.009408</td>\n",
       "      <td>-0.023191</td>\n",
       "      <td>0.015939</td>\n",
       "      <td>1.000000</td>\n",
       "      <td>0.029376</td>\n",
       "      <td>-0.144063</td>\n",
       "      <td>-0.005674</td>\n",
       "      <td>0.015732</td>\n",
       "      <td>-0.019991</td>\n",
       "      <td>-0.034291</td>\n",
       "      <td>0.069289</td>\n",
       "      <td>-0.072700</td>\n",
       "      <td>-0.030794</td>\n",
       "      <td>-0.002441</td>\n",
       "    </tr>\n",
       "    <tr>\n",
       "      <td>loudness</td>\n",
       "      <td>-0.015841</td>\n",
       "      <td>0.009745</td>\n",
       "      <td>0.073905</td>\n",
       "      <td>0.728078</td>\n",
       "      <td>0.029376</td>\n",
       "      <td>1.000000</td>\n",
       "      <td>0.027741</td>\n",
       "      <td>-0.154172</td>\n",
       "      <td>-0.388458</td>\n",
       "      <td>-0.156116</td>\n",
       "      <td>0.013196</td>\n",
       "      <td>0.257109</td>\n",
       "      <td>0.094299</td>\n",
       "      <td>0.008850</td>\n",
       "      <td>0.091820</td>\n",
       "    </tr>\n",
       "    <tr>\n",
       "      <td>mode</td>\n",
       "      <td>0.035518</td>\n",
       "      <td>-0.025449</td>\n",
       "      <td>-0.083410</td>\n",
       "      <td>0.007087</td>\n",
       "      <td>-0.144063</td>\n",
       "      <td>0.027741</td>\n",
       "      <td>1.000000</td>\n",
       "      <td>-0.126489</td>\n",
       "      <td>0.007109</td>\n",
       "      <td>-0.025402</td>\n",
       "      <td>-0.003444</td>\n",
       "      <td>-0.010918</td>\n",
       "      <td>0.006295</td>\n",
       "      <td>0.038710</td>\n",
       "      <td>-0.015234</td>\n",
       "    </tr>\n",
       "    <tr>\n",
       "      <td>speechiness</td>\n",
       "      <td>-0.021400</td>\n",
       "      <td>0.019268</td>\n",
       "      <td>0.280305</td>\n",
       "      <td>-0.061341</td>\n",
       "      <td>-0.005674</td>\n",
       "      <td>-0.154172</td>\n",
       "      <td>-0.126489</td>\n",
       "      <td>1.000000</td>\n",
       "      <td>-0.133823</td>\n",
       "      <td>-0.035806</td>\n",
       "      <td>0.030043</td>\n",
       "      <td>0.015740</td>\n",
       "      <td>0.169778</td>\n",
       "      <td>-0.042255</td>\n",
       "      <td>0.066087</td>\n",
       "    </tr>\n",
       "    <tr>\n",
       "      <td>acousticness</td>\n",
       "      <td>0.020887</td>\n",
       "      <td>-0.017938</td>\n",
       "      <td>-0.280773</td>\n",
       "      <td>-0.455068</td>\n",
       "      <td>0.015732</td>\n",
       "      <td>-0.388458</td>\n",
       "      <td>0.007109</td>\n",
       "      <td>-0.133823</td>\n",
       "      <td>1.000000</td>\n",
       "      <td>0.106222</td>\n",
       "      <td>-0.072689</td>\n",
       "      <td>-0.062124</td>\n",
       "      <td>-0.159566</td>\n",
       "      <td>-0.038253</td>\n",
       "      <td>-0.076771</td>\n",
       "    </tr>\n",
       "    <tr>\n",
       "      <td>instrumentalness</td>\n",
       "      <td>-0.012169</td>\n",
       "      <td>0.009392</td>\n",
       "      <td>-0.044703</td>\n",
       "      <td>-0.091591</td>\n",
       "      <td>-0.019991</td>\n",
       "      <td>-0.156116</td>\n",
       "      <td>-0.025402</td>\n",
       "      <td>-0.035806</td>\n",
       "      <td>0.106222</td>\n",
       "      <td>1.000000</td>\n",
       "      <td>-0.009295</td>\n",
       "      <td>-0.101930</td>\n",
       "      <td>0.016459</td>\n",
       "      <td>0.038858</td>\n",
       "      <td>-0.040044</td>\n",
       "    </tr>\n",
       "    <tr>\n",
       "      <td>liveness</td>\n",
       "      <td>-0.007103</td>\n",
       "      <td>0.039713</td>\n",
       "      <td>-0.050056</td>\n",
       "      <td>0.075383</td>\n",
       "      <td>-0.034291</td>\n",
       "      <td>0.013196</td>\n",
       "      <td>-0.003444</td>\n",
       "      <td>0.030043</td>\n",
       "      <td>-0.072689</td>\n",
       "      <td>-0.009295</td>\n",
       "      <td>1.000000</td>\n",
       "      <td>0.024423</td>\n",
       "      <td>0.001136</td>\n",
       "      <td>-0.003847</td>\n",
       "      <td>-0.026420</td>\n",
       "    </tr>\n",
       "    <tr>\n",
       "      <td>valence</td>\n",
       "      <td>-0.002531</td>\n",
       "      <td>0.013407</td>\n",
       "      <td>0.228950</td>\n",
       "      <td>0.359844</td>\n",
       "      <td>0.069289</td>\n",
       "      <td>0.257109</td>\n",
       "      <td>-0.010918</td>\n",
       "      <td>0.015740</td>\n",
       "      <td>-0.062124</td>\n",
       "      <td>-0.101930</td>\n",
       "      <td>0.024423</td>\n",
       "      <td>1.000000</td>\n",
       "      <td>-0.017424</td>\n",
       "      <td>-0.137749</td>\n",
       "      <td>0.053008</td>\n",
       "    </tr>\n",
       "    <tr>\n",
       "      <td>tempo</td>\n",
       "      <td>-0.006837</td>\n",
       "      <td>0.006813</td>\n",
       "      <td>0.015487</td>\n",
       "      <td>0.143536</td>\n",
       "      <td>-0.072700</td>\n",
       "      <td>0.094299</td>\n",
       "      <td>0.006295</td>\n",
       "      <td>0.169778</td>\n",
       "      <td>-0.159566</td>\n",
       "      <td>0.016459</td>\n",
       "      <td>0.001136</td>\n",
       "      <td>-0.017424</td>\n",
       "      <td>1.000000</td>\n",
       "      <td>0.009937</td>\n",
       "      <td>-0.021284</td>\n",
       "    </tr>\n",
       "    <tr>\n",
       "      <td>duration_ms</td>\n",
       "      <td>0.019675</td>\n",
       "      <td>-0.026280</td>\n",
       "      <td>-0.123850</td>\n",
       "      <td>0.036688</td>\n",
       "      <td>-0.030794</td>\n",
       "      <td>0.008850</td>\n",
       "      <td>0.038710</td>\n",
       "      <td>-0.042255</td>\n",
       "      <td>-0.038253</td>\n",
       "      <td>0.038858</td>\n",
       "      <td>-0.003847</td>\n",
       "      <td>-0.137749</td>\n",
       "      <td>0.009937</td>\n",
       "      <td>1.000000</td>\n",
       "      <td>0.005755</td>\n",
       "    </tr>\n",
       "    <tr>\n",
       "      <td>time_signature</td>\n",
       "      <td>-0.008730</td>\n",
       "      <td>0.012693</td>\n",
       "      <td>0.100677</td>\n",
       "      <td>0.092241</td>\n",
       "      <td>-0.002441</td>\n",
       "      <td>0.091820</td>\n",
       "      <td>-0.015234</td>\n",
       "      <td>0.066087</td>\n",
       "      <td>-0.076771</td>\n",
       "      <td>-0.040044</td>\n",
       "      <td>-0.026420</td>\n",
       "      <td>0.053008</td>\n",
       "      <td>-0.021284</td>\n",
       "      <td>0.005755</td>\n",
       "      <td>1.000000</td>\n",
       "    </tr>\n",
       "  </tbody>\n",
       "</table>\n",
       "</div>"
      ],
      "text/plain": [
       "                      rank   streams  danceability    energy       key  \\\n",
       "rank              1.000000 -0.724975     -0.083407  0.025537  0.018969   \n",
       "streams          -0.724975  1.000000      0.075135 -0.028150 -0.009408   \n",
       "danceability     -0.083407  0.075135      1.000000 -0.009159 -0.023191   \n",
       "energy            0.025537 -0.028150     -0.009159  1.000000  0.015939   \n",
       "key               0.018969 -0.009408     -0.023191  0.015939  1.000000   \n",
       "loudness         -0.015841  0.009745      0.073905  0.728078  0.029376   \n",
       "mode              0.035518 -0.025449     -0.083410  0.007087 -0.144063   \n",
       "speechiness      -0.021400  0.019268      0.280305 -0.061341 -0.005674   \n",
       "acousticness      0.020887 -0.017938     -0.280773 -0.455068  0.015732   \n",
       "instrumentalness -0.012169  0.009392     -0.044703 -0.091591 -0.019991   \n",
       "liveness         -0.007103  0.039713     -0.050056  0.075383 -0.034291   \n",
       "valence          -0.002531  0.013407      0.228950  0.359844  0.069289   \n",
       "tempo            -0.006837  0.006813      0.015487  0.143536 -0.072700   \n",
       "duration_ms       0.019675 -0.026280     -0.123850  0.036688 -0.030794   \n",
       "time_signature   -0.008730  0.012693      0.100677  0.092241 -0.002441   \n",
       "\n",
       "                  loudness      mode  speechiness  acousticness  \\\n",
       "rank             -0.015841  0.035518    -0.021400      0.020887   \n",
       "streams           0.009745 -0.025449     0.019268     -0.017938   \n",
       "danceability      0.073905 -0.083410     0.280305     -0.280773   \n",
       "energy            0.728078  0.007087    -0.061341     -0.455068   \n",
       "key               0.029376 -0.144063    -0.005674      0.015732   \n",
       "loudness          1.000000  0.027741    -0.154172     -0.388458   \n",
       "mode              0.027741  1.000000    -0.126489      0.007109   \n",
       "speechiness      -0.154172 -0.126489     1.000000     -0.133823   \n",
       "acousticness     -0.388458  0.007109    -0.133823      1.000000   \n",
       "instrumentalness -0.156116 -0.025402    -0.035806      0.106222   \n",
       "liveness          0.013196 -0.003444     0.030043     -0.072689   \n",
       "valence           0.257109 -0.010918     0.015740     -0.062124   \n",
       "tempo             0.094299  0.006295     0.169778     -0.159566   \n",
       "duration_ms       0.008850  0.038710    -0.042255     -0.038253   \n",
       "time_signature    0.091820 -0.015234     0.066087     -0.076771   \n",
       "\n",
       "                  instrumentalness  liveness   valence     tempo  duration_ms  \\\n",
       "rank                     -0.012169 -0.007103 -0.002531 -0.006837     0.019675   \n",
       "streams                   0.009392  0.039713  0.013407  0.006813    -0.026280   \n",
       "danceability             -0.044703 -0.050056  0.228950  0.015487    -0.123850   \n",
       "energy                   -0.091591  0.075383  0.359844  0.143536     0.036688   \n",
       "key                      -0.019991 -0.034291  0.069289 -0.072700    -0.030794   \n",
       "loudness                 -0.156116  0.013196  0.257109  0.094299     0.008850   \n",
       "mode                     -0.025402 -0.003444 -0.010918  0.006295     0.038710   \n",
       "speechiness              -0.035806  0.030043  0.015740  0.169778    -0.042255   \n",
       "acousticness              0.106222 -0.072689 -0.062124 -0.159566    -0.038253   \n",
       "instrumentalness          1.000000 -0.009295 -0.101930  0.016459     0.038858   \n",
       "liveness                 -0.009295  1.000000  0.024423  0.001136    -0.003847   \n",
       "valence                  -0.101930  0.024423  1.000000 -0.017424    -0.137749   \n",
       "tempo                     0.016459  0.001136 -0.017424  1.000000     0.009937   \n",
       "duration_ms               0.038858 -0.003847 -0.137749  0.009937     1.000000   \n",
       "time_signature           -0.040044 -0.026420  0.053008 -0.021284     0.005755   \n",
       "\n",
       "                  time_signature  \n",
       "rank                   -0.008730  \n",
       "streams                 0.012693  \n",
       "danceability            0.100677  \n",
       "energy                  0.092241  \n",
       "key                    -0.002441  \n",
       "loudness                0.091820  \n",
       "mode                   -0.015234  \n",
       "speechiness             0.066087  \n",
       "acousticness           -0.076771  \n",
       "instrumentalness       -0.040044  \n",
       "liveness               -0.026420  \n",
       "valence                 0.053008  \n",
       "tempo                  -0.021284  \n",
       "duration_ms             0.005755  \n",
       "time_signature          1.000000  "
      ]
     },
     "execution_count": 53,
     "metadata": {},
     "output_type": "execute_result"
    }
   ],
   "source": [
    "# examine correlation between numeric features\n",
    "dat.select_dtypes(exclude=['object']).corr()"
   ]
  },
  {
   "cell_type": "code",
   "execution_count": 54,
   "metadata": {},
   "outputs": [
    {
     "data": {
      "image/png": "[encoded data removed]",
      "text/plain": [
       "<Figure size 432x288 with 2 Axes>"
      ]
     },
     "metadata": {
      "needs_background": "light"
     },
     "output_type": "display_data"
    }
   ],
   "source": [
    "# let's see which numeric features are strongly correlated\n",
    "sn.heatmap(dat.select_dtypes(exclude=['object']).corr()[abs(dat.select_dtypes(exclude=['object']).corr()) > 0.5], annot=True)\n",
    "plt.show()"
   ]
  }
 ],
 "metadata": {
  "kernelspec": {
   "display_name": "Python 3",
   "language": "python",
   "name": "python3"
  },
  "language_info": {
   "codemirror_mode": {
    "name": "ipython",
    "version": 3
   },
   "file_extension": ".py",
   "mimetype": "text/x-python",
   "name": "python",
   "nbconvert_exporter": "python",
   "pygments_lexer": "ipython3",
   "version": "3.7.6"
  }
 },
 "nbformat": 4,
 "nbformat_minor": 2
}
