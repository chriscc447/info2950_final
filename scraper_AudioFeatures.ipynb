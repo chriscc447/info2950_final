{
 "cells": [
  {
   "cell_type": "code",
   "execution_count": 2,
   "metadata": {},
   "outputs": [],
   "source": [
    "import pandas as pd\n",
    "import spotipy\n",
    "from spotipy.oauth2 import SpotifyClientCredentials\n",
    "from tqdm.notebook import tqdm\n",
    "import pickle"
   ]
  },
  {
   "cell_type": "code",
   "execution_count": 3,
   "metadata": {},
   "outputs": [],
   "source": [
    "redirect_uri = \"http://localhost/\"\n",
    "\n",
    "#request your own Spotify API token\n",
    "#save info in local text file with username on first line, client_id on second, and client_secret on third\n",
    "with open(\"token.txt\") as f:\n",
    "    username, client_id, client_secret = (x.strip(\"\\n\") for x in f)"
   ]
  },
  {
   "cell_type": "code",
   "execution_count": 4,
   "metadata": {},
   "outputs": [],
   "source": [
    "sp = spotipy.client.Spotify(client_credentials_manager = SpotifyClientCredentials(client_id = client_id, client_secret = client_secret))"
   ]
  },
  {
   "cell_type": "markdown",
   "metadata": {},
   "source": [
    "## Setup: get audio features for songs in TopCharts (don't run if complete TopCharts csv file already exists)"
   ]
  },
  {
   "cell_type": "code",
   "execution_count": null,
   "metadata": {},
   "outputs": [],
   "source": [
    "df = pd.read_csv(\"TopCharts.csv\")"
   ]
  },
  {
   "cell_type": "code",
   "execution_count": 62,
   "metadata": {},
   "outputs": [],
   "source": [
    "with open('unique.data', 'rb') as f:\n",
    "    unique = pickle.load(f)"
   ]
  },
  {
   "cell_type": "code",
   "execution_count": 60,
   "metadata": {},
   "outputs": [],
   "source": [
    "def _get_uri(query, sp = sp):\n",
    "    \"\"\"\n",
    "    [Private function]\n",
    "    Retrieves uri for given query\n",
    "    \n",
    "    input: query = target artist and song title in \"track:{title} artist:{artist}\" format\n",
    "           sp = Spotify client\n",
    "    output: uri (string)\n",
    "    \"\"\"\n",
    "    r = sp.search(q = query)\n",
    "    if len(r[\"tracks\"][\"items\"]) == 0: #error\n",
    "        return None\n",
    "    else:\n",
    "        uri = r[\"tracks\"][\"items\"][0][\"uri\"]\n",
    "    return uri"
   ]
  },
  {
   "cell_type": "code",
   "execution_count": 61,
   "metadata": {},
   "outputs": [],
   "source": [
    "def getAudioFeatures(df, unique, sp = sp):\n",
    "    \"\"\"\n",
    "    [Public function]\n",
    "    Retrieves audio features for songs in df\n",
    "    **Note: for current dataset with 239,000 rows and 5,125 unique songs, this takes ~1 hour to run**\n",
    "    \n",
    "    input: df = DataFrame with artist names and titles\n",
    "           sp = Spotify client\n",
    "    output: df1 = DataFrame with audio features\n",
    "            errors = list of failed queries\n",
    "    \"\"\"\n",
    "    df1 = df.copy()\n",
    "    bar = tqdm(total = sum([len(unique[i]) for i in unique.keys()])) #progress bar\n",
    "    errors = []\n",
    "    \n",
    "    for artist in unique.keys():\n",
    "        for title in unique[artist]:\n",
    "            query = f\"track:{title} artist:{artist}\"\n",
    "            \n",
    "            uri = _get_uri(query, sp)\n",
    "            if uri is None:\n",
    "                errors.append(query)\n",
    "            else:\n",
    "                data = sp.audio_features(uri)[0]\n",
    "                del data[\"type\"], data[\"id\"], data[\"track_href\"], data[\"analysis_url\"]\n",
    "                for col in data.keys():\n",
    "                    df1.loc[(df.artist == artist) & (df.title == title), col] = data[col]\n",
    "            bar.update(1)\n",
    "    bar.close()\n",
    "    \n",
    "    return df1, errors"
   ]
  },
  {
   "cell_type": "code",
   "execution_count": null,
   "metadata": {},
   "outputs": [],
   "source": [
    "df1, errors = getAudioFeatures(df, unique)"
   ]
  },
  {
   "cell_type": "code",
   "execution_count": null,
   "metadata": {},
   "outputs": [],
   "source": [
    "df1.to_csv(\"TopCharts_incomplete.csv\")"
   ]
  },
  {
   "cell_type": "markdown",
   "metadata": {},
   "source": [
    "## NOTE: Hit Memory Error. Saved incomplete df to csv file. The following functions fix the incomplete df without having access to the *errors* variable above -- don't use if *errors* variable available"
   ]
  },
  {
   "cell_type": "code",
   "execution_count": 5,
   "metadata": {
    "scrolled": false
   },
   "outputs": [],
   "source": [
    "df1 = pd.read_csv(\"TopCharts_incomplete.csv\", index_col = 0)"
   ]
  },
  {
   "cell_type": "code",
   "execution_count": 6,
   "metadata": {},
   "outputs": [],
   "source": [
    "missing_df = df1[df1.uri.isna()] #DataFrame of songs with missing audio features (resulting from failed queries in getAudioFeatures())"
   ]
  },
  {
   "cell_type": "code",
   "execution_count": 7,
   "metadata": {},
   "outputs": [],
   "source": [
    "def create_unique(df):\n",
    "    \"\"\"\n",
    "    Creates dict of unique artists and songs\n",
    "    *Only use when 'errors' variable from getAudioFeatures() inaccessible\n",
    "    \n",
    "    input: DataFrame of artists and song titles\n",
    "    output: dict of sets {artist 1: {song 1, ... ,song m}, ...., artist n: {song 1, ..., song m}}\n",
    "            note: total number of songs in output dict is number of unique songs in df\n",
    "    \"\"\"\n",
    "    d = dict()\n",
    "    for i in tqdm(df.index):\n",
    "        a = str(df.loc[i,\"artist\"])\n",
    "        t = str(df.loc[i,\"title\"])\n",
    "        if a not in d:\n",
    "            d[a] = set()\n",
    "        d[a].add(t)\n",
    "    return d"
   ]
  },
  {
   "cell_type": "code",
   "execution_count": 8,
   "metadata": {
    "scrolled": true
   },
   "outputs": [
    {
     "data": {
      "application/vnd.jupyter.widget-view+json": {
       "model_id": "31b5549439b547bc932d35796b70db5c",
       "version_major": 2,
       "version_minor": 0
      },
      "text/plain": [
       "HBox(children=(FloatProgress(value=0.0, max=6470.0), HTML(value='')))"
      ]
     },
     "metadata": {},
     "output_type": "display_data"
    },
    {
     "name": "stdout",
     "output_type": "stream",
     "text": [
      "\n"
     ]
    }
   ],
   "source": [
    "missing_songs = create_unique(missing_df)"
   ]
  },
  {
   "cell_type": "code",
   "execution_count": 48,
   "metadata": {},
   "outputs": [],
   "source": [
    "def _process_errors(missing_dict):\n",
    "    \"\"\"\n",
    "    [Private function]\n",
    "    \n",
    "    Converts from {artist 1: {song 1, ... ,song m}, ...., artist n: {song 1, ..., song m}} format to valid query format\n",
    "    \n",
    "    input: dict of unique artists and songs\n",
    "    output: list of tuples(song title, artist, formatted query)\n",
    "    \"\"\"\n",
    "    q_list = []\n",
    "    for artist in missing_dict:\n",
    "        for title in missing_dict[artist]:\n",
    "            title = str(title)\n",
    "            if \"'\" in title:\n",
    "                title = title.replace(\"'\", \"\")\n",
    "            if \"-\" in title:\n",
    "                title = title[:title.find(\"-\")]\n",
    "            if \"(\" in title:\n",
    "                s = title.find(\"(\")\n",
    "                e = title.find(\")\")\n",
    "                title = title[:s] + title[e+1:]\n",
    "            if \"(\" in title: #songs in dataset have at most two sets of parentheses\n",
    "                s = title.find(\"(\")\n",
    "                e = title.find(\")\")\n",
    "                title = title[:s] + title[e+1:]\n",
    "            title = title.strip()\n",
    "\n",
    "            q = f\"track:{title} artist:{artist}\"\n",
    "            q_list.append(tuple([title, artist, q]))\n",
    "    return q_list"
   ]
  },
  {
   "cell_type": "code",
   "execution_count": 51,
   "metadata": {},
   "outputs": [],
   "source": [
    "def fixErrors(missing_dict, df, sp = sp):\n",
    "    \"\"\"\n",
    "    [Public function]\n",
    "    Creates a copy with DataFrame with missing values and fills in missing values\n",
    "    \n",
    "    input: missing_dict = dict of sets of missing songs {artist 1: {song 1, ... ,song m}, ...., artist n: {song 1, ..., song m}}\n",
    "           df = DataFrame with missing values\n",
    "           sp = Spotify client\n",
    "    output: df1 = completed DataFrame\n",
    "            new_errors = list of failed queries\n",
    "    \"\"\"\n",
    "    df1 = df.copy()\n",
    "    new_errors = []\n",
    "    \n",
    "    q_list = _process_errors(missing_dict)\n",
    "    \n",
    "    for i in tqdm(q_list):\n",
    "        title, artist, q = i \n",
    "        uri = _get_uri(q, sp)\n",
    "\n",
    "        if uri is None:\n",
    "            new_errors.append(q)\n",
    "        else:\n",
    "            data = sp.audio_features(uri)[0]\n",
    "            del data[\"type\"], data[\"id\"], data[\"track_href\"], data[\"analysis_url\"]\n",
    "            for col in data.keys():\n",
    "                df1.loc[(df.artist == artist) & (df.title == title), col] = data[col]\n",
    "\n",
    "    return df1, new_errors  "
   ]
  },
  {
   "cell_type": "code",
   "execution_count": 52,
   "metadata": {
    "scrolled": false
   },
   "outputs": [
    {
     "data": {
      "application/vnd.jupyter.widget-view+json": {
       "model_id": "9cacc82a07f948eca4b98db2505148bf",
       "version_major": 2,
       "version_minor": 0
      },
      "text/plain": [
       "HBox(children=(FloatProgress(value=0.0, max=162.0), HTML(value='')))"
      ]
     },
     "metadata": {},
     "output_type": "display_data"
    },
    {
     "name": "stdout",
     "output_type": "stream",
     "text": [
      "\n"
     ]
    }
   ],
   "source": [
    "df2, new_errors = fixErrors(missing_songs, df1)"
   ]
  },
  {
   "cell_type": "code",
   "execution_count": 53,
   "metadata": {},
   "outputs": [
    {
     "data": {
      "text/plain": [
       "['track:Dont Worry Be Happy artist:BobMcFerrin',\n",
       " \"track:How Far Ill Go artist:Auli'i Cravalho\",\n",
       " 'track:Yeah Yeah artist:Travis Scott',\n",
       " 'track:美女と野獣 artist:Ariana Grande',\n",
       " 'track:The Heart Part 4 artist:Kendrick Lamar',\n",
       " 'track:Courtesy Of The Red, White And Blue artist:ToKeith',\n",
       " 'track:Ok artist:Lil Pump',\n",
       " 'track:Get to the Money artist:Chad Focus',\n",
       " 'track:Get to the Money artist:Chad Focus',\n",
       " 'track:Tu Sabes Que Te Quiero artist:Chucho Flash',\n",
       " 'track:The Race artist:22 Savage',\n",
       " 'track:Jingle Bell Rock artist:MC Ty',\n",
       " 'track:Rudolph the Rednose Reindeer artist:DMX',\n",
       " 'track:Jingle Bell Rock artist:BobHelms',\n",
       " 'track:La Modelo artist:Lean Trap',\n",
       " 'track:Hurt To Look artist:Swae Lee',\n",
       " 'track:Bounce Out With That FT. YBN Nahmir artist:DJ A1',\n",
       " 'track:Who Run It  [Feat. Lil Uzi Vert] artist:G Herbo',\n",
       " 'track:They Afraid Of You artist:Trippie Redd',\n",
       " 'track:ORANGE SODA artist:BaKeem',\n",
       " 'track:Matrix artist:NLE Choppa',\n",
       " 'track:Blueberry faygo artist:Yung Anime',\n",
       " 'track:Blueberry Fergo artist:Lil Monet',\n",
       " 'track:Burberry faygo artist:Lil Adrei',\n",
       " 'track:Yah Yah Yah Yah Yah Yah Yah Yah (feat. Royce Da 59\", Black Thought, Q artist:Eminem',\n",
       " 'track:Faygo artist:The 7 Dimensions',\n",
       " 'track:I Hope artist:GabBarrett']"
      ]
     },
     "execution_count": 53,
     "metadata": {},
     "output_type": "execute_result"
    }
   ],
   "source": [
    "new_errors"
   ]
  },
  {
   "cell_type": "code",
   "execution_count": 54,
   "metadata": {},
   "outputs": [],
   "source": [
    "df3 = df2[~df2.uri.isna()] #tracks in new_errors can't be found on Spotify, just drop from dataset"
   ]
  },
  {
   "cell_type": "code",
   "execution_count": 59,
   "metadata": {},
   "outputs": [],
   "source": [
    "df3.to_csv(\"TopCharts_complete.csv\")"
   ]
  },
  {
   "cell_type": "code",
   "execution_count": null,
   "metadata": {},
   "outputs": [],
   "source": []
  }
 ],
 "metadata": {
  "kernelspec": {
   "display_name": "Python 3.7.4 64-bit ('base': conda)",
   "language": "python",
   "name": "python37464bitbasecondade3031e102d342aa8a702b3f5f29a489"
  },
  "language_info": {
   "codemirror_mode": {
    "name": "ipython",
    "version": 3
   },
   "file_extension": ".py",
   "mimetype": "text/x-python",
   "name": "python",
   "nbconvert_exporter": "python",
   "pygments_lexer": "ipython3",
   "version": "3.7.6"
  }
 },
 "nbformat": 4,
 "nbformat_minor": 4
}
