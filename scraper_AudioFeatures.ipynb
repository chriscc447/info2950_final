{
 "cells": [
  {
   "cell_type": "code",
   "execution_count": 2,
   "metadata": {},
   "outputs": [],
   "source": [
    "import pandas as pd\n",
    "import spotipy\n",
    "from spotipy.oauth2 import SpotifyClientCredentials\n",
    "from tqdm.notebook import tqdm\n",
    "import pickle"
   ]
  },
  {
   "cell_type": "code",
   "execution_count": 3,
   "metadata": {},
   "outputs": [],
   "source": [
    "redirect_uri = \"http://localhost/\"\n",
    "with open(\"token.txt\") as f:\n",
    "    username, client_id, client_secret = (x.strip(\"\\n\") for x in f)"
   ]
  },
  {
   "cell_type": "code",
   "execution_count": 4,
   "metadata": {},
   "outputs": [],
   "source": [
    "sp = spotipy.client.Spotify(client_credentials_manager = SpotifyClientCredentials(client_id = client_id, client_secret = client_secret))"
   ]
  },
  {
   "cell_type": "markdown",
   "metadata": {},
   "source": [
    "## Setup: get audio features for songs in TopCharts (don't run if complete TopCharts csv file already exists)"
   ]
  },
  {
   "cell_type": "code",
   "execution_count": null,
   "metadata": {},
   "outputs": [],
   "source": [
    "df = pd.read_csv(\"TopCharts.csv\")"
   ]
  },
  {
   "cell_type": "code",
   "execution_count": null,
   "metadata": {},
   "outputs": [],
   "source": [
    "with open('unique.data', 'rb') as f:\n",
    "    unique = pickle.load(f)"
   ]
  },
  {
   "cell_type": "code",
   "execution_count": 11,
   "metadata": {},
   "outputs": [],
   "source": [
    "def _get_uri(query, sp = sp):\n",
    "    r = sp.search(q = query)\n",
    "    if len(r[\"tracks\"][\"items\"]) == 0: #error\n",
    "        return None\n",
    "    else:\n",
    "        uri = r[\"tracks\"][\"items\"][0][\"uri\"]\n",
    "    return uri"
   ]
  },
  {
   "cell_type": "code",
   "execution_count": null,
   "metadata": {},
   "outputs": [],
   "source": [
    "def getAudioFeatures(df, unique, sp = sp):\n",
    "    df1 = df.copy()\n",
    "    bar = tqdm(total = sum([len(unique[i]) for i in unique.keys()])) #progress bar\n",
    "    errors = []\n",
    "    \n",
    "    for artist in unique.keys():\n",
    "        for title in unique[artist]:\n",
    "            query = f\"track:{title} artist:{artist}\"\n",
    "            \n",
    "            uri = _get_uri(query, sp)\n",
    "            if uri is None:\n",
    "                errors.append(query)\n",
    "            else:\n",
    "                data = sp.audio_features(uri)[0]\n",
    "                del data[\"type\"], data[\"id\"], data[\"track_href\"], data[\"analysis_url\"]\n",
    "                for col in data.keys():\n",
    "                    df1.loc[(df.artist == artist) & (df.title == title), col] = data[col]\n",
    "            bar.update(1)\n",
    "    bar.close()\n",
    "\n",
    "            \n",
    "        \n",
    "    return df1, errors"
   ]
  },
  {
   "cell_type": "code",
   "execution_count": null,
   "metadata": {},
   "outputs": [],
   "source": [
    "df1, errors = getAudioFeatures(df, unique)"
   ]
  },
  {
   "cell_type": "code",
   "execution_count": null,
   "metadata": {},
   "outputs": [],
   "source": [
    "df1.to_csv(\"TopCharts_incomplete.csv\")"
   ]
  },
  {
   "cell_type": "code",
   "execution_count": null,
   "metadata": {},
   "outputs": [],
   "source": []
  },
  {
   "cell_type": "code",
   "execution_count": null,
   "metadata": {},
   "outputs": [],
   "source": []
  },
  {
   "cell_type": "markdown",
   "metadata": {},
   "source": [
    "## NOTE: Hit Memory Error. Saved incomplete df to csv file. The following functions fix the incomplete df without having access to the *errors* variable above -- don't use if *errors* variable available"
   ]
  },
  {
   "cell_type": "code",
   "execution_count": 5,
   "metadata": {
    "scrolled": false
   },
   "outputs": [],
   "source": [
    "df1 = pd.read_csv(\"TopCharts_incomplete.csv\", index_col = 0)"
   ]
  },
  {
   "cell_type": "code",
   "execution_count": 6,
   "metadata": {},
   "outputs": [],
   "source": [
    "missing_df = df1[df1.uri.isna()]"
   ]
  },
  {
   "cell_type": "code",
   "execution_count": 7,
   "metadata": {},
   "outputs": [],
   "source": [
    "def create_unique(df):\n",
    "    d = dict()\n",
    "    for i in tqdm(df.index):\n",
    "        a = str(df.loc[i,\"artist\"])\n",
    "        t = str(df.loc[i,\"title\"])\n",
    "        if a not in d:\n",
    "            d[a] = set()\n",
    "        d[a].add(t)\n",
    "    return d"
   ]
  },
  {
   "cell_type": "code",
   "execution_count": 8,
   "metadata": {
    "scrolled": true
   },
   "outputs": [
    {
     "data": {
      "application/vnd.jupyter.widget-view+json": {
       "model_id": "31b5549439b547bc932d35796b70db5c",
       "version_major": 2,
       "version_minor": 0
      },
      "text/plain": [
       "HBox(children=(FloatProgress(value=0.0, max=6470.0), HTML(value='')))"
      ]
     },
     "metadata": {},
     "output_type": "display_data"
    },
    {
     "name": "stdout",
     "output_type": "stream",
     "text": [
      "\n"
     ]
    }
   ],
   "source": [
    "missing_songs = create_unique(missing_df)"
   ]
  },
  {
   "cell_type": "code",
   "execution_count": 48,
   "metadata": {},
   "outputs": [],
   "source": [
    "def _process_errors(missing_dict):\n",
    "    q_list = []\n",
    "    for artist in missing_dict:\n",
    "        for title in missing_dict[artist]:\n",
    "            title = str(title)\n",
    "            if \"'\" in title:\n",
    "                title = title.replace(\"'\", \"\")\n",
    "            if \"-\" in title:\n",
    "                title = title[:title.find(\"-\")]\n",
    "            if \"(\" in title:\n",
    "                s = title.find(\"(\")\n",
    "                e = title.find(\")\")\n",
    "                title = title[:s] + title[e+1:]\n",
    "            if \"(\" in title:\n",
    "                s = title.find(\"(\")\n",
    "                e = title.find(\")\")\n",
    "                title = title[:s] + title[e+1:]\n",
    "            title = title.strip()\n",
    "\n",
    "            q = f\"track:{title} artist:{artist}\"\n",
    "            q_list.append(tuple([title, artist, q]))\n",
    "    return q_list"
   ]
  },
  {
   "cell_type": "code",
   "execution_count": 49,
   "metadata": {},
   "outputs": [],
   "source": [
    "e = _process_errors(missing_songs)"
   ]
  },
  {
   "cell_type": "code",
   "execution_count": 50,
   "metadata": {},
   "outputs": [
    {
     "data": {
      "text/plain": [
       "[('Dont Wanna Know', 'Maroon 5', 'track:Dont Wanna Know artist:Maroon 5'),\n",
       " ('Dont Let Me Down',\n",
       "  'The Chainsmokers',\n",
       "  'track:Dont Let Me Down artist:The Chainsmokers'),\n",
       " ('Dont Say', 'The Chainsmokers', 'track:Dont Say artist:The Chainsmokers'),\n",
       " ('Takeaway', 'The Chainsmokers', 'track:Takeaway artist:The Chainsmokers'),\n",
       " ('Side Effects',\n",
       "  'The Chainsmokers',\n",
       "  'track:Side Effects artist:The Chainsmokers'),\n",
       " ('CANT STOP THE FEELING!',\n",
       "  'Justin Timberlake',\n",
       "  'track:CANT STOP THE FEELING! artist:Justin Timberlake'),\n",
       " ('Cant Take It From Me',\n",
       "  'Major Lazer',\n",
       "  'track:Cant Take It From Me artist:Major Lazer'),\n",
       " ('Know No Better', 'Major Lazer', 'track:Know No Better artist:Major Lazer'),\n",
       " ('Cold Water', 'Major Lazer', 'track:Cold Water artist:Major Lazer'),\n",
       " ('Run Up', 'Major Lazer', 'track:Run Up artist:Major Lazer'),\n",
       " ('Light It Up', 'Major Lazer', 'track:Light It Up artist:Major Lazer'),\n",
       " ('Call On Me', 'Starley', 'track:Call On Me artist:Starley'),\n",
       " ('How Far Ill Go',\n",
       "  'Alessia Cara',\n",
       "  'track:How Far Ill Go artist:Alessia Cara'),\n",
       " ('Aint No Mountain High Enough',\n",
       "  'Marvin Gaye',\n",
       "  'track:Aint No Mountain High Enough artist:Marvin Gaye'),\n",
       " ('Dont Get Too High',\n",
       "  'Bryson Tiller',\n",
       "  'track:Dont Get Too High artist:Bryson Tiller'),\n",
       " ('Dont', 'Bryson Tiller', 'track:Dont artist:Bryson Tiller'),\n",
       " ('Cant Hold Us',\n",
       "  'Macklemore & Ryan Lewis',\n",
       "  'track:Cant Hold Us artist:Macklemore & Ryan Lewis'),\n",
       " ('Thank God Its Christmas',\n",
       "  'Queen',\n",
       "  'track:Thank God Its Christmas artist:Queen'),\n",
       " ('Dont Stop Me Now', 'Queen', 'track:Dont Stop Me Now artist:Queen'),\n",
       " ('Dont Worry Be Happy',\n",
       "  'BobMcFerrin',\n",
       "  'track:Dont Worry Be Happy artist:BobMcFerrin'),\n",
       " ('Satisfaction',\n",
       "  'The Rolling Stones',\n",
       "  'track:Satisfaction artist:The Rolling Stones'),\n",
       " ('How Far Ill Go',\n",
       "  \"Auli'i Cravalho\",\n",
       "  \"track:How Far Ill Go artist:Auli'i Cravalho\"),\n",
       " ('Dont Leave', 'Snakehips', 'track:Dont Leave artist:Snakehips'),\n",
       " ('Dont', 'Ed Sheeran', 'track:Dont artist:Ed Sheeran'),\n",
       " ('Another Day Of Sun',\n",
       "  'La La Land Cast',\n",
       "  'track:Another Day Of Sun artist:La La Land Cast'),\n",
       " ('Youre Gonna Live Forever in Me',\n",
       "  'John Mayer',\n",
       "  'track:Youre Gonna Live Forever in Me artist:John Mayer'),\n",
       " ('Despacito', 'Luis Fonsi', 'track:Despacito artist:Luis Fonsi'),\n",
       " ('Dont Stop Believin', 'Journey', 'track:Dont Stop Believin artist:Journey'),\n",
       " ('Dont Kill My Vibe', 'Sigrid', 'track:Dont Kill My Vibe artist:Sigrid'),\n",
       " ('CANT SAY', 'Travis Scott', 'track:CANT SAY artist:Travis Scott'),\n",
       " ('Yeah Yeah', 'Travis Scott', 'track:Yeah Yeah artist:Travis Scott'),\n",
       " ('美女と野獣', 'Ariana Grande', 'track:美女と野獣 artist:Ariana Grande'),\n",
       " ('Comin Out Strong', 'Future', 'track:Comin Out Strong artist:Future'),\n",
       " ('Im so Groovy', 'Future', 'track:Im so Groovy artist:Future'),\n",
       " ('Selfish', 'Future', 'track:Selfish artist:Future'),\n",
       " ('Aint Coming Back', 'Future', 'track:Aint Coming Back artist:Future'),\n",
       " ('Aint Livin Right', 'Future', 'track:Aint Livin Right artist:Future'),\n",
       " ('Good Day', 'Yellow Claw', 'track:Good Day artist:Yellow Claw'),\n",
       " ('Audition', 'Emma Stone', 'track:Audition artist:Emma Stone'),\n",
       " ('Im Shipping Up To Boston',\n",
       "  'Dropkick Murphys',\n",
       "  'track:Im Shipping Up To Boston artist:Dropkick Murphys'),\n",
       " ('Im Upset', 'Drake', 'track:Im Upset artist:Drake'),\n",
       " ('4422', 'Drake', 'track:4422 artist:Drake'),\n",
       " ('Cant Have Everything', 'Drake', 'track:Cant Have Everything artist:Drake'),\n",
       " ('Free Smoke', 'Drake', 'track:Free Smoke artist:Drake'),\n",
       " ('The Heart Part 4',\n",
       "  'Kendrick Lamar',\n",
       "  'track:The Heart Part 4 artist:Kendrick Lamar'),\n",
       " ('Im the One', 'DJ Khaled', 'track:Im the One artist:DJ Khaled'),\n",
       " ('Im the One', 'DJ Khaled', 'track:Im the One artist:DJ Khaled'),\n",
       " ('Dont Quit', 'DJ Khaled', 'track:Dont Quit artist:DJ Khaled'),\n",
       " ('Raincoat', 'Timeflies', 'track:Raincoat artist:Timeflies'),\n",
       " ('Im a Mess', 'Bebe Rexha', 'track:Im a Mess artist:Bebe Rexha'),\n",
       " ('The Way I Are', 'Bebe Rexha', 'track:The Way I Are artist:Bebe Rexha'),\n",
       " ('Dont Leave Me Alone Dont Leave Me Alone Dont Leave Me Alone Dont Leave Me Alone (feat. Anne',\n",
       "  'David Guetta',\n",
       "  'track:Dont Leave Me Alone Dont Leave Me Alone Dont Leave Me Alone Dont Leave Me Alone (feat. Anne artist:David Guetta'),\n",
       " ('2U', 'David Guetta', 'track:2U artist:David Guetta'),\n",
       " ('Courtesy Of The Red, White And Blue',\n",
       "  'ToKeith',\n",
       "  'track:Courtesy Of The Red, White And Blue artist:ToKeith'),\n",
       " ('Cant Feel My Face',\n",
       "  'The Weeknd',\n",
       "  'track:Cant Feel My Face artist:The Weeknd'),\n",
       " ('nan', 'nan', 'track:nan artist:nan'),\n",
       " ('Dont Stay', 'Linkin Park', 'track:Dont Stay artist:Linkin Park'),\n",
       " ('Ok', 'Lil Pump', 'track:Ok artist:Lil Pump'),\n",
       " ('Im a Nasty Hoe', 'Ugly God', 'track:Im a Nasty Hoe artist:Ugly God'),\n",
       " ('Im Tryna Fuck', 'Ugly God', 'track:Im Tryna Fuck artist:Ugly God'),\n",
       " ('Get to the Money',\n",
       "  'Chad Focus',\n",
       "  'track:Get to the Money artist:Chad Focus'),\n",
       " ('Get to the Money',\n",
       "  'Chad Focus',\n",
       "  'track:Get to the Money artist:Chad Focus'),\n",
       " ('Tu Sabes Que Te Quiero',\n",
       "  'Chucho Flash',\n",
       "  'track:Tu Sabes Que Te Quiero artist:Chucho Flash'),\n",
       " ('Ill Name the Dogs',\n",
       "  'Blake Shelton',\n",
       "  'track:Ill Name the Dogs artist:Blake Shelton'),\n",
       " ('Dont Do Me Like That',\n",
       "  'Tom Petty and the Heartbreakers',\n",
       "  'track:Dont Do Me Like That artist:Tom Petty and the Heartbreakers'),\n",
       " ('Dont Come Around Here No More',\n",
       "  'Tom Petty and the Heartbreakers',\n",
       "  'track:Dont Come Around Here No More artist:Tom Petty and the Heartbreakers'),\n",
       " ('Dont Judge Me',\n",
       "  'Ty Dolla $ign',\n",
       "  'track:Dont Judge Me artist:Ty Dolla $ign'),\n",
       " ('Dont Sleep on Me',\n",
       "  'Ty Dolla $ign',\n",
       "  'track:Dont Sleep on Me artist:Ty Dolla $ign'),\n",
       " ('Dont Judge Me',\n",
       "  'Ty Dolla $ign',\n",
       "  'track:Dont Judge Me artist:Ty Dolla $ign'),\n",
       " ('The Reaper',\n",
       "  'Blue Öyster Cult',\n",
       "  'track:The Reaper artist:Blue Öyster Cult'),\n",
       " ('Pull Up N Wreck', 'Big Sean', 'track:Pull Up N Wreck artist:Big Sean'),\n",
       " ('The Race', '22 Savage', 'track:The Race artist:22 Savage'),\n",
       " ('Get It Right', 'Diplo', 'track:Get It Right artist:Diplo'),\n",
       " ('Worry No More', 'Diplo', 'track:Worry No More artist:Diplo'),\n",
       " ('Wish', 'Diplo', 'track:Wish artist:Diplo'),\n",
       " ('Jingle Bell Rock', 'MC Ty', 'track:Jingle Bell Rock artist:MC Ty'),\n",
       " ('Rudolph the Rednose Reindeer',\n",
       "  'DMX',\n",
       "  'track:Rudolph the Rednose Reindeer artist:DMX'),\n",
       " ('Youre A Mean One, Mr. Grinch',\n",
       "  'Thurl Ravenscroft',\n",
       "  'track:Youre A Mean One, Mr. Grinch artist:Thurl Ravenscroft'),\n",
       " ('Dont Dont Do It!', 'N.E.R.D', 'track:Dont Dont Do It! artist:N.E.R.D'),\n",
       " ('Jingle Bell Rock', 'BobHelms', 'track:Jingle Bell Rock artist:BobHelms'),\n",
       " ('Merry Christmas Darling',\n",
       "  'Carpenters',\n",
       "  'track:Merry Christmas Darling artist:Carpenters'),\n",
       " ('The Happiest Christmas Tree',\n",
       "  'Nat King Cole',\n",
       "  'track:The Happiest Christmas Tree artist:Nat King Cole'),\n",
       " ('Ill Be Home For Christmas',\n",
       "  'Bing Crosby',\n",
       "  'track:Ill Be Home For Christmas artist:Bing Crosby'),\n",
       " ('God Rest Ye Merry Gentlemen',\n",
       "  'Bing Crosby',\n",
       "  'track:God Rest Ye Merry Gentlemen artist:Bing Crosby'),\n",
       " ('Ill Be Home For Christmas',\n",
       "  'Bing Crosby',\n",
       "  'track:Ill Be Home For Christmas artist:Bing Crosby'),\n",
       " ('Ill Be Home For Christmas',\n",
       "  'Demi Lovato',\n",
       "  'track:Ill Be Home For Christmas artist:Demi Lovato'),\n",
       " ('Ill Be Home', 'Meghan Trainor', 'track:Ill Be Home artist:Meghan Trainor'),\n",
       " ('La Modelo', 'Lean Trap', 'track:La Modelo artist:Lean Trap'),\n",
       " ('Guatemala', 'Rae Sremmurd', 'track:Guatemala artist:Rae Sremmurd'),\n",
       " ('Td Up', 'Rae Sremmurd', 'track:Td Up artist:Rae Sremmurd'),\n",
       " ('Td Up', 'Rae Sremmurd', 'track:Td Up artist:Rae Sremmurd'),\n",
       " ('Hurt To Look', 'Swae Lee', 'track:Hurt To Look artist:Swae Lee'),\n",
       " ('Wont Be Late', 'Swae Lee', 'track:Wont Be Late artist:Swae Lee'),\n",
       " ('Bounce Out With That FT. YBN Nahmir',\n",
       "  'DJ A1',\n",
       "  'track:Bounce Out With That FT. YBN Nahmir artist:DJ A1'),\n",
       " ('Who Run It  [Feat. Lil Uzi Vert]',\n",
       "  'G Herbo',\n",
       "  'track:Who Run It  [Feat. Lil Uzi Vert] artist:G Herbo'),\n",
       " ('I Could Be The One', 'Avicii', 'track:I Could Be The One artist:Avicii'),\n",
       " ('Bood Up', 'Ella Mai', 'track:Bood Up artist:Ella Mai'),\n",
       " ('Bood Up', 'Ella Mai', 'track:Bood Up artist:Ella Mai'),\n",
       " ('Ill Be Fine', 'Juice WRLD', 'track:Ill Be Fine artist:Juice WRLD'),\n",
       " ('Im Still', 'Juice WRLD', 'track:Im Still artist:Juice WRLD'),\n",
       " ('Id Be Jealous Too',\n",
       "  'Dustin Lynch',\n",
       "  'track:Id Be Jealous Too artist:Dustin Lynch'),\n",
       " ('Wouldnt Leave', 'Kanye West', 'track:Wouldnt Leave artist:Kanye West'),\n",
       " ('Only You', 'Cheat Codes', 'track:Only You artist:Cheat Codes'),\n",
       " ('FEFE', '6ix9ine', 'track:FEFE artist:6ix9ine'),\n",
       " ('Couldve Been', 'H.E.R.', 'track:Couldve Been artist:H.E.R.'),\n",
       " ('I Am Who They Say I Am',\n",
       "  'YoungBoy Never Broke Again',\n",
       "  'track:I Am Who They Say I Am artist:YoungBoy Never Broke Again'),\n",
       " ('Head On',\n",
       "  'YoungBoy Never Broke Again',\n",
       "  'track:Head On artist:YoungBoy Never Broke Again'),\n",
       " ('Im Fine', 'BTS', 'track:Im Fine artist:BTS'),\n",
       " ('Be Somebody', 'Steve Aoki', 'track:Be Somebody artist:Steve Aoki'),\n",
       " ('JOUVERT', 'BROCKHAMPTON', 'track:JOUVERT artist:BROCKHAMPTON'),\n",
       " ('Cant Be Broken', 'Lil Wayne', 'track:Cant Be Broken artist:Lil Wayne'),\n",
       " ('Dont Cry', 'Lil Wayne', 'track:Dont Cry artist:Lil Wayne'),\n",
       " ('Ill Never Love Again',\n",
       "  'Lady Gaga',\n",
       "  'track:Ill Never Love Again artist:Lady Gaga'),\n",
       " ('CANT GET OVER YOU', 'Joji', 'track:CANT GET OVER YOU artist:Joji'),\n",
       " ('ILL SEE YOU IN 40', 'Joji', 'track:ILL SEE YOU IN 40 artist:Joji'),\n",
       " ('Im Still Here', 'Sia', 'track:Im Still Here artist:Sia'),\n",
       " ('Dont Come Out The House',\n",
       "  'Metro Boomin',\n",
       "  'track:Dont Come Out The House artist:Metro Boomin'),\n",
       " ('Cant Love', 'Trippie Redd', 'track:Cant Love artist:Trippie Redd'),\n",
       " ('They Afraid Of You',\n",
       "  'Trippie Redd',\n",
       "  'track:They Afraid Of You artist:Trippie Redd'),\n",
       " ('Im Not Goin', 'Gucci Mane', 'track:Im Not Goin artist:Gucci Mane'),\n",
       " ('cant leave without it',\n",
       "  '21 Savage',\n",
       "  'track:cant leave without it artist:21 Savage'),\n",
       " ('Ill Be Home for Christmas',\n",
       "  'Michael Bublé',\n",
       "  'track:Ill Be Home for Christmas artist:Michael Bublé'),\n",
       " ('Dont Kill My High',\n",
       "  'Lost Kings',\n",
       "  'track:Dont Kill My High artist:Lost Kings'),\n",
       " ('im so tired...', 'Lauv', 'track:im so tired... artist:Lauv'),\n",
       " ('fuck, im lonely fuck, im lonely fuck, im lonely fuck, im lonely (with Anne',\n",
       "  'Lauv',\n",
       "  'track:fuck, im lonely fuck, im lonely fuck, im lonely fuck, im lonely (with Anne artist:Lauv'),\n",
       " ('Ive Been Waiting', 'Lil Peep', 'track:Ive Been Waiting artist:Lil Peep'),\n",
       " ('Dont Call Me Up', 'Mabel', 'track:Dont Call Me Up artist:Mabel'),\n",
       " ('Dont Lose Me', 'Offset', 'track:Dont Lose Me artist:Offset'),\n",
       " ('After Dark', 'Offset', 'track:After Dark artist:Offset'),\n",
       " ('Im Not Crazy, Life Is',\n",
       "  '2 Chainz',\n",
       "  'track:Im Not Crazy, Life Is artist:2 Chainz'),\n",
       " ('Im Ready', 'NAV', 'track:Im Ready artist:NAV'),\n",
       " ('Dont Worry Bout Me',\n",
       "  'Zara Larsson',\n",
       "  'track:Dont Worry Bout Me artist:Zara Larsson'),\n",
       " ('Dont Pretend', 'Khalid', 'track:Dont Pretend artist:Khalid'),\n",
       " ('Dont Pretend', 'Khalid', 'track:Dont Pretend artist:Khalid'),\n",
       " ('CHopstix', 'ScHoolboy Q', 'track:CHopstix artist:ScHoolboy Q'),\n",
       " ('Dont Hurt Yourself', 'Beyoncé', 'track:Dont Hurt Yourself artist:Beyoncé'),\n",
       " ('Dont Be Afraid To Be Different',\n",
       "  'Logic',\n",
       "  'track:Dont Be Afraid To Be Different artist:Logic'),\n",
       " ('Dont Give Up On Me',\n",
       "  'Andy Grammer',\n",
       "  'track:Dont Give Up On Me artist:Andy Grammer'),\n",
       " ('Dont Throw it Away',\n",
       "  'Jonas Brothers',\n",
       "  'track:Dont Throw it Away artist:Jonas Brothers'),\n",
       " ('Dont Check On Me',\n",
       "  'Chris Brown',\n",
       "  'track:Dont Check On Me artist:Chris Brown'),\n",
       " ('Dont Hit Me Right Now',\n",
       "  'Dreamville',\n",
       "  'track:Dont Hit Me Right Now artist:Dreamville'),\n",
       " ('223s', 'YNW Melly', 'track:223s artist:YNW Melly'),\n",
       " ('Im Scared', 'Young Thug', 'track:Im Scared artist:Young Thug'),\n",
       " ('Im Gonna Be', 'Post Malone', 'track:Im Gonna Be artist:Post Malone'),\n",
       " ('Ill Kill You', 'Summer Walker', 'track:Ill Kill You artist:Summer Walker'),\n",
       " ('Dont Start Now', 'Dua Lipa', 'track:Dont Start Now artist:Dua Lipa'),\n",
       " ('ORANGE SODA', 'BaKeem', 'track:ORANGE SODA artist:BaKeem'),\n",
       " ('Matrix', 'NLE Choppa', 'track:Matrix artist:NLE Choppa'),\n",
       " ('Driving Home for Christmas',\n",
       "  'Chris Rea',\n",
       "  'track:Driving Home for Christmas artist:Chris Rea'),\n",
       " ('Blueberry faygo', 'Yung Anime', 'track:Blueberry faygo artist:Yung Anime'),\n",
       " ('Blueberry Fergo', 'Lil Monet', 'track:Blueberry Fergo artist:Lil Monet'),\n",
       " ('Burberry faygo', 'Lil Adrei', 'track:Burberry faygo artist:Lil Adrei'),\n",
       " ('I Will', 'Eminem', 'track:I Will artist:Eminem'),\n",
       " ('Yah Yah Yah Yah Yah Yah Yah Yah (feat. Royce Da 59\", Black Thought, Q',\n",
       "  'Eminem',\n",
       "  'track:Yah Yah Yah Yah Yah Yah Yah Yah (feat. Royce Da 59\", Black Thought, Q artist:Eminem'),\n",
       " ('You Gon’ Learn', 'Eminem', 'track:You Gon’ Learn artist:Eminem'),\n",
       " ('Faygo', 'The 7 Dimensions', 'track:Faygo artist:The 7 Dimensions'),\n",
       " ('I Hope', 'GabBarrett', 'track:I Hope artist:GabBarrett'),\n",
       " ('Cant Explain', 'Lil Baby', 'track:Cant Explain artist:Lil Baby'),\n",
       " ('Im Sorry', 'Lil Uzi Vert', 'track:Im Sorry artist:Lil Uzi Vert'),\n",
       " ('Cant Feel My Legs',\n",
       "  'Don Toliver',\n",
       "  'track:Cant Feel My Legs artist:Don Toliver'),\n",
       " ('Didnt I', 'OneRepublic', 'track:Didnt I artist:OneRepublic'),\n",
       " ('Ill Wait', 'Kygo', 'track:Ill Wait artist:Kygo')]"
      ]
     },
     "execution_count": 50,
     "metadata": {},
     "output_type": "execute_result"
    }
   ],
   "source": [
    "e"
   ]
  },
  {
   "cell_type": "code",
   "execution_count": 51,
   "metadata": {},
   "outputs": [],
   "source": [
    "def fixErrors(missing_dict, df, sp = sp):\n",
    "    df1 = df.copy()\n",
    "    new_errors = []\n",
    "    \n",
    "    q_list = _process_errors(missing_dict)\n",
    "    \n",
    "    for i in tqdm(q_list):\n",
    "        title, artist, q = i \n",
    "        uri = _get_uri(q, sp)\n",
    "\n",
    "        if uri is None:\n",
    "            new_errors.append(q)\n",
    "        else:\n",
    "            data = sp.audio_features(uri)[0]\n",
    "            del data[\"type\"], data[\"id\"], data[\"track_href\"], data[\"analysis_url\"]\n",
    "            for col in data.keys():\n",
    "                df1.loc[(df.artist == artist) & (df.title == title), col] = data[col]\n",
    "\n",
    "    return df1, new_errors  "
   ]
  },
  {
   "cell_type": "code",
   "execution_count": 52,
   "metadata": {
    "scrolled": false
   },
   "outputs": [
    {
     "data": {
      "application/vnd.jupyter.widget-view+json": {
       "model_id": "9cacc82a07f948eca4b98db2505148bf",
       "version_major": 2,
       "version_minor": 0
      },
      "text/plain": [
       "HBox(children=(FloatProgress(value=0.0, max=162.0), HTML(value='')))"
      ]
     },
     "metadata": {},
     "output_type": "display_data"
    },
    {
     "name": "stdout",
     "output_type": "stream",
     "text": [
      "\n"
     ]
    }
   ],
   "source": [
    "df2, new_errors = fixErrors(missing_songs, df1)"
   ]
  },
  {
   "cell_type": "code",
   "execution_count": 53,
   "metadata": {},
   "outputs": [
    {
     "data": {
      "text/plain": [
       "['track:Dont Worry Be Happy artist:BobMcFerrin',\n",
       " \"track:How Far Ill Go artist:Auli'i Cravalho\",\n",
       " 'track:Yeah Yeah artist:Travis Scott',\n",
       " 'track:美女と野獣 artist:Ariana Grande',\n",
       " 'track:The Heart Part 4 artist:Kendrick Lamar',\n",
       " 'track:Courtesy Of The Red, White And Blue artist:ToKeith',\n",
       " 'track:Ok artist:Lil Pump',\n",
       " 'track:Get to the Money artist:Chad Focus',\n",
       " 'track:Get to the Money artist:Chad Focus',\n",
       " 'track:Tu Sabes Que Te Quiero artist:Chucho Flash',\n",
       " 'track:The Race artist:22 Savage',\n",
       " 'track:Jingle Bell Rock artist:MC Ty',\n",
       " 'track:Rudolph the Rednose Reindeer artist:DMX',\n",
       " 'track:Jingle Bell Rock artist:BobHelms',\n",
       " 'track:La Modelo artist:Lean Trap',\n",
       " 'track:Hurt To Look artist:Swae Lee',\n",
       " 'track:Bounce Out With That FT. YBN Nahmir artist:DJ A1',\n",
       " 'track:Who Run It  [Feat. Lil Uzi Vert] artist:G Herbo',\n",
       " 'track:They Afraid Of You artist:Trippie Redd',\n",
       " 'track:ORANGE SODA artist:BaKeem',\n",
       " 'track:Matrix artist:NLE Choppa',\n",
       " 'track:Blueberry faygo artist:Yung Anime',\n",
       " 'track:Blueberry Fergo artist:Lil Monet',\n",
       " 'track:Burberry faygo artist:Lil Adrei',\n",
       " 'track:Yah Yah Yah Yah Yah Yah Yah Yah (feat. Royce Da 59\", Black Thought, Q artist:Eminem',\n",
       " 'track:Faygo artist:The 7 Dimensions',\n",
       " 'track:I Hope artist:GabBarrett']"
      ]
     },
     "execution_count": 53,
     "metadata": {},
     "output_type": "execute_result"
    }
   ],
   "source": [
    "new_errors"
   ]
  },
  {
   "cell_type": "code",
   "execution_count": 54,
   "metadata": {},
   "outputs": [],
   "source": [
    "df3 = df2[~df2.uri.isna()]"
   ]
  },
  {
   "cell_type": "code",
   "execution_count": 59,
   "metadata": {},
   "outputs": [],
   "source": [
    "df3.to_csv(\"TopCharts_complete.csv\")"
   ]
  }
 ],
 "metadata": {
  "kernelspec": {
   "display_name": "Python 3.7.4 64-bit ('base': conda)",
   "language": "python",
   "name": "python37464bitbasecondade3031e102d342aa8a702b3f5f29a489"
  },
  "language_info": {
   "codemirror_mode": {
    "name": "ipython",
    "version": 3
   },
   "file_extension": ".py",
   "mimetype": "text/x-python",
   "name": "python",
   "nbconvert_exporter": "python",
   "pygments_lexer": "ipython3",
   "version": "3.7.6"
  }
 },
 "nbformat": 4,
 "nbformat_minor": 4
}
