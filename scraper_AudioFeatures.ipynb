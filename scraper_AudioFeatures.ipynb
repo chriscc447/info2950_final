{
 "cells": [
  {
   "cell_type": "code",
   "execution_count": 135,
   "metadata": {},
   "outputs": [],
   "source": [
    "import pandas as pd\n",
    "import spotipy\n",
    "from spotipy.oauth2 import SpotifyClientCredentials\n",
    "from tqdm.notebook import tqdm\n",
    "import pickle\n",
    "import re\n",
    "from datetime import datetime\n",
    "from pprint import PrettyPrinter\n",
    "pp = PrettyPrinter(indent = 2)\n"
   ]
  },
  {
   "cell_type": "code",
   "execution_count": 3,
   "metadata": {},
   "outputs": [],
   "source": [
    "redirect_uri = \"http://localhost/\"\n",
    "\n",
    "#request your own Spotify API token\n",
    "#save info in local text file with username on first line, client_id on second, and client_secret on third\n",
    "with open(\"token.txt\") as f:\n",
    "    username, client_id, client_secret = (x.strip(\"\\n\") for x in f)"
   ]
  },
  {
   "cell_type": "code",
   "execution_count": 4,
   "metadata": {},
   "outputs": [],
   "source": [
    "sp = spotipy.client.Spotify(client_credentials_manager = SpotifyClientCredentials(client_id = client_id, client_secret = client_secret))"
   ]
  },
  {
   "cell_type": "code",
   "execution_count": 5,
   "metadata": {},
   "outputs": [],
   "source": [
    "dfi = pd.read_csv(\"TopCharts_incomplete.csv\").dropna()"
   ]
  },
  {
   "cell_type": "code",
   "execution_count": 7,
   "metadata": {},
   "outputs": [],
   "source": [
    "def _get_uri(query, sp = sp):\n",
    "    \"\"\"\n",
    "    [Private function]\n",
    "    Retrieves uri for given query\n",
    "    \n",
    "    input: query = target artist and song title in \"track:{title} artist:{artist}\" format\n",
    "           sp = Spotify client\n",
    "    output: uri (string)\n",
    "    \"\"\"\n",
    "    r = sp.search(q = query)\n",
    "    if len(r[\"tracks\"][\"items\"]) == 0: #error\n",
    "        return None\n",
    "    else:\n",
    "        uri = r[\"tracks\"][\"items\"][0][\"uri\"]\n",
    "    return uri"
   ]
  },
  {
   "cell_type": "code",
   "execution_count": 8,
   "metadata": {},
   "outputs": [],
   "source": [
    "def getAudioFeatures(df, sp = sp):\n",
    "    \"\"\"\n",
    "    [Public function]\n",
    "    Retrieves audio features for songs in df\n",
    "    **Note: for current dataset with 239,000 rows and 5,125 unique songs, this takes ~1 hour to run**\n",
    "    \n",
    "    input: df = DataFrame with artist names and titles\n",
    "           sp = Spotify client\n",
    "    output: df1 = DataFrame with audio features\n",
    "            errors = list of failed queries\n",
    "    \"\"\"\n",
    "    unique_df = df.drop_duplicates(subset = ['artist', 'title'])\n",
    "    df1 = df.copy()\n",
    "    errors = []\n",
    "    bar = tqdm(total = len(unique_df))\n",
    "    start_time = datetime.now()\n",
    "\n",
    "    for _,row in unique_df.iterrows():\n",
    "        artist,title = row[\"artist\"], row[\"title\"]\n",
    "        qtitle = (\" \").join(list(filter(lambda x: len(x)!=0, re.split(\"\\W\", title))))\n",
    "        query = f\"track:{qtitle} artist:{artist}\"\n",
    "        uri = _get_uri(query, sp)\n",
    "        \n",
    "        if uri is None:\n",
    "            errors.append(query)\n",
    "        else:\n",
    "            data = sp.audio_features(uri)[0]\n",
    "            del data[\"type\"], data[\"id\"], data[\"track_href\"], data[\"analysis_url\"]\n",
    "            for col in data.keys():\n",
    "                df1.loc[(df1.artist == artist) & (df1.title == title), col] = data[col]\n",
    "        bar.update(1)\n",
    "    bar.close()\n",
    "    end_time = datetime.now()\n",
    "    print(f\"Finished in {str(end_time - start_time)}\")\n",
    "    return df1, errors"
   ]
  },
  {
   "cell_type": "code",
   "execution_count": 9,
   "metadata": {},
   "outputs": [
    {
     "data": {
      "application/vnd.jupyter.widget-view+json": {
       "model_id": "cf30b2633a33483ca58361352e80c1a3",
       "version_major": 2,
       "version_minor": 0
      },
      "text/plain": [
       "HBox(children=(FloatProgress(value=0.0, max=5121.0), HTML(value='')))"
      ]
     },
     "metadata": {},
     "output_type": "display_data"
    },
    {
     "name": "stdout",
     "output_type": "stream",
     "text": [
      "\n",
      "Finished in 0:51:11.118993\n"
     ]
    }
   ],
   "source": [
    "dfc, e = getAudioFeatures(dfi)"
   ]
  },
  {
   "cell_type": "code",
   "execution_count": 59,
   "metadata": {},
   "outputs": [
    {
     "data": {
      "text/html": [
       "<div>\n",
       "<style scoped>\n",
       "    .dataframe tbody tr th:only-of-type {\n",
       "        vertical-align: middle;\n",
       "    }\n",
       "\n",
       "    .dataframe tbody tr th {\n",
       "        vertical-align: top;\n",
       "    }\n",
       "\n",
       "    .dataframe thead th {\n",
       "        text-align: right;\n",
       "    }\n",
       "</style>\n",
       "<table border=\"1\" class=\"dataframe\">\n",
       "  <thead>\n",
       "    <tr style=\"text-align: right;\">\n",
       "      <th></th>\n",
       "      <th>rank</th>\n",
       "      <th>date</th>\n",
       "      <th>artist</th>\n",
       "      <th>title</th>\n",
       "      <th>streams</th>\n",
       "      <th>danceability</th>\n",
       "      <th>energy</th>\n",
       "      <th>key</th>\n",
       "      <th>loudness</th>\n",
       "      <th>mode</th>\n",
       "      <th>speechiness</th>\n",
       "      <th>acousticness</th>\n",
       "      <th>instrumentalness</th>\n",
       "      <th>liveness</th>\n",
       "      <th>valence</th>\n",
       "      <th>tempo</th>\n",
       "      <th>uri</th>\n",
       "      <th>duration_ms</th>\n",
       "      <th>time_signature</th>\n",
       "    </tr>\n",
       "  </thead>\n",
       "  <tbody>\n",
       "    <tr>\n",
       "      <th>0</th>\n",
       "      <td>1</td>\n",
       "      <td>2017-01-01</td>\n",
       "      <td>Migos</td>\n",
       "      <td>Bad and Boujee (feat. Lil Uzi Vert)</td>\n",
       "      <td>1,371,493</td>\n",
       "      <td>0.927</td>\n",
       "      <td>0.665</td>\n",
       "      <td>11.0</td>\n",
       "      <td>-5.313</td>\n",
       "      <td>1.0</td>\n",
       "      <td>0.2440</td>\n",
       "      <td>0.061</td>\n",
       "      <td>0.000000</td>\n",
       "      <td>0.123</td>\n",
       "      <td>0.175</td>\n",
       "      <td>127.076</td>\n",
       "      <td>spotify:track:4Km5HrUvYTaSUfiSGPJeQR</td>\n",
       "      <td>343150.0</td>\n",
       "      <td>4.0</td>\n",
       "    </tr>\n",
       "    <tr>\n",
       "      <th>1</th>\n",
       "      <td>2</td>\n",
       "      <td>2017-01-01</td>\n",
       "      <td>Drake</td>\n",
       "      <td>Fake Love</td>\n",
       "      <td>1,180,074</td>\n",
       "      <td>0.928</td>\n",
       "      <td>0.481</td>\n",
       "      <td>9.0</td>\n",
       "      <td>-9.350</td>\n",
       "      <td>0.0</td>\n",
       "      <td>0.2870</td>\n",
       "      <td>0.105</td>\n",
       "      <td>0.000000</td>\n",
       "      <td>0.176</td>\n",
       "      <td>0.613</td>\n",
       "      <td>134.007</td>\n",
       "      <td>spotify:track:343YBumqHu19cGoGARUTsd</td>\n",
       "      <td>210937.0</td>\n",
       "      <td>4.0</td>\n",
       "    </tr>\n",
       "    <tr>\n",
       "      <th>2</th>\n",
       "      <td>3</td>\n",
       "      <td>2017-01-01</td>\n",
       "      <td>The Weeknd</td>\n",
       "      <td>Starboy</td>\n",
       "      <td>1,064,351</td>\n",
       "      <td>0.679</td>\n",
       "      <td>0.587</td>\n",
       "      <td>7.0</td>\n",
       "      <td>-7.015</td>\n",
       "      <td>1.0</td>\n",
       "      <td>0.2760</td>\n",
       "      <td>0.141</td>\n",
       "      <td>0.000006</td>\n",
       "      <td>0.137</td>\n",
       "      <td>0.486</td>\n",
       "      <td>186.003</td>\n",
       "      <td>spotify:track:7MXVkk9YMctZqd1Srtv4MB</td>\n",
       "      <td>230453.0</td>\n",
       "      <td>4.0</td>\n",
       "    </tr>\n",
       "    <tr>\n",
       "      <th>3</th>\n",
       "      <td>4</td>\n",
       "      <td>2017-01-01</td>\n",
       "      <td>The Chainsmokers</td>\n",
       "      <td>Closer</td>\n",
       "      <td>1,010,492</td>\n",
       "      <td>0.748</td>\n",
       "      <td>0.524</td>\n",
       "      <td>8.0</td>\n",
       "      <td>-5.599</td>\n",
       "      <td>1.0</td>\n",
       "      <td>0.0338</td>\n",
       "      <td>0.414</td>\n",
       "      <td>0.000000</td>\n",
       "      <td>0.111</td>\n",
       "      <td>0.661</td>\n",
       "      <td>95.010</td>\n",
       "      <td>spotify:track:7BKLCZ1jbUBVqRi2FVlTVw</td>\n",
       "      <td>244960.0</td>\n",
       "      <td>4.0</td>\n",
       "    </tr>\n",
       "    <tr>\n",
       "      <th>4</th>\n",
       "      <td>5</td>\n",
       "      <td>2017-01-01</td>\n",
       "      <td>Rae Sremmurd</td>\n",
       "      <td>Black Beatles</td>\n",
       "      <td>874,289</td>\n",
       "      <td>0.794</td>\n",
       "      <td>0.632</td>\n",
       "      <td>0.0</td>\n",
       "      <td>-6.163</td>\n",
       "      <td>1.0</td>\n",
       "      <td>0.0649</td>\n",
       "      <td>0.142</td>\n",
       "      <td>0.000000</td>\n",
       "      <td>0.128</td>\n",
       "      <td>0.355</td>\n",
       "      <td>145.926</td>\n",
       "      <td>spotify:track:6fujklziTHa8uoM5OQSfIo</td>\n",
       "      <td>291893.0</td>\n",
       "      <td>4.0</td>\n",
       "    </tr>\n",
       "  </tbody>\n",
       "</table>\n",
       "</div>"
      ],
      "text/plain": [
       "   rank        date            artist                                title  \\\n",
       "0     1  2017-01-01             Migos  Bad and Boujee (feat. Lil Uzi Vert)   \n",
       "1     2  2017-01-01             Drake                            Fake Love   \n",
       "2     3  2017-01-01        The Weeknd                              Starboy   \n",
       "3     4  2017-01-01  The Chainsmokers                               Closer   \n",
       "4     5  2017-01-01      Rae Sremmurd                        Black Beatles   \n",
       "\n",
       "     streams  danceability  energy   key  loudness  mode  speechiness  \\\n",
       "0  1,371,493         0.927   0.665  11.0    -5.313   1.0       0.2440   \n",
       "1  1,180,074         0.928   0.481   9.0    -9.350   0.0       0.2870   \n",
       "2  1,064,351         0.679   0.587   7.0    -7.015   1.0       0.2760   \n",
       "3  1,010,492         0.748   0.524   8.0    -5.599   1.0       0.0338   \n",
       "4    874,289         0.794   0.632   0.0    -6.163   1.0       0.0649   \n",
       "\n",
       "   acousticness  instrumentalness  liveness  valence    tempo  \\\n",
       "0         0.061          0.000000     0.123    0.175  127.076   \n",
       "1         0.105          0.000000     0.176    0.613  134.007   \n",
       "2         0.141          0.000006     0.137    0.486  186.003   \n",
       "3         0.414          0.000000     0.111    0.661   95.010   \n",
       "4         0.142          0.000000     0.128    0.355  145.926   \n",
       "\n",
       "                                    uri  duration_ms  time_signature  \n",
       "0  spotify:track:4Km5HrUvYTaSUfiSGPJeQR     343150.0             4.0  \n",
       "1  spotify:track:343YBumqHu19cGoGARUTsd     210937.0             4.0  \n",
       "2  spotify:track:7MXVkk9YMctZqd1Srtv4MB     230453.0             4.0  \n",
       "3  spotify:track:7BKLCZ1jbUBVqRi2FVlTVw     244960.0             4.0  \n",
       "4  spotify:track:6fujklziTHa8uoM5OQSfIo     291893.0             4.0  "
      ]
     },
     "execution_count": 59,
     "metadata": {},
     "output_type": "execute_result"
    }
   ],
   "source": [
    "dfc.head()"
   ]
  },
  {
   "cell_type": "code",
   "execution_count": 25,
   "metadata": {},
   "outputs": [],
   "source": [
    "dfc.to_csv(\"TopCharts_missing.csv\", index = False)\n",
    "with open(\"missing_queries.data\", \"wb\") as f:\n",
    "    pickle.dump(e, f)"
   ]
  },
  {
   "cell_type": "code",
   "execution_count": 54,
   "metadata": {
    "scrolled": false
   },
   "outputs": [
    {
     "name": "stdout",
     "output_type": "stream",
     "text": [
      "Date: 2017-07-20\n",
      "\tMissing: 4\n",
      "Date: 2017-07-21\n",
      "\tMissing: 4\n",
      "Date: 2017-07-22\n",
      "\tMissing: 1\n",
      "Date: 2017-07-23\n",
      "\tMissing: 1\n",
      "Date: 2017-11-09\n",
      "\tMissing: 1\n",
      "Date: 2017-11-10\n",
      "\tMissing: 1\n",
      "Date: 2017-11-11\n",
      "\tMissing: 1\n",
      "Date: 2017-11-12\n",
      "\tMissing: 1\n",
      "Date: 2017-11-13\n",
      "\tMissing: 1\n",
      "Date: 2017-11-14\n",
      "\tMissing: 1\n"
     ]
    }
   ],
   "source": [
    "for d in dfc.date.unique():\n",
    "    n = len(dfc.loc[dfc.date == d, 'rank'])\n",
    "    if n != 200:\n",
    "        print(f\"Date: {d}\\n\\tMissing: {200 - n}\")"
   ]
  },
  {
   "cell_type": "code",
   "execution_count": 119,
   "metadata": {},
   "outputs": [],
   "source": [
    "def fixErrors(e, df1, sp):\n",
    "    df = df1.copy()\n",
    "    missing_df = df.loc[df.uri.isna(), :].drop_duplicates(subset = ['artist', 'title'])\n",
    "    errors = []\n",
    "    bar = tqdm(total = len(missing_df))\n",
    "    start_time = datetime.now()\n",
    "    \n",
    "    \n",
    "    for _,row in missing_df.iterrows():\n",
    "        artist,title = row[\"artist\"].replace(\"'\", \"\"), row[\"title\"].replace(\"'\", \"\")\n",
    "        if \"-\" in title:\n",
    "            title = title[:title.find(\"-\")+1]\n",
    "        if \"(\" in title:\n",
    "            title = title[:title.find(\"(\")] + title[title.find(\")\")+1:]\n",
    "        \n",
    "        query = f\"track:{title} artist:{artist}\"\n",
    "        uri = _get_uri(query, sp)\n",
    "        \n",
    "        if uri is None:\n",
    "            errors.append(query)\n",
    "        else:\n",
    "            data = sp.audio_features(uri)[0]\n",
    "            del data[\"type\"], data[\"id\"], data[\"track_href\"], data[\"analysis_url\"]\n",
    "            for col in data.keys():\n",
    "                df.loc[(df.artist == artist) & (df.title == title), col] = data[col]\n",
    "        bar.update(1)\n",
    "    bar.close()\n",
    "    end_time = datetime.now()\n",
    "    print(f\"Finished in {str(end_time - start_time)}\")\n",
    "    return df, errors\n",
    "    "
   ]
  },
  {
   "cell_type": "code",
   "execution_count": 120,
   "metadata": {},
   "outputs": [
    {
     "data": {
      "application/vnd.jupyter.widget-view+json": {
       "model_id": "d019317bfcf7450f9cc03143abb35a2b",
       "version_major": 2,
       "version_minor": 0
      },
      "text/plain": [
       "HBox(children=(FloatProgress(value=0.0, max=108.0), HTML(value='')))"
      ]
     },
     "metadata": {},
     "output_type": "display_data"
    },
    {
     "name": "stdout",
     "output_type": "stream",
     "text": [
      "\n",
      "Finished in 0:00:56.230983\n"
     ]
    }
   ],
   "source": [
    "fixed_df, e1 = fixErrors(e, dfc, sp)"
   ]
  },
  {
   "cell_type": "code",
   "execution_count": 136,
   "metadata": {},
   "outputs": [
    {
     "name": "stdout",
     "output_type": "stream",
     "text": [
      "[ 'track:Dont Worry Be Happy artist:BobMcFerrin',\n",
      "  'track:Yeah Yeah  artist:Travis Scott',\n",
      "  'track:美女と野獣 artist:Ariana Grande',\n",
      "  'track:The Heart Part 4 artist:Kendrick Lamar',\n",
      "  'track:Courtesy Of The Red, White And Blue  artist:ToKeith',\n",
      "  'track:Ok artist:Lil Pump',\n",
      "  'track:Get to the Money artist:Chad Focus',\n",
      "  'track:Tu Sabes Que Te Quiero artist:Chucho Flash',\n",
      "  'track:Get to the Money  artist:Chad Focus',\n",
      "  'track:The Race artist:22 Savage',\n",
      "  'track:Jingle Bell Rock artist:MC Ty',\n",
      "  'track:Rudolph the Rednose Reindeer artist:DMX',\n",
      "  'track:Jingle Bell Rock artist:BobHelms',\n",
      "  'track:La Modelo artist:Lean Trap',\n",
      "  'track:Hurt To Look  artist:Swae Lee',\n",
      "  'track:Bounce Out With That FT. YBN Nahmir artist:DJ A1',\n",
      "  'track:Who Run It  [Feat. Lil Uzi Vert] artist:G Herbo',\n",
      "  'track:They Afraid Of You artist:Trippie Redd',\n",
      "  'track:ORANGE SODA artist:BaKeem',\n",
      "  'track:Matrix artist:NLE Choppa',\n",
      "  'track:Blueberry faygo artist:Yung Anime',\n",
      "  'track:Blueberry Fergo artist:Lil Monet',\n",
      "  'track:Burberry faygo artist:Lil Adrei',\n",
      "  'track:Yah Yah Yah Yah (feat. Royce Da 59\", Black Thought, Q- artist:Eminem',\n",
      "  'track:Faygo artist:The 7 Dimensions',\n",
      "  'track:I Hope artist:GabBarrett']\n",
      "26\n"
     ]
    }
   ],
   "source": [
    "pp.pprint(e1)\n",
    "pp.pprint(len(e1))"
   ]
  },
  {
   "cell_type": "code",
   "execution_count": 137,
   "metadata": {},
   "outputs": [],
   "source": [
    "assert len(dfc) == len(fixed_df) #make sure we didnt accidentally drop rows"
   ]
  },
  {
   "cell_type": "code",
   "execution_count": 138,
   "metadata": {},
   "outputs": [],
   "source": [
    "fixed_df.to_csv(\"TopCharts_complete.csv\", index = False)"
   ]
  }
 ],
 "metadata": {
  "kernelspec": {
   "display_name": "Python 3.7.4 64-bit ('base': conda)",
   "language": "python",
   "name": "python37464bitbasecondade3031e102d342aa8a702b3f5f29a489"
  },
  "language_info": {
   "codemirror_mode": {
    "name": "ipython",
    "version": 3
   },
   "file_extension": ".py",
   "mimetype": "text/x-python",
   "name": "python",
   "nbconvert_exporter": "python",
   "pygments_lexer": "ipython3",
   "version": "3.7.6"
  }
 },
 "nbformat": 4,
 "nbformat_minor": 4
}
