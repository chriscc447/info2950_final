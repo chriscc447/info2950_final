{
 "cells": [
  {
   "cell_type": "markdown",
   "metadata": {},
   "source": [
    "## Link to writeup and GitHub (scraper code and datasets) \n",
    "https://drive.google.com/open?id=1VlsJcAAs7yFkqETLfTC65QVG4WzzjeVh  \n",
    "https://github.com/chriscc447/info2950_final"
   ]
  },
  {
   "cell_type": "markdown",
   "metadata": {},
   "source": [
    "* __Dataset issues__:\n",
    "    * Spotify doesn’t have Top Charts webpages for the following dates:\n",
    "      * 2017-05-30\n",
    "      * 2017-05-31\n",
    "      * 2017-06-02\n",
    "    * Some songs on past Top Charts don’t show up when searched for using Spotify’s query feature. However, these songs comprise a very small portion of our entire dataset (<2%), so we decided to exclude them in our final dataset (these missing songs are listed at the bottom of the scraper_AudioFeatures.ipynb file)\n",
    "    * There are duplicates in the CSV files (one row for each day a song is on the top charts), which could make the dataset hard to work with\n",
    "    * When we examine the top song for each week, if the same song is still at the top, this could potentially confound our model of the change over time of the top song"
   ]
  },
  {
   "cell_type": "markdown",
   "metadata": {},
   "source": [
    "## Writeup \n",
    "* __What is the context of the work? What research question are you trying to answer? What are your main findings?__ \n",
    "    * We are looking to answer a variety of research questions:\n",
    "        * One question we have relates to the popularity of songs over time. We plan to model and analyze the number of weekly streams for a given song based on its features\n",
    "        * Another question we have is how audio features for top songs have changed over time. We plan to use statistical methods to analyze how the musical attributes among top songs change over time.  \n",
    "        * Finally, we also plan to examine the relationship between audio features in popular songs. We plan to analyze the correlation between these features\n",
    "        * We also hope to visualize the songs and their attributes using clustering methods such as PCA and t-SNE.\n"
   ]
  },
  {
   "cell_type": "markdown",
   "metadata": {},
   "source": [
    "Data description. This should be inspired by the format presented in Gebru et al, 2018. Answer the following questions:\n",
    "\n",
    "* __What are the observations (rows) and the attributes (columns)?__\n",
    "    * Observations-- songs\n",
    "    * Features -- song attributes (e.g., artist, title, streams), audio features (e.g., key, loudness, tempo)\n",
    "* __Why was this dataset created?__\n",
    "    * The reason this dataset was created was for the Top Charts on Spotify -- Top 200 or playlist with the most listened to songs.\n",
    "* __Who funded the creation of the dataset?__\n",
    "    * Spotify AB -- operates as a music streaming service company and offers digital music on media outlets such as computers, phones, and tablets\n",
    "* __What processes might have influenced what data was observed and recorded and what was not?__\n",
    "    * Airplay - if a song is repeatedly played on the radio, most likely on the top charts. Tracked through Broadcast Data Systems (BDS) - to identify songs that are on radio and TV channels across the US\n",
    "    * Social Media/ Streaming - social interactions with Twitter, Facebook, Youtube, etc. \n",
    "    * Album Sales - Nielsen SoundScan, an information system that tracks sales of music by scanning barcodes for such sources as online stores to concert sales. \n",
    "* __What preprocessing was done, and how did the data come to be in the form that you are using?__\n",
    "    * First, we scraped directly from Spotify's Top Charts website and got the top 200 songs on Spotify for a given date\n",
    "    * Next, we retrieved audio features for each song using Spotify’s API and rendered a complete dataset of songs with stream measures and audio features\n",
    "    * For our final dataset, we also removed songs that cannot be currently found on Spotify\n",
    "* __If people are involved, were they aware of the data collection and if so, what purpose did they expect the data to be used for?__\n",
    "* Yes, people are aware of the data collection. The data was collected with Spotify, and they have a Terms and Conditions agreement which allows them to collect user data. The users expect the data to be used for personalized recommendations.\n",
    "\n",
    "* __Where can your raw source data be found, if applicable? Provide a link to the raw data (hosted in a Cornell Google Drive or Cornell Box).__\n",
    "    * The scraped dataset can be found here (https://github.com/chriscc447/info2950_final); it is titled TopCharts_complete.csv\n",
    "    * It is also available in our Google Drive folder.\n",
    "    * The raw data is split into two parts. The first part is basic data about each song, and can be found on Spotify's Top Charts webpages (ex: https://spotifycharts.com/regional/us/daily/2020-03-22). The second part is the audio features for each song, and can be found by using the query feature that is accessible via the Spotify API."
   ]
  }
 ],
 "metadata": {
  "kernelspec": {
   "display_name": "Python 3",
   "language": "python",
   "name": "python3"
  },
  "language_info": {
   "codemirror_mode": {
    "name": "ipython",
    "version": 3
   },
   "file_extension": ".py",
   "mimetype": "text/x-python",
   "name": "python",
   "nbconvert_exporter": "python",
   "pygments_lexer": "ipython3",
   "version": "3.6.8"
  }
 },
 "nbformat": 4,
 "nbformat_minor": 4
}
