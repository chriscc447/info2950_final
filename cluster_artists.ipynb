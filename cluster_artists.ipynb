{
 "cells": [
  {
   "cell_type": "markdown",
   "metadata": {},
   "source": [
    "# Artists"
   ]
  },
  {
   "cell_type": "markdown",
   "metadata": {},
   "source": [
    "Let's take a look at the artists that have songs in the top charts. Are the most popular artists' songs in the top charts different from the less popular artists' songs?"
   ]
  },
  {
   "cell_type": "code",
   "execution_count": 1,
   "metadata": {},
   "outputs": [],
   "source": [
    "import pandas as pd\n",
    "import numpy as np\n",
    "import pprint\n",
    "import matplotlib.pyplot as plt\n",
    "\n",
    "pp = pprint.PrettyPrinter(indent=4)"
   ]
  },
  {
   "cell_type": "markdown",
   "metadata": {},
   "source": [
    "## Setup"
   ]
  },
  {
   "cell_type": "markdown",
   "metadata": {},
   "source": [
    "To reduce the amount of data I need to process, I first dropped rows with NaNs and duplicates (determined by the song's unique ID/uri) and created a dataframe that only contains a single instance of each song. Then, to preserve information about how many days each song stayed on the top charts, I got counts of how many times each song occurs in the original dataset (which represents the number of days the song appeared on the top charts) and added that to the new dataframe"
   ]
  },
  {
   "cell_type": "code",
   "execution_count": 2,
   "metadata": {
    "scrolled": true
   },
   "outputs": [
    {
     "data": {
      "text/html": [
       "<div>\n",
       "<style scoped>\n",
       "    .dataframe tbody tr th:only-of-type {\n",
       "        vertical-align: middle;\n",
       "    }\n",
       "\n",
       "    .dataframe tbody tr th {\n",
       "        vertical-align: top;\n",
       "    }\n",
       "\n",
       "    .dataframe thead th {\n",
       "        text-align: right;\n",
       "    }\n",
       "</style>\n",
       "<table border=\"1\" class=\"dataframe\">\n",
       "  <thead>\n",
       "    <tr style=\"text-align: right;\">\n",
       "      <th></th>\n",
       "      <th>rank</th>\n",
       "      <th>date</th>\n",
       "      <th>artist</th>\n",
       "      <th>title</th>\n",
       "      <th>streams</th>\n",
       "      <th>danceability</th>\n",
       "      <th>energy</th>\n",
       "      <th>key</th>\n",
       "      <th>loudness</th>\n",
       "      <th>mode</th>\n",
       "      <th>speechiness</th>\n",
       "      <th>acousticness</th>\n",
       "      <th>instrumentalness</th>\n",
       "      <th>liveness</th>\n",
       "      <th>valence</th>\n",
       "      <th>tempo</th>\n",
       "      <th>uri</th>\n",
       "      <th>duration_ms</th>\n",
       "      <th>time_signature</th>\n",
       "      <th>days</th>\n",
       "    </tr>\n",
       "  </thead>\n",
       "  <tbody>\n",
       "    <tr>\n",
       "      <th>0</th>\n",
       "      <td>1</td>\n",
       "      <td>2017-01-01</td>\n",
       "      <td>Migos</td>\n",
       "      <td>Bad and Boujee (feat. Lil Uzi Vert)</td>\n",
       "      <td>1,371,493</td>\n",
       "      <td>0.927</td>\n",
       "      <td>0.665</td>\n",
       "      <td>11.0</td>\n",
       "      <td>-5.313</td>\n",
       "      <td>1.0</td>\n",
       "      <td>0.2440</td>\n",
       "      <td>0.061</td>\n",
       "      <td>0.000000</td>\n",
       "      <td>0.123</td>\n",
       "      <td>0.175</td>\n",
       "      <td>127.076</td>\n",
       "      <td>spotify:track:4Km5HrUvYTaSUfiSGPJeQR</td>\n",
       "      <td>343150.0</td>\n",
       "      <td>4.0</td>\n",
       "      <td>429.0</td>\n",
       "    </tr>\n",
       "    <tr>\n",
       "      <th>1</th>\n",
       "      <td>2</td>\n",
       "      <td>2017-01-01</td>\n",
       "      <td>Drake</td>\n",
       "      <td>Fake Love</td>\n",
       "      <td>1,180,074</td>\n",
       "      <td>0.928</td>\n",
       "      <td>0.481</td>\n",
       "      <td>9.0</td>\n",
       "      <td>-9.350</td>\n",
       "      <td>0.0</td>\n",
       "      <td>0.2870</td>\n",
       "      <td>0.105</td>\n",
       "      <td>0.000000</td>\n",
       "      <td>0.176</td>\n",
       "      <td>0.613</td>\n",
       "      <td>134.007</td>\n",
       "      <td>spotify:track:343YBumqHu19cGoGARUTsd</td>\n",
       "      <td>210937.0</td>\n",
       "      <td>4.0</td>\n",
       "      <td>455.0</td>\n",
       "    </tr>\n",
       "    <tr>\n",
       "      <th>2</th>\n",
       "      <td>3</td>\n",
       "      <td>2017-01-01</td>\n",
       "      <td>The Weeknd</td>\n",
       "      <td>Starboy</td>\n",
       "      <td>1,064,351</td>\n",
       "      <td>0.679</td>\n",
       "      <td>0.587</td>\n",
       "      <td>7.0</td>\n",
       "      <td>-7.015</td>\n",
       "      <td>1.0</td>\n",
       "      <td>0.2760</td>\n",
       "      <td>0.141</td>\n",
       "      <td>0.000006</td>\n",
       "      <td>0.137</td>\n",
       "      <td>0.486</td>\n",
       "      <td>186.003</td>\n",
       "      <td>spotify:track:7MXVkk9YMctZqd1Srtv4MB</td>\n",
       "      <td>230453.0</td>\n",
       "      <td>4.0</td>\n",
       "      <td>464.0</td>\n",
       "    </tr>\n",
       "    <tr>\n",
       "      <th>3</th>\n",
       "      <td>4</td>\n",
       "      <td>2017-01-01</td>\n",
       "      <td>The Chainsmokers</td>\n",
       "      <td>Closer</td>\n",
       "      <td>1,010,492</td>\n",
       "      <td>0.748</td>\n",
       "      <td>0.524</td>\n",
       "      <td>8.0</td>\n",
       "      <td>-5.599</td>\n",
       "      <td>1.0</td>\n",
       "      <td>0.0338</td>\n",
       "      <td>0.414</td>\n",
       "      <td>0.000000</td>\n",
       "      <td>0.111</td>\n",
       "      <td>0.661</td>\n",
       "      <td>95.010</td>\n",
       "      <td>spotify:track:7BKLCZ1jbUBVqRi2FVlTVw</td>\n",
       "      <td>244960.0</td>\n",
       "      <td>4.0</td>\n",
       "      <td>536.0</td>\n",
       "    </tr>\n",
       "    <tr>\n",
       "      <th>4</th>\n",
       "      <td>5</td>\n",
       "      <td>2017-01-01</td>\n",
       "      <td>Rae Sremmurd</td>\n",
       "      <td>Black Beatles</td>\n",
       "      <td>874,289</td>\n",
       "      <td>0.794</td>\n",
       "      <td>0.632</td>\n",
       "      <td>0.0</td>\n",
       "      <td>-6.163</td>\n",
       "      <td>1.0</td>\n",
       "      <td>0.0649</td>\n",
       "      <td>0.142</td>\n",
       "      <td>0.000000</td>\n",
       "      <td>0.128</td>\n",
       "      <td>0.355</td>\n",
       "      <td>145.926</td>\n",
       "      <td>spotify:track:6fujklziTHa8uoM5OQSfIo</td>\n",
       "      <td>291893.0</td>\n",
       "      <td>4.0</td>\n",
       "      <td>240.0</td>\n",
       "    </tr>\n",
       "  </tbody>\n",
       "</table>\n",
       "</div>"
      ],
      "text/plain": [
       "   rank        date            artist                                title  \\\n",
       "0     1  2017-01-01             Migos  Bad and Boujee (feat. Lil Uzi Vert)   \n",
       "1     2  2017-01-01             Drake                            Fake Love   \n",
       "2     3  2017-01-01        The Weeknd                              Starboy   \n",
       "3     4  2017-01-01  The Chainsmokers                               Closer   \n",
       "4     5  2017-01-01      Rae Sremmurd                        Black Beatles   \n",
       "\n",
       "     streams  danceability  energy   key  loudness  mode  speechiness  \\\n",
       "0  1,371,493         0.927   0.665  11.0    -5.313   1.0       0.2440   \n",
       "1  1,180,074         0.928   0.481   9.0    -9.350   0.0       0.2870   \n",
       "2  1,064,351         0.679   0.587   7.0    -7.015   1.0       0.2760   \n",
       "3  1,010,492         0.748   0.524   8.0    -5.599   1.0       0.0338   \n",
       "4    874,289         0.794   0.632   0.0    -6.163   1.0       0.0649   \n",
       "\n",
       "   acousticness  instrumentalness  liveness  valence    tempo  \\\n",
       "0         0.061          0.000000     0.123    0.175  127.076   \n",
       "1         0.105          0.000000     0.176    0.613  134.007   \n",
       "2         0.141          0.000006     0.137    0.486  186.003   \n",
       "3         0.414          0.000000     0.111    0.661   95.010   \n",
       "4         0.142          0.000000     0.128    0.355  145.926   \n",
       "\n",
       "                                    uri  duration_ms  time_signature   days  \n",
       "0  spotify:track:4Km5HrUvYTaSUfiSGPJeQR     343150.0             4.0  429.0  \n",
       "1  spotify:track:343YBumqHu19cGoGARUTsd     210937.0             4.0  455.0  \n",
       "2  spotify:track:7MXVkk9YMctZqd1Srtv4MB     230453.0             4.0  464.0  \n",
       "3  spotify:track:7BKLCZ1jbUBVqRi2FVlTVw     244960.0             4.0  536.0  \n",
       "4  spotify:track:6fujklziTHa8uoM5OQSfIo     291893.0             4.0  240.0  "
      ]
     },
     "execution_count": 2,
     "metadata": {},
     "output_type": "execute_result"
    }
   ],
   "source": [
    "all_df = pd.read_csv(\"data/TopCharts_complete.csv\").dropna()\n",
    "df = all_df.drop_duplicates(subset = ['uri']).copy()\n",
    "days_count = all_df.pivot_table(index = ['uri'], aggfunc='size')\n",
    "for uri in days_count.index:\n",
    "    df.loc[df.uri == uri, 'days'] = days_count[uri]\n",
    "df.head()"
   ]
  },
  {
   "cell_type": "code",
   "execution_count": 3,
   "metadata": {},
   "outputs": [],
   "source": [
    "df.to_csv(\"data/TopCharts_days.csv\", index = False)"
   ]
  },
  {
   "cell_type": "code",
   "execution_count": 3,
   "metadata": {},
   "outputs": [],
   "source": [
    "#cluster only on continuous features\n",
    "cluster_cols = ['danceability', 'energy', 'loudness', 'speechiness', 'acousticness', 'instrumentalness', 'liveness','valence', 'tempo']"
   ]
  },
  {
   "cell_type": "markdown",
   "metadata": {},
   "source": [
    "Since we are doing our analysis on the level of artists, not songs, let's aggregate the song data by artists. To do this, I'll group the songs by artist, take the median values for the audio features, and sum the days each song was on the top chart. In other words:  \n",
    "\n",
    "    songs --> group by artist --> total number of days, median danceability, ..., median tempo"
   ]
  },
  {
   "cell_type": "code",
   "execution_count": 4,
   "metadata": {},
   "outputs": [],
   "source": [
    "artist_dict = {'artist': [], 'days' : [], 'avg_days':[]}\n",
    "a1 = {\"median_\" + c:[] for c in cluster_cols}\n",
    "artist_dict.update(a1)\n",
    "unique_artists = df.artist.unique()\n",
    "for a in unique_artists:\n",
    "    subset = df.loc[df.artist == a, :]\n",
    "    total = subset['days'].sum()\n",
    "    artist_dict['days'].append(total)\n",
    "    artist_dict['avg_days'].append(total/len(subset))\n",
    "    artist_dict['artist'].append(a)\n",
    "    for k in cluster_cols:\n",
    "        artist_dict['median_' + k].append(subset[k].median())"
   ]
  },
  {
   "cell_type": "code",
   "execution_count": 5,
   "metadata": {
    "scrolled": true
   },
   "outputs": [
    {
     "data": {
      "text/html": [
       "<div>\n",
       "<style scoped>\n",
       "    .dataframe tbody tr th:only-of-type {\n",
       "        vertical-align: middle;\n",
       "    }\n",
       "\n",
       "    .dataframe tbody tr th {\n",
       "        vertical-align: top;\n",
       "    }\n",
       "\n",
       "    .dataframe thead th {\n",
       "        text-align: right;\n",
       "    }\n",
       "</style>\n",
       "<table border=\"1\" class=\"dataframe\">\n",
       "  <thead>\n",
       "    <tr style=\"text-align: right;\">\n",
       "      <th></th>\n",
       "      <th>artist</th>\n",
       "      <th>days</th>\n",
       "      <th>avg_days</th>\n",
       "      <th>median_danceability</th>\n",
       "      <th>median_energy</th>\n",
       "      <th>median_loudness</th>\n",
       "      <th>median_speechiness</th>\n",
       "      <th>median_acousticness</th>\n",
       "      <th>median_instrumentalness</th>\n",
       "      <th>median_liveness</th>\n",
       "      <th>median_valence</th>\n",
       "      <th>median_tempo</th>\n",
       "    </tr>\n",
       "  </thead>\n",
       "  <tbody>\n",
       "    <tr>\n",
       "      <th>0</th>\n",
       "      <td>Migos</td>\n",
       "      <td>3227.0</td>\n",
       "      <td>76.833333</td>\n",
       "      <td>0.8365</td>\n",
       "      <td>0.6690</td>\n",
       "      <td>-5.6810</td>\n",
       "      <td>0.15400</td>\n",
       "      <td>0.07950</td>\n",
       "      <td>0.000000</td>\n",
       "      <td>0.1325</td>\n",
       "      <td>0.3505</td>\n",
       "      <td>137.4800</td>\n",
       "    </tr>\n",
       "    <tr>\n",
       "      <th>1</th>\n",
       "      <td>Drake</td>\n",
       "      <td>6877.0</td>\n",
       "      <td>76.411111</td>\n",
       "      <td>0.7200</td>\n",
       "      <td>0.5370</td>\n",
       "      <td>-7.7055</td>\n",
       "      <td>0.17350</td>\n",
       "      <td>0.11600</td>\n",
       "      <td>0.000002</td>\n",
       "      <td>0.1225</td>\n",
       "      <td>0.3525</td>\n",
       "      <td>118.9900</td>\n",
       "    </tr>\n",
       "    <tr>\n",
       "      <th>2</th>\n",
       "      <td>The Weeknd</td>\n",
       "      <td>2926.0</td>\n",
       "      <td>68.046512</td>\n",
       "      <td>0.5600</td>\n",
       "      <td>0.6110</td>\n",
       "      <td>-7.0150</td>\n",
       "      <td>0.06410</td>\n",
       "      <td>0.13100</td>\n",
       "      <td>0.000023</td>\n",
       "      <td>0.1250</td>\n",
       "      <td>0.2520</td>\n",
       "      <td>119.8290</td>\n",
       "    </tr>\n",
       "    <tr>\n",
       "      <th>3</th>\n",
       "      <td>The Chainsmokers</td>\n",
       "      <td>2577.0</td>\n",
       "      <td>80.531250</td>\n",
       "      <td>0.6160</td>\n",
       "      <td>0.6285</td>\n",
       "      <td>-6.6005</td>\n",
       "      <td>0.04265</td>\n",
       "      <td>0.05865</td>\n",
       "      <td>0.000000</td>\n",
       "      <td>0.1505</td>\n",
       "      <td>0.3980</td>\n",
       "      <td>104.4755</td>\n",
       "    </tr>\n",
       "    <tr>\n",
       "      <th>4</th>\n",
       "      <td>Rae Sremmurd</td>\n",
       "      <td>1147.0</td>\n",
       "      <td>76.466667</td>\n",
       "      <td>0.8030</td>\n",
       "      <td>0.6320</td>\n",
       "      <td>-5.1930</td>\n",
       "      <td>0.06490</td>\n",
       "      <td>0.05440</td>\n",
       "      <td>0.000001</td>\n",
       "      <td>0.1110</td>\n",
       "      <td>0.2640</td>\n",
       "      <td>131.9860</td>\n",
       "    </tr>\n",
       "  </tbody>\n",
       "</table>\n",
       "</div>"
      ],
      "text/plain": [
       "             artist    days   avg_days  median_danceability  median_energy  \\\n",
       "0             Migos  3227.0  76.833333               0.8365         0.6690   \n",
       "1             Drake  6877.0  76.411111               0.7200         0.5370   \n",
       "2        The Weeknd  2926.0  68.046512               0.5600         0.6110   \n",
       "3  The Chainsmokers  2577.0  80.531250               0.6160         0.6285   \n",
       "4      Rae Sremmurd  1147.0  76.466667               0.8030         0.6320   \n",
       "\n",
       "   median_loudness  median_speechiness  median_acousticness  \\\n",
       "0          -5.6810             0.15400              0.07950   \n",
       "1          -7.7055             0.17350              0.11600   \n",
       "2          -7.0150             0.06410              0.13100   \n",
       "3          -6.6005             0.04265              0.05865   \n",
       "4          -5.1930             0.06490              0.05440   \n",
       "\n",
       "   median_instrumentalness  median_liveness  median_valence  median_tempo  \n",
       "0                 0.000000           0.1325          0.3505      137.4800  \n",
       "1                 0.000002           0.1225          0.3525      118.9900  \n",
       "2                 0.000023           0.1250          0.2520      119.8290  \n",
       "3                 0.000000           0.1505          0.3980      104.4755  \n",
       "4                 0.000001           0.1110          0.2640      131.9860  "
      ]
     },
     "execution_count": 5,
     "metadata": {},
     "output_type": "execute_result"
    }
   ],
   "source": [
    "df_artist = pd.DataFrame(artist_dict)\n",
    "df_artist.head()"
   ]
  },
  {
   "cell_type": "markdown",
   "metadata": {},
   "source": [
    "### Analysis: Top 50 (most popular) artists vs bottom 50 (least popular) artists"
   ]
  },
  {
   "cell_type": "markdown",
   "metadata": {},
   "source": [
    "Let's compare the top 50 most popular artists (by aggregate number of days on top charts) to bottom 50 artists."
   ]
  },
  {
   "cell_type": "code",
   "execution_count": 6,
   "metadata": {},
   "outputs": [],
   "source": [
    "#split clustered dataset into top 50 vs non top 50\n",
    "top50 = df_artist.sort_values(by = 'days', ascending = False).iloc[:50, :]\n",
    "bot50 = df_artist.sort_values(by = 'days', ascending = True).iloc[:50, :]"
   ]
  },
  {
   "cell_type": "markdown",
   "metadata": {},
   "source": [
    "These are the top 50 artists with the largest total number of days on the top charts."
   ]
  },
  {
   "cell_type": "code",
   "execution_count": 7,
   "metadata": {},
   "outputs": [
    {
     "data": {
      "text/html": [
       "<div>\n",
       "<style scoped>\n",
       "    .dataframe tbody tr th:only-of-type {\n",
       "        vertical-align: middle;\n",
       "    }\n",
       "\n",
       "    .dataframe tbody tr th {\n",
       "        vertical-align: top;\n",
       "    }\n",
       "\n",
       "    .dataframe thead th {\n",
       "        text-align: right;\n",
       "    }\n",
       "</style>\n",
       "<table border=\"1\" class=\"dataframe\">\n",
       "  <thead>\n",
       "    <tr style=\"text-align: right;\">\n",
       "      <th></th>\n",
       "      <th>artist</th>\n",
       "      <th>days</th>\n",
       "    </tr>\n",
       "  </thead>\n",
       "  <tbody>\n",
       "    <tr>\n",
       "      <th>60</th>\n",
       "      <td>Post Malone</td>\n",
       "      <td>10513.0</td>\n",
       "    </tr>\n",
       "    <tr>\n",
       "      <th>171</th>\n",
       "      <td>XXXTENTACION</td>\n",
       "      <td>7221.0</td>\n",
       "    </tr>\n",
       "    <tr>\n",
       "      <th>1</th>\n",
       "      <td>Drake</td>\n",
       "      <td>6877.0</td>\n",
       "    </tr>\n",
       "    <tr>\n",
       "      <th>521</th>\n",
       "      <td>Billie Eilish</td>\n",
       "      <td>5180.0</td>\n",
       "    </tr>\n",
       "    <tr>\n",
       "      <th>141</th>\n",
       "      <td>Khalid</td>\n",
       "      <td>5066.0</td>\n",
       "    </tr>\n",
       "  </tbody>\n",
       "</table>\n",
       "</div>"
      ],
      "text/plain": [
       "            artist     days\n",
       "60     Post Malone  10513.0\n",
       "171   XXXTENTACION   7221.0\n",
       "1            Drake   6877.0\n",
       "521  Billie Eilish   5180.0\n",
       "141         Khalid   5066.0"
      ]
     },
     "execution_count": 7,
     "metadata": {},
     "output_type": "execute_result"
    }
   ],
   "source": [
    "top50.loc[:, ['artist', 'days']].head()"
   ]
  },
  {
   "cell_type": "code",
   "execution_count": 8,
   "metadata": {},
   "outputs": [
    {
     "data": {
      "text/html": [
       "<div>\n",
       "<style scoped>\n",
       "    .dataframe tbody tr th:only-of-type {\n",
       "        vertical-align: middle;\n",
       "    }\n",
       "\n",
       "    .dataframe tbody tr th {\n",
       "        vertical-align: top;\n",
       "    }\n",
       "\n",
       "    .dataframe thead th {\n",
       "        text-align: right;\n",
       "    }\n",
       "</style>\n",
       "<table border=\"1\" class=\"dataframe\">\n",
       "  <thead>\n",
       "    <tr style=\"text-align: right;\">\n",
       "      <th></th>\n",
       "      <th>artist</th>\n",
       "      <th>days</th>\n",
       "    </tr>\n",
       "  </thead>\n",
       "  <tbody>\n",
       "    <tr>\n",
       "      <th>546</th>\n",
       "      <td>Ronny J</td>\n",
       "      <td>1.0</td>\n",
       "    </tr>\n",
       "    <tr>\n",
       "      <th>352</th>\n",
       "      <td>WALK THE MOON</td>\n",
       "      <td>1.0</td>\n",
       "    </tr>\n",
       "    <tr>\n",
       "      <th>360</th>\n",
       "      <td>Stevie Nicks</td>\n",
       "      <td>1.0</td>\n",
       "    </tr>\n",
       "    <tr>\n",
       "      <th>361</th>\n",
       "      <td>Lin-Manuel Miranda</td>\n",
       "      <td>1.0</td>\n",
       "    </tr>\n",
       "    <tr>\n",
       "      <th>364</th>\n",
       "      <td>Red Hot Chili Peppers</td>\n",
       "      <td>1.0</td>\n",
       "    </tr>\n",
       "  </tbody>\n",
       "</table>\n",
       "</div>"
      ],
      "text/plain": [
       "                    artist  days\n",
       "546                Ronny J   1.0\n",
       "352          WALK THE MOON   1.0\n",
       "360           Stevie Nicks   1.0\n",
       "361     Lin-Manuel Miranda   1.0\n",
       "364  Red Hot Chili Peppers   1.0"
      ]
     },
     "execution_count": 8,
     "metadata": {},
     "output_type": "execute_result"
    }
   ],
   "source": [
    "bot50.loc[:, ['artist', 'days']].head()"
   ]
  },
  {
   "cell_type": "code",
   "execution_count": 9,
   "metadata": {},
   "outputs": [],
   "source": [
    "from scipy.stats import ttest_ind"
   ]
  },
  {
   "cell_type": "markdown",
   "metadata": {},
   "source": [
    "Let's run some two-sample hypothesis tests on the median audio feature values to see if the top 50 artists' songs are different from the bottom 50 artists' songs. For example, suppose we want to run a test on median tempo:\n",
    "* Let $med\\_temp_{i}$ denote the median tempo of the $i^{th}$ artists' songs.\n",
    "* Let $\\bar{TEMP}_{k}$ denote the median tempo of artists' songs in the $k^{th}$ averaged across all artists in that group. Let $k=1$ be the group containing the top 50 artists, and $k=2$ be the group containing the bottom 50 artists.\n",
    "* Similarly, let $s_{k}$ denote the standard deviation for the $k^{th}$ group, and let $n_k$ denote the number of artists in the $k^{th}$ group\n",
    "* Then:\n",
    "    * $H_0: \\bar{TEMP_{1}} = \\bar{TEMP}_{2}$\n",
    "    * $H_1: \\bar{TEMP}_{1} \\neq \\bar{TEMP}_{2}$\n",
    "    * $T = \\frac{\\bar{TEMP_{1}} - \\bar{TEMP}_{2}}{\\sqrt{\\frac{s_1^2}{n_1}+\\frac{s_2^2}{n_2}}}$  \n",
    "    \n",
    "This is the general form each test will take. Since we are running 8 simultaneous tests (1 for each audio feature) at $\\alpha = .05$, we need to control the false-positive rate. To do this, we will apply a simple Bonferroni correction such that $\\alpha_{adjusted} = .05/8 = 0.00625$"
   ]
  },
  {
   "cell_type": "code",
   "execution_count": 10,
   "metadata": {
    "scrolled": false
   },
   "outputs": [
    {
     "name": "stdout",
     "output_type": "stream",
     "text": [
      "bonferroni-corrected alpha = .05/8 = 0.00625\n",
      "\n",
      "difference in... average median_danceability\n",
      "\th0: Group 1 average median_danceability == Group 2 average median_danceability\n",
      "\th1: Group 1 average median_danceability != Group 2 average median_danceability\n",
      "\n",
      "\tGroup 1: 0.71203\t\t\t Group 2:0.6075200000000002\n",
      "\tt = 4.240610454707632\n",
      "\tp = 6.161498448531702e-05\n",
      "\tsignificant: True\n",
      "\n",
      "difference in... average median_energy\n",
      "\th0: Group 1 average median_energy == Group 2 average median_energy\n",
      "\th1: Group 1 average median_energy != Group 2 average median_energy\n",
      "\n",
      "\tGroup 1: 0.6035800000000001\t\t\t Group 2:0.6769000000000003\n",
      "\tt = -2.637147422933469\n",
      "\tp = 0.01013793612067708\n",
      "\tsignificant: False\n",
      "\n",
      "difference in... average median_loudness\n",
      "\th0: Group 1 average median_loudness == Group 2 average median_loudness\n",
      "\th1: Group 1 average median_loudness != Group 2 average median_loudness\n",
      "\n",
      "\tGroup 1: -6.5164100000000005\t\t\t Group 2:-6.37932\n",
      "\tt = -0.3492632711441216\n",
      "\tp = 0.7278627308560506\n",
      "\tsignificant: False\n",
      "\n",
      "difference in... average median_speechiness\n",
      "\th0: Group 1 average median_speechiness == Group 2 average median_speechiness\n",
      "\th1: Group 1 average median_speechiness != Group 2 average median_speechiness\n",
      "\n",
      "\tGroup 1: 0.14151\t\t\t Group 2:0.08890799999999999\n",
      "\tt = 2.9037358431498728\n",
      "\tp = 0.004560699956891844\n",
      "\tsignificant: True\n",
      "\n",
      "difference in... average median_acousticness\n",
      "\th0: Group 1 average median_acousticness == Group 2 average median_acousticness\n",
      "\th1: Group 1 average median_acousticness != Group 2 average median_acousticness\n",
      "\n",
      "\tGroup 1: 0.16366999999999998\t\t\t Group 2:0.16713937999999995\n",
      "\tt = -0.09854196170638863\n",
      "\tp = 0.9217326103843586\n",
      "\tsignificant: False\n",
      "\n",
      "difference in... average median_instrumentalness\n",
      "\th0: Group 1 average median_instrumentalness == Group 2 average median_instrumentalness\n",
      "\th1: Group 1 average median_instrumentalness != Group 2 average median_instrumentalness\n",
      "\n",
      "\tGroup 1: 0.0002271635\t\t\t Group 2:0.005890724200000003\n",
      "\tt = -1.8822736701905274\n",
      "\tp = 0.06568734924372657\n",
      "\tsignificant: False\n",
      "\n",
      "difference in... average median_liveness\n",
      "\th0: Group 1 average median_liveness == Group 2 average median_liveness\n",
      "\th1: Group 1 average median_liveness != Group 2 average median_liveness\n",
      "\n",
      "\tGroup 1: 0.13112000000000001\t\t\t Group 2:0.174148\n",
      "\tt = -2.0991371130483896\n",
      "\tp = 0.04048555385074673\n",
      "\tsignificant: False\n",
      "\n",
      "difference in... average median_valence\n",
      "\th0: Group 1 average median_valence == Group 2 average median_valence\n",
      "\th1: Group 1 average median_valence != Group 2 average median_valence\n",
      "\n",
      "\tGroup 1: 0.4218499999999999\t\t\t Group 2:0.5248799999999999\n",
      "\tt = -3.183381444070545\n",
      "\tp = 0.0021261275806722184\n",
      "\tsignificant: True\n",
      "\n"
     ]
    }
   ],
   "source": [
    "alpha = .05/8\n",
    "print(f\"bonferroni-corrected alpha = .05/8 = {alpha}\\n\")\n",
    "for col in top50.columns[3:11]:\n",
    "    print(f\"difference in... average {col}\")\n",
    "    print(f\"\\th0: Group 1 average {col} == Group 2 average {col}\")\n",
    "    print(f\"\\th1: Group 1 average {col} != Group 2 average {col}\\n\")\n",
    "    print(f\"\\tGroup 1: {top50[col].mean()}\\t\\t\\t Group 2:{bot50[col].mean()}\")\n",
    "    tt = ttest_ind(top50[col], bot50[col], equal_var = False)\n",
    "    print(f\"\\tt = {tt[0]}\")\n",
    "    print(f\"\\tp = {tt[1]}\")\n",
    "    print(f\"\\tsignificant: {tt[1]<=alpha}\\n\")"
   ]
  },
  {
   "cell_type": "markdown",
   "metadata": {},
   "source": [
    "## Conclusion: Top 50 (most popular) artists vs bottom 50 (least popular) artists"
   ]
  },
  {
   "cell_type": "markdown",
   "metadata": {},
   "source": [
    "We can see the tests on differences in median danceability, acousticness, liveness, and valence of songs by the top 50 most popular artists (denoted as Group 1) are significantly different than those of songs by non-top 50 artists (denoted as Group 2). Specifically:\n",
    "* Group 1 average median danceability > Group 2 average median danceability: Group 1 songs are significantly more dance-able/catchy/rhythmic \n",
    "* Group 1 average median speechiness > Group 2 average median speechiness: Group 1 songs are significantly more wordy\n",
    "* Group 1 average median valence < Group 2 average median valence: Group 1 songs are significantly less positive/happy (i.e. more negative)\n",
    "\n",
    "These findings make a lot of sense: songs will stay on the top charts longer if they are more catchy and danceable, as people will listen to them over and over again. Additionally, these songs will be streamed on the radio more frequently, boosting those songs' popularity. As for speechiness, this also makes sense: in the past few years, rap songs have become quite mainstream, and those songs tend to be pretty wordy. Finally, valence is a measure of how positive a song is. Popular songs these days tend to be more about love and breaking up, with many references to alcohol/drug use and violence. "
   ]
  },
  {
   "cell_type": "markdown",
   "metadata": {},
   "source": [
    "## Clustering Artists: exploratory data analysis"
   ]
  },
  {
   "cell_type": "markdown",
   "metadata": {},
   "source": [
    "Now that we know there are some significant differences between songs by the most popular artists and songs by the least (relatively) popular artists, let's see if we can group together the artists by their songs' audio features. This will help illustrate which artists tend to produce similar songs and help us find distinct patterns between artists' songs."
   ]
  },
  {
   "cell_type": "markdown",
   "metadata": {},
   "source": [
    "These are the distributions of the total number of days each artist appeared on the top charts, as well as the average number of days. The total is calculated by summing up the number of days the artist's song was on the top charts across all of his songs, while the average is the total divided by the number of songs."
   ]
  },
  {
   "cell_type": "code",
   "execution_count": 11,
   "metadata": {},
   "outputs": [
    {
     "data": {
      "text/plain": [
       "count      789.000000\n",
       "mean       299.346008\n",
       "std        779.023778\n",
       "min          1.000000\n",
       "25%          5.000000\n",
       "50%         53.000000\n",
       "75%        238.000000\n",
       "max      10513.000000\n",
       "Name: days, dtype: float64"
      ]
     },
     "execution_count": 11,
     "metadata": {},
     "output_type": "execute_result"
    }
   ],
   "source": [
    "#severely skewed right (mean >> median); a handful of artists are outliers and are very popular, \n",
    "#staying on top charts for an extremely long time\n",
    "df_artist.days.describe()"
   ]
  },
  {
   "cell_type": "code",
   "execution_count": 12,
   "metadata": {},
   "outputs": [
    {
     "data": {
      "text/plain": [
       "count    789.000000\n",
       "mean      40.453826\n",
       "std       55.147215\n",
       "min        1.000000\n",
       "25%        2.500000\n",
       "50%       19.727273\n",
       "75%       56.166667\n",
       "max      436.000000\n",
       "Name: avg_days, dtype: float64"
      ]
     },
     "execution_count": 12,
     "metadata": {},
     "output_type": "execute_result"
    }
   ],
   "source": [
    "#severely skewed right (mean >> median); a handful of artists are outliers and are very popular, \n",
    "#staying on top charts for an extremely long time\n",
    "df_artist.avg_days.describe()"
   ]
  },
  {
   "cell_type": "code",
   "execution_count": 13,
   "metadata": {},
   "outputs": [
    {
     "data": {
      "image/png": "[encoded data removed]",
      "text/plain": [
       "<Figure size 1080x360 with 2 Axes>"
      ]
     },
     "metadata": {
      "needs_background": "light"
     },
     "output_type": "display_data"
    }
   ],
   "source": [
    "fig, (ax1, ax2) = plt.subplots(1, 2, figsize = (15,5))\n",
    "ax1.hist(df_artist.days)\n",
    "ax1.set_xlabel(\"total number of days\")\n",
    "ax2.boxplot(df_artist.days, vert = False)\n",
    "ax2.set_xlabel(\"total number of days\")\n",
    "fig.suptitle(\"dist. of total number of days\")\n",
    "plt.show()"
   ]
  },
  {
   "cell_type": "code",
   "execution_count": 14,
   "metadata": {},
   "outputs": [
    {
     "data": {
      "image/png": "[encoded data removed]",
      "text/plain": [
       "<Figure size 1080x360 with 2 Axes>"
      ]
     },
     "metadata": {
      "needs_background": "light"
     },
     "output_type": "display_data"
    }
   ],
   "source": [
    "fig, (ax1, ax2) = plt.subplots(1, 2, figsize = (15,5))\n",
    "ax1.hist(df_artist.avg_days)\n",
    "ax1.set_xlabel(\"average number of days\")\n",
    "ax2.boxplot(df_artist.avg_days, vert = False)\n",
    "ax2.set_xlabel(\"average number of days\")\n",
    "fig.suptitle(\"dist. of average number of days\")\n",
    "plt.show()"
   ]
  },
  {
   "cell_type": "code",
   "execution_count": 15,
   "metadata": {
    "scrolled": false
   },
   "outputs": [
    {
     "data": {
      "image/png": "[encoded data removed]",
      "text/plain": [
       "<Figure size 432x288 with 2 Axes>"
      ]
     },
     "metadata": {
      "needs_background": "light"
     },
     "output_type": "display_data"
    },
    {
     "data": {
      "image/png": "[encoded data removed]",
      "text/plain": [
       "<Figure size 432x288 with 2 Axes>"
      ]
     },
     "metadata": {
      "needs_background": "light"
     },
     "output_type": "display_data"
    },
    {
     "data": {
      "image/png": "[encoded data removed]",
      "text/plain": [
       "<Figure size 432x288 with 2 Axes>"
      ]
     },
     "metadata": {
      "needs_background": "light"
     },
     "output_type": "display_data"
    },
    {
     "data": {
      "image/png": "[encoded data removed]",
      "text/plain": [
       "<Figure size 432x288 with 2 Axes>"
      ]
     },
     "metadata": {
      "needs_background": "light"
     },
     "output_type": "display_data"
    },
    {
     "data": {
      "image/png": "[encoded data removed]",
      "text/plain": [
       "<Figure size 432x288 with 2 Axes>"
      ]
     },
     "metadata": {
      "needs_background": "light"
     },
     "output_type": "display_data"
    },
    {
     "data": {
      "image/png": "[encoded data removed]",
      "text/plain": [
       "<Figure size 432x288 with 2 Axes>"
      ]
     },
     "metadata": {
      "needs_background": "light"
     },
     "output_type": "display_data"
    },
    {
     "data": {
      "image/png": "[encoded data removed]",
      "text/plain": [
       "<Figure size 432x288 with 2 Axes>"
      ]
     },
     "metadata": {
      "needs_background": "light"
     },
     "output_type": "display_data"
    },
    {
     "data": {
      "image/png": "[encoded data removed]",
      "text/plain": [
       "<Figure size 432x288 with 2 Axes>"
      ]
     },
     "metadata": {
      "needs_background": "light"
     },
     "output_type": "display_data"
    },
    {
     "data": {
      "image/png": "[encoded data removed]",
      "text/plain": [
       "<Figure size 432x288 with 2 Axes>"
      ]
     },
     "metadata": {
      "needs_background": "light"
     },
     "output_type": "display_data"
    }
   ],
   "source": [
    "for k in cluster_cols:\n",
    "    fig, (ax1, ax2) = plt.subplots(1, 2)\n",
    "    data = artist_dict[\"median_\" + k]\n",
    "    ax1.hist(data)\n",
    "    ax2.boxplot(data)\n",
    "    fig.suptitle(k)\n",
    "    plt.show()"
   ]
  },
  {
   "cell_type": "markdown",
   "metadata": {},
   "source": [
    "Since the majority of values for instrumentalness is 0, it won't be helpful in clustering, so it was subsequently dropped from the dataset"
   ]
  },
  {
   "cell_type": "code",
   "execution_count": 16,
   "metadata": {},
   "outputs": [],
   "source": [
    "df_artist.drop(columns = ['median_instrumentalness'], inplace = True)"
   ]
  },
  {
   "cell_type": "markdown",
   "metadata": {},
   "source": [
    "## Clustering artists: scaling and transforming data"
   ]
  },
  {
   "cell_type": "markdown",
   "metadata": {},
   "source": [
    "Since the audio features are on difference scales (ex: tempo is usually around 100 - 150 while valence is between 0 and 1), we don't want any single feature to bias the clustering results. So, let's rescale the features."
   ]
  },
  {
   "cell_type": "code",
   "execution_count": 26,
   "metadata": {},
   "outputs": [],
   "source": [
    "from sklearn.preprocessing import RobustScaler\n",
    "from sklearn.decomposition import PCA"
   ]
  },
  {
   "cell_type": "code",
   "execution_count": 28,
   "metadata": {},
   "outputs": [
    {
     "data": {
      "text/plain": [
       "Index(['median_danceability', 'median_energy', 'median_loudness',\n",
       "       'median_speechiness', 'median_acousticness', 'median_liveness',\n",
       "       'median_valence', 'median_tempo'],\n",
       "      dtype='object')"
      ]
     },
     "execution_count": 28,
     "metadata": {},
     "output_type": "execute_result"
    }
   ],
   "source": [
    "cluster_cols = df_artist.columns[3:]\n",
    "cluster_cols"
   ]
  },
  {
   "cell_type": "markdown",
   "metadata": {},
   "source": [
    "These are the features and values to be clustered on"
   ]
  },
  {
   "cell_type": "code",
   "execution_count": 29,
   "metadata": {},
   "outputs": [],
   "source": [
    "X = df_artist[cluster_cols]"
   ]
  },
  {
   "cell_type": "code",
   "execution_count": 30,
   "metadata": {},
   "outputs": [
    {
     "data": {
      "text/html": [
       "<div>\n",
       "<style scoped>\n",
       "    .dataframe tbody tr th:only-of-type {\n",
       "        vertical-align: middle;\n",
       "    }\n",
       "\n",
       "    .dataframe tbody tr th {\n",
       "        vertical-align: top;\n",
       "    }\n",
       "\n",
       "    .dataframe thead th {\n",
       "        text-align: right;\n",
       "    }\n",
       "</style>\n",
       "<table border=\"1\" class=\"dataframe\">\n",
       "  <thead>\n",
       "    <tr style=\"text-align: right;\">\n",
       "      <th></th>\n",
       "      <th>median_danceability</th>\n",
       "      <th>median_energy</th>\n",
       "      <th>median_loudness</th>\n",
       "      <th>median_speechiness</th>\n",
       "      <th>median_acousticness</th>\n",
       "      <th>median_liveness</th>\n",
       "      <th>median_valence</th>\n",
       "      <th>median_tempo</th>\n",
       "    </tr>\n",
       "  </thead>\n",
       "  <tbody>\n",
       "    <tr>\n",
       "      <th>0</th>\n",
       "      <td>0.8365</td>\n",
       "      <td>0.6690</td>\n",
       "      <td>-5.6810</td>\n",
       "      <td>0.15400</td>\n",
       "      <td>0.07950</td>\n",
       "      <td>0.1325</td>\n",
       "      <td>0.3505</td>\n",
       "      <td>137.4800</td>\n",
       "    </tr>\n",
       "    <tr>\n",
       "      <th>1</th>\n",
       "      <td>0.7200</td>\n",
       "      <td>0.5370</td>\n",
       "      <td>-7.7055</td>\n",
       "      <td>0.17350</td>\n",
       "      <td>0.11600</td>\n",
       "      <td>0.1225</td>\n",
       "      <td>0.3525</td>\n",
       "      <td>118.9900</td>\n",
       "    </tr>\n",
       "    <tr>\n",
       "      <th>2</th>\n",
       "      <td>0.5600</td>\n",
       "      <td>0.6110</td>\n",
       "      <td>-7.0150</td>\n",
       "      <td>0.06410</td>\n",
       "      <td>0.13100</td>\n",
       "      <td>0.1250</td>\n",
       "      <td>0.2520</td>\n",
       "      <td>119.8290</td>\n",
       "    </tr>\n",
       "    <tr>\n",
       "      <th>3</th>\n",
       "      <td>0.6160</td>\n",
       "      <td>0.6285</td>\n",
       "      <td>-6.6005</td>\n",
       "      <td>0.04265</td>\n",
       "      <td>0.05865</td>\n",
       "      <td>0.1505</td>\n",
       "      <td>0.3980</td>\n",
       "      <td>104.4755</td>\n",
       "    </tr>\n",
       "    <tr>\n",
       "      <th>4</th>\n",
       "      <td>0.8030</td>\n",
       "      <td>0.6320</td>\n",
       "      <td>-5.1930</td>\n",
       "      <td>0.06490</td>\n",
       "      <td>0.05440</td>\n",
       "      <td>0.1110</td>\n",
       "      <td>0.2640</td>\n",
       "      <td>131.9860</td>\n",
       "    </tr>\n",
       "    <tr>\n",
       "      <th>...</th>\n",
       "      <td>...</td>\n",
       "      <td>...</td>\n",
       "      <td>...</td>\n",
       "      <td>...</td>\n",
       "      <td>...</td>\n",
       "      <td>...</td>\n",
       "      <td>...</td>\n",
       "      <td>...</td>\n",
       "    </tr>\n",
       "    <tr>\n",
       "      <th>784</th>\n",
       "      <td>0.5600</td>\n",
       "      <td>0.9360</td>\n",
       "      <td>-5.8350</td>\n",
       "      <td>0.04390</td>\n",
       "      <td>0.00847</td>\n",
       "      <td>0.1610</td>\n",
       "      <td>0.3710</td>\n",
       "      <td>112.9600</td>\n",
       "    </tr>\n",
       "    <tr>\n",
       "      <th>785</th>\n",
       "      <td>0.5850</td>\n",
       "      <td>0.2770</td>\n",
       "      <td>-14.2310</td>\n",
       "      <td>0.03180</td>\n",
       "      <td>0.67000</td>\n",
       "      <td>0.1140</td>\n",
       "      <td>0.4810</td>\n",
       "      <td>140.6660</td>\n",
       "    </tr>\n",
       "    <tr>\n",
       "      <th>786</th>\n",
       "      <td>0.6930</td>\n",
       "      <td>0.2590</td>\n",
       "      <td>-7.9180</td>\n",
       "      <td>0.03720</td>\n",
       "      <td>0.44800</td>\n",
       "      <td>0.0995</td>\n",
       "      <td>0.3610</td>\n",
       "      <td>88.9720</td>\n",
       "    </tr>\n",
       "    <tr>\n",
       "      <th>787</th>\n",
       "      <td>0.5790</td>\n",
       "      <td>0.7140</td>\n",
       "      <td>-4.4550</td>\n",
       "      <td>0.03640</td>\n",
       "      <td>0.01360</td>\n",
       "      <td>0.1110</td>\n",
       "      <td>0.3580</td>\n",
       "      <td>119.8940</td>\n",
       "    </tr>\n",
       "    <tr>\n",
       "      <th>788</th>\n",
       "      <td>0.8880</td>\n",
       "      <td>0.5160</td>\n",
       "      <td>-10.2280</td>\n",
       "      <td>0.41000</td>\n",
       "      <td>0.14800</td>\n",
       "      <td>0.1060</td>\n",
       "      <td>0.6060</td>\n",
       "      <td>127.8030</td>\n",
       "    </tr>\n",
       "  </tbody>\n",
       "</table>\n",
       "<p>789 rows × 8 columns</p>\n",
       "</div>"
      ],
      "text/plain": [
       "     median_danceability  median_energy  median_loudness  median_speechiness  \\\n",
       "0                 0.8365         0.6690          -5.6810             0.15400   \n",
       "1                 0.7200         0.5370          -7.7055             0.17350   \n",
       "2                 0.5600         0.6110          -7.0150             0.06410   \n",
       "3                 0.6160         0.6285          -6.6005             0.04265   \n",
       "4                 0.8030         0.6320          -5.1930             0.06490   \n",
       "..                   ...            ...              ...                 ...   \n",
       "784               0.5600         0.9360          -5.8350             0.04390   \n",
       "785               0.5850         0.2770         -14.2310             0.03180   \n",
       "786               0.6930         0.2590          -7.9180             0.03720   \n",
       "787               0.5790         0.7140          -4.4550             0.03640   \n",
       "788               0.8880         0.5160         -10.2280             0.41000   \n",
       "\n",
       "     median_acousticness  median_liveness  median_valence  median_tempo  \n",
       "0                0.07950           0.1325          0.3505      137.4800  \n",
       "1                0.11600           0.1225          0.3525      118.9900  \n",
       "2                0.13100           0.1250          0.2520      119.8290  \n",
       "3                0.05865           0.1505          0.3980      104.4755  \n",
       "4                0.05440           0.1110          0.2640      131.9860  \n",
       "..                   ...              ...             ...           ...  \n",
       "784              0.00847           0.1610          0.3710      112.9600  \n",
       "785              0.67000           0.1140          0.4810      140.6660  \n",
       "786              0.44800           0.0995          0.3610       88.9720  \n",
       "787              0.01360           0.1110          0.3580      119.8940  \n",
       "788              0.14800           0.1060          0.6060      127.8030  \n",
       "\n",
       "[789 rows x 8 columns]"
      ]
     },
     "execution_count": 30,
     "metadata": {},
     "output_type": "execute_result"
    }
   ],
   "source": [
    "X"
   ]
  },
  {
   "cell_type": "markdown",
   "metadata": {},
   "source": [
    "I decided to use the RobustScaler method in order to decrease the impact of outliers. The following describes how RobustScaler works:  \n",
    "    Let C be the column to be rescaled and q_x be the xth quantile of C:\n",
    "        For each c in C:\n",
    "            c_scaled = (c - median(C))/(q_75 - q_25))"
   ]
  },
  {
   "cell_type": "code",
   "execution_count": 31,
   "metadata": {},
   "outputs": [],
   "source": [
    "def scale(X):\n",
    "    \"\"\"\n",
    "    inputs:   X: dataframe with columns of continuous features to be scaled\n",
    "    \n",
    "    returns:  X_scaled: dataframe with scaled columns\n",
    "    \"\"\"\n",
    "    X_scaled = X.copy()    \n",
    "    scaled_values = RobustScaler().fit_transform(X)\n",
    "    \n",
    "    for i in range(scaled_values.shape[1]):\n",
    "        X_scaled.iloc[:,i] = scaled_values[:,i]\n",
    "\n",
    "    return X_scaled"
   ]
  },
  {
   "cell_type": "code",
   "execution_count": 32,
   "metadata": {},
   "outputs": [
    {
     "data": {
      "text/html": [
       "<div>\n",
       "<style scoped>\n",
       "    .dataframe tbody tr th:only-of-type {\n",
       "        vertical-align: middle;\n",
       "    }\n",
       "\n",
       "    .dataframe tbody tr th {\n",
       "        vertical-align: top;\n",
       "    }\n",
       "\n",
       "    .dataframe thead th {\n",
       "        text-align: right;\n",
       "    }\n",
       "</style>\n",
       "<table border=\"1\" class=\"dataframe\">\n",
       "  <thead>\n",
       "    <tr style=\"text-align: right;\">\n",
       "      <th></th>\n",
       "      <th>median_danceability</th>\n",
       "      <th>median_energy</th>\n",
       "      <th>median_loudness</th>\n",
       "      <th>median_speechiness</th>\n",
       "      <th>median_acousticness</th>\n",
       "      <th>median_liveness</th>\n",
       "      <th>median_valence</th>\n",
       "      <th>median_tempo</th>\n",
       "    </tr>\n",
       "  </thead>\n",
       "  <tbody>\n",
       "    <tr>\n",
       "      <th>0</th>\n",
       "      <td>0.898907</td>\n",
       "      <td>0.112195</td>\n",
       "      <td>0.228545</td>\n",
       "      <td>0.763135</td>\n",
       "      <td>-0.187377</td>\n",
       "      <td>0.113333</td>\n",
       "      <td>-0.492806</td>\n",
       "      <td>0.545877</td>\n",
       "    </tr>\n",
       "    <tr>\n",
       "      <th>1</th>\n",
       "      <td>0.262295</td>\n",
       "      <td>-0.531707</td>\n",
       "      <td>-0.531831</td>\n",
       "      <td>0.931094</td>\n",
       "      <td>-0.043393</td>\n",
       "      <td>-0.020000</td>\n",
       "      <td>-0.485612</td>\n",
       "      <td>-0.014315</td>\n",
       "    </tr>\n",
       "    <tr>\n",
       "      <th>2</th>\n",
       "      <td>-0.612022</td>\n",
       "      <td>-0.170732</td>\n",
       "      <td>-0.272488</td>\n",
       "      <td>-0.011197</td>\n",
       "      <td>0.015779</td>\n",
       "      <td>0.013333</td>\n",
       "      <td>-0.847122</td>\n",
       "      <td>0.011104</td>\n",
       "    </tr>\n",
       "    <tr>\n",
       "      <th>3</th>\n",
       "      <td>-0.306011</td>\n",
       "      <td>-0.085366</td>\n",
       "      <td>-0.116808</td>\n",
       "      <td>-0.195952</td>\n",
       "      <td>-0.269625</td>\n",
       "      <td>0.353333</td>\n",
       "      <td>-0.321942</td>\n",
       "      <td>-0.454062</td>\n",
       "    </tr>\n",
       "    <tr>\n",
       "      <th>4</th>\n",
       "      <td>0.715847</td>\n",
       "      <td>-0.068293</td>\n",
       "      <td>0.411831</td>\n",
       "      <td>-0.004307</td>\n",
       "      <td>-0.286391</td>\n",
       "      <td>-0.173333</td>\n",
       "      <td>-0.803957</td>\n",
       "      <td>0.379425</td>\n",
       "    </tr>\n",
       "    <tr>\n",
       "      <th>...</th>\n",
       "      <td>...</td>\n",
       "      <td>...</td>\n",
       "      <td>...</td>\n",
       "      <td>...</td>\n",
       "      <td>...</td>\n",
       "      <td>...</td>\n",
       "      <td>...</td>\n",
       "      <td>...</td>\n",
       "    </tr>\n",
       "    <tr>\n",
       "      <th>784</th>\n",
       "      <td>-0.612022</td>\n",
       "      <td>1.414634</td>\n",
       "      <td>0.170704</td>\n",
       "      <td>-0.185185</td>\n",
       "      <td>-0.467574</td>\n",
       "      <td>0.493333</td>\n",
       "      <td>-0.419065</td>\n",
       "      <td>-0.197007</td>\n",
       "    </tr>\n",
       "    <tr>\n",
       "      <th>785</th>\n",
       "      <td>-0.475410</td>\n",
       "      <td>-1.800000</td>\n",
       "      <td>-2.982723</td>\n",
       "      <td>-0.289406</td>\n",
       "      <td>2.142012</td>\n",
       "      <td>-0.133333</td>\n",
       "      <td>-0.023381</td>\n",
       "      <td>0.642404</td>\n",
       "    </tr>\n",
       "    <tr>\n",
       "      <th>786</th>\n",
       "      <td>0.114754</td>\n",
       "      <td>-1.887805</td>\n",
       "      <td>-0.611643</td>\n",
       "      <td>-0.242894</td>\n",
       "      <td>1.266272</td>\n",
       "      <td>-0.326667</td>\n",
       "      <td>-0.455036</td>\n",
       "      <td>-0.923773</td>\n",
       "    </tr>\n",
       "    <tr>\n",
       "      <th>787</th>\n",
       "      <td>-0.508197</td>\n",
       "      <td>0.331707</td>\n",
       "      <td>0.689014</td>\n",
       "      <td>-0.249785</td>\n",
       "      <td>-0.447337</td>\n",
       "      <td>-0.173333</td>\n",
       "      <td>-0.465827</td>\n",
       "      <td>0.013073</td>\n",
       "    </tr>\n",
       "    <tr>\n",
       "      <th>788</th>\n",
       "      <td>1.180328</td>\n",
       "      <td>-0.634146</td>\n",
       "      <td>-1.479249</td>\n",
       "      <td>2.968131</td>\n",
       "      <td>0.082840</td>\n",
       "      <td>-0.240000</td>\n",
       "      <td>0.426259</td>\n",
       "      <td>0.252693</td>\n",
       "    </tr>\n",
       "  </tbody>\n",
       "</table>\n",
       "<p>789 rows × 8 columns</p>\n",
       "</div>"
      ],
      "text/plain": [
       "     median_danceability  median_energy  median_loudness  median_speechiness  \\\n",
       "0               0.898907       0.112195         0.228545            0.763135   \n",
       "1               0.262295      -0.531707        -0.531831            0.931094   \n",
       "2              -0.612022      -0.170732        -0.272488           -0.011197   \n",
       "3              -0.306011      -0.085366        -0.116808           -0.195952   \n",
       "4               0.715847      -0.068293         0.411831           -0.004307   \n",
       "..                   ...            ...              ...                 ...   \n",
       "784            -0.612022       1.414634         0.170704           -0.185185   \n",
       "785            -0.475410      -1.800000        -2.982723           -0.289406   \n",
       "786             0.114754      -1.887805        -0.611643           -0.242894   \n",
       "787            -0.508197       0.331707         0.689014           -0.249785   \n",
       "788             1.180328      -0.634146        -1.479249            2.968131   \n",
       "\n",
       "     median_acousticness  median_liveness  median_valence  median_tempo  \n",
       "0              -0.187377         0.113333       -0.492806      0.545877  \n",
       "1              -0.043393        -0.020000       -0.485612     -0.014315  \n",
       "2               0.015779         0.013333       -0.847122      0.011104  \n",
       "3              -0.269625         0.353333       -0.321942     -0.454062  \n",
       "4              -0.286391        -0.173333       -0.803957      0.379425  \n",
       "..                   ...              ...             ...           ...  \n",
       "784            -0.467574         0.493333       -0.419065     -0.197007  \n",
       "785             2.142012        -0.133333       -0.023381      0.642404  \n",
       "786             1.266272        -0.326667       -0.455036     -0.923773  \n",
       "787            -0.447337        -0.173333       -0.465827      0.013073  \n",
       "788             0.082840        -0.240000        0.426259      0.252693  \n",
       "\n",
       "[789 rows x 8 columns]"
      ]
     },
     "execution_count": 32,
     "metadata": {},
     "output_type": "execute_result"
    }
   ],
   "source": [
    "X_scaled = scale(X)\n",
    "X_scaled"
   ]
  },
  {
   "cell_type": "markdown",
   "metadata": {},
   "source": [
    "To help us visualize this in 2D and to prevent the curse of dimensionality from occuring, let's apply PCA to the scaled values with 2 components."
   ]
  },
  {
   "cell_type": "code",
   "execution_count": 33,
   "metadata": {},
   "outputs": [],
   "source": [
    "def apply_pca(X, n):\n",
    "    pca = PCA(n_components=n)\n",
    "    pc_cols = pd.DataFrame(pca.fit_transform(X), columns = [f\"pc{i+1}\" for i in range(n)])\n",
    "    X_pca = pd.concat([X, pc_cols], axis = 1)        \n",
    "    return X_pca\n",
    "    "
   ]
  },
  {
   "cell_type": "code",
   "execution_count": 34,
   "metadata": {},
   "outputs": [
    {
     "data": {
      "text/html": [
       "<div>\n",
       "<style scoped>\n",
       "    .dataframe tbody tr th:only-of-type {\n",
       "        vertical-align: middle;\n",
       "    }\n",
       "\n",
       "    .dataframe tbody tr th {\n",
       "        vertical-align: top;\n",
       "    }\n",
       "\n",
       "    .dataframe thead th {\n",
       "        text-align: right;\n",
       "    }\n",
       "</style>\n",
       "<table border=\"1\" class=\"dataframe\">\n",
       "  <thead>\n",
       "    <tr style=\"text-align: right;\">\n",
       "      <th></th>\n",
       "      <th>median_danceability</th>\n",
       "      <th>median_energy</th>\n",
       "      <th>median_loudness</th>\n",
       "      <th>median_speechiness</th>\n",
       "      <th>median_acousticness</th>\n",
       "      <th>median_liveness</th>\n",
       "      <th>median_valence</th>\n",
       "      <th>median_tempo</th>\n",
       "      <th>pc1</th>\n",
       "      <th>pc2</th>\n",
       "    </tr>\n",
       "  </thead>\n",
       "  <tbody>\n",
       "    <tr>\n",
       "      <th>0</th>\n",
       "      <td>0.898907</td>\n",
       "      <td>0.112195</td>\n",
       "      <td>0.228545</td>\n",
       "      <td>0.763135</td>\n",
       "      <td>-0.187377</td>\n",
       "      <td>0.113333</td>\n",
       "      <td>-0.492806</td>\n",
       "      <td>0.545877</td>\n",
       "      <td>0.242526</td>\n",
       "      <td>-0.918813</td>\n",
       "    </tr>\n",
       "    <tr>\n",
       "      <th>1</th>\n",
       "      <td>0.262295</td>\n",
       "      <td>-0.531707</td>\n",
       "      <td>-0.531831</td>\n",
       "      <td>0.931094</td>\n",
       "      <td>-0.043393</td>\n",
       "      <td>-0.020000</td>\n",
       "      <td>-0.485612</td>\n",
       "      <td>-0.014315</td>\n",
       "      <td>-0.538789</td>\n",
       "      <td>-0.237923</td>\n",
       "    </tr>\n",
       "    <tr>\n",
       "      <th>2</th>\n",
       "      <td>-0.612022</td>\n",
       "      <td>-0.170732</td>\n",
       "      <td>-0.272488</td>\n",
       "      <td>-0.011197</td>\n",
       "      <td>0.015779</td>\n",
       "      <td>0.013333</td>\n",
       "      <td>-0.847122</td>\n",
       "      <td>0.011104</td>\n",
       "      <td>-0.464756</td>\n",
       "      <td>-0.286902</td>\n",
       "    </tr>\n",
       "    <tr>\n",
       "      <th>3</th>\n",
       "      <td>-0.306011</td>\n",
       "      <td>-0.085366</td>\n",
       "      <td>-0.116808</td>\n",
       "      <td>-0.195952</td>\n",
       "      <td>-0.269625</td>\n",
       "      <td>0.353333</td>\n",
       "      <td>-0.321942</td>\n",
       "      <td>-0.454062</td>\n",
       "      <td>0.025037</td>\n",
       "      <td>-0.333168</td>\n",
       "    </tr>\n",
       "    <tr>\n",
       "      <th>4</th>\n",
       "      <td>0.715847</td>\n",
       "      <td>-0.068293</td>\n",
       "      <td>0.411831</td>\n",
       "      <td>-0.004307</td>\n",
       "      <td>-0.286391</td>\n",
       "      <td>-0.173333</td>\n",
       "      <td>-0.803957</td>\n",
       "      <td>0.379425</td>\n",
       "      <td>-0.031009</td>\n",
       "      <td>-1.153019</td>\n",
       "    </tr>\n",
       "  </tbody>\n",
       "</table>\n",
       "</div>"
      ],
      "text/plain": [
       "   median_danceability  median_energy  median_loudness  median_speechiness  \\\n",
       "0             0.898907       0.112195         0.228545            0.763135   \n",
       "1             0.262295      -0.531707        -0.531831            0.931094   \n",
       "2            -0.612022      -0.170732        -0.272488           -0.011197   \n",
       "3            -0.306011      -0.085366        -0.116808           -0.195952   \n",
       "4             0.715847      -0.068293         0.411831           -0.004307   \n",
       "\n",
       "   median_acousticness  median_liveness  median_valence  median_tempo  \\\n",
       "0            -0.187377         0.113333       -0.492806      0.545877   \n",
       "1            -0.043393        -0.020000       -0.485612     -0.014315   \n",
       "2             0.015779         0.013333       -0.847122      0.011104   \n",
       "3            -0.269625         0.353333       -0.321942     -0.454062   \n",
       "4            -0.286391        -0.173333       -0.803957      0.379425   \n",
       "\n",
       "        pc1       pc2  \n",
       "0  0.242526 -0.918813  \n",
       "1 -0.538789 -0.237923  \n",
       "2 -0.464756 -0.286902  \n",
       "3  0.025037 -0.333168  \n",
       "4 -0.031009 -1.153019  "
      ]
     },
     "execution_count": 34,
     "metadata": {},
     "output_type": "execute_result"
    }
   ],
   "source": [
    "X_pca = apply_pca(X_scaled, 2)\n",
    "X_pca.head()"
   ]
  },
  {
   "cell_type": "markdown",
   "metadata": {},
   "source": [
    "## Clustering Artists: k-means clustering"
   ]
  },
  {
   "cell_type": "markdown",
   "metadata": {},
   "source": [
    "Now that features have been scaled and PCA values have been created, we are ready to cluster artists."
   ]
  },
  {
   "cell_type": "code",
   "execution_count": 35,
   "metadata": {},
   "outputs": [],
   "source": [
    "from sklearn.cluster import KMeans"
   ]
  },
  {
   "cell_type": "code",
   "execution_count": 36,
   "metadata": {},
   "outputs": [],
   "source": [
    "def choose_k(X, cols, fewest):\n",
    "\n",
    "    df = X.loc[:,cols]\n",
    "    \n",
    "    ins = [] #inertias\n",
    "    prev_labels = None\n",
    "    min_artists = []\n",
    "    k = 1\n",
    "    \n",
    "    while len(min_artists) == 0 or min_artists[-1] >= fewest:    \n",
    "        #keep clustering while the size of the smallest cluster > specified minimum\n",
    "        \n",
    "        k += 1\n",
    "        km = KMeans(n_clusters = k)\n",
    "        km.fit(df)\n",
    "        labels = pd.Series(km.labels_)\n",
    "        cnt = labels.value_counts().min()\n",
    "\n",
    "\n",
    "        if cnt < fewest:\n",
    "            #if clustering with k clusters results in a cluster that is smaller than allowed, break out of the loop and \n",
    "            #return the data corresponding to k-1 clusters\n",
    "            out = {'k':k-1, 'labels': prev_labels, 'min_artists': min_artists[-1]}\n",
    "            break\n",
    "        else: #update stored data, keep going\n",
    "            min_artists.append(cnt)\n",
    "            prev_labels = labels\n",
    "            ins.append(km.inertia_)    \n",
    "            \n",
    "        \n",
    "    xaxis = range(2, k)\n",
    "    plt.plot(xaxis, ins, marker = 'x')\n",
    "    plt.xticks(xaxis)\n",
    "    plt.xlabel(\"clusters\")\n",
    "    plt.ylabel(\"inertia\")\n",
    "    plt.show()\n",
    "    \n",
    "    plt.plot(xaxis, min_artists, marker = 'x', label = 'smallest size')\n",
    "    plt.plot(xaxis, np.array(min_artists)/np.array(xaxis), marker = 'o',label = 'avg size')\n",
    "    plt.xticks(xaxis)\n",
    "    plt.xlabel(\"clusters\")\n",
    "    plt.ylabel(\"cluster size\")\n",
    "    plt.legend()\n",
    "    plt.show()\n",
    "    \n",
    "    return out"
   ]
  },
  {
   "cell_type": "markdown",
   "metadata": {},
   "source": [
    "When running k-means clustering, you generally want to pick k to be the number of clusters corresponding to the \"elbow\" in the plot. By doing so, you ensure that you are not overfitting while still sufficiently reducing the within-group sum of squares.   \n",
    "\n",
    "However, my approach for clustering in the context of this project is a bit different: since there are so many genres and subgenres that artists can fall under, I want my clustering results to capture this granularity, which is why I did not choose k to be the \"elbow\" of the plot. \n",
    "\n",
    "That being said, I did not want to have dozens of clusters containing only a few artists, so I included a parameter in the clustering function that allows the user to specify the fewest number of artists any cluster is allowed to have. So, my function increments k, runs k-means with k clusters, and checks how many artists are in the smallest cluster. It returns k and a vector of labels such that running k-means with k+1 clusters results in fewer artists than allowed.  \n",
    "\n",
    "Since clustering is inherently random, running the function multiple times will give different results."
   ]
  },
  {
   "cell_type": "code",
   "execution_count": 37,
   "metadata": {},
   "outputs": [
    {
     "data": {
      "image/png": "[encoded data removed]",
      "text/plain": [
       "<Figure size 432x288 with 1 Axes>"
      ]
     },
     "metadata": {
      "needs_background": "light"
     },
     "output_type": "display_data"
    },
    {
     "data": {
      "image/png": "[encoded data removed]",
      "text/plain": [
       "<Figure size 432x288 with 1 Axes>"
      ]
     },
     "metadata": {
      "needs_background": "light"
     },
     "output_type": "display_data"
    }
   ],
   "source": [
    "km_data = choose_k(X_pca, ['pc1', 'pc2'], 10)"
   ]
  },
  {
   "cell_type": "markdown",
   "metadata": {},
   "source": [
    "In the above function call, I specified that the smallest cluster must have at least 10 artists (arbitrarily chosen). The first graph shows the inertia (sum of squared distances of points to their closest cluster center) for 1...k clusters, which the second graph shows the size of the smallest cluster for 1...k clusters."
   ]
  },
  {
   "cell_type": "code",
   "execution_count": 38,
   "metadata": {},
   "outputs": [],
   "source": [
    "k, labels, _ = km_data.values()"
   ]
  },
  {
   "cell_type": "code",
   "execution_count": 39,
   "metadata": {},
   "outputs": [
    {
     "data": {
      "text/plain": [
       "10"
      ]
     },
     "execution_count": 39,
     "metadata": {},
     "output_type": "execute_result"
    }
   ],
   "source": [
    "k #chosen k"
   ]
  },
  {
   "cell_type": "code",
   "execution_count": 40,
   "metadata": {},
   "outputs": [
    {
     "data": {
      "text/plain": [
       "9    197\n",
       "4    163\n",
       "7    103\n",
       "2     98\n",
       "1     67\n",
       "6     62\n",
       "3     37\n",
       "0     31\n",
       "5     21\n",
       "8     10\n",
       "dtype: int64"
      ]
     },
     "execution_count": 40,
     "metadata": {},
     "output_type": "execute_result"
    }
   ],
   "source": [
    "labels.value_counts() #size of each cluster"
   ]
  },
  {
   "cell_type": "code",
   "execution_count": 41,
   "metadata": {},
   "outputs": [],
   "source": [
    "X_cluster = X_pca.copy()\n",
    "X_cluster['cluster'] = labels"
   ]
  },
  {
   "cell_type": "code",
   "execution_count": 42,
   "metadata": {},
   "outputs": [
    {
     "data": {
      "text/html": [
       "<div>\n",
       "<style scoped>\n",
       "    .dataframe tbody tr th:only-of-type {\n",
       "        vertical-align: middle;\n",
       "    }\n",
       "\n",
       "    .dataframe tbody tr th {\n",
       "        vertical-align: top;\n",
       "    }\n",
       "\n",
       "    .dataframe thead th {\n",
       "        text-align: right;\n",
       "    }\n",
       "</style>\n",
       "<table border=\"1\" class=\"dataframe\">\n",
       "  <thead>\n",
       "    <tr style=\"text-align: right;\">\n",
       "      <th></th>\n",
       "      <th>median_danceability</th>\n",
       "      <th>median_energy</th>\n",
       "      <th>median_loudness</th>\n",
       "      <th>median_speechiness</th>\n",
       "      <th>median_acousticness</th>\n",
       "      <th>median_liveness</th>\n",
       "      <th>median_valence</th>\n",
       "      <th>median_tempo</th>\n",
       "      <th>pc1</th>\n",
       "      <th>pc2</th>\n",
       "      <th>cluster</th>\n",
       "    </tr>\n",
       "  </thead>\n",
       "  <tbody>\n",
       "    <tr>\n",
       "      <th>0</th>\n",
       "      <td>0.898907</td>\n",
       "      <td>0.112195</td>\n",
       "      <td>0.228545</td>\n",
       "      <td>0.763135</td>\n",
       "      <td>-0.187377</td>\n",
       "      <td>0.113333</td>\n",
       "      <td>-0.492806</td>\n",
       "      <td>0.545877</td>\n",
       "      <td>0.242526</td>\n",
       "      <td>-0.918813</td>\n",
       "      <td>4</td>\n",
       "    </tr>\n",
       "    <tr>\n",
       "      <th>1</th>\n",
       "      <td>0.262295</td>\n",
       "      <td>-0.531707</td>\n",
       "      <td>-0.531831</td>\n",
       "      <td>0.931094</td>\n",
       "      <td>-0.043393</td>\n",
       "      <td>-0.020000</td>\n",
       "      <td>-0.485612</td>\n",
       "      <td>-0.014315</td>\n",
       "      <td>-0.538789</td>\n",
       "      <td>-0.237923</td>\n",
       "      <td>9</td>\n",
       "    </tr>\n",
       "    <tr>\n",
       "      <th>2</th>\n",
       "      <td>-0.612022</td>\n",
       "      <td>-0.170732</td>\n",
       "      <td>-0.272488</td>\n",
       "      <td>-0.011197</td>\n",
       "      <td>0.015779</td>\n",
       "      <td>0.013333</td>\n",
       "      <td>-0.847122</td>\n",
       "      <td>0.011104</td>\n",
       "      <td>-0.464756</td>\n",
       "      <td>-0.286902</td>\n",
       "      <td>9</td>\n",
       "    </tr>\n",
       "    <tr>\n",
       "      <th>3</th>\n",
       "      <td>-0.306011</td>\n",
       "      <td>-0.085366</td>\n",
       "      <td>-0.116808</td>\n",
       "      <td>-0.195952</td>\n",
       "      <td>-0.269625</td>\n",
       "      <td>0.353333</td>\n",
       "      <td>-0.321942</td>\n",
       "      <td>-0.454062</td>\n",
       "      <td>0.025037</td>\n",
       "      <td>-0.333168</td>\n",
       "      <td>7</td>\n",
       "    </tr>\n",
       "    <tr>\n",
       "      <th>4</th>\n",
       "      <td>0.715847</td>\n",
       "      <td>-0.068293</td>\n",
       "      <td>0.411831</td>\n",
       "      <td>-0.004307</td>\n",
       "      <td>-0.286391</td>\n",
       "      <td>-0.173333</td>\n",
       "      <td>-0.803957</td>\n",
       "      <td>0.379425</td>\n",
       "      <td>-0.031009</td>\n",
       "      <td>-1.153019</td>\n",
       "      <td>4</td>\n",
       "    </tr>\n",
       "    <tr>\n",
       "      <th>...</th>\n",
       "      <td>...</td>\n",
       "      <td>...</td>\n",
       "      <td>...</td>\n",
       "      <td>...</td>\n",
       "      <td>...</td>\n",
       "      <td>...</td>\n",
       "      <td>...</td>\n",
       "      <td>...</td>\n",
       "      <td>...</td>\n",
       "      <td>...</td>\n",
       "      <td>...</td>\n",
       "    </tr>\n",
       "    <tr>\n",
       "      <th>784</th>\n",
       "      <td>-0.612022</td>\n",
       "      <td>1.414634</td>\n",
       "      <td>0.170704</td>\n",
       "      <td>-0.185185</td>\n",
       "      <td>-0.467574</td>\n",
       "      <td>0.493333</td>\n",
       "      <td>-0.419065</td>\n",
       "      <td>-0.197007</td>\n",
       "      <td>0.858470</td>\n",
       "      <td>-0.868151</td>\n",
       "      <td>4</td>\n",
       "    </tr>\n",
       "    <tr>\n",
       "      <th>785</th>\n",
       "      <td>-0.475410</td>\n",
       "      <td>-1.800000</td>\n",
       "      <td>-2.982723</td>\n",
       "      <td>-0.289406</td>\n",
       "      <td>2.142012</td>\n",
       "      <td>-0.133333</td>\n",
       "      <td>-0.023381</td>\n",
       "      <td>0.642404</td>\n",
       "      <td>-2.990849</td>\n",
       "      <td>2.207686</td>\n",
       "      <td>0</td>\n",
       "    </tr>\n",
       "    <tr>\n",
       "      <th>786</th>\n",
       "      <td>0.114754</td>\n",
       "      <td>-1.887805</td>\n",
       "      <td>-0.611643</td>\n",
       "      <td>-0.242894</td>\n",
       "      <td>1.266272</td>\n",
       "      <td>-0.326667</td>\n",
       "      <td>-0.455036</td>\n",
       "      <td>-0.923773</td>\n",
       "      <td>-1.911167</td>\n",
       "      <td>0.562431</td>\n",
       "      <td>6</td>\n",
       "    </tr>\n",
       "    <tr>\n",
       "      <th>787</th>\n",
       "      <td>-0.508197</td>\n",
       "      <td>0.331707</td>\n",
       "      <td>0.689014</td>\n",
       "      <td>-0.249785</td>\n",
       "      <td>-0.447337</td>\n",
       "      <td>-0.173333</td>\n",
       "      <td>-0.465827</td>\n",
       "      <td>0.013073</td>\n",
       "      <td>0.202455</td>\n",
       "      <td>-1.276409</td>\n",
       "      <td>4</td>\n",
       "    </tr>\n",
       "    <tr>\n",
       "      <th>788</th>\n",
       "      <td>1.180328</td>\n",
       "      <td>-0.634146</td>\n",
       "      <td>-1.479249</td>\n",
       "      <td>2.968131</td>\n",
       "      <td>0.082840</td>\n",
       "      <td>-0.240000</td>\n",
       "      <td>0.426259</td>\n",
       "      <td>0.252693</td>\n",
       "      <td>-0.853297</td>\n",
       "      <td>-0.000490</td>\n",
       "      <td>2</td>\n",
       "    </tr>\n",
       "  </tbody>\n",
       "</table>\n",
       "<p>789 rows × 11 columns</p>\n",
       "</div>"
      ],
      "text/plain": [
       "     median_danceability  median_energy  median_loudness  median_speechiness  \\\n",
       "0               0.898907       0.112195         0.228545            0.763135   \n",
       "1               0.262295      -0.531707        -0.531831            0.931094   \n",
       "2              -0.612022      -0.170732        -0.272488           -0.011197   \n",
       "3              -0.306011      -0.085366        -0.116808           -0.195952   \n",
       "4               0.715847      -0.068293         0.411831           -0.004307   \n",
       "..                   ...            ...              ...                 ...   \n",
       "784            -0.612022       1.414634         0.170704           -0.185185   \n",
       "785            -0.475410      -1.800000        -2.982723           -0.289406   \n",
       "786             0.114754      -1.887805        -0.611643           -0.242894   \n",
       "787            -0.508197       0.331707         0.689014           -0.249785   \n",
       "788             1.180328      -0.634146        -1.479249            2.968131   \n",
       "\n",
       "     median_acousticness  median_liveness  median_valence  median_tempo  \\\n",
       "0              -0.187377         0.113333       -0.492806      0.545877   \n",
       "1              -0.043393        -0.020000       -0.485612     -0.014315   \n",
       "2               0.015779         0.013333       -0.847122      0.011104   \n",
       "3              -0.269625         0.353333       -0.321942     -0.454062   \n",
       "4              -0.286391        -0.173333       -0.803957      0.379425   \n",
       "..                   ...              ...             ...           ...   \n",
       "784            -0.467574         0.493333       -0.419065     -0.197007   \n",
       "785             2.142012        -0.133333       -0.023381      0.642404   \n",
       "786             1.266272        -0.326667       -0.455036     -0.923773   \n",
       "787            -0.447337        -0.173333       -0.465827      0.013073   \n",
       "788             0.082840        -0.240000        0.426259      0.252693   \n",
       "\n",
       "          pc1       pc2  cluster  \n",
       "0    0.242526 -0.918813        4  \n",
       "1   -0.538789 -0.237923        9  \n",
       "2   -0.464756 -0.286902        9  \n",
       "3    0.025037 -0.333168        7  \n",
       "4   -0.031009 -1.153019        4  \n",
       "..        ...       ...      ...  \n",
       "784  0.858470 -0.868151        4  \n",
       "785 -2.990849  2.207686        0  \n",
       "786 -1.911167  0.562431        6  \n",
       "787  0.202455 -1.276409        4  \n",
       "788 -0.853297 -0.000490        2  \n",
       "\n",
       "[789 rows x 11 columns]"
      ]
     },
     "execution_count": 42,
     "metadata": {},
     "output_type": "execute_result"
    }
   ],
   "source": [
    "X_cluster"
   ]
  },
  {
   "cell_type": "markdown",
   "metadata": {},
   "source": [
    "Scaled values aren't easily interpretable -- let's revert back to the original values and attach the artists' labels."
   ]
  },
  {
   "cell_type": "code",
   "execution_count": 43,
   "metadata": {},
   "outputs": [
    {
     "data": {
      "text/html": [
       "<div>\n",
       "<style scoped>\n",
       "    .dataframe tbody tr th:only-of-type {\n",
       "        vertical-align: middle;\n",
       "    }\n",
       "\n",
       "    .dataframe tbody tr th {\n",
       "        vertical-align: top;\n",
       "    }\n",
       "\n",
       "    .dataframe thead th {\n",
       "        text-align: right;\n",
       "    }\n",
       "</style>\n",
       "<table border=\"1\" class=\"dataframe\">\n",
       "  <thead>\n",
       "    <tr style=\"text-align: right;\">\n",
       "      <th></th>\n",
       "      <th>artist</th>\n",
       "      <th>days</th>\n",
       "      <th>avg_days</th>\n",
       "      <th>median_danceability</th>\n",
       "      <th>median_energy</th>\n",
       "      <th>median_loudness</th>\n",
       "      <th>median_speechiness</th>\n",
       "      <th>median_acousticness</th>\n",
       "      <th>median_liveness</th>\n",
       "      <th>median_valence</th>\n",
       "      <th>median_tempo</th>\n",
       "      <th>cluster</th>\n",
       "    </tr>\n",
       "  </thead>\n",
       "  <tbody>\n",
       "    <tr>\n",
       "      <th>0</th>\n",
       "      <td>Migos</td>\n",
       "      <td>3227.0</td>\n",
       "      <td>76.833333</td>\n",
       "      <td>0.8365</td>\n",
       "      <td>0.6690</td>\n",
       "      <td>-5.6810</td>\n",
       "      <td>0.15400</td>\n",
       "      <td>0.07950</td>\n",
       "      <td>0.1325</td>\n",
       "      <td>0.3505</td>\n",
       "      <td>137.4800</td>\n",
       "      <td>4</td>\n",
       "    </tr>\n",
       "    <tr>\n",
       "      <th>1</th>\n",
       "      <td>Drake</td>\n",
       "      <td>6877.0</td>\n",
       "      <td>76.411111</td>\n",
       "      <td>0.7200</td>\n",
       "      <td>0.5370</td>\n",
       "      <td>-7.7055</td>\n",
       "      <td>0.17350</td>\n",
       "      <td>0.11600</td>\n",
       "      <td>0.1225</td>\n",
       "      <td>0.3525</td>\n",
       "      <td>118.9900</td>\n",
       "      <td>9</td>\n",
       "    </tr>\n",
       "    <tr>\n",
       "      <th>2</th>\n",
       "      <td>The Weeknd</td>\n",
       "      <td>2926.0</td>\n",
       "      <td>68.046512</td>\n",
       "      <td>0.5600</td>\n",
       "      <td>0.6110</td>\n",
       "      <td>-7.0150</td>\n",
       "      <td>0.06410</td>\n",
       "      <td>0.13100</td>\n",
       "      <td>0.1250</td>\n",
       "      <td>0.2520</td>\n",
       "      <td>119.8290</td>\n",
       "      <td>9</td>\n",
       "    </tr>\n",
       "    <tr>\n",
       "      <th>3</th>\n",
       "      <td>The Chainsmokers</td>\n",
       "      <td>2577.0</td>\n",
       "      <td>80.531250</td>\n",
       "      <td>0.6160</td>\n",
       "      <td>0.6285</td>\n",
       "      <td>-6.6005</td>\n",
       "      <td>0.04265</td>\n",
       "      <td>0.05865</td>\n",
       "      <td>0.1505</td>\n",
       "      <td>0.3980</td>\n",
       "      <td>104.4755</td>\n",
       "      <td>7</td>\n",
       "    </tr>\n",
       "    <tr>\n",
       "      <th>4</th>\n",
       "      <td>Rae Sremmurd</td>\n",
       "      <td>1147.0</td>\n",
       "      <td>76.466667</td>\n",
       "      <td>0.8030</td>\n",
       "      <td>0.6320</td>\n",
       "      <td>-5.1930</td>\n",
       "      <td>0.06490</td>\n",
       "      <td>0.05440</td>\n",
       "      <td>0.1110</td>\n",
       "      <td>0.2640</td>\n",
       "      <td>131.9860</td>\n",
       "      <td>4</td>\n",
       "    </tr>\n",
       "  </tbody>\n",
       "</table>\n",
       "</div>"
      ],
      "text/plain": [
       "             artist    days   avg_days  median_danceability  median_energy  \\\n",
       "0             Migos  3227.0  76.833333               0.8365         0.6690   \n",
       "1             Drake  6877.0  76.411111               0.7200         0.5370   \n",
       "2        The Weeknd  2926.0  68.046512               0.5600         0.6110   \n",
       "3  The Chainsmokers  2577.0  80.531250               0.6160         0.6285   \n",
       "4      Rae Sremmurd  1147.0  76.466667               0.8030         0.6320   \n",
       "\n",
       "   median_loudness  median_speechiness  median_acousticness  median_liveness  \\\n",
       "0          -5.6810             0.15400              0.07950           0.1325   \n",
       "1          -7.7055             0.17350              0.11600           0.1225   \n",
       "2          -7.0150             0.06410              0.13100           0.1250   \n",
       "3          -6.6005             0.04265              0.05865           0.1505   \n",
       "4          -5.1930             0.06490              0.05440           0.1110   \n",
       "\n",
       "   median_valence  median_tempo  cluster  \n",
       "0          0.3505      137.4800        4  \n",
       "1          0.3525      118.9900        9  \n",
       "2          0.2520      119.8290        9  \n",
       "3          0.3980      104.4755        7  \n",
       "4          0.2640      131.9860        4  "
      ]
     },
     "execution_count": 43,
     "metadata": {},
     "output_type": "execute_result"
    }
   ],
   "source": [
    "ucl_df = pd.concat([df_artist, X_cluster.loc[:,'cluster']], axis = 1)\n",
    "ucl_df.head()"
   ]
  },
  {
   "cell_type": "code",
   "execution_count": 45,
   "metadata": {},
   "outputs": [],
   "source": [
    "def plot_clusters(df_labeled, k):\n",
    "    for i in range(k):\n",
    "        pts = df_labeled.loc[df_labeled.cluster == i, :]\n",
    "        plt.scatter(pts[\"pc1\"], pts[\"pc2\"], label = i)\n",
    "    plt.xlabel(\"PC1\")\n",
    "    plt.ylabel(\"PC2\")\n",
    "    plt.legend(title = 'cluster',  bbox_to_anchor=(1.2, 1.0))\n",
    "    plt.show()"
   ]
  },
  {
   "cell_type": "markdown",
   "metadata": {},
   "source": [
    "Here's a plot showing the results of the clustering where each color represents a different cluster"
   ]
  },
  {
   "cell_type": "code",
   "execution_count": 46,
   "metadata": {},
   "outputs": [
    {
     "data": {
      "image/png": "[encoded data removed]",
      "text/plain": [
       "<Figure size 432x288 with 1 Axes>"
      ]
     },
     "metadata": {
      "needs_background": "light"
     },
     "output_type": "display_data"
    }
   ],
   "source": [
    "plot_clusters(X_cluster, k)"
   ]
  },
  {
   "cell_type": "code",
   "execution_count": 47,
   "metadata": {},
   "outputs": [],
   "source": [
    "ucl_df.to_csv(\"data/TopCharts_clustered_artists.csv\", index = False)"
   ]
  },
  {
   "cell_type": "code",
   "execution_count": 20,
   "metadata": {},
   "outputs": [],
   "source": [
    "def top_artists(df, k, n, which):\n",
    "    #which is either 'days' or 'average days', metric to measure popularity\n",
    "    d = dict()\n",
    "    for i in range(k):\n",
    "        subset = df.loc[df.cluster == i, :].sort_values(by = which, ascending = False)\n",
    "        d[i] = list(subset.artist[:min(n, len(subset))])\n",
    "    return d"
   ]
  },
  {
   "cell_type": "markdown",
   "metadata": {},
   "source": [
    "These are the top 5 most popular artists in each cluster, as determined by the total number of days their songs were on the top charts"
   ]
  },
  {
   "cell_type": "code",
   "execution_count": 23,
   "metadata": {
    "scrolled": false
   },
   "outputs": [
    {
     "name": "stdout",
     "output_type": "stream",
     "text": [
      "{   0: [   'Bing Crosby',\n",
      "           'Frank Sinatra',\n",
      "           'Nat King Cole',\n",
      "           'Dean Martin',\n",
      "           'Jeremy Zucker'],\n",
      "    1: ['Luke Combs', 'Eminem', 'DJ Khaled', 'Panic! At The Disco', 'KYLE'],\n",
      "    2: ['XXXTENTACION', 'Khalid', 'J. Cole', 'Lauv', 'Offset'],\n",
      "    3: ['Lizzo', 'Famous Dex', 'Dustin Lynch', 'Lunay', 'Jaden'],\n",
      "    4: ['Migos', 'Marshmello', 'Logic', 'DaBaby', '6ix9ine'],\n",
      "    5: ['Lord Huron', 'Brenda Lee', 'Wham!', 'José Feliciano', 'The Jackson 5'],\n",
      "    6: ['Billie Eilish', 'Sam Smith', 'Joji', '6LACK', 'Lewis Capaldi'],\n",
      "    7: [   'Lil Uzi Vert',\n",
      "           'Travis Scott',\n",
      "           'Kendrick Lamar',\n",
      "           'The Chainsmokers',\n",
      "           'Future'],\n",
      "    8: ['Steve Aoki', 'John Lennon', 'Powfu', 'FRENSHIP', '*NSYNC'],\n",
      "    9: ['Post Malone', 'Drake', 'Juice WRLD', 'Ariana Grande', 'Ed Sheeran']}\n"
     ]
    }
   ],
   "source": [
    "pp.pprint(top_artists(ucl_df, k, 5, 'days'))"
   ]
  },
  {
   "cell_type": "markdown",
   "metadata": {},
   "source": [
    "## Clustering artists: analysis"
   ]
  },
  {
   "cell_type": "markdown",
   "metadata": {},
   "source": [
    "### Representation of clusters in top 100 (most popular) artists vs bottom 100 (least popular artists)\n",
    "Let's see if there are any clusters that are over/under-represented in the top 100 most popular and bottom 100 least popular artists. First, let's take a look at the raw data."
   ]
  },
  {
   "cell_type": "code",
   "execution_count": 24,
   "metadata": {},
   "outputs": [],
   "source": [
    "def plot_cluster_barchart(subset_cnts, subset_name, k, compare, all_props = None):\n",
    "    \n",
    "    xaxis = np.array(range(k))\n",
    "    \n",
    "    n = sum(subset_cnts.values)\n",
    "    subset_heights = [subset_cnts[i]/n if i in subset_cnts.index else 0 for i in range(k)]\n",
    "    \n",
    "    plt.bar(xaxis, subset_heights, .4, label = subset_name)\n",
    "    plt.xlabel(\"cluster\")\n",
    "    plt.ylabel(\"prop\")\n",
    "    if compare:\n",
    "        plt.bar(xaxis+.4,all_props, .4, color='r',label='all')\n",
    "        plt.legend()\n",
    "        plt.xticks(xaxis+.4/2, xaxis)\n",
    "    else:\n",
    "        plt.xticks(xaxis)\n",
    "    plt.show()\n",
    "    \n",
    "    return subset_heights\n"
   ]
  },
  {
   "cell_type": "markdown",
   "metadata": {},
   "source": [
    "These are the proportions we would expect to see. For example, if we were to take a sample of 100 artists out of all artists in the dataset, we would expect ~4 of them to belong to cluster 4"
   ]
  },
  {
   "cell_type": "code",
   "execution_count": 26,
   "metadata": {},
   "outputs": [
    {
     "name": "stdout",
     "output_type": "stream",
     "text": [
      "proportion of artists in each cluster:\n",
      "\tcluster 0: 0.0393\n",
      "\tcluster 1: 0.0849\n",
      "\tcluster 2: 0.1242\n",
      "\tcluster 3: 0.0469\n",
      "\tcluster 4: 0.2066\n",
      "\tcluster 5: 0.0266\n",
      "\tcluster 6: 0.0786\n",
      "\tcluster 7: 0.1305\n",
      "\tcluster 8: 0.0127\n",
      "\tcluster 9: 0.2497\n"
     ]
    }
   ],
   "source": [
    "size_all = len(df_artist)\n",
    "all_cnts = ucl_df.cluster.value_counts()\n",
    "print(\"proportion of artists in each cluster:\")\n",
    "for i in range(10):\n",
    "    print(f\"\\tcluster {i}: {round(all_cnts[i]/size_all, 4)}\")"
   ]
  },
  {
   "cell_type": "markdown",
   "metadata": {},
   "source": [
    "Distribution of clusters in entire dataset"
   ]
  },
  {
   "cell_type": "code",
   "execution_count": 27,
   "metadata": {
    "scrolled": true
   },
   "outputs": [
    {
     "data": {
      "image/png": "[encoded data removed]",
      "text/plain": [
       "<Figure size 432x288 with 1 Axes>"
      ]
     },
     "metadata": {
      "needs_background": "light"
     },
     "output_type": "display_data"
    }
   ],
   "source": [
    "all_props = plot_cluster_barchart(ucl_df.cluster.value_counts(), \"all\", 10, False)"
   ]
  },
  {
   "cell_type": "code",
   "execution_count": 28,
   "metadata": {},
   "outputs": [],
   "source": [
    "#top and bottom 100 artists by total number of days on top charts\n",
    "t100 = ucl_df.sort_values(by = 'days', ascending = False).iloc[:100, :]\n",
    "b100 = ucl_df.sort_values(by = 'days', ascending = True).iloc[:100, :]"
   ]
  },
  {
   "cell_type": "markdown",
   "metadata": {},
   "source": [
    "Raw counts of clusters in top 100 artists. 52 of the top 100 artists are in cluster 9, 15 are in cluster 7, and so forth."
   ]
  },
  {
   "cell_type": "code",
   "execution_count": 29,
   "metadata": {
    "scrolled": true
   },
   "outputs": [
    {
     "data": {
      "text/plain": [
       "9    52\n",
       "7    15\n",
       "4    13\n",
       "2     9\n",
       "1     5\n",
       "6     4\n",
       "3     2\n",
       "Name: cluster, dtype: int64"
      ]
     },
     "execution_count": 29,
     "metadata": {},
     "output_type": "execute_result"
    }
   ],
   "source": [
    "t100_cnts = t100.cluster.value_counts()\n",
    "t100_cnts"
   ]
  },
  {
   "cell_type": "markdown",
   "metadata": {},
   "source": [
    "Distribution of clusters proportions among top 100 artists"
   ]
  },
  {
   "cell_type": "code",
   "execution_count": 30,
   "metadata": {},
   "outputs": [
    {
     "data": {
      "image/png": "[encoded data removed]",
      "text/plain": [
       "<Figure size 432x288 with 1 Axes>"
      ]
     },
     "metadata": {
      "needs_background": "light"
     },
     "output_type": "display_data"
    }
   ],
   "source": [
    "t100_props = plot_cluster_barchart(t100_cnts, \"top 100\", 10, True, all_props)"
   ]
  },
  {
   "cell_type": "markdown",
   "metadata": {},
   "source": [
    "Raw counts of clusters in bottom 100 artists"
   ]
  },
  {
   "cell_type": "code",
   "execution_count": 31,
   "metadata": {},
   "outputs": [
    {
     "data": {
      "text/plain": [
       "4    30\n",
       "9    21\n",
       "2    15\n",
       "6     9\n",
       "7     7\n",
       "1     7\n",
       "3     6\n",
       "8     2\n",
       "5     2\n",
       "0     1\n",
       "Name: cluster, dtype: int64"
      ]
     },
     "execution_count": 31,
     "metadata": {},
     "output_type": "execute_result"
    }
   ],
   "source": [
    "b100_cnts = b100.cluster.value_counts()\n",
    "b100_cnts"
   ]
  },
  {
   "cell_type": "markdown",
   "metadata": {},
   "source": [
    "Distribution of clusters proportions among bottom 100 artists"
   ]
  },
  {
   "cell_type": "code",
   "execution_count": 32,
   "metadata": {},
   "outputs": [
    {
     "data": {
      "image/png": "[encoded data removed]",
      "text/plain": [
       "<Figure size 432x288 with 1 Axes>"
      ]
     },
     "metadata": {
      "needs_background": "light"
     },
     "output_type": "display_data"
    }
   ],
   "source": [
    "b100_props = plot_cluster_barchart(b100_cnts, \"bottom 100\", 10, True, all_props)"
   ]
  },
  {
   "cell_type": "markdown",
   "metadata": {},
   "source": [
    "In the top 100 artists, it looks like cluster 9 is extremely overrepresented (with the largest absolute difference in proportions being ~0.25) while the other clusters (except for cluster 7) seem to be underrepresented. For the bottom 100 group, there doesn't seem to be significant over/underrepresentation, with the largest absolute difference in proportions being ~0.10. To validate our hypotheses, let's run 2 Chi Squared Goodness of Fit tests as formal verification.\n",
    "\n",
    "For both groups, the hypotheses we will be testing are:\n",
    "* $H_0:$ these observations are consistent with the expected distribution of cluster frequencies\n",
    "* $H_1:$ these observations are NOT consistent with the expected distribution of cluster frequencies"
   ]
  },
  {
   "cell_type": "code",
   "execution_count": 33,
   "metadata": {},
   "outputs": [],
   "source": [
    "from scipy.stats import chisquare"
   ]
  },
  {
   "cell_type": "code",
   "execution_count": 34,
   "metadata": {},
   "outputs": [],
   "source": [
    "def gof_test(subset_cnts, all_cnts, k, verbose = True):\n",
    "    \n",
    "    n_sub = sum(subset_cnts.values)\n",
    "    n_all = sum(all_cnts.values)\n",
    "    \n",
    "    observed_counts = np.array([subset_cnts[i] if i in subset_cnts.index else 0 for i in range(k)])\n",
    "    expected_counts = np.array([all_cnts[i] * (n_sub/n_all) if i in all_cnts.index else 0 for i in range(k)])\n",
    "    chisq, p = chisquare(observed_counts, f_exp=expected_counts)\n",
    "    rej = \"Yes\" if p<.05 else \"No\"\n",
    "    if verbose:\n",
    "        print(f\"Chisq: {chisq}\\t\\t Pr(>Chisq): {p}\")\n",
    "        print(f\"Reject null?: {rej}\")\n",
    "    return chisq, p"
   ]
  },
  {
   "cell_type": "code",
   "execution_count": 35,
   "metadata": {},
   "outputs": [
    {
     "name": "stdout",
     "output_type": "stream",
     "text": [
      "Chisq: 46.06758361089492\t\t Pr(>Chisq): 5.850608625911187e-07\n",
      "Reject null?: Yes\n"
     ]
    }
   ],
   "source": [
    "t100_chisq, t100_p = gof_test(t100_cnts, all_cnts, 10)"
   ]
  },
  {
   "cell_type": "code",
   "execution_count": 36,
   "metadata": {},
   "outputs": [
    {
     "name": "stdout",
     "output_type": "stream",
     "text": [
      "Chisq: 11.763425790629855\t\t Pr(>Chisq): 0.22697718978470988\n",
      "Reject null?: No\n"
     ]
    }
   ],
   "source": [
    "b100_chisq, b100_p = gof_test(b100_cnts, all_cnts, 10)"
   ]
  },
  {
   "cell_type": "markdown",
   "metadata": {},
   "source": [
    "### Conclusion: cluster representation in top/bottom 100 artists\n",
    "\n",
    "It looks like our intuitions from looking at the distributions were correct: the distribution of cluster frequencies in the top 100 most popular artists does not match the expected frequencies. \n",
    "\n",
    "This means that there may be a particular audio feature (ex: valence), or a combination of features (ex: valence AND danceability) which causes the artist to be assigned to certain clusters over others. Generalizing our findings to all artists, based on these results, it is reasonable to conclude that if the artist is assigned to be in cluster 9, they are more likely to be one of the top 100 most popular artists relative to artists who are assigned to other clusters.\n",
    "\n",
    "For the bottom 100 least popular artists, using the same logic, we can conlude that the distribution of clusters in that group is not significantly different from the overall distribution of clusters: the bottom 100 least popular artists do not have anything in particular that make them significantly any more or less likely to be assigned to a particular cluster. Therefore, we cannot conclude that an artist's cluster assignment is significantly indicative of how likely they are to be in the bottom 100 least popular artists.\n",
    "\n",
    "However, something else to consider is how likely it is for us to have gotten our results due to sheer chance. So, let's run some simulations to see how likely or unlikely our previous results are."
   ]
  },
  {
   "cell_type": "markdown",
   "metadata": {},
   "source": [
    "### Further analysis of the goodness-of-fit test results and conclusions"
   ]
  },
  {
   "cell_type": "code",
   "execution_count": 55,
   "metadata": {},
   "outputs": [],
   "source": [
    "def sim_cluster_dist(cluster_df, n_iter, k):\n",
    "    sim_cnts = np.zeros(k)\n",
    "    p_list = []\n",
    "    chisq_list = []\n",
    "    n = len(cluster_df)\n",
    "    for i in range(n_iter):\n",
    "        idx = np.random.choice(range(n), 100, replace = False)\n",
    "        vc = cluster_df.loc[idx, 'cluster'].value_counts()\n",
    "        for c in vc.index:\n",
    "            sim_cnts[c] += vc[c]\n",
    "        x,p = gof_test(vc, all_cnts, k, verbose = False)\n",
    "        chisq_list.append(x)\n",
    "        p_list.append(p)\n",
    "    \n",
    "    sim_props = plot_cluster_barchart(pd.Series(sim_cnts), \"simulated\", k, True, all_props)\n",
    "    return chisq_list, p_list, sim_props"
   ]
  },
  {
   "cell_type": "markdown",
   "metadata": {},
   "source": [
    "Let's run 1000 simulations of 100 random samples from the entire artist dataset."
   ]
  },
  {
   "cell_type": "markdown",
   "metadata": {},
   "source": [
    "This histogram shows the proportion of clusters across all 1000 simulations of 100 samples. We can see that it almost perfectly matches the expected proportions."
   ]
  },
  {
   "cell_type": "code",
   "execution_count": 104,
   "metadata": {
    "scrolled": false
   },
   "outputs": [
    {
     "data": {
      "image/png": "[encoded data removed]",
      "text/plain": [
       "<Figure size 432x288 with 1 Axes>"
      ]
     },
     "metadata": {
      "needs_background": "light"
     },
     "output_type": "display_data"
    }
   ],
   "source": [
    "sim_data = sim_cluster_dist(ucl_df, 1000, 10)"
   ]
  },
  {
   "cell_type": "markdown",
   "metadata": {},
   "source": [
    "We can see that 30 Type I errors (incorrectly rejecting the null hypothesis) have been made in 1000 simulations. Without even taking into considering the magnitude of our p-value for the goodness of fit test on the top 100 artists, we can see that our findings are already quite unlikely: there is only a 3% chance for our findings to have been a result of sheer chance."
   ]
  },
  {
   "cell_type": "code",
   "execution_count": 105,
   "metadata": {
    "scrolled": true
   },
   "outputs": [
    {
     "name": "stdout",
     "output_type": "stream",
     "text": [
      "number of times where the goodness of fit test rejects h0: 30\n"
     ]
    }
   ],
   "source": [
    "print(f\"number of times where the goodness of fit test rejects h0: {len(np.where(np.array(sim_data[1])<.05)[0])}\")"
   ]
  },
  {
   "cell_type": "markdown",
   "metadata": {},
   "source": [
    "Now, let's take into consideration the magnitude of our findings by looking at the distribution of $\\chi^2$ statistics in the simulation"
   ]
  },
  {
   "cell_type": "code",
   "execution_count": 103,
   "metadata": {},
   "outputs": [
    {
     "data": {
      "image/png": "[encoded data removed]",
      "text/plain": [
       "<Figure size 432x288 with 1 Axes>"
      ]
     },
     "metadata": {
      "needs_background": "light"
     },
     "output_type": "display_data"
    }
   ],
   "source": [
    "plt.hist(sim_data[0])\n",
    "plt.axvline(x=b100_chisq, color='r', linestyle='dashed', linewidth=2, label = \"chisq (bottom 100)\")\n",
    "plt.axvline(x =t100_chisq, color = 'g', linestyle = 'dashed', linewidth = 2, label = 'chisq (top 100)')\n",
    "plt.title(\"Distribution of Chi Squared variables from simulations\")\n",
    "plt.xlabel(\"Chisq\")\n",
    "plt.ylabel(\"Frequency\")\n",
    "plt.legend()\n",
    "plt.show()"
   ]
  },
  {
   "cell_type": "code",
   "execution_count": 106,
   "metadata": {},
   "outputs": [
    {
     "name": "stdout",
     "output_type": "stream",
     "text": [
      "number of simulated chisq variable > chisq variable for bottom 100: 144\n",
      "number of simulated chisq variable > chisq variable for top 100: 0\n"
     ]
    }
   ],
   "source": [
    "print(f\"number of simulated chisq variable > chisq variable for bottom 100: {len(np.where(np.array(sim_data[0])>b100_chisq)[0])}\")\n",
    "print(f\"number of simulated chisq variable > chisq variable for top 100: {len(np.where(np.array(sim_data[0])>t100_chisq)[0])}\")"
   ]
  },
  {
   "cell_type": "markdown",
   "metadata": {},
   "source": [
    "This histogram shows the distribution of $\\chi^2$ statistics from the simulation (for example, there are ~300 simulated $\\chi^2$ variables around 10). In the above output, we can see the number of times where the simulation produced results as extreme or even more extreme than we results we observed for the bottom and top 100 artists. Since there are 144 $\\chi^2$ variables greater than our observed $\\chi^2$ variable for the bottom 100 artists, we can conclude that the differences between the distributions of clusters in the bottom 100 artists and the overall dataset is insignificant (we fail to reject the null hypothesis). On the other hand, not a single simulation in the 1000 simulations we ran produced results remotely close to the $\\chi^2$ statistic we observed for the top 100 artists. This means that it is extremely unlikely for our findings to be an artifact of randomness -- the differences between the distributions of clusters in the top 100 artists and the overall dataset is very significant."
   ]
  }
 ],
 "metadata": {
  "kernelspec": {
   "display_name": "Python 3.7.4 64-bit ('base': conda)",
   "language": "python",
   "name": "python37464bitbasecondade3031e102d342aa8a702b3f5f29a489"
  },
  "language_info": {
   "codemirror_mode": {
    "name": "ipython",
    "version": 3
   },
   "file_extension": ".py",
   "mimetype": "text/x-python",
   "name": "python",
   "nbconvert_exporter": "python",
   "pygments_lexer": "ipython3",
   "version": "3.7.6"
  }
 },
 "nbformat": 4,
 "nbformat_minor": 4
}
