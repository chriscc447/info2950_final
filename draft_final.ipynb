{
 "cells": [
  {
   "cell_type": "markdown",
   "metadata": {},
   "source": [
    "# INTRODUCTION"
   ]
  },
  {
   "cell_type": "markdown",
   "metadata": {},
   "source": [
    "# Final Project for INFO2950\n",
    "# Group members: Chris Chen, Michael Schwartz, Will Bekerman\n",
    "\n",
    "## Info about files:\n",
    "- **scraper_TopCharts.ipynb:** this is the scraper that was used to scrape data off of Spotify’s top charts webpages starting from 1/1/17 until 4/13/20 (ex: https://spotifycharts.com/regional/us/daily/2020-03-22). These pages only contain basic information about each song, such as the song’s rank on the given day, its number of streams, its title, and the artist. After running the scaper, the final dataset was stored in the **TopCharts_incomplete.csv** file.\n",
    "\n",
    "- **scraper_AudioFeatures.ipynb:** this is the scraper that was used to retrieve audio features (such as Tempo, Valence, Energy etc.) for each song in the **TopCharts_incomplete.csv** using Spotify’s API. After I ran this scraper, some queries returned nothing, resulting in the dataset containing NA values. This data was stored in the **TopCharts_missing.csv** file. I then fixed some of the errors, but others persisted (possibly because those songs no longer exist on Spotify).The resulting data is stored in the TopCharts_complete.csv file.\n",
    "  - Spotify's documentation on audio features: https://developer.spotify.com/documentation/web-api/reference/tracks/get-audio-features/\n",
    "\n",
    "- **TopCharts_incomplete.csv:** scraped directly from Spotify's Top Charts website; does not contain audio features\n",
    "- **TopCharts_missing.csv:** first round of retrieving audio features; some songs may be missing audio features\n",
    "- **TopCharts_complete.csv:** complete dataset with all audio features\n",
    "- **TopCharts.csv:** complete dataset with all audio features and streams converted to int datatype\n",
    "- **TopCharts_clustered_artists.csv:** dataset with all unique artists, their median audio feature values, and their cluster assignments\n",
    "- **TopCharts_clustered_songs.csv:** dataset with all unique songs and their cluster assignments\n",
    "\n",
    "## Some issues regarding the dataset:\n",
    "\n",
    "- Spotify doesn’t have Top Charts webpages for the following dates:\n",
    "  - 2017-05-30\n",
    "  - 2017-05-31\n",
    "  - 2017-06-02\n",
    "- Some Top Charts webpages have missing values for the artist and song name (ex: ranks 8, 16, 33, 63 on https://spotifycharts.com/regional/us/daily/2017-07-20). The rows with missing artist and songs names were ignored during scraping.\n",
    "Some songs on past Top Charts don’t show up when searched for using Spotify’s query feature. However, these songs comprise a very small portion of our entire dataset (<2%), so we decided to exclude them in our final dataset (these missing songs are listed at the bottom of the scraper_AudioFeatures.ipynb file)\n",
    "There are duplicates in the CSV files (one row for each day a song is on the top charts), which could make the dataset hard to work with\n",
    "For example, when we examine the top song for each week, if the same song is still at the top, this could potentially confound our model of the change over time of the top song"
   ]
  },
  {
   "cell_type": "markdown",
   "metadata": {},
   "source": [
    "## Writeup \n",
    "* __What is the context of the work? What research question are you trying to answer? What are your main findings?__ \n",
    "    * We are looking to answer a variety of research questions:\n",
    "        * One question we have relates to the popularity of songs over time. We plan to model and analyze the number of weekly streams for a given song based on its features\n",
    "        * Another question we have is how audio features for top songs have changed over time. We plan to use statistical methods to analyze how the musical attributes among top songs change over time.  \n",
    "        * Finally, we also plan to examine the relationship between audio features in popular songs. We plan to analyze the correlation between these features\n",
    "        * We also hope to visualize the songs and their attributes using clustering methods such as PCA and t-SNE.\n"
   ]
  },
  {
   "cell_type": "markdown",
   "metadata": {},
   "source": [
    "Data description. This should be inspired by the format presented in Gebru et al, 2018. Answer the following questions:\n",
    "\n",
    "* __What are the observations (rows) and the attributes (columns)?__\n",
    "    * Observations-- songs\n",
    "    * Features -- song attributes (e.g., artist, title, streams), audio features (e.g., key, loudness, tempo)\n",
    "* __Why was this dataset created?__\n",
    "    * The reason this dataset was created was for the Top Charts on Spotify -- Top 200 or playlist with the most listened to songs.\n",
    "* __Who funded the creation of the dataset?__\n",
    "    * Spotify AB -- operates as a music streaming service company and offers digital music on media outlets such as computers, phones, and tablets\n",
    "* __What processes might have influenced what data was observed and recorded and what was not?__\n",
    "    * Airplay - if a song is repeatedly played on the radio, most likely on the top charts. Tracked through Broadcast Data Systems (BDS) - to identify songs that are on radio and TV channels across the US\n",
    "    * Social Media/ Streaming - social interactions with Twitter, Facebook, Youtube, etc. \n",
    "    * Album Sales - Nielsen SoundScan, an information system that tracks sales of music by scanning barcodes for such sources as online stores to concert sales. \n",
    "* __What preprocessing was done, and how did the data come to be in the form that you are using?__\n",
    "    * First, we scraped directly from Spotify's Top Charts website and got the top 200 songs on Spotify for a given date\n",
    "    * Next, we retrieved audio features for each song using Spotify’s API and rendered a complete dataset of songs with stream measures and audio features\n",
    "    * For our final dataset, we also removed songs that cannot be currently found on Spotify\n",
    "* __If people are involved, were they aware of the data collection and if so, what purpose did they expect the data to be used for?__\n",
    "* Yes, people are aware of the data collection. The data was collected with Spotify, and they have a Terms and Conditions agreement which allows them to collect user data. The users expect the data to be used for personalized recommendations.\n",
    "\n",
    "* __Where can your raw source data be found, if applicable? Provide a link to the raw data (hosted in a Cornell Google Drive or Cornell Box).__\n",
    "    * The scraped dataset can be found here (https://github.com/chriscc447/info2950_final); it is titled TopCharts_complete.csv\n",
    "    * It is also available in our Google Drive folder.\n",
    "    * The raw data is split into two parts. The first part is basic data about each song, and can be found on Spotify's Top Charts webpages (ex: https://spotifycharts.com/regional/us/daily/2020-03-22). The second part is the audio features for each song, and can be found by using the query feature that is accessible via the Spotify API."
   ]
  },
  {
   "cell_type": "markdown",
   "metadata": {},
   "source": []
  },
  {
   "cell_type": "markdown",
   "metadata": {},
   "source": [
    "# ANALYSIS"
   ]
  },
  {
   "cell_type": "code",
   "execution_count": 1,
   "metadata": {},
   "outputs": [],
   "source": [
    "# Import all libraries\n",
    "import numpy as np\n",
    "import pandas as pd\n",
    "from matplotlib import pyplot as plt\n",
    "from sklearn.linear_model import LinearRegression\n",
    "from scipy.stats import ttest_ind\n",
    "import seaborn as sn\n",
    "from sklearn.preprocessing import RobustScaler\n",
    "from sklearn.decomposition import PCA\n",
    "from sklearn.cluster import KMeans\n",
    "from scipy.stats import chisquare\n",
    "from pprint import PrettyPrinter\n",
    "\n",
    "pp = PrettyPrinter(indent = 4)"
   ]
  },
  {
   "cell_type": "markdown",
   "metadata": {},
   "source": [
    "# Modeling Song Popularity: Linear Regression"
   ]
  },
  {
   "cell_type": "markdown",
   "metadata": {},
   "source": [
    "Let's see if we can use a __model a song's popularity using a linear regression model with the song's audio features as predictor variables__. Based on our intuition, we expect energy and danceability to be positively correlated with popularity, as songs with higher energy/danceability tend to be played more frequently on the radio and at parties/social gatherings.\n",
    "\n",
    "First, we reorganize our dataset so we only have one song per row, rather than one song per row per day. Since a song's audio features don't change from day to day, we don't need to worry about changing those variables in the new dataframe. However, there are some time-dependent variables that need to be summarized in the new dataframe. They are listed below:\n",
    "* __days__ = number of times the song shows up in the original dataframe\n",
    "* __peak_streams__ = maximum number of times the song was streamed\n",
    "* __median_streams__ = median [...]\n",
    "* __peak_rank__ = highest rank the song achieved while it was on the charts\n",
    "* __median_rank__ = median [...]\n",
    "\n",
    "*There are many other summary statistics I could have used to aggregate the data -- I chose to look at the __median__ for robustness against outliers and the maximums (peaks) to get a snapshot of the exactly how popular a song became in its time in the charts.*"
   ]
  },
  {
   "cell_type": "code",
   "execution_count": 5,
   "metadata": {
    "scrolled": true
   },
   "outputs": [],
   "source": [
    "all_df = pd.read_csv(\"data/TopCharts.csv\").dropna().reset_index(drop = True) # import data\n",
    "unique_songs_df = all_df.drop_duplicates(subset = ['uri']).copy() # each song only appears once\n",
    "for uri in unique_songs_df.uri:\n",
    "    song_subset = all_df.loc[all_df.uri == uri, :]\n",
    "    unique_songs_df.loc[unique_songs_df.uri == uri, 'days'] = len(song_subset)\n",
    "    unique_songs_df.loc[unique_songs_df.uri == uri, 'peak_streams'] = song_subset.streams.max()\n",
    "    unique_songs_df.loc[unique_songs_df.uri == uri, 'median_streams'] = song_subset.streams.median()\n",
    "    unique_songs_df.loc[unique_songs_df.uri == uri, 'peak_rank'] = song_subset['rank'].min()\n",
    "    unique_songs_df.loc[unique_songs_df.uri == uri, 'median_rank'] = song_subset['rank'].median()\n",
    "\n",
    "unique_songs_df.drop(columns = ['streams', 'rank', 'date'], inplace = True)"
   ]
  },
  {
   "cell_type": "code",
   "execution_count": 6,
   "metadata": {},
   "outputs": [],
   "source": [
    "# re-arrange order of columns\n",
    "unique_songs_df = unique_songs_df[['peak_rank', 'median_rank', 'days', 'peak_streams', 'median_streams'] + list(unique_songs_df.columns[:-5].values)]"
   ]
  },
  {
   "cell_type": "code",
   "execution_count": 4,
   "metadata": {
    "scrolled": false
   },
   "outputs": [
    {
     "data": {
      "text/html": [
       "<div>\n",
       "<style scoped>\n",
       "    .dataframe tbody tr th:only-of-type {\n",
       "        vertical-align: middle;\n",
       "    }\n",
       "\n",
       "    .dataframe tbody tr th {\n",
       "        vertical-align: top;\n",
       "    }\n",
       "\n",
       "    .dataframe thead th {\n",
       "        text-align: right;\n",
       "    }\n",
       "</style>\n",
       "<table border=\"1\" class=\"dataframe\">\n",
       "  <thead>\n",
       "    <tr style=\"text-align: right;\">\n",
       "      <th></th>\n",
       "      <th>peak_rank</th>\n",
       "      <th>median_rank</th>\n",
       "      <th>days</th>\n",
       "      <th>peak_streams</th>\n",
       "      <th>median_streams</th>\n",
       "      <th>artist</th>\n",
       "      <th>title</th>\n",
       "      <th>danceability</th>\n",
       "      <th>energy</th>\n",
       "      <th>key</th>\n",
       "      <th>...</th>\n",
       "      <th>mode</th>\n",
       "      <th>speechiness</th>\n",
       "      <th>acousticness</th>\n",
       "      <th>instrumentalness</th>\n",
       "      <th>liveness</th>\n",
       "      <th>valence</th>\n",
       "      <th>tempo</th>\n",
       "      <th>uri</th>\n",
       "      <th>duration_ms</th>\n",
       "      <th>time_signature</th>\n",
       "    </tr>\n",
       "  </thead>\n",
       "  <tbody>\n",
       "    <tr>\n",
       "      <th>0</th>\n",
       "      <td>1.0</td>\n",
       "      <td>71.0</td>\n",
       "      <td>429.0</td>\n",
       "      <td>1823391.0</td>\n",
       "      <td>309115.0</td>\n",
       "      <td>Migos</td>\n",
       "      <td>Bad and Boujee (feat. Lil Uzi Vert)</td>\n",
       "      <td>0.927</td>\n",
       "      <td>0.665</td>\n",
       "      <td>11.0</td>\n",
       "      <td>...</td>\n",
       "      <td>1.0</td>\n",
       "      <td>0.2440</td>\n",
       "      <td>0.061</td>\n",
       "      <td>0.000000</td>\n",
       "      <td>0.123</td>\n",
       "      <td>0.175</td>\n",
       "      <td>127.076</td>\n",
       "      <td>spotify:track:4Km5HrUvYTaSUfiSGPJeQR</td>\n",
       "      <td>343150.0</td>\n",
       "      <td>4.0</td>\n",
       "    </tr>\n",
       "    <tr>\n",
       "      <th>1</th>\n",
       "      <td>2.0</td>\n",
       "      <td>96.0</td>\n",
       "      <td>455.0</td>\n",
       "      <td>1428332.0</td>\n",
       "      <td>249886.0</td>\n",
       "      <td>Drake</td>\n",
       "      <td>Fake Love</td>\n",
       "      <td>0.928</td>\n",
       "      <td>0.481</td>\n",
       "      <td>9.0</td>\n",
       "      <td>...</td>\n",
       "      <td>0.0</td>\n",
       "      <td>0.2870</td>\n",
       "      <td>0.105</td>\n",
       "      <td>0.000000</td>\n",
       "      <td>0.176</td>\n",
       "      <td>0.613</td>\n",
       "      <td>134.007</td>\n",
       "      <td>spotify:track:343YBumqHu19cGoGARUTsd</td>\n",
       "      <td>210937.0</td>\n",
       "      <td>4.0</td>\n",
       "    </tr>\n",
       "    <tr>\n",
       "      <th>2</th>\n",
       "      <td>3.0</td>\n",
       "      <td>101.5</td>\n",
       "      <td>464.0</td>\n",
       "      <td>1134858.0</td>\n",
       "      <td>248945.0</td>\n",
       "      <td>The Weeknd</td>\n",
       "      <td>Starboy</td>\n",
       "      <td>0.679</td>\n",
       "      <td>0.587</td>\n",
       "      <td>7.0</td>\n",
       "      <td>...</td>\n",
       "      <td>1.0</td>\n",
       "      <td>0.2760</td>\n",
       "      <td>0.141</td>\n",
       "      <td>0.000006</td>\n",
       "      <td>0.137</td>\n",
       "      <td>0.486</td>\n",
       "      <td>186.003</td>\n",
       "      <td>spotify:track:7MXVkk9YMctZqd1Srtv4MB</td>\n",
       "      <td>230453.0</td>\n",
       "      <td>4.0</td>\n",
       "    </tr>\n",
       "    <tr>\n",
       "      <th>3</th>\n",
       "      <td>4.0</td>\n",
       "      <td>119.0</td>\n",
       "      <td>536.0</td>\n",
       "      <td>1010492.0</td>\n",
       "      <td>245003.0</td>\n",
       "      <td>The Chainsmokers</td>\n",
       "      <td>Closer</td>\n",
       "      <td>0.748</td>\n",
       "      <td>0.524</td>\n",
       "      <td>8.0</td>\n",
       "      <td>...</td>\n",
       "      <td>1.0</td>\n",
       "      <td>0.0338</td>\n",
       "      <td>0.414</td>\n",
       "      <td>0.000000</td>\n",
       "      <td>0.111</td>\n",
       "      <td>0.661</td>\n",
       "      <td>95.010</td>\n",
       "      <td>spotify:track:7BKLCZ1jbUBVqRi2FVlTVw</td>\n",
       "      <td>244960.0</td>\n",
       "      <td>4.0</td>\n",
       "    </tr>\n",
       "    <tr>\n",
       "      <th>4</th>\n",
       "      <td>5.0</td>\n",
       "      <td>101.0</td>\n",
       "      <td>240.0</td>\n",
       "      <td>874289.0</td>\n",
       "      <td>267720.0</td>\n",
       "      <td>Rae Sremmurd</td>\n",
       "      <td>Black Beatles</td>\n",
       "      <td>0.794</td>\n",
       "      <td>0.632</td>\n",
       "      <td>0.0</td>\n",
       "      <td>...</td>\n",
       "      <td>1.0</td>\n",
       "      <td>0.0649</td>\n",
       "      <td>0.142</td>\n",
       "      <td>0.000000</td>\n",
       "      <td>0.128</td>\n",
       "      <td>0.355</td>\n",
       "      <td>145.926</td>\n",
       "      <td>spotify:track:6fujklziTHa8uoM5OQSfIo</td>\n",
       "      <td>291893.0</td>\n",
       "      <td>4.0</td>\n",
       "    </tr>\n",
       "  </tbody>\n",
       "</table>\n",
       "<p>5 rows × 21 columns</p>\n",
       "</div>"
      ],
      "text/plain": [
       "   peak_rank  median_rank   days  peak_streams  median_streams  \\\n",
       "0        1.0         71.0  429.0     1823391.0        309115.0   \n",
       "1        2.0         96.0  455.0     1428332.0        249886.0   \n",
       "2        3.0        101.5  464.0     1134858.0        248945.0   \n",
       "3        4.0        119.0  536.0     1010492.0        245003.0   \n",
       "4        5.0        101.0  240.0      874289.0        267720.0   \n",
       "\n",
       "             artist                                title  danceability  \\\n",
       "0             Migos  Bad and Boujee (feat. Lil Uzi Vert)         0.927   \n",
       "1             Drake                            Fake Love         0.928   \n",
       "2        The Weeknd                              Starboy         0.679   \n",
       "3  The Chainsmokers                               Closer         0.748   \n",
       "4      Rae Sremmurd                        Black Beatles         0.794   \n",
       "\n",
       "   energy   key  ...  mode  speechiness  acousticness  instrumentalness  \\\n",
       "0   0.665  11.0  ...   1.0       0.2440         0.061          0.000000   \n",
       "1   0.481   9.0  ...   0.0       0.2870         0.105          0.000000   \n",
       "2   0.587   7.0  ...   1.0       0.2760         0.141          0.000006   \n",
       "3   0.524   8.0  ...   1.0       0.0338         0.414          0.000000   \n",
       "4   0.632   0.0  ...   1.0       0.0649         0.142          0.000000   \n",
       "\n",
       "   liveness  valence    tempo                                   uri  \\\n",
       "0     0.123    0.175  127.076  spotify:track:4Km5HrUvYTaSUfiSGPJeQR   \n",
       "1     0.176    0.613  134.007  spotify:track:343YBumqHu19cGoGARUTsd   \n",
       "2     0.137    0.486  186.003  spotify:track:7MXVkk9YMctZqd1Srtv4MB   \n",
       "3     0.111    0.661   95.010  spotify:track:7BKLCZ1jbUBVqRi2FVlTVw   \n",
       "4     0.128    0.355  145.926  spotify:track:6fujklziTHa8uoM5OQSfIo   \n",
       "\n",
       "  duration_ms  time_signature  \n",
       "0    343150.0             4.0  \n",
       "1    210937.0             4.0  \n",
       "2    230453.0             4.0  \n",
       "3    244960.0             4.0  \n",
       "4    291893.0             4.0  \n",
       "\n",
       "[5 rows x 21 columns]"
      ]
     },
     "execution_count": 4,
     "metadata": {},
     "output_type": "execute_result"
    }
   ],
   "source": [
    "unique_songs_df.head() # see first five rows of dataframe"
   ]
  },
  {
   "cell_type": "markdown",
   "metadata": {},
   "source": [
    "Let's save this processed dataframe as a CSV file so we don't need to go through the preprocessing steps again in the future. "
   ]
  },
  {
   "cell_type": "code",
   "execution_count": 5,
   "metadata": {},
   "outputs": [],
   "source": [
    "unique_songs_df.to_csv(\"data/TopCharts_unique_songs.csv\", index = False)  # write to CSV"
   ]
  },
  {
   "cell_type": "markdown",
   "metadata": {},
   "source": [
    "Let's try to __measure popularity using the number of days a song appeared on the charts__. Here's a look:"
   ]
  },
  {
   "cell_type": "code",
   "execution_count": 8,
   "metadata": {},
   "outputs": [
    {
     "data": {
      "image/png": "[encoded data removed]",
      "text/plain": [
       "<Figure size 1080x360 with 2 Axes>"
      ]
     },
     "metadata": {
      "needs_background": "light"
     },
     "output_type": "display_data"
    },
    {
     "data": {
      "text/plain": [
       "count    4899.000000\n",
       "mean       48.210655\n",
       "std       108.815695\n",
       "min         1.000000\n",
       "25%         2.000000\n",
       "50%         7.000000\n",
       "75%        39.000000\n",
       "max      1177.000000\n",
       "Name: days, dtype: float64"
      ]
     },
     "execution_count": 8,
     "metadata": {},
     "output_type": "execute_result"
    }
   ],
   "source": [
    "fig, (ax1, ax2) = plt.subplots(1, 2, figsize = (15,5)) # set up two separate figures and display side-by-side\n",
    "ax1.hist(unique_songs_df.days)\n",
    "ax1.set_xlabel(\"number of days\")\n",
    "ax1.set_ylabel(\"frequency of songs\")\n",
    "ax2.boxplot(unique_songs_df.days, vert = False)\n",
    "ax2.set_xlabel(\"number of days\")\n",
    "fig.suptitle(\"dist. of days on charts\")\n",
    "plt.show()\n",
    "\n",
    "unique_songs_df.days.describe() # summary statistics of 'days' feature"
   ]
  },
  {
   "cell_type": "markdown",
   "metadata": {},
   "source": [
    "We see that the distribution of the number of days that songs appear on the charts is __extremely right skewed__, with most songs staying on the charts for fewer than 40 days. Let's log-transform the number of days to try and lessen the skew:"
   ]
  },
  {
   "cell_type": "code",
   "execution_count": 9,
   "metadata": {},
   "outputs": [
    {
     "data": {
      "image/png": "[encoded data removed]",
      "text/plain": [
       "<Figure size 1080x360 with 2 Axes>"
      ]
     },
     "metadata": {
      "needs_background": "light"
     },
     "output_type": "display_data"
    },
    {
     "data": {
      "text/plain": [
       "count    4899.000000\n",
       "mean        2.221325\n",
       "std         1.830212\n",
       "min         0.000000\n",
       "25%         0.693147\n",
       "50%         1.945910\n",
       "75%         3.663562\n",
       "max         7.070724\n",
       "Name: days, dtype: float64"
      ]
     },
     "execution_count": 9,
     "metadata": {},
     "output_type": "execute_result"
    }
   ],
   "source": [
    "fig, (ax1, ax2) = plt.subplots(1, 2, figsize = (15,5)) # set up two separate figures and display side-by-side\n",
    "ax1.hist(np.log(unique_songs_df.days))\n",
    "ax1.set_xlabel(\"log number of days\")\n",
    "ax2.boxplot(np.log(unique_songs_df.days), vert = False)\n",
    "ax2.set_xlabel(\"log number of days\")\n",
    "fig.suptitle(\"dist. of log days on charts\")\n",
    "plt.show()\n",
    "\n",
    "np.log(unique_songs_df.days).describe() # summary statistics of log-transformed 'days' feature"
   ]
  },
  {
   "cell_type": "markdown",
   "metadata": {},
   "source": [
    "While the skew is still present, it is a lot better than before. Now, let's examine the distributions of audio features:"
   ]
  },
  {
   "cell_type": "code",
   "execution_count": 10,
   "metadata": {},
   "outputs": [],
   "source": [
    "# continuous audio features\n",
    "cont_cols = ['danceability', 'energy', 'loudness', 'speechiness', 'acousticness', 'instrumentalness', 'liveness','valence', 'tempo']"
   ]
  },
  {
   "cell_type": "code",
   "execution_count": 11,
   "metadata": {},
   "outputs": [
    {
     "data": {
      "image/png": "[encoded data removed]",
      "text/plain": [
       "<Figure size 1080x720 with 9 Axes>"
      ]
     },
     "metadata": {
      "needs_background": "light"
     },
     "output_type": "display_data"
    }
   ],
   "source": [
    "fig, axes = plt.subplots(nrows=3, ncols=3, figsize = (15,10)) # 3x3 grid of figures displaying distributions of audio features\n",
    "\n",
    "for i, ax in enumerate(axes.flat):\n",
    "    col = cont_cols[i]\n",
    "    ax.set_title(col)\n",
    "    ax.hist(unique_songs_df[col])\n",
    "    ax.set_xlabel('value')\n",
    "    ax.set_ylabel('counts')\n",
    "\n",
    "fig.tight_layout()\n",
    "\n",
    "plt.show()"
   ]
  },
  {
   "cell_type": "markdown",
   "metadata": {},
   "source": [
    "We make a few observations:\n",
    "\n",
    "* Speechiness, acousticness, and liveness are all skewed right. We can log-transform these variables to try and fix this.\n",
    "* Almost every song has an instrumentalness value of ~ 0. This feature is clearly not predictive of a song's popularity -- we can drop this from our model."
   ]
  },
  {
   "cell_type": "code",
   "execution_count": 12,
   "metadata": {},
   "outputs": [
    {
     "data": {
      "image/png": "[encoded data removed]",
      "text/plain": [
       "<Figure size 1080x360 with 3 Axes>"
      ]
     },
     "metadata": {
      "needs_background": "light"
     },
     "output_type": "display_data"
    }
   ],
   "source": [
    "fig, axes = plt.subplots(nrows=1, ncols=3, figsize = (15,5)) # display 3 figures\n",
    "skewed_cols = [\"speechiness\", \"acousticness\", \"liveness\"] # aforementioned skewed-right audio features\n",
    "for i, ax in enumerate(axes.flat):\n",
    "    col = skewed_cols[i]\n",
    "    ax.set_title(\"log \" + col)\n",
    "    ax.hist(np.log(unique_songs_df[col])) # log-transform these features\n",
    "    ax.set_xlabel('value')\n",
    "    ax.set_ylabel('counts')\n",
    "\n",
    "fig.tight_layout()\n",
    "\n",
    "plt.show()"
   ]
  },
  {
   "cell_type": "markdown",
   "metadata": {},
   "source": [
    "Speechiness and liveness look a lot better than before, but even after the log transformation, acousticness is still skewed. __Let's only transform speechiness and liveness for our model__."
   ]
  },
  {
   "cell_type": "code",
   "execution_count": 13,
   "metadata": {},
   "outputs": [],
   "source": [
    "# drop 'instrumentalness' feature\n",
    "cont_cols = ['danceability', 'energy', 'loudness', 'speechiness', 'acousticness', 'liveness','valence', 'tempo']"
   ]
  },
  {
   "cell_type": "code",
   "execution_count": 17,
   "metadata": {},
   "outputs": [],
   "source": [
    "song_lr_X = unique_songs_df[cont_cols]\n",
    "song_lr_X.speechiness = unique_songs_df['speechiness'].map(lambda x: np.log(x)) # log-transform 'speechiness'\n",
    "song_lr_X.liveness = unique_songs_df['liveness'].map(lambda x: np.log(x)) # log-transform 'liveness'\n",
    "song_lr_X = song_lr_X.rename(columns = {'speechiness':'log_speechiness', 'liveness':'log_liveness'})\n",
    "song_lr_days = np.log(unique_songs_df.days) # log-transform 'days'"
   ]
  },
  {
   "cell_type": "code",
   "execution_count": 15,
   "metadata": {},
   "outputs": [
    {
     "name": "stdout",
     "output_type": "stream",
     "text": [
      "r2: 0.028969356152799164\n",
      "coefficients:\n",
      "{   'acousticness': 0.043499833923084555,\n",
      "    'danceability': 1.6197668897177038,\n",
      "    'energy': -1.1982944142661416,\n",
      "    'log_liveness': -0.0346513106691415,\n",
      "    'log_speechiness': -0.06384984308492044,\n",
      "    'loudness': 0.082215678864477,\n",
      "    'tempo': 0.0009576428649178721,\n",
      "    'valence': -0.14612734660233936}\n"
     ]
    }
   ],
   "source": [
    "song_days_model = LinearRegression().fit(song_lr_X, song_lr_days) # fit linear regression between our features and popularity measure\n",
    "print(f\"r2: {song_days_model.score(song_lr_X, song_lr_days)}\")\n",
    "print(\"coefficients:\")\n",
    "pp.pprint(dict(zip(song_lr_X.columns, song_days_model.coef_)))"
   ]
  },
  {
   "cell_type": "markdown",
   "metadata": {},
   "source": [
    "Clearly, with an $r^2$ of ~3%, it's clear to see that __this model isn't great__; these audio features are extremely weak predictors for how many days a song stays on the charts. Let's try other measures of popularity and see how the regression models do:"
   ]
  },
  {
   "cell_type": "markdown",
   "metadata": {},
   "source": [
    "Let's try __measuring popularity using peak streams__ -- peak streams represent the maximum number of streams a song was streamed in a day while it was on the charts. It follows logically that if a song is more popular, then it would be streamed more frequently."
   ]
  },
  {
   "cell_type": "code",
   "execution_count": 18,
   "metadata": {},
   "outputs": [
    {
     "data": {
      "image/png": "[encoded data removed]",
      "text/plain": [
       "<Figure size 1080x360 with 2 Axes>"
      ]
     },
     "metadata": {
      "needs_background": "light"
     },
     "output_type": "display_data"
    }
   ],
   "source": [
    "fig, (ax1, ax2) = plt.subplots(1, 2, figsize = (15,5)) # display side-by-side distributions of peak_streams and log(peak_streams)\n",
    "ax1.hist(unique_songs_df.peak_streams)\n",
    "ax1.set_xlabel(\"peak streams\")\n",
    "ax1.set_ylabel(\"frequency of songs\")\n",
    "ax2.hist(np.log(unique_songs_df.peak_streams))\n",
    "ax2.set_xlabel(\"log peak streams\")\n",
    "ax2.set_ylabel(\"frequency of songs\")\n",
    "fig.suptitle(\"dist. of peak streams\")\n",
    "plt.show()"
   ]
  },
  {
   "cell_type": "markdown",
   "metadata": {},
   "source": [
    "Again, the raw distribution is quite skewed, so we go with the log-transformed 'peak_streams' as our response variable."
   ]
  },
  {
   "cell_type": "code",
   "execution_count": 19,
   "metadata": {},
   "outputs": [
    {
     "name": "stdout",
     "output_type": "stream",
     "text": [
      "r2: 0.023307864588005267\n",
      "coefficients:\n",
      "{   'acousticness': 0.06001225299927233,\n",
      "    'danceability': 0.37410082411082995,\n",
      "    'energy': -0.435216402301711,\n",
      "    'log_liveness': 0.061533593914702915,\n",
      "    'log_speechiness': 0.04191173067818476,\n",
      "    'loudness': 0.010884453868463982,\n",
      "    'tempo': 0.00041441322977403143,\n",
      "    'valence': -0.04838235402324873}\n"
     ]
    }
   ],
   "source": [
    "song_lr_pstreams = np.log(unique_songs_df.peak_streams) # log-transformed 'peak_streams'\n",
    "song_pstreams_model = LinearRegression().fit(song_lr_X, song_lr_pstreams) # fit lin. regression model\n",
    "print(f\"r2: {song_pstreams_model.score(song_lr_X, song_lr_pstreams)}\")\n",
    "print(\"coefficients:\")\n",
    "pp.pprint(dict(zip(song_lr_X.columns, song_pstreams_model.coef_)))"
   ]
  },
  {
   "cell_type": "markdown",
   "metadata": {},
   "source": [
    "__Again, our results are not great__ -- the $r^2$ in this model is actually lower than the $r^2$ in the previous model that predicted the number of days a song would stay on the charts."
   ]
  },
  {
   "cell_type": "markdown",
   "metadata": {},
   "source": [
    "So, let's again __adjust our popularity metric to median streams__ -- this is the median number of times a song was streamed while it was on the charts. Again, this metric should be a more robust and comprehensive measure of relative popularity: if a song is extremely popular one day but then fades away, that song would generally be considered to be less popular than a song that is consistently streamed a lot. "
   ]
  },
  {
   "cell_type": "code",
   "execution_count": 20,
   "metadata": {},
   "outputs": [
    {
     "data": {
      "image/png": "[encoded data removed]",
      "text/plain": [
       "<Figure size 1080x360 with 2 Axes>"
      ]
     },
     "metadata": {
      "needs_background": "light"
     },
     "output_type": "display_data"
    }
   ],
   "source": [
    "fig, (ax1, ax2) = plt.subplots(1, 2, figsize = (15,5)) # display side-by-side distributions of median_streams and log(median_streams)\n",
    "ax1.hist(unique_songs_df.median_streams)\n",
    "ax1.set_xlabel(\"median streams\")\n",
    "ax1.set_ylabel(\"frequency of songs\")\n",
    "ax2.hist(np.log(unique_songs_df.median_streams))\n",
    "ax2.set_xlabel(\"log median streams\")\n",
    "ax2.set_ylabel(\"frequency of songs\")\n",
    "fig.suptitle(\"dist. of median streams\")\n",
    "plt.show()"
   ]
  },
  {
   "cell_type": "code",
   "execution_count": 21,
   "metadata": {},
   "outputs": [
    {
     "name": "stdout",
     "output_type": "stream",
     "text": [
      "r2: 0.01311352500392726\n",
      "coefficients:\n",
      "{   'acousticness': 0.0340905543467335,\n",
      "    'danceability': 0.06746729869313116,\n",
      "    'energy': -0.15607019629867178,\n",
      "    'log_liveness': 0.020844185469213676,\n",
      "    'log_speechiness': 0.012370290057327827,\n",
      "    'loudness': 0.0025801683187485366,\n",
      "    'tempo': -3.4665625547523036e-05,\n",
      "    'valence': 0.04501279860025008}\n"
     ]
    }
   ],
   "source": [
    "song_lr_mstreams = np.log(unique_songs_df.median_streams) # log-transformed 'median_streams'\n",
    "song_mstreams_model = LinearRegression().fit(song_lr_X, song_lr_mstreams) # fit lin. regression model\n",
    "print(f\"r2: {song_mstreams_model.score(song_lr_X, song_lr_mstreams)}\")\n",
    "print(\"coefficients:\")\n",
    "pp.pprint(dict(zip(song_lr_X.columns, song_mstreams_model.coef_)))"
   ]
  },
  {
   "cell_type": "markdown",
   "metadata": {},
   "source": [
    "Interestingly, this is the model with the __worst performance__. We note that our initial intuition was incorrect: 'energy' and 'danceability' are not strong predictors of popularity; in fact, none of the audio features are.\n",
    "\n",
    "\n",
    "Unsurprisingly, this makes sense when we examine a correlation matrix between the audio features and the number of streams:"
   ]
  },
  {
   "cell_type": "code",
   "execution_count": 22,
   "metadata": {},
   "outputs": [
    {
     "data": {
      "text/html": [
       "<div>\n",
       "<style scoped>\n",
       "    .dataframe tbody tr th:only-of-type {\n",
       "        vertical-align: middle;\n",
       "    }\n",
       "\n",
       "    .dataframe tbody tr th {\n",
       "        vertical-align: top;\n",
       "    }\n",
       "\n",
       "    .dataframe thead th {\n",
       "        text-align: right;\n",
       "    }\n",
       "</style>\n",
       "<table border=\"1\" class=\"dataframe\">\n",
       "  <thead>\n",
       "    <tr style=\"text-align: right;\">\n",
       "      <th></th>\n",
       "      <th>rank</th>\n",
       "      <th>streams</th>\n",
       "      <th>danceability</th>\n",
       "      <th>energy</th>\n",
       "      <th>key</th>\n",
       "      <th>loudness</th>\n",
       "      <th>mode</th>\n",
       "      <th>speechiness</th>\n",
       "      <th>acousticness</th>\n",
       "      <th>instrumentalness</th>\n",
       "      <th>liveness</th>\n",
       "      <th>valence</th>\n",
       "      <th>tempo</th>\n",
       "      <th>duration_ms</th>\n",
       "      <th>time_signature</th>\n",
       "    </tr>\n",
       "  </thead>\n",
       "  <tbody>\n",
       "    <tr>\n",
       "      <th>rank</th>\n",
       "      <td>1.000000</td>\n",
       "      <td>-0.725606</td>\n",
       "      <td>-0.083407</td>\n",
       "      <td>0.025537</td>\n",
       "      <td>0.018969</td>\n",
       "      <td>-0.015841</td>\n",
       "      <td>0.035518</td>\n",
       "      <td>-0.021400</td>\n",
       "      <td>0.020887</td>\n",
       "      <td>-0.012169</td>\n",
       "      <td>-0.007103</td>\n",
       "      <td>-0.002531</td>\n",
       "      <td>-0.006837</td>\n",
       "      <td>0.019675</td>\n",
       "      <td>-0.008730</td>\n",
       "    </tr>\n",
       "    <tr>\n",
       "      <th>streams</th>\n",
       "      <td>-0.725606</td>\n",
       "      <td>1.000000</td>\n",
       "      <td>0.075135</td>\n",
       "      <td>-0.028150</td>\n",
       "      <td>-0.009408</td>\n",
       "      <td>0.009745</td>\n",
       "      <td>-0.025449</td>\n",
       "      <td>0.019268</td>\n",
       "      <td>-0.017938</td>\n",
       "      <td>0.009392</td>\n",
       "      <td>0.039713</td>\n",
       "      <td>0.013407</td>\n",
       "      <td>0.006813</td>\n",
       "      <td>-0.026280</td>\n",
       "      <td>0.012693</td>\n",
       "    </tr>\n",
       "    <tr>\n",
       "      <th>danceability</th>\n",
       "      <td>-0.083407</td>\n",
       "      <td>0.075135</td>\n",
       "      <td>1.000000</td>\n",
       "      <td>-0.009159</td>\n",
       "      <td>-0.023191</td>\n",
       "      <td>0.073905</td>\n",
       "      <td>-0.083410</td>\n",
       "      <td>0.280305</td>\n",
       "      <td>-0.280773</td>\n",
       "      <td>-0.044703</td>\n",
       "      <td>-0.050056</td>\n",
       "      <td>0.228950</td>\n",
       "      <td>0.015487</td>\n",
       "      <td>-0.123850</td>\n",
       "      <td>0.100677</td>\n",
       "    </tr>\n",
       "    <tr>\n",
       "      <th>energy</th>\n",
       "      <td>0.025537</td>\n",
       "      <td>-0.028150</td>\n",
       "      <td>-0.009159</td>\n",
       "      <td>1.000000</td>\n",
       "      <td>0.015939</td>\n",
       "      <td>0.728078</td>\n",
       "      <td>0.007087</td>\n",
       "      <td>-0.061341</td>\n",
       "      <td>-0.455068</td>\n",
       "      <td>-0.091591</td>\n",
       "      <td>0.075383</td>\n",
       "      <td>0.359844</td>\n",
       "      <td>0.143536</td>\n",
       "      <td>0.036688</td>\n",
       "      <td>0.092241</td>\n",
       "    </tr>\n",
       "    <tr>\n",
       "      <th>key</th>\n",
       "      <td>0.018969</td>\n",
       "      <td>-0.009408</td>\n",
       "      <td>-0.023191</td>\n",
       "      <td>0.015939</td>\n",
       "      <td>1.000000</td>\n",
       "      <td>0.029376</td>\n",
       "      <td>-0.144063</td>\n",
       "      <td>-0.005674</td>\n",
       "      <td>0.015732</td>\n",
       "      <td>-0.019991</td>\n",
       "      <td>-0.034291</td>\n",
       "      <td>0.069289</td>\n",
       "      <td>-0.072700</td>\n",
       "      <td>-0.030794</td>\n",
       "      <td>-0.002441</td>\n",
       "    </tr>\n",
       "    <tr>\n",
       "      <th>loudness</th>\n",
       "      <td>-0.015841</td>\n",
       "      <td>0.009745</td>\n",
       "      <td>0.073905</td>\n",
       "      <td>0.728078</td>\n",
       "      <td>0.029376</td>\n",
       "      <td>1.000000</td>\n",
       "      <td>0.027741</td>\n",
       "      <td>-0.154172</td>\n",
       "      <td>-0.388458</td>\n",
       "      <td>-0.156116</td>\n",
       "      <td>0.013196</td>\n",
       "      <td>0.257109</td>\n",
       "      <td>0.094299</td>\n",
       "      <td>0.008850</td>\n",
       "      <td>0.091820</td>\n",
       "    </tr>\n",
       "    <tr>\n",
       "      <th>mode</th>\n",
       "      <td>0.035518</td>\n",
       "      <td>-0.025449</td>\n",
       "      <td>-0.083410</td>\n",
       "      <td>0.007087</td>\n",
       "      <td>-0.144063</td>\n",
       "      <td>0.027741</td>\n",
       "      <td>1.000000</td>\n",
       "      <td>-0.126489</td>\n",
       "      <td>0.007109</td>\n",
       "      <td>-0.025402</td>\n",
       "      <td>-0.003444</td>\n",
       "      <td>-0.010918</td>\n",
       "      <td>0.006295</td>\n",
       "      <td>0.038710</td>\n",
       "      <td>-0.015234</td>\n",
       "    </tr>\n",
       "    <tr>\n",
       "      <th>speechiness</th>\n",
       "      <td>-0.021400</td>\n",
       "      <td>0.019268</td>\n",
       "      <td>0.280305</td>\n",
       "      <td>-0.061341</td>\n",
       "      <td>-0.005674</td>\n",
       "      <td>-0.154172</td>\n",
       "      <td>-0.126489</td>\n",
       "      <td>1.000000</td>\n",
       "      <td>-0.133823</td>\n",
       "      <td>-0.035806</td>\n",
       "      <td>0.030043</td>\n",
       "      <td>0.015740</td>\n",
       "      <td>0.169778</td>\n",
       "      <td>-0.042255</td>\n",
       "      <td>0.066087</td>\n",
       "    </tr>\n",
       "    <tr>\n",
       "      <th>acousticness</th>\n",
       "      <td>0.020887</td>\n",
       "      <td>-0.017938</td>\n",
       "      <td>-0.280773</td>\n",
       "      <td>-0.455068</td>\n",
       "      <td>0.015732</td>\n",
       "      <td>-0.388458</td>\n",
       "      <td>0.007109</td>\n",
       "      <td>-0.133823</td>\n",
       "      <td>1.000000</td>\n",
       "      <td>0.106222</td>\n",
       "      <td>-0.072689</td>\n",
       "      <td>-0.062124</td>\n",
       "      <td>-0.159566</td>\n",
       "      <td>-0.038253</td>\n",
       "      <td>-0.076771</td>\n",
       "    </tr>\n",
       "    <tr>\n",
       "      <th>instrumentalness</th>\n",
       "      <td>-0.012169</td>\n",
       "      <td>0.009392</td>\n",
       "      <td>-0.044703</td>\n",
       "      <td>-0.091591</td>\n",
       "      <td>-0.019991</td>\n",
       "      <td>-0.156116</td>\n",
       "      <td>-0.025402</td>\n",
       "      <td>-0.035806</td>\n",
       "      <td>0.106222</td>\n",
       "      <td>1.000000</td>\n",
       "      <td>-0.009295</td>\n",
       "      <td>-0.101930</td>\n",
       "      <td>0.016459</td>\n",
       "      <td>0.038858</td>\n",
       "      <td>-0.040044</td>\n",
       "    </tr>\n",
       "    <tr>\n",
       "      <th>liveness</th>\n",
       "      <td>-0.007103</td>\n",
       "      <td>0.039713</td>\n",
       "      <td>-0.050056</td>\n",
       "      <td>0.075383</td>\n",
       "      <td>-0.034291</td>\n",
       "      <td>0.013196</td>\n",
       "      <td>-0.003444</td>\n",
       "      <td>0.030043</td>\n",
       "      <td>-0.072689</td>\n",
       "      <td>-0.009295</td>\n",
       "      <td>1.000000</td>\n",
       "      <td>0.024423</td>\n",
       "      <td>0.001136</td>\n",
       "      <td>-0.003847</td>\n",
       "      <td>-0.026420</td>\n",
       "    </tr>\n",
       "    <tr>\n",
       "      <th>valence</th>\n",
       "      <td>-0.002531</td>\n",
       "      <td>0.013407</td>\n",
       "      <td>0.228950</td>\n",
       "      <td>0.359844</td>\n",
       "      <td>0.069289</td>\n",
       "      <td>0.257109</td>\n",
       "      <td>-0.010918</td>\n",
       "      <td>0.015740</td>\n",
       "      <td>-0.062124</td>\n",
       "      <td>-0.101930</td>\n",
       "      <td>0.024423</td>\n",
       "      <td>1.000000</td>\n",
       "      <td>-0.017424</td>\n",
       "      <td>-0.137749</td>\n",
       "      <td>0.053008</td>\n",
       "    </tr>\n",
       "    <tr>\n",
       "      <th>tempo</th>\n",
       "      <td>-0.006837</td>\n",
       "      <td>0.006813</td>\n",
       "      <td>0.015487</td>\n",
       "      <td>0.143536</td>\n",
       "      <td>-0.072700</td>\n",
       "      <td>0.094299</td>\n",
       "      <td>0.006295</td>\n",
       "      <td>0.169778</td>\n",
       "      <td>-0.159566</td>\n",
       "      <td>0.016459</td>\n",
       "      <td>0.001136</td>\n",
       "      <td>-0.017424</td>\n",
       "      <td>1.000000</td>\n",
       "      <td>0.009937</td>\n",
       "      <td>-0.021284</td>\n",
       "    </tr>\n",
       "    <tr>\n",
       "      <th>duration_ms</th>\n",
       "      <td>0.019675</td>\n",
       "      <td>-0.026280</td>\n",
       "      <td>-0.123850</td>\n",
       "      <td>0.036688</td>\n",
       "      <td>-0.030794</td>\n",
       "      <td>0.008850</td>\n",
       "      <td>0.038710</td>\n",
       "      <td>-0.042255</td>\n",
       "      <td>-0.038253</td>\n",
       "      <td>0.038858</td>\n",
       "      <td>-0.003847</td>\n",
       "      <td>-0.137749</td>\n",
       "      <td>0.009937</td>\n",
       "      <td>1.000000</td>\n",
       "      <td>0.005755</td>\n",
       "    </tr>\n",
       "    <tr>\n",
       "      <th>time_signature</th>\n",
       "      <td>-0.008730</td>\n",
       "      <td>0.012693</td>\n",
       "      <td>0.100677</td>\n",
       "      <td>0.092241</td>\n",
       "      <td>-0.002441</td>\n",
       "      <td>0.091820</td>\n",
       "      <td>-0.015234</td>\n",
       "      <td>0.066087</td>\n",
       "      <td>-0.076771</td>\n",
       "      <td>-0.040044</td>\n",
       "      <td>-0.026420</td>\n",
       "      <td>0.053008</td>\n",
       "      <td>-0.021284</td>\n",
       "      <td>0.005755</td>\n",
       "      <td>1.000000</td>\n",
       "    </tr>\n",
       "  </tbody>\n",
       "</table>\n",
       "</div>"
      ],
      "text/plain": [
       "                      rank   streams  danceability    energy       key  \\\n",
       "rank              1.000000 -0.725606     -0.083407  0.025537  0.018969   \n",
       "streams          -0.725606  1.000000      0.075135 -0.028150 -0.009408   \n",
       "danceability     -0.083407  0.075135      1.000000 -0.009159 -0.023191   \n",
       "energy            0.025537 -0.028150     -0.009159  1.000000  0.015939   \n",
       "key               0.018969 -0.009408     -0.023191  0.015939  1.000000   \n",
       "loudness         -0.015841  0.009745      0.073905  0.728078  0.029376   \n",
       "mode              0.035518 -0.025449     -0.083410  0.007087 -0.144063   \n",
       "speechiness      -0.021400  0.019268      0.280305 -0.061341 -0.005674   \n",
       "acousticness      0.020887 -0.017938     -0.280773 -0.455068  0.015732   \n",
       "instrumentalness -0.012169  0.009392     -0.044703 -0.091591 -0.019991   \n",
       "liveness         -0.007103  0.039713     -0.050056  0.075383 -0.034291   \n",
       "valence          -0.002531  0.013407      0.228950  0.359844  0.069289   \n",
       "tempo            -0.006837  0.006813      0.015487  0.143536 -0.072700   \n",
       "duration_ms       0.019675 -0.026280     -0.123850  0.036688 -0.030794   \n",
       "time_signature   -0.008730  0.012693      0.100677  0.092241 -0.002441   \n",
       "\n",
       "                  loudness      mode  speechiness  acousticness  \\\n",
       "rank             -0.015841  0.035518    -0.021400      0.020887   \n",
       "streams           0.009745 -0.025449     0.019268     -0.017938   \n",
       "danceability      0.073905 -0.083410     0.280305     -0.280773   \n",
       "energy            0.728078  0.007087    -0.061341     -0.455068   \n",
       "key               0.029376 -0.144063    -0.005674      0.015732   \n",
       "loudness          1.000000  0.027741    -0.154172     -0.388458   \n",
       "mode              0.027741  1.000000    -0.126489      0.007109   \n",
       "speechiness      -0.154172 -0.126489     1.000000     -0.133823   \n",
       "acousticness     -0.388458  0.007109    -0.133823      1.000000   \n",
       "instrumentalness -0.156116 -0.025402    -0.035806      0.106222   \n",
       "liveness          0.013196 -0.003444     0.030043     -0.072689   \n",
       "valence           0.257109 -0.010918     0.015740     -0.062124   \n",
       "tempo             0.094299  0.006295     0.169778     -0.159566   \n",
       "duration_ms       0.008850  0.038710    -0.042255     -0.038253   \n",
       "time_signature    0.091820 -0.015234     0.066087     -0.076771   \n",
       "\n",
       "                  instrumentalness  liveness   valence     tempo  duration_ms  \\\n",
       "rank                     -0.012169 -0.007103 -0.002531 -0.006837     0.019675   \n",
       "streams                   0.009392  0.039713  0.013407  0.006813    -0.026280   \n",
       "danceability             -0.044703 -0.050056  0.228950  0.015487    -0.123850   \n",
       "energy                   -0.091591  0.075383  0.359844  0.143536     0.036688   \n",
       "key                      -0.019991 -0.034291  0.069289 -0.072700    -0.030794   \n",
       "loudness                 -0.156116  0.013196  0.257109  0.094299     0.008850   \n",
       "mode                     -0.025402 -0.003444 -0.010918  0.006295     0.038710   \n",
       "speechiness              -0.035806  0.030043  0.015740  0.169778    -0.042255   \n",
       "acousticness              0.106222 -0.072689 -0.062124 -0.159566    -0.038253   \n",
       "instrumentalness          1.000000 -0.009295 -0.101930  0.016459     0.038858   \n",
       "liveness                 -0.009295  1.000000  0.024423  0.001136    -0.003847   \n",
       "valence                  -0.101930  0.024423  1.000000 -0.017424    -0.137749   \n",
       "tempo                     0.016459  0.001136 -0.017424  1.000000     0.009937   \n",
       "duration_ms               0.038858 -0.003847 -0.137749  0.009937     1.000000   \n",
       "time_signature           -0.040044 -0.026420  0.053008 -0.021284     0.005755   \n",
       "\n",
       "                  time_signature  \n",
       "rank                   -0.008730  \n",
       "streams                 0.012693  \n",
       "danceability            0.100677  \n",
       "energy                  0.092241  \n",
       "key                    -0.002441  \n",
       "loudness                0.091820  \n",
       "mode                   -0.015234  \n",
       "speechiness             0.066087  \n",
       "acousticness           -0.076771  \n",
       "instrumentalness       -0.040044  \n",
       "liveness               -0.026420  \n",
       "valence                 0.053008  \n",
       "tempo                  -0.021284  \n",
       "duration_ms             0.005755  \n",
       "time_signature          1.000000  "
      ]
     },
     "execution_count": 22,
     "metadata": {},
     "output_type": "execute_result"
    }
   ],
   "source": [
    "# examine correlation between numeric features\n",
    "all_df.select_dtypes(exclude=['object']).corr()"
   ]
  },
  {
   "cell_type": "code",
   "execution_count": 23,
   "metadata": {},
   "outputs": [
    {
     "data": {
      "image/png": "[encoded data removed]",
      "text/plain": [
       "<Figure size 432x288 with 2 Axes>"
      ]
     },
     "metadata": {
      "needs_background": "light"
     },
     "output_type": "display_data"
    }
   ],
   "source": [
    "# let's see which numeric features are strongly correlated\n",
    "sn.heatmap(all_df.select_dtypes(exclude=['object']).corr()[abs(all_df.select_dtypes(exclude=['object']).corr()) > 0.5], annot=True)\n",
    "plt.show()"
   ]
  },
  {
   "cell_type": "markdown",
   "metadata": {},
   "source": [
    "We see that the only feature in our dataset that correlates strongly with number of streams (measure of popularity) is 'rank' of the song (which is a sensible finding)."
   ]
  },
  {
   "cell_type": "markdown",
   "metadata": {},
   "source": [
    "Clearly, none of the song's audio features are strong predictors of the song's success on the top charts. How about the artists themselves? __Does the success of an artist's past songs indicate anything about the success of their future songs?__"
   ]
  },
  {
   "cell_type": "markdown",
   "metadata": {},
   "source": [
    "## Comparing the probabilities of having a rank 1 song"
   ]
  },
  {
   "cell_type": "markdown",
   "metadata": {},
   "source": [
    "Let's compare the probability of an artist having another number one song given that they already have at least one to the probability of an artist having a number one song\n",
    "\n",
    "In other words, we want to compare the conditional probability $Pr(\\text{rank 1 song} | \\text{has at least 1 rank 1 song})$ against the unconditional probability $Pr(\\text{rank 1 song})$"
   ]
  },
  {
   "cell_type": "code",
   "execution_count": 151,
   "metadata": {},
   "outputs": [
    {
     "name": "stdout",
     "output_type": "stream",
     "text": [
      "Number of different artists with a #1 song: 40\n",
      "Total number of artists included in dataset: 789\n",
      "\n",
      "Proportion of artists in dataset with a #1 song: 0.050697084917617236\n"
     ]
    }
   ],
   "source": [
    "print('Number of different artists with a #1 song:', len(unique_songs_df.loc[unique_songs_df.peak_rank == 1].artist.unique()))\n",
    "print('Total number of artists included in dataset:', len(df_artist))\n",
    "print('\\nProportion of artists in dataset with a #1 song:', len(unique_songs_df.loc[unique_songs_df.peak_rank == 1].artist.unique())/len(df_artist))"
   ]
  },
  {
   "cell_type": "markdown",
   "metadata": {},
   "source": [
    "Wow, very few artists -- only around five percent -- have a number one song! This is not too surprising, however, since it feels like the same artists seem to appear over and over in the number one song position (e.g., Drake, Post Malone, etc.). Keep in mind that this dataset only includes songs and artists that reach the top 200 -- I can only imagine how small the proportion of __ALL__ artists that reach the number one song position must be.\n",
    "\n",
    "Since we don't have data on the future popularity of artists' songs, __we will use the proportion of artists in the dataset with at least one #1 song (0.050697084917617236) as an estimate of the overall probability of having an artist having a #1 song, given that the artist has been featured on the top 200 charts.__\n",
    "\n",
    "Now, let's examine the breakdown of number one songs by artist:"
   ]
  },
  {
   "cell_type": "code",
   "execution_count": 56,
   "metadata": {
    "scrolled": false
   },
   "outputs": [
    {
     "name": "stdout",
     "output_type": "stream",
     "text": [
      "artist:\t\tnumber of rank 1 songs\n",
      "\n",
      "artist\n",
      "21 Savage             1\n",
      "Ariana Grande         4\n",
      "Arizona Zervas        1\n",
      "Billie Eilish         2\n",
      "Childish Gambino      1\n",
      "DJ Khaled             1\n",
      "DaBaby                1\n",
      "Drake                 7\n",
      "Ed Sheeran            2\n",
      "Eminem                1\n",
      "French Montana        1\n",
      "Harry Styles          1\n",
      "J. Cole               2\n",
      "Jonas Brothers        1\n",
      "Juice WRLD            1\n",
      "Kanye West            3\n",
      "Kendrick Lamar        1\n",
      "Kodak Black           1\n",
      "Lil Baby              2\n",
      "Lil Nas X             3\n",
      "Lil Peep              1\n",
      "Lil Tecca             1\n",
      "Lil Uzi Vert          5\n",
      "Lil Wayne             1\n",
      "Logic                 2\n",
      "Luis Fonsi            1\n",
      "Mariah Carey          1\n",
      "Migos                 1\n",
      "NAV                   1\n",
      "Post Malone           8\n",
      "Roddy Ricch           1\n",
      "Selena Gomez          1\n",
      "Shawn Mendes          1\n",
      "Sheck Wes             1\n",
      "Taylor Swift          5\n",
      "The Weeknd            3\n",
      "Travis Scott          3\n",
      "Tyler, The Creator    1\n",
      "XXXTENTACION          2\n",
      "Young Thug            1\n",
      "dtype: int64\n"
     ]
    }
   ],
   "source": [
    "num_one_df = unique_songs_df.loc[unique_songs_df.peak_rank == 1, :]\n",
    "num_one_pt = num_one_df.pivot_table(columns = 'artist', aggfunc = 'size')\n",
    "print(\"artist:\\t\\tnumber of rank 1 songs\\n\")\n",
    "print(num_one_pt)"
   ]
  },
  {
   "cell_type": "markdown",
   "metadata": {},
   "source": [
    "We observe that only some of the biggest names in music have a number one song. It appears that artists with more than one number one song are in an even more exclusive group, as we can see that very few artists have more than one number one hit.\n",
    "\n",
    "__So, given that the artist has a number one song, just how many do they have in total?__"
   ]
  },
  {
   "cell_type": "code",
   "execution_count": 57,
   "metadata": {},
   "outputs": [
    {
     "data": {
      "image/png": "[encoded data removed]",
      "text/plain": [
       "<Figure size 432x288 with 1 Axes>"
      ]
     },
     "metadata": {
      "needs_background": "light"
     },
     "output_type": "display_data"
    }
   ],
   "source": [
    "plt.hist(num_one_pt.values, bins = np.arange(0.5,9,1))\n",
    "plt.title('#1 songs by artist')\n",
    "plt.xlabel('Count of #1 songs')\n",
    "plt.ylabel('Frequency of artists')\n",
    "plt.show()"
   ]
  },
  {
   "cell_type": "markdown",
   "metadata": {},
   "source": [
    "We confirm that the number of artists with a particular count of number one songs decreases significantly for each additional number one song.\n",
    "\n",
    "So, we now model the probability of an artist having a number one song after having one already -- let's try using the Geometric model supported on the set {1, 2, 3, ...} (since there is no clear maximum to the number of number one songs artists can have) with different parameters and maximize the log-likelihood."
   ]
  },
  {
   "cell_type": "code",
   "execution_count": 60,
   "metadata": {},
   "outputs": [],
   "source": [
    "def geom_ll(x, p_list):\n",
    "    \"\"\"\n",
    "    inputs: x: data on which MLE estimates should be computed\n",
    "            p_list: list of success probabilities to compute log-likelihoods; MLE will be one of the elements in this list\n",
    "    output: dict {p_list: corresponding loglikelihoods}, MLE of p\n",
    "    \"\"\"\n",
    "    x = np.array(x) #so we can vectorize operations\n",
    "    n = len(x)\n",
    "    p_list = [round(p, 8) for p in p_list]\n",
    "    ll = [n*np.log(p) + np.log(1-p)*sum(x-1) for p in p_list] #compute loglikelihoods at each p\n",
    "    plt.plot(p_list, ll)\n",
    "    plt.xlabel('p')\n",
    "    plt.ylabel('Log-likelihood')\n",
    "    plt.title(\"Success probability p vs log-likelihood\")\n",
    "    plt.show()\n",
    "    return dict(zip(p_list, ll)), p_list[np.where(ll == max(ll))[0][0]]"
   ]
  },
  {
   "cell_type": "code",
   "execution_count": 61,
   "metadata": {},
   "outputs": [
    {
     "data": {
      "image/png": "[encoded data removed]",
      "text/plain": [
       "<Figure size 432x288 with 1 Axes>"
      ]
     },
     "metadata": {
      "needs_background": "light"
     },
     "output_type": "display_data"
    },
    {
     "name": "stdout",
     "output_type": "stream",
     "text": [
      "p's and corresponding loglikelihood values:\n",
      "{   0.1: -96.10710331475921,\n",
      "    0.2: -72.85697144730398,\n",
      "    0.3: -61.71256004270928,\n",
      "    0.4: -56.06300297807384,\n",
      "    0.5: -54.06548008367574,\n",
      "    0.6: -55.25207276185752,\n",
      "    0.7: -60.01796432193486,\n",
      "    0.8: -70.08438272506422,\n",
      "    0.9: -91.7126541600868}\n",
      "\n",
      "maximum likelihood estimation of p: 0.5\n"
     ]
    }
   ],
   "source": [
    "p_dict, p_maxll = geom_ll(num_one_pt.values, np.arange(.1, 1,.1))\n",
    "print(\"p's and corresponding loglikelihood values:\")\n",
    "pp.pprint(p_dict)\n",
    "print(f\"\\nmaximum likelihood estimation of p: {p_maxll}\")"
   ]
  },
  {
   "cell_type": "markdown",
   "metadata": {},
   "source": [
    "We see that the log-likelihood using a geometric model is maximized with success probability $p=0.5$. This model suggests that, __given an artist already has one song that has hit rank 1, the probability of having an additional rank 1 song comes down to approximately a coin flip.__\n",
    "\n",
    "We note that there are some downfalls with using this model, such as the *lack of independence between trials* (whether or not an artist will get another number one song). There is also a potential issue with *a non-constant probability of getting an additional number one song*. These issues arise due to the fact that more popular artists tend to accumulate number one songs more frequently than less popular artists, as the less popular artists have difficulty establishing themselves. Likewise, if an artist stops making music or puts out a very popular album, the probability of an additional number one song changes.\n",
    "\n",
    "Using the model, the fact that the probability an artist has an additional number one song after having at least one can simply come down to a coin flip is quite an interesting finding!\n",
    "\n",
    "Thus, since the probability of an artist having another number one song (after having one already) is approximately 0.5 and since very few artists have a number one song (only around .05), __we conclude that the probability of an artist having a number one song if they already have one is about ten times greater than if they don't.__ In other words, if you already have a song that has hit #1, you are 10x more likely to have another song hit #1 relative to artists who don't already have a #1 song.\n",
    "\n",
    "Clearly, the popularity of an artist's past songs is a relevant factor in determining the popularity of their future songs."
   ]
  },
  {
   "cell_type": "markdown",
   "metadata": {},
   "source": [
    "## Comparing the average number of rank 1 songs per artist\n",
    "Now, let's consider a closely related problem: instead of comparing the probabilities of having rank 1 songs, let's compare __the number of rank 1 songs__ an artist is expected to have given that they already have at least one rank 1 song versus if they don't already have a rank 1 song in the time period of 3 years (the time span in our dataset). We can model this using a Poisson distribution and find a maximum likelihood estimate for the rate parameter $\\lambda$.\n",
    "\n",
    "However, these models are also imperfect as not all assumptions are met:\n",
    "* Constant average rate of occurence across artists:\n",
    "    * This assumption is tenuous at best -- trends change over time, so it would make sense for the current hot artists like Post Malone and Travis Scott to have more rank 1 songs than artists that are no longer trendy, such as Shawn Mendes and Ed Sheeran (also XXXTENTACION and Juice WRLD, but that's because they're dead).\n",
    "* Independence of occurences:\n",
    "    * This assumption is also not totally met: if an artist drops an album that has been highly anticipated, those songs will probably be more likely to reach rank 1.\n",
    "    * The opposite is also true: if an artist releases a song/album that flops, hype around that artist may consequently die down, hindering the success of their future songs\n",
    "    * Artists also sometimes go through hot streaks, where many of their songs in a short timeframe become extremely popular (ex: Lil Nas X's \"Old Town Road\" and \"Panini\").\n",
    "    \n",
    "With these shortcomings in mind, let's take a look at the results."
   ]
  },
  {
   "cell_type": "code",
   "execution_count": 89,
   "metadata": {},
   "outputs": [],
   "source": [
    "def poisson_ll(x, lmb_list):\n",
    "    \"\"\"\n",
    "    inputs: x: data on which MLE estimates should be computed\n",
    "            lmb_list: list of rate parameters lambda to compute log-likelihoods; MLE will be one of the elements in this list\n",
    "    output: dict {lmb_list: corresponding loglikelihoods}, MLE of lambda\n",
    "    \"\"\"\n",
    "    x = np.array(x) #so we can vectorize operations\n",
    "    n = len(x)\n",
    "    p_list = [round(lmb, 8) for lmb in lmb_list]\n",
    "    \n",
    "    ll = [(sum(x)*np.log(lmb)) - (n*lmb) - sum(np.log(x)) for lmb in lmb_list] #compute loglikelihoods at each lambda\n",
    "    \n",
    "    plt.plot(lmb_list, ll)\n",
    "    plt.xlabel('lambda')\n",
    "    plt.ylabel('Log-likelihood')\n",
    "    plt.title(\"Lambda vs log-likelihood\")\n",
    "    plt.show()\n",
    "    return dict(zip(lmb_list, ll)), lmb_list[np.where(ll == max(ll))[0][0]]"
   ]
  },
  {
   "cell_type": "code",
   "execution_count": 90,
   "metadata": {},
   "outputs": [],
   "source": [
    "def compare_lambda(df, rank):\n",
    "    \"\"\"\n",
    "    inputs: df: dataframe of unique songs\n",
    "            rank: run comparison for number of songs that have reached this rank or above\n",
    "    outputs: dict {\n",
    "                    unconditioned: expected # songs per artist to reach this rank or higher \n",
    "                    conditioned: expected # songs per artist to reach this rank or higher GIVEN that they already have one\n",
    "                    loglikelihoods: dict {list of lambdas: corresponding log likelihoods}\n",
    "                    }\n",
    "    \"\"\"\n",
    "    cnts = []\n",
    "    for a in df_artist.artist.values:\n",
    "        val = len(df.loc[(df.peak_rank <= rank) & (df.artist == a), :])\n",
    "        cnts.append(val)\n",
    "    baseline = np.mean(cnts) # number of songs that hit rank or higher averaged across artists; expected number of songs to hit rank or higher per artist\n",
    "    data = df.loc[df.peak_rank <= rank, :].groupby('artist').size().values\n",
    "    lmbs = np.arange(min(data), max(data), 1)\n",
    "    mle_lambda = poisson_ll(data, lmbs)\n",
    "    print(f\"expected number of songs per artist to hit rank {rank} or higher:\\n\\t{baseline}\")\n",
    "    print(f\"expected number of songs per artist to hit rank {rank} or higher, given that the artist already has at least one song at rank {rank} or higher:\\n\\t{mle_lambda[1]}\")\n",
    "    \n",
    "    return {'unconditioned': baseline, 'conditioned':mle_lambda[1], 'loglikelihood':mle_lambda[0]}"
   ]
  },
  {
   "cell_type": "code",
   "execution_count": 91,
   "metadata": {},
   "outputs": [
    {
     "data": {
      "image/png": "[encoded data removed]",
      "text/plain": [
       "<Figure size 432x288 with 1 Axes>"
      ]
     },
     "metadata": {
      "needs_background": "light"
     },
     "output_type": "display_data"
    },
    {
     "name": "stdout",
     "output_type": "stream",
     "text": [
      "expected number of songs per artist to hit rank 1 or higher:\n",
      "\t0.09885931558935361\n",
      "expected number of songs per artist to hit rank 1 or higher, given that the artist already has at least one song at rank 1 or higher:\n",
      "\t2\n"
     ]
    }
   ],
   "source": [
    "rank1_lambdas = compare_lambda(unique_songs_df, 1)"
   ]
  },
  {
   "cell_type": "markdown",
   "metadata": {},
   "source": [
    "In this case, the baseline we used for comparison was the average number of songs per artist that hit rank 1. We can see that this number is extremely low: __we expect ~0.098 songs per artist to reach rank 1 in the span of 3 years, without any prior knowledge of the success of the aritst's previous songs.__\n",
    "\n",
    "The second output represents the average number of songs per artist that hit rank 1 *given that the artist has at least one song at rank 1 or higher*. __In other words, if we know the artist already has at least one rank 1 song, then we expect them to have 2 songs in total to reach rank 1 or higher.__\n",
    "\n",
    "We can see that __by incorporating prior knowledge about the artist's past performance, the expected number of rank 1 songs is ~20x higher than if we don't know anything about the their older songs.__\n",
    "\n",
    "Clearly, an artist's track record is important in determining the success of their future songs."
   ]
  },
  {
   "cell_type": "markdown",
   "metadata": {},
   "source": [
    "We can generalize these models to different ranks as well. Let's look at the average number of songs per artist to reach rank 10 or higher and rank 25 or higher"
   ]
  },
  {
   "cell_type": "code",
   "execution_count": 96,
   "metadata": {
    "scrolled": false
   },
   "outputs": [
    {
     "data": {
      "image/png": "[encoded data removed]",
      "text/plain": [
       "<Figure size 432x288 with 1 Axes>"
      ]
     },
     "metadata": {
      "needs_background": "light"
     },
     "output_type": "display_data"
    },
    {
     "name": "stdout",
     "output_type": "stream",
     "text": [
      "expected number of songs per artist to hit rank 10 or higher:\n",
      "\t0.6692015209125475\n",
      "expected number of songs per artist to hit rank 10 or higher, given that the artist already has at least one song at rank 10 or higher:\n",
      "\t4\n"
     ]
    }
   ],
   "source": [
    "rank10_lambdas = compare_lambda(unique_songs_df, 10)"
   ]
  },
  {
   "cell_type": "markdown",
   "metadata": {},
   "source": [
    "We can see that without taking into account the artist's track record, __an average artist is expected to have .67 songs hit rank 10 or higher. However, if we condition on the artist already having at least one song reach rank 10 or higher, the expected number of songs goes up significantly to 4 songs__, which is ~6x more."
   ]
  },
  {
   "cell_type": "code",
   "execution_count": 97,
   "metadata": {},
   "outputs": [
    {
     "data": {
      "image/png": "[encoded data removed]",
      "text/plain": [
       "<Figure size 432x288 with 1 Axes>"
      ]
     },
     "metadata": {
      "needs_background": "light"
     },
     "output_type": "display_data"
    },
    {
     "name": "stdout",
     "output_type": "stream",
     "text": [
      "expected number of songs per artist to hit rank 25 or higher:\n",
      "\t1.3181242078580482\n",
      "expected number of songs per artist to hit rank 25 or higher, given that the artist already has at least one song at rank 25 or higher:\n",
      "\t5\n"
     ]
    }
   ],
   "source": [
    "rank25_lambdas = compare_lambda(unique_songs_df, 25)"
   ]
  },
  {
   "cell_type": "markdown",
   "metadata": {},
   "source": [
    "We reach similar conclusions when looking at the expected number of songs to hit rank 25 or higher: __the average artist is expected to have 1.32 songs achieve this, while artists with at least one rank 25+ song is expected to have 5 songs__, which is ~ 3.79x more.\n",
    "\n",
    "It's interesting to note that the ratio of the conditioned expected number of songs to the unconditioned expected number of songs decreases as the threshold rank increases. This is makes sense: it is much more difficult to have a song reach rank 1 than it is to reach rank 10 (same with rank 10 vs rank 25). \n",
    "\n",
    "From the above analyses, it is clear to see that the creator of the song has a significant influence on the success of the song itself. Let's dig into the topic of artists further: __are there any interesting trends the songs by popular artists?__"
   ]
  },
  {
   "cell_type": "markdown",
   "metadata": {},
   "source": [
    "# Artist Popularity and Their Usual Musical Attributes"
   ]
  },
  {
   "cell_type": "markdown",
   "metadata": {},
   "source": [
    "* To perform further analysis, we must first restructure the data. Since we want to perform analysis on the level of artists (as opposed to individual songs), let's engineer some features that inform us about an artist's typical musical attributes. \n",
    "\n",
    "\n",
    "* Based on the data we currently have to work with, we quantify \"typical musical attributes\" by taking the median across each musical feature for each artist and quantify \"overall popularity\" by taking the sum of the number of days each of their songs was on the charts. Here is the flow of our idea:\n",
    "\n",
    "      songs --> group by artist --> total number of days, median danceability, ..., median tempo"
   ]
  },
  {
   "cell_type": "code",
   "execution_count": 24,
   "metadata": {},
   "outputs": [],
   "source": [
    "artist_dict = {'artist': [], 'total_days' : []}\n",
    "a1 = {\"median_\" + c:[] for c in cont_cols}\n",
    "artist_dict.update(a1)\n",
    "\n",
    "unique_artists = unique_songs_df.artist.unique() # get each artist only once\n",
    "for a in unique_artists: # for each artist\n",
    "    subset = unique_songs_df.loc[unique_songs_df.artist == a, :]\n",
    "    total = subset['days'].sum()\n",
    "    artist_dict['total_days'].append(total)\n",
    "    artist_dict['artist'].append(a)\n",
    "    for k in cont_cols: # for each continuous musical feature\n",
    "        artist_dict['median_' + k].append(subset[k].median())"
   ]
  },
  {
   "cell_type": "code",
   "execution_count": 25,
   "metadata": {
    "scrolled": false
   },
   "outputs": [
    {
     "data": {
      "text/html": [
       "<div>\n",
       "<style scoped>\n",
       "    .dataframe tbody tr th:only-of-type {\n",
       "        vertical-align: middle;\n",
       "    }\n",
       "\n",
       "    .dataframe tbody tr th {\n",
       "        vertical-align: top;\n",
       "    }\n",
       "\n",
       "    .dataframe thead th {\n",
       "        text-align: right;\n",
       "    }\n",
       "</style>\n",
       "<table border=\"1\" class=\"dataframe\">\n",
       "  <thead>\n",
       "    <tr style=\"text-align: right;\">\n",
       "      <th></th>\n",
       "      <th>artist</th>\n",
       "      <th>total_days</th>\n",
       "      <th>median_danceability</th>\n",
       "      <th>median_energy</th>\n",
       "      <th>median_loudness</th>\n",
       "      <th>median_speechiness</th>\n",
       "      <th>median_acousticness</th>\n",
       "      <th>median_liveness</th>\n",
       "      <th>median_valence</th>\n",
       "      <th>median_tempo</th>\n",
       "    </tr>\n",
       "  </thead>\n",
       "  <tbody>\n",
       "    <tr>\n",
       "      <th>0</th>\n",
       "      <td>Migos</td>\n",
       "      <td>3227.0</td>\n",
       "      <td>0.8365</td>\n",
       "      <td>0.6690</td>\n",
       "      <td>-5.6810</td>\n",
       "      <td>0.15400</td>\n",
       "      <td>0.07950</td>\n",
       "      <td>0.1325</td>\n",
       "      <td>0.3505</td>\n",
       "      <td>137.4800</td>\n",
       "    </tr>\n",
       "    <tr>\n",
       "      <th>1</th>\n",
       "      <td>Drake</td>\n",
       "      <td>6877.0</td>\n",
       "      <td>0.7200</td>\n",
       "      <td>0.5370</td>\n",
       "      <td>-7.7055</td>\n",
       "      <td>0.17350</td>\n",
       "      <td>0.11600</td>\n",
       "      <td>0.1225</td>\n",
       "      <td>0.3525</td>\n",
       "      <td>118.9900</td>\n",
       "    </tr>\n",
       "    <tr>\n",
       "      <th>2</th>\n",
       "      <td>The Weeknd</td>\n",
       "      <td>2926.0</td>\n",
       "      <td>0.5600</td>\n",
       "      <td>0.6110</td>\n",
       "      <td>-7.0150</td>\n",
       "      <td>0.06410</td>\n",
       "      <td>0.13100</td>\n",
       "      <td>0.1250</td>\n",
       "      <td>0.2520</td>\n",
       "      <td>119.8290</td>\n",
       "    </tr>\n",
       "    <tr>\n",
       "      <th>3</th>\n",
       "      <td>The Chainsmokers</td>\n",
       "      <td>2577.0</td>\n",
       "      <td>0.6160</td>\n",
       "      <td>0.6285</td>\n",
       "      <td>-6.6005</td>\n",
       "      <td>0.04265</td>\n",
       "      <td>0.05865</td>\n",
       "      <td>0.1505</td>\n",
       "      <td>0.3980</td>\n",
       "      <td>104.4755</td>\n",
       "    </tr>\n",
       "    <tr>\n",
       "      <th>4</th>\n",
       "      <td>Rae Sremmurd</td>\n",
       "      <td>1147.0</td>\n",
       "      <td>0.8030</td>\n",
       "      <td>0.6320</td>\n",
       "      <td>-5.1930</td>\n",
       "      <td>0.06490</td>\n",
       "      <td>0.05440</td>\n",
       "      <td>0.1110</td>\n",
       "      <td>0.2640</td>\n",
       "      <td>131.9860</td>\n",
       "    </tr>\n",
       "  </tbody>\n",
       "</table>\n",
       "</div>"
      ],
      "text/plain": [
       "             artist  total_days  median_danceability  median_energy  \\\n",
       "0             Migos      3227.0               0.8365         0.6690   \n",
       "1             Drake      6877.0               0.7200         0.5370   \n",
       "2        The Weeknd      2926.0               0.5600         0.6110   \n",
       "3  The Chainsmokers      2577.0               0.6160         0.6285   \n",
       "4      Rae Sremmurd      1147.0               0.8030         0.6320   \n",
       "\n",
       "   median_loudness  median_speechiness  median_acousticness  median_liveness  \\\n",
       "0          -5.6810             0.15400              0.07950           0.1325   \n",
       "1          -7.7055             0.17350              0.11600           0.1225   \n",
       "2          -7.0150             0.06410              0.13100           0.1250   \n",
       "3          -6.6005             0.04265              0.05865           0.1505   \n",
       "4          -5.1930             0.06490              0.05440           0.1110   \n",
       "\n",
       "   median_valence  median_tempo  \n",
       "0          0.3505      137.4800  \n",
       "1          0.3525      118.9900  \n",
       "2          0.2520      119.8290  \n",
       "3          0.3980      104.4755  \n",
       "4          0.2640      131.9860  "
      ]
     },
     "execution_count": 25,
     "metadata": {},
     "output_type": "execute_result"
    }
   ],
   "source": [
    "df_artist = pd.DataFrame(artist_dict)\n",
    "df_artist.head() # examine first five rows of dataframe"
   ]
  },
  {
   "cell_type": "markdown",
   "metadata": {},
   "source": [
    "As a first look at our new artist-level dataset, we will use __hypothesis tests__ to see if there are significant differences in typical musical attributes between the top 100 most popular artists (more popular) and the bottom 100 least popular (less popular) artists:"
   ]
  },
  {
   "cell_type": "markdown",
   "metadata": {},
   "source": [
    "### Hypothesis tests\n",
    "* We run two-sample hypothesis tests on the median audio feature values to see if the more popular artists' songs are different from the less popular artists' songs. For example, suppose we want to run a test on median tempo:\n",
    "    * Let $med\\_temp_{i}$ denote the median tempo of the $i^{th}$ artists' songs.\n",
    "    * Let $\\bar{TEMP}_{k}$ denote the median tempo of artists' songs in the $k^{th}$ averaged across all artists in that group. Let $k=1$ be the group containing the top 100 artists, and $k=2$ be the group containing the bottom 100 artists.\n",
    "    * Similarly, let $s_{k}$ denote the standard deviation for the $k^{th}$ group, and let $n_k$ denote the number of artists in the $k^{th}$ group\n",
    "    * Then:\n",
    "        * $H_0: \\bar{TEMP_{1}} = \\bar{TEMP}_{2}$\n",
    "        * $H_1: \\bar{TEMP}_{1} \\neq \\bar{TEMP}_{2}$\n",
    "        * $T = \\frac{\\bar{TEMP_{1}} - \\bar{TEMP}_{2}}{\\sqrt{\\frac{s_1^2}{n_1}+\\frac{s_2^2}{n_2}}}$  \n",
    "    \n",
    "* This is the general form each test will take. Since we are running 8 simultaneous tests (1 for each audio feature) at $\\alpha = .05$, we need to control the false-positive rate. To do this, we will apply a simple __Bonferroni correction__ such that $\\alpha_{adjusted} = .05/8 = 0.00625$"
   ]
  },
  {
   "cell_type": "code",
   "execution_count": 26,
   "metadata": {},
   "outputs": [
    {
     "name": "stdout",
     "output_type": "stream",
     "text": [
      "bonferroni-corrected alpha = .05/8 = 0.00625\n",
      "\n",
      "difference in... average median_danceability\n",
      "\th0: Group 1 average median_danceability == Group 2 average median_danceability\n",
      "\th1: Group 1 average median_danceability != Group 2 average median_danceability\n",
      "\n",
      "\tGroup 1: 0.7056749999999999\t\t\t Group 2:0.6379500000000001\n",
      "\tt = 3.9095841541689205\n",
      "\tp = 0.00013558167382297904\n",
      "\tsignificant: True\n",
      "\n",
      "difference in... average median_energy\n",
      "\th0: Group 1 average median_energy == Group 2 average median_energy\n",
      "\th1: Group 1 average median_energy != Group 2 average median_energy\n",
      "\n",
      "\tGroup 1: 0.6184350000000001\t\t\t Group 2:0.6690200000000002\n",
      "\tt = -2.575979759702809\n",
      "\tp = 0.01095289607509198\n",
      "\tsignificant: False\n",
      "\n",
      "difference in... average median_loudness\n",
      "\th0: Group 1 average median_loudness == Group 2 average median_loudness\n",
      "\th1: Group 1 average median_loudness != Group 2 average median_loudness\n",
      "\n",
      "\tGroup 1: -6.385944999999997\t\t\t Group 2:-6.588709999999996\n",
      "\tt = 0.6704547412280895\n",
      "\tp = 0.5035674002559152\n",
      "\tsignificant: False\n",
      "\n",
      "difference in... average median_speechiness\n",
      "\th0: Group 1 average median_speechiness == Group 2 average median_speechiness\n",
      "\th1: Group 1 average median_speechiness != Group 2 average median_speechiness\n",
      "\n",
      "\tGroup 1: 0.13751949999999996\t\t\t Group 2:0.10060600000000001\n",
      "\tt = 2.8152934575794655\n",
      "\tp = 0.005370036529580343\n",
      "\tsignificant: True\n",
      "\n",
      "difference in... average median_acousticness\n",
      "\th0: Group 1 average median_acousticness == Group 2 average median_acousticness\n",
      "\th1: Group 1 average median_acousticness != Group 2 average median_acousticness\n",
      "\n",
      "\tGroup 1: 0.154417\t\t\t Group 2:0.19391429\n",
      "\tt = -1.451713673328391\n",
      "\tp = 0.14863930195741384\n",
      "\tsignificant: False\n",
      "\n",
      "difference in... average median_liveness\n",
      "\th0: Group 1 average median_liveness == Group 2 average median_liveness\n",
      "\th1: Group 1 average median_liveness != Group 2 average median_liveness\n",
      "\n",
      "\tGroup 1: 0.13814749999999998\t\t\t Group 2:0.157745\n",
      "\tt = -1.420142993623223\n",
      "\tp = 0.1580841480272225\n",
      "\tsignificant: False\n",
      "\n",
      "difference in... average median_valence\n",
      "\th0: Group 1 average median_valence == Group 2 average median_valence\n",
      "\th1: Group 1 average median_valence != Group 2 average median_valence\n",
      "\n",
      "\tGroup 1: 0.45509499999999975\t\t\t Group 2:0.5200449999999998\n",
      "\tt = -2.541653303668981\n",
      "\tp = 0.012019055646444142\n",
      "\tsignificant: False\n",
      "\n",
      "difference in... average median_tempo\n",
      "\th0: Group 1 average median_tempo == Group 2 average median_tempo\n",
      "\th1: Group 1 average median_tempo != Group 2 average median_tempo\n",
      "\n",
      "\tGroup 1: 120.87243500000004\t\t\t Group 2:122.96824999999997\n",
      "\tt = -0.6249452880176014\n",
      "\tp = 0.5329974253642779\n",
      "\tsignificant: False\n",
      "\n"
     ]
    }
   ],
   "source": [
    "# split artist dataset into top 100 vs bottom 100\n",
    "top100 = df_artist.sort_values(by = 'total_days', ascending = False).iloc[:100, :]\n",
    "bot100 = df_artist.sort_values(by = 'total_days', ascending = True).iloc[:100, :]\n",
    "alpha = .05/8 # adj-pvalue\n",
    "print(f\"bonferroni-corrected alpha = .05/8 = {alpha}\\n\")\n",
    "\n",
    "# perform 2-sample t-test with unequal variances on each audio feature\n",
    "for col in top100.columns[2:]: # for each audio feature\n",
    "    print(f\"difference in... average {col}\") # test name\n",
    "    print(f\"\\th0: Group 1 average {col} == Group 2 average {col}\") # H0\n",
    "    print(f\"\\th1: Group 1 average {col} != Group 2 average {col}\\n\") # HA\n",
    "    print(f\"\\tGroup 1: {top100[col].mean()}\\t\\t\\t Group 2:{bot100[col].mean()}\") # point estimates\n",
    "    tt = ttest_ind(top100[col], bot100[col], equal_var = False) # perform 2-sample t-test (w/ unequal var)\n",
    "    print(f\"\\tt = {tt[0]}\") # test statistic\n",
    "    print(f\"\\tp = {tt[1]}\") # p-value\n",
    "    print(f\"\\tsignificant: {tt[1]<=alpha}\\n\") # check if p-value is less than or equal to Bonferonni-adj alpha level"
   ]
  },
  {
   "cell_type": "markdown",
   "metadata": {},
   "source": [
    "* From the tests, we see that there are __significant differences in median danceability and speechiness of songs by the top 100 most popular artists (denoted as Group 1) are significantly different than those of songs by the bottom 100 artists (denoted as Group 2)__. Specifically:\n",
    "    * Group 1 average median danceability > Group 2 average median danceability: Group 1 songs are significantly more dance-able/catchy/rhythmic \n",
    "    * Group 1 average median speechiness > Group 2 average median speechiness: Group 1 songs are significantly more wordy\n",
    "\n",
    "\n",
    "* These findings make a lot of sense: songs will stay on the charts longer if they are more danceable/catchy, as people will listen to them over and over again. Additionally, these songs will be streamed on the radio and at parties/social gatherings more frequently, boosting those songs' popularity. As for speechiness, this also makes sense: in the past few years, rap songs have become quite mainstream, and those songs tend to be pretty wordy.\n",
    "\n",
    "* This is pretty interesting: songs by the more popular artists tend to be different in danceability and speechiness than those by the less popular artists."
   ]
  },
  {
   "cell_type": "markdown",
   "metadata": {},
   "source": [
    "Let's taking a closer look at the top 100 group. Are there any similarities in the typical musical attributes of the top 100 most popular artists? \n",
    "\n",
    "__We use k-means clustering to group together similar artists based on their median audio feature values__ and examine the distribution of clusters in the entire artists dataset compared to the distribution of clusters in the top 100 most popular artist list."
   ]
  },
  {
   "cell_type": "markdown",
   "metadata": {},
   "source": [
    "### Exploratory data analysis, rescaling, and PCA\n",
    "We start off with some __exploratory data analysis__: since we know there are some significant differences between songs by the most popular artists and songs by the least (relatively) popular artists, let's see if we can group together the artists by their typical musical features. This will help illustrate which artists tend to produce similar songs and help us find distinct patterns between artists' songs."
   ]
  },
  {
   "cell_type": "code",
   "execution_count": 28,
   "metadata": {},
   "outputs": [
    {
     "data": {
      "text/plain": [
       "['danceability',\n",
       " 'energy',\n",
       " 'loudness',\n",
       " 'speechiness',\n",
       " 'acousticness',\n",
       " 'liveness',\n",
       " 'valence',\n",
       " 'tempo']"
      ]
     },
     "execution_count": 28,
     "metadata": {},
     "output_type": "execute_result"
    }
   ],
   "source": [
    "cont_cols"
   ]
  },
  {
   "cell_type": "code",
   "execution_count": 29,
   "metadata": {},
   "outputs": [
    {
     "data": {
      "image/png": "[encoded data removed]",
      "text/plain": [
       "<Figure size 1080x720 with 8 Axes>"
      ]
     },
     "metadata": {
      "needs_background": "light"
     },
     "output_type": "display_data"
    }
   ],
   "source": [
    "fig, axes = plt.subplots(nrows=2, ncols=4, figsize = (15,10)) # 3x3 grid of distribution of median values for each feature by artist\n",
    "\n",
    "for i, ax in enumerate(axes.flat):\n",
    "    col = \"median_\" + cont_cols[i]\n",
    "    ax.set_title(col)\n",
    "    ax.hist(df_artist[col])\n",
    "    ax.set_xlabel('value')\n",
    "    ax.set_ylabel('count of artists')\n",
    "\n",
    "fig.tight_layout()\n",
    "\n",
    "plt.show()"
   ]
  },
  {
   "cell_type": "markdown",
   "metadata": {},
   "source": [
    "* Since the audio features are on difference scales (ex: tempo is usually around 100 - 150 while valence is between 0 and 1), we don't want any single feature to bias the clustering results. So, let's __rescale the features__."
   ]
  },
  {
   "cell_type": "code",
   "execution_count": 34,
   "metadata": {},
   "outputs": [
    {
     "name": "stdout",
     "output_type": "stream",
     "text": [
      "Features to be clustered on:\n",
      " ['median_danceability' 'median_energy' 'median_loudness'\n",
      " 'median_speechiness' 'median_acousticness' 'median_liveness'\n",
      " 'median_valence' 'median_tempo']\n"
     ]
    }
   ],
   "source": [
    "cluster_cols = df_artist.columns[2:]\n",
    "print('Features to be clustered on:\\n', cluster_cols.values)"
   ]
  },
  {
   "cell_type": "code",
   "execution_count": 35,
   "metadata": {},
   "outputs": [],
   "source": [
    "X = df_artist[cluster_cols] # values to be clustered on"
   ]
  },
  {
   "cell_type": "markdown",
   "metadata": {},
   "source": [
    "Let's use the RobustScaler method to decrease the impact of outliers. The following describes how RobustScaler works:  \n",
    "* Let $C$ be the column to be rescaled and $q_x$ be the $x^{th}$ quantile of $C$:\n",
    "    * For each $c_i$ in $C$:\n",
    "        * $c_{i,scaled} = \\frac{c_i - median(C)}{q_{75} - q_{25}}$"
   ]
  },
  {
   "cell_type": "code",
   "execution_count": 24,
   "metadata": {},
   "outputs": [],
   "source": [
    "def scale(X):\n",
    "    \"\"\"\n",
    "    inputs:   X: dataframe with columns of continuous features to be scaled\n",
    "    \n",
    "    returns:  X_scaled: dataframe with scaled columns\n",
    "    \"\"\"\n",
    "    X_scaled = X.copy()    \n",
    "    scaled_values = RobustScaler().fit_transform(X)\n",
    "    \n",
    "    for i in range(scaled_values.shape[1]):\n",
    "        X_scaled.iloc[:,i] = scaled_values[:,i]\n",
    "\n",
    "    return X_scaled"
   ]
  },
  {
   "cell_type": "code",
   "execution_count": 25,
   "metadata": {},
   "outputs": [],
   "source": [
    "X_scaled = scale(X) # return our dataframe with scaled columns"
   ]
  },
  {
   "cell_type": "markdown",
   "metadata": {},
   "source": [
    "To help us visualize this in 2D and to ameliorate the curse of dimensionality, let's __apply PCA to the scaled values using two components:__"
   ]
  },
  {
   "cell_type": "code",
   "execution_count": 26,
   "metadata": {},
   "outputs": [],
   "source": [
    "def apply_pca(X, n):\n",
    "    \"\"\"\n",
    "    inputs:   X: dataframe with scaled columns\n",
    "              n: number of desired PCA components\n",
    "              \n",
    "    returns:  X_pca: copy of X with n PCA columns appended\n",
    "    \"\"\"\n",
    "    pca = PCA(n_components=n)\n",
    "    pc_cols = pd.DataFrame(pca.fit_transform(X), columns = [f\"pc{i+1}\" for i in range(n)])\n",
    "    X_pca = pd.concat([X, pc_cols], axis = 1)        \n",
    "    return X_pca"
   ]
  },
  {
   "cell_type": "code",
   "execution_count": 27,
   "metadata": {},
   "outputs": [],
   "source": [
    "X_pca = apply_pca(X_scaled, 2) # return scaled dataframe with two PCA columns appended"
   ]
  },
  {
   "cell_type": "markdown",
   "metadata": {},
   "source": [
    "### K-means clustering"
   ]
  },
  {
   "cell_type": "markdown",
   "metadata": {},
   "source": [
    "Now that features have been scaled and PCA values have been created, __we are ready to cluster the artists__:"
   ]
  },
  {
   "cell_type": "code",
   "execution_count": 29,
   "metadata": {},
   "outputs": [],
   "source": [
    "def choose_k(X, cols, fewest):\n",
    "    \"\"\"\n",
    "    performs k-means clustering such that smallest cluster has at least \"fewest\" artists\n",
    "    \n",
    "    inputs:   X: dataframe with scaled columns \n",
    "              cols: columns on which clustering is to be performed\n",
    "              fewest: smallest allowable cluster size\n",
    "    \n",
    "    returns:  out: dictionary {k: number of clusters, labels: cluster assignments, min_artists: size of smallest cluster}\n",
    "    \"\"\"\n",
    "\n",
    "    df = X.loc[:,cols]\n",
    "    \n",
    "    ins = [] #inertias\n",
    "    prev_labels = None\n",
    "    min_artists = []\n",
    "    k = 1\n",
    "    \n",
    "    while len(min_artists) == 0 or min_artists[-1] >= fewest:    \n",
    "        #keep clustering while the size of the smallest cluster > specified minimum\n",
    "        \n",
    "        k += 1\n",
    "        km = KMeans(n_clusters = k)\n",
    "        km.fit(df)\n",
    "        labels = pd.Series(km.labels_)\n",
    "        cnt = labels.value_counts().min() #size of smallest cluster; ensure that this >= fewest\n",
    "\n",
    "\n",
    "        if cnt < fewest:\n",
    "            #if clustering with k clusters results in a cluster that is smaller than allowed, break out of the loop and \n",
    "            #return the data corresponding to k-1 clusters\n",
    "            out = {'k':k-1, 'labels': prev_labels, 'min_artists': min_artists[-1]}\n",
    "            break\n",
    "        else: #update stored data, keep going\n",
    "            min_artists.append(cnt)\n",
    "            prev_labels = labels\n",
    "            ins.append(km.inertia_)    \n",
    "            \n",
    "        \n",
    "    xaxis = range(2, k)\n",
    "    plt.plot(xaxis, ins, marker = 'x')\n",
    "    plt.xticks(xaxis)\n",
    "    plt.xlabel(\"clusters\")\n",
    "    plt.ylabel(\"inertia\")\n",
    "    plt.show()\n",
    "    \n",
    "    plt.plot(xaxis, min_artists, marker = 'x', label = 'smallest size')\n",
    "    plt.plot(xaxis, np.array(min_artists)/np.array(xaxis), marker = 'o',label = 'avg size')\n",
    "    plt.xticks(xaxis)\n",
    "    plt.xlabel(\"clusters\")\n",
    "    plt.ylabel(\"cluster size\")\n",
    "    plt.legend()\n",
    "    plt.show()\n",
    "    \n",
    "    return out"
   ]
  },
  {
   "cell_type": "markdown",
   "metadata": {},
   "source": [
    "* When using k-means clustering, we generally seek to pick $k$ to be the number of clusters corresponding to the \"elbow\" in the plot to reduce overfitting while still sufficiently reducing the within-group sum of squares.   \n",
    "\n",
    "\n",
    "* However, our approach for clustering in the context of this project is a bit different: since there are so many genres and sub-genres that artists can fall under, we want my clustering results to capture this granularity, which is why we did not choose k to be the \"elbow\" of the plot. __TL;DR: we overfit our model in order to capture all of the unique genres our artists can fall into__.\n",
    "\n",
    "\n",
    "* That being said, we did not want to have dozens of clusters containing only a few artists, so we included a parameter in the clustering function to __allow the user to specify the fewest number of artists any cluster is allowed to have__. So, the above function increments $k$, runs k-means with $k$ clusters, and checks how many artists are in the smallest cluster. It returns $k$ and a vector of labels such that running k-means with $k$ clusters results in the smallest cluster size being greater than or equal to the minimum allowed cluster size, while running k-means with $k+1$ clusters results in fewer artists than allowed. \n",
    "\n",
    "*Note that running the function multiple times will give different results since cluster assignments are random.*"
   ]
  },
  {
   "cell_type": "code",
   "execution_count": 34,
   "metadata": {},
   "outputs": [
    {
     "data": {
      "image/png": "[encoded data removed]",
      "text/plain": [
       "<Figure size 432x288 with 1 Axes>"
      ]
     },
     "metadata": {
      "needs_background": "light"
     },
     "output_type": "display_data"
    },
    {
     "data": {
      "image/png": "[encoded data removed]",
      "text/plain": [
       "<Figure size 432x288 with 1 Axes>"
      ]
     },
     "metadata": {
      "needs_background": "light"
     },
     "output_type": "display_data"
    }
   ],
   "source": [
    "km_data = choose_k(X_pca, ['pc1', 'pc2'], 10) # run k-means clustering on our scaled dataframe s.t. smallest cluster has 10 artists"
   ]
  },
  {
   "cell_type": "markdown",
   "metadata": {},
   "source": [
    "* In the above function call, we specified that the smallest cluster must have at least 10 artists (arbitrarily chosen). The first graph shows the inertia (sum of squared distances of points to their closest cluster center) for $1,...,k$ clusters, while the second graph shows the size of the smallest cluster for $1,...,k$ clusters."
   ]
  },
  {
   "cell_type": "code",
   "execution_count": 35,
   "metadata": {},
   "outputs": [],
   "source": [
    "k, labels, _ = km_data.values()"
   ]
  },
  {
   "cell_type": "code",
   "execution_count": 36,
   "metadata": {},
   "outputs": [
    {
     "data": {
      "text/plain": [
       "10"
      ]
     },
     "execution_count": 36,
     "metadata": {},
     "output_type": "execute_result"
    }
   ],
   "source": [
    "k #chosen k"
   ]
  },
  {
   "cell_type": "code",
   "execution_count": 37,
   "metadata": {},
   "outputs": [
    {
     "data": {
      "text/plain": [
       "8    193\n",
       "1    168\n",
       "7     98\n",
       "3     96\n",
       "9     68\n",
       "0     62\n",
       "6     41\n",
       "5     31\n",
       "2     18\n",
       "4     14\n",
       "dtype: int64"
      ]
     },
     "execution_count": 37,
     "metadata": {},
     "output_type": "execute_result"
    }
   ],
   "source": [
    "labels.value_counts() #size of each cluster"
   ]
  },
  {
   "cell_type": "code",
   "execution_count": 38,
   "metadata": {},
   "outputs": [],
   "source": [
    "X_cluster = X_pca.copy()\n",
    "X_cluster['cluster'] = labels"
   ]
  },
  {
   "cell_type": "markdown",
   "metadata": {},
   "source": [
    "Our scaled values aren't easily interpretable, so we revert back to the original values and attach the artists' labels:"
   ]
  },
  {
   "cell_type": "code",
   "execution_count": 39,
   "metadata": {},
   "outputs": [
    {
     "data": {
      "text/html": [
       "<div>\n",
       "<style scoped>\n",
       "    .dataframe tbody tr th:only-of-type {\n",
       "        vertical-align: middle;\n",
       "    }\n",
       "\n",
       "    .dataframe tbody tr th {\n",
       "        vertical-align: top;\n",
       "    }\n",
       "\n",
       "    .dataframe thead th {\n",
       "        text-align: right;\n",
       "    }\n",
       "</style>\n",
       "<table border=\"1\" class=\"dataframe\">\n",
       "  <thead>\n",
       "    <tr style=\"text-align: right;\">\n",
       "      <th></th>\n",
       "      <th>artist</th>\n",
       "      <th>total_days</th>\n",
       "      <th>median_danceability</th>\n",
       "      <th>median_energy</th>\n",
       "      <th>median_loudness</th>\n",
       "      <th>median_speechiness</th>\n",
       "      <th>median_acousticness</th>\n",
       "      <th>median_liveness</th>\n",
       "      <th>median_valence</th>\n",
       "      <th>median_tempo</th>\n",
       "      <th>cluster</th>\n",
       "    </tr>\n",
       "  </thead>\n",
       "  <tbody>\n",
       "    <tr>\n",
       "      <th>0</th>\n",
       "      <td>Migos</td>\n",
       "      <td>3227.0</td>\n",
       "      <td>0.8365</td>\n",
       "      <td>0.6690</td>\n",
       "      <td>-5.6810</td>\n",
       "      <td>0.15400</td>\n",
       "      <td>0.07950</td>\n",
       "      <td>0.1325</td>\n",
       "      <td>0.3505</td>\n",
       "      <td>137.4800</td>\n",
       "      <td>1</td>\n",
       "    </tr>\n",
       "    <tr>\n",
       "      <th>1</th>\n",
       "      <td>Drake</td>\n",
       "      <td>6877.0</td>\n",
       "      <td>0.7200</td>\n",
       "      <td>0.5370</td>\n",
       "      <td>-7.7055</td>\n",
       "      <td>0.17350</td>\n",
       "      <td>0.11600</td>\n",
       "      <td>0.1225</td>\n",
       "      <td>0.3525</td>\n",
       "      <td>118.9900</td>\n",
       "      <td>8</td>\n",
       "    </tr>\n",
       "    <tr>\n",
       "      <th>2</th>\n",
       "      <td>The Weeknd</td>\n",
       "      <td>2926.0</td>\n",
       "      <td>0.5600</td>\n",
       "      <td>0.6110</td>\n",
       "      <td>-7.0150</td>\n",
       "      <td>0.06410</td>\n",
       "      <td>0.13100</td>\n",
       "      <td>0.1250</td>\n",
       "      <td>0.2520</td>\n",
       "      <td>119.8290</td>\n",
       "      <td>8</td>\n",
       "    </tr>\n",
       "    <tr>\n",
       "      <th>3</th>\n",
       "      <td>The Chainsmokers</td>\n",
       "      <td>2577.0</td>\n",
       "      <td>0.6160</td>\n",
       "      <td>0.6285</td>\n",
       "      <td>-6.6005</td>\n",
       "      <td>0.04265</td>\n",
       "      <td>0.05865</td>\n",
       "      <td>0.1505</td>\n",
       "      <td>0.3980</td>\n",
       "      <td>104.4755</td>\n",
       "      <td>3</td>\n",
       "    </tr>\n",
       "    <tr>\n",
       "      <th>4</th>\n",
       "      <td>Rae Sremmurd</td>\n",
       "      <td>1147.0</td>\n",
       "      <td>0.8030</td>\n",
       "      <td>0.6320</td>\n",
       "      <td>-5.1930</td>\n",
       "      <td>0.06490</td>\n",
       "      <td>0.05440</td>\n",
       "      <td>0.1110</td>\n",
       "      <td>0.2640</td>\n",
       "      <td>131.9860</td>\n",
       "      <td>1</td>\n",
       "    </tr>\n",
       "  </tbody>\n",
       "</table>\n",
       "</div>"
      ],
      "text/plain": [
       "             artist  total_days  median_danceability  median_energy  \\\n",
       "0             Migos      3227.0               0.8365         0.6690   \n",
       "1             Drake      6877.0               0.7200         0.5370   \n",
       "2        The Weeknd      2926.0               0.5600         0.6110   \n",
       "3  The Chainsmokers      2577.0               0.6160         0.6285   \n",
       "4      Rae Sremmurd      1147.0               0.8030         0.6320   \n",
       "\n",
       "   median_loudness  median_speechiness  median_acousticness  median_liveness  \\\n",
       "0          -5.6810             0.15400              0.07950           0.1325   \n",
       "1          -7.7055             0.17350              0.11600           0.1225   \n",
       "2          -7.0150             0.06410              0.13100           0.1250   \n",
       "3          -6.6005             0.04265              0.05865           0.1505   \n",
       "4          -5.1930             0.06490              0.05440           0.1110   \n",
       "\n",
       "   median_valence  median_tempo  cluster  \n",
       "0          0.3505      137.4800        1  \n",
       "1          0.3525      118.9900        8  \n",
       "2          0.2520      119.8290        8  \n",
       "3          0.3980      104.4755        3  \n",
       "4          0.2640      131.9860        1  "
      ]
     },
     "execution_count": 39,
     "metadata": {},
     "output_type": "execute_result"
    }
   ],
   "source": [
    "df_clustered = df_artist.copy()\n",
    "df_clustered['cluster'] = labels\n",
    "df_clustered.head() # examine first five rows in our dataframe"
   ]
  },
  {
   "cell_type": "code",
   "execution_count": 40,
   "metadata": {},
   "outputs": [],
   "source": [
    "def plot_clusters(df_labeled, k):\n",
    "    \"\"\"\n",
    "    inputs:   df_labeled: dataframe with cluster assignments\n",
    "              k: total number of clusters\n",
    "    \n",
    "    returns:  None (creates and shows scatterplot of cluster assignments)\n",
    "    \"\"\"\n",
    "    for i in range(k):\n",
    "        pts = df_labeled.loc[df_labeled.cluster == i, :]\n",
    "        plt.scatter(pts[\"pc1\"], pts[\"pc2\"], label = i)\n",
    "    plt.xlabel(\"PC1\")\n",
    "    plt.ylabel(\"PC2\")\n",
    "    plt.legend(title = 'cluster',  bbox_to_anchor=(1.2, 1.0))\n",
    "    plt.show()"
   ]
  },
  {
   "cell_type": "markdown",
   "metadata": {},
   "source": [
    "Here's a plot showing the results of the clustering where each color represents a different cluster"
   ]
  },
  {
   "cell_type": "code",
   "execution_count": 41,
   "metadata": {},
   "outputs": [
    {
     "data": {
      "image/png": "[encoded data removed]",
      "text/plain": [
       "<Figure size 432x288 with 1 Axes>"
      ]
     },
     "metadata": {
      "needs_background": "light"
     },
     "output_type": "display_data"
    }
   ],
   "source": [
    "plot_clusters(X_cluster, k) # run plot_clusters function on our data w/ k = 10 clusters"
   ]
  },
  {
   "cell_type": "markdown",
   "metadata": {},
   "source": [
    "* We can see our model overfitting, but again, this is the sacrifice we make to ensure we capture the true genres of each artist."
   ]
  },
  {
   "cell_type": "markdown",
   "metadata": {},
   "source": [
    "Since clustering results are random (labels assigned are arbitrary -- while the artist groupings are relatively consistent, the labels change each time you run the clustering algorithm), let's save the dataframe and perserve our findings."
   ]
  },
  {
   "cell_type": "code",
   "execution_count": 42,
   "metadata": {},
   "outputs": [],
   "source": [
    "df_clustered.to_csv(\"data/TopCharts_clustered_artists.csv\", index = False) # write to CSV"
   ]
  },
  {
   "cell_type": "code",
   "execution_count": 43,
   "metadata": {},
   "outputs": [],
   "source": [
    "def top_artists(df, k, n):\n",
    "    \"\"\"\n",
    "    gives top n most popular artists in each cluster\n",
    "    \n",
    "    inputs:   df: dataframe with cluster assignments\n",
    "              k: total number of clusters\n",
    "              n: how many artists to show in each cluster    \n",
    "    returns:  d: dictionary {cluster number: list of artists}\n",
    "    \"\"\"\n",
    "    d = dict()\n",
    "    for i in range(k):\n",
    "        subset = df.loc[df.cluster == i, :].sort_values(by = \"total_days\", ascending = False)\n",
    "        d[i] = list(subset.artist[:min(n, len(subset))])\n",
    "    return d"
   ]
  },
  {
   "cell_type": "markdown",
   "metadata": {},
   "source": [
    "These are the top 5 most popular artists in each cluster, as determined by the total number of days their songs were on the charts:"
   ]
  },
  {
   "cell_type": "code",
   "execution_count": 44,
   "metadata": {
    "scrolled": true
   },
   "outputs": [
    {
     "name": "stdout",
     "output_type": "stream",
     "text": [
      "{   0: ['Billie Eilish', 'Sam Smith', 'Joji', '6LACK', 'Lewis Capaldi'],\n",
      "    1: ['Migos', 'Marshmello', 'Logic', 'DaBaby', '6ix9ine'],\n",
      "    2: ['Lord Huron', 'Brenda Lee', 'Wham!', 'José Feliciano', 'The Jackson 5'],\n",
      "    3: [   'Lil Uzi Vert',\n",
      "           'Travis Scott',\n",
      "           'Kendrick Lamar',\n",
      "           'The Chainsmokers',\n",
      "           'Future'],\n",
      "    4: ['Steve Aoki', 'John Lennon', 'Skrillex', 'Powfu', 'FRENSHIP'],\n",
      "    5: [   'Bing Crosby',\n",
      "           'Frank Sinatra',\n",
      "           'Nat King Cole',\n",
      "           'Dean Martin',\n",
      "           'Jeremy Zucker'],\n",
      "    6: ['Lizzo', 'Famous Dex', 'Dustin Lynch', 'Lunay', 'Louis Tomlinson'],\n",
      "    7: ['XXXTENTACION', 'Khalid', 'J. Cole', 'Lauv', 'Offset'],\n",
      "    8: ['Post Malone', 'Drake', 'Juice WRLD', 'Ariana Grande', 'Ed Sheeran'],\n",
      "    9: ['Luke Combs', 'Eminem', 'DJ Khaled', 'Panic! At The Disco', 'KYLE']}\n"
     ]
    }
   ],
   "source": [
    "pp.pprint(top_artists(df_clustered, 10, 5))"
   ]
  },
  {
   "cell_type": "markdown",
   "metadata": {},
   "source": [
    "For each cluster, let's examine the mean and median number of total days spent on the charts by the artists in that cluster:"
   ]
  },
  {
   "cell_type": "code",
   "execution_count": 141,
   "metadata": {},
   "outputs": [
    {
     "name": "stdout",
     "output_type": "stream",
     "text": [
      "cluster 0:\n",
      "\taverage days: 174.80645161290323\n",
      "\tmedian days: 8.0\n",
      "cluster 1:\n",
      "\taverage days: 205.9345238095238\n",
      "\tmedian days: 50.5\n",
      "cluster 2:\n",
      "\taverage days: 40.44444444444444\n",
      "\tmedian days: 14.5\n",
      "cluster 3:\n",
      "\taverage days: 389.9166666666667\n",
      "\tmedian days: 86.0\n",
      "cluster 4:\n",
      "\taverage days: 31.714285714285715\n",
      "\tmedian days: 7.5\n",
      "cluster 5:\n",
      "\taverage days: 61.03225806451613\n",
      "\tmedian days: 34.0\n",
      "cluster 6:\n",
      "\taverage days: 71.46341463414635\n",
      "\tmedian days: 17.0\n",
      "cluster 7:\n",
      "\taverage days: 300.7959183673469\n",
      "\tmedian days: 52.5\n",
      "cluster 8:\n",
      "\taverage days: 547.2331606217616\n",
      "\tmedian days: 86.0\n",
      "cluster 9:\n",
      "\taverage days: 179.83823529411765\n",
      "\tmedian days: 67.0\n"
     ]
    }
   ],
   "source": [
    "for i in range(k): # for each cluster\n",
    "    days = df_clustered.loc[df_clustered.cluster == i, 'total_days']\n",
    "    print(f\"cluster {i}:\\n\\taverage days: {days.mean()}\\n\\tmedian days: {days.median()}\")"
   ]
  },
  {
   "cell_type": "markdown",
   "metadata": {},
   "source": [
    "* Clearly, __artists in clusters 3 and 8 seem to spend more days on the charts than artists in other clusters__. Is this reflected in the distribution of clusters in the top 100 artists? Let's narrow our scope and develop these findings further:"
   ]
  },
  {
   "cell_type": "markdown",
   "metadata": {},
   "source": [
    "### Representation of clusters in top 100 most popular artists:\n",
    "Let's see if there are any clusters that are over/under-represented in the top 100 most popular artists:"
   ]
  },
  {
   "cell_type": "code",
   "execution_count": 36,
   "metadata": {},
   "outputs": [],
   "source": [
    "def plot_cluster_barchart(subset_cnts, subset_name, k, compare, baseline_props = None):\n",
    "    \"\"\"\n",
    "    plots cluster proportions\n",
    "    \n",
    "    inputs: subset_cnts: cluster frequencies in subset \n",
    "            subset_name: name of subset\n",
    "            k: total number of clusters\n",
    "            compare: True if want to compare to baseline proportions, else False\n",
    "            baseline_props: baseline proportions for comparison\n",
    "    \n",
    "    returns: subset_heights: cluster proportions in subset\n",
    "    \"\"\"\n",
    "    xaxis = np.array(range(k))\n",
    "    \n",
    "    n = sum(subset_cnts.values)\n",
    "    subset_heights = [subset_cnts[i]/n if i in subset_cnts.index else 0 for i in range(k)]\n",
    "    \n",
    "    plt.bar(xaxis, subset_heights, .4, label = subset_name)\n",
    "    plt.xlabel(\"cluster\")\n",
    "    plt.ylabel(\"prop\")\n",
    "    plt.title(\"distribution of clusters\")\n",
    "    if compare:\n",
    "        plt.bar(xaxis+.4,baseline_props, .4, color='r',label='all')\n",
    "        plt.legend()\n",
    "        plt.xticks(xaxis+.4/2, xaxis)\n",
    "    else:\n",
    "        plt.xticks(xaxis)\n",
    "    plt.show()\n",
    "    \n",
    "    return subset_heights\n"
   ]
  },
  {
   "cell_type": "code",
   "execution_count": 39,
   "metadata": {},
   "outputs": [
    {
     "name": "stdout",
     "output_type": "stream",
     "text": [
      "proportion of artists in each cluster:\n",
      "\tcluster 0: 0.0786\n",
      "\tcluster 1: 0.2129\n",
      "\tcluster 2: 0.0228\n",
      "\tcluster 3: 0.1217\n",
      "\tcluster 4: 0.0177\n",
      "\tcluster 5: 0.0393\n",
      "\tcluster 6: 0.052\n",
      "\tcluster 7: 0.1242\n",
      "\tcluster 8: 0.2446\n",
      "\tcluster 9: 0.0862\n"
     ]
    }
   ],
   "source": [
    "size_all = len(df_artist)\n",
    "all_cnts = df_clustered.cluster.value_counts()\n",
    "print(\"proportion of artists in each cluster:\")\n",
    "for i in range(10):\n",
    "    print(f\"\\tcluster {i}: {round(all_cnts[i]/size_all, 4)}\")"
   ]
  },
  {
   "cell_type": "markdown",
   "metadata": {},
   "source": [
    "* These are the proportions we would expect to see. For example, if we were to take a sample of 100 artists out of all artists in the dataset, we would expect ~7 of them to belong to cluster 0."
   ]
  },
  {
   "cell_type": "markdown",
   "metadata": {},
   "source": [
    "We visualize these proportions in the following barchart"
   ]
  },
  {
   "cell_type": "code",
   "execution_count": 40,
   "metadata": {
    "scrolled": true
   },
   "outputs": [
    {
     "data": {
      "image/png": "[encoded data removed]",
      "text/plain": [
       "<Figure size 432x288 with 1 Axes>"
      ]
     },
     "metadata": {
      "needs_background": "light"
     },
     "output_type": "display_data"
    }
   ],
   "source": [
    "all_props = plot_cluster_barchart(df_clustered.cluster.value_counts(), \"all\", 10, False)"
   ]
  },
  {
   "cell_type": "markdown",
   "metadata": {},
   "source": [
    "Now, lets take a look at the top 100 artists:"
   ]
  },
  {
   "cell_type": "code",
   "execution_count": 42,
   "metadata": {},
   "outputs": [
    {
     "data": {
      "text/plain": [
       "8    51\n",
       "3    15\n",
       "1    14\n",
       "7     9\n",
       "9     5\n",
       "0     4\n",
       "6     2\n",
       "Name: cluster, dtype: int64"
      ]
     },
     "execution_count": 42,
     "metadata": {},
     "output_type": "execute_result"
    }
   ],
   "source": [
    "t100 = df_clustered.sort_values(by = 'total_days', ascending = False).iloc[:100, :]\n",
    "t100_cnts = t100.cluster.value_counts()\n",
    "t100_cnts"
   ]
  },
  {
   "cell_type": "markdown",
   "metadata": {},
   "source": [
    "* Raw counts of clusters in top 100 artists. 51 of the top 100 artists are in cluster 8, 15 are in cluster 3, and so forth."
   ]
  },
  {
   "cell_type": "markdown",
   "metadata": {},
   "source": [
    "Distribution of clusters proportions among top 100 artists:"
   ]
  },
  {
   "cell_type": "code",
   "execution_count": 43,
   "metadata": {},
   "outputs": [
    {
     "data": {
      "image/png": "[encoded data removed]",
      "text/plain": [
       "<Figure size 432x288 with 1 Axes>"
      ]
     },
     "metadata": {
      "needs_background": "light"
     },
     "output_type": "display_data"
    }
   ],
   "source": [
    "t100_props = plot_cluster_barchart(t100_cnts, \"top 100\", 10, True, all_props)"
   ]
  },
  {
   "cell_type": "markdown",
   "metadata": {},
   "source": [
    "__In the top 100 artists, it looks like cluster 8 is extremely overrepresented (with the largest absolute difference in proportions being ~0.25) while the other clusters (except for cluster 3) seem to be underrepresented__. To validate our hypothesis that the observed distribution of clusters in the top 100 artists is different from the expected distribution, let's run a Chi Squared Goodness of Fit test as formal verification.\n",
    "\n",
    "The hypotheses we will be testing are:\n",
    "* $H_0:$ these observations are consistent with the expected distribution of cluster frequencies\n",
    "* $H_1:$ these observations are NOT consistent with the expected distribution of cluster frequencies"
   ]
  },
  {
   "cell_type": "code",
   "execution_count": 55,
   "metadata": {},
   "outputs": [],
   "source": [
    "def gof_test(subset_cnts, all_cnts, k, verbose = True):\n",
    "    \"\"\"\n",
    "    performs chi-squared goodness of fit test\n",
    "    \n",
    "    inputs: subset_cnts: cluster frequencies in subset \n",
    "            all_cnts: cluster frequencies in entire dataset\n",
    "            k: total number of clusters\n",
    "            verbose: True if chi-squared stat, p-value, and test results to be printed, False if not\n",
    "    \n",
    "    returns: (chisq, p): chi-squared test statistic and corresponding p-value\n",
    "    \"\"\"\n",
    "    \n",
    "    n_sub = sum(subset_cnts.values)\n",
    "    n_all = sum(all_cnts.values)\n",
    "    \n",
    "    observed_counts = np.array([subset_cnts[i] if i in subset_cnts.index else 0 for i in range(k)])\n",
    "    expected_counts = np.array([all_cnts[i] * (n_sub/n_all) if i in all_cnts.index else 0 for i in range(k)])\n",
    "    chisq, p = chisquare(observed_counts, f_exp=expected_counts)\n",
    "    rej = \"Yes\" if p<.05 else \"No\"\n",
    "    if verbose:\n",
    "        print(f\"Chisq: {chisq}\\t\\t Pr(>Chisq): {p}\")\n",
    "        print(f\"Reject null?: {rej}\")\n",
    "    return chisq, p"
   ]
  },
  {
   "cell_type": "code",
   "execution_count": 56,
   "metadata": {},
   "outputs": [
    {
     "name": "stdout",
     "output_type": "stream",
     "text": [
      "Chisq: 46.25617072397899\t\t Pr(>Chisq): 5.397277684535313e-07\n",
      "Reject null?: Yes\n"
     ]
    }
   ],
   "source": [
    "t100_chisq, t100_p = gof_test(t100_cnts, all_cnts, 10) # run our GOF test"
   ]
  },
  {
   "cell_type": "markdown",
   "metadata": {},
   "source": [
    "* It looks like our intuitions from looking at the distributions were correct: the distribution of cluster frequencies in the top 100 most popular artists does not match the expected frequencies. \n",
    "\n",
    "\n",
    "* However, something else to consider is how likely it is for us to have gotten our results due to sheer chance. So, let's run some simulations to empirically determine how likely or unlikely our previous results are."
   ]
  },
  {
   "cell_type": "markdown",
   "metadata": {},
   "source": [
    "__Simulation analysis of the goodness-of-fit test results and conclusions:__"
   ]
  },
  {
   "cell_type": "code",
   "execution_count": 59,
   "metadata": {},
   "outputs": [],
   "source": [
    "def sim_cluster_dist(cluster_df, n_iter, k):\n",
    "    \"\"\"\n",
    "    performs simulation of cluster proportions; randomly chooses 100 artists from the entire dataset \n",
    "    and performs goodness of fit test\n",
    "    \n",
    "    inputs: cluster_df: entire dataset with cluster assignments\n",
    "            n_iter: number of simulations to run\n",
    "            k: total number of clusters\n",
    "    returns: chisq_list: list of chi-squared test statistics from goodness of fit test (1 for each simulation)\n",
    "             p_list: list of p-values, corresponds to chisq_list\n",
    "             sim_props: cluster proportions in across all simulations\n",
    "    \"\"\"\n",
    "    sim_cnts = np.zeros(k)\n",
    "    p_list = []\n",
    "    chisq_list = []\n",
    "    n = len(cluster_df)\n",
    "    for i in range(n_iter):\n",
    "        idx = np.random.choice(range(n), 100, replace = False)\n",
    "        vc = cluster_df.loc[idx, 'cluster'].value_counts()\n",
    "        for c in vc.index:\n",
    "            sim_cnts[c] += vc[c]\n",
    "        x,p = gof_test(vc, all_cnts, k, verbose = False)\n",
    "        chisq_list.append(x)\n",
    "        p_list.append(p)\n",
    "    \n",
    "    sim_props = plot_cluster_barchart(pd.Series(sim_cnts), \"simulated\", k, True, all_props)\n",
    "    return chisq_list, p_list, sim_props"
   ]
  },
  {
   "cell_type": "markdown",
   "metadata": {},
   "source": [
    "Let's run 1000 simulations of 100 random samples from the entire artist dataset."
   ]
  },
  {
   "cell_type": "markdown",
   "metadata": {},
   "source": [
    "This histogram shows the proportion of clusters across all 1000 simulations of 100 samples. We can see that it almost perfectly matches the expected proportions."
   ]
  },
  {
   "cell_type": "code",
   "execution_count": 60,
   "metadata": {
    "scrolled": false
   },
   "outputs": [
    {
     "data": {
      "image/png": "[encoded data removed]",
      "text/plain": [
       "<Figure size 432x288 with 1 Axes>"
      ]
     },
     "metadata": {
      "needs_background": "light"
     },
     "output_type": "display_data"
    }
   ],
   "source": [
    "sim_data = sim_cluster_dist(df_clustered, 1000, 10)"
   ]
  },
  {
   "cell_type": "markdown",
   "metadata": {},
   "source": [
    "We can see that 27 Type I errors (incorrectly rejecting the null hypothesis) have been made in 1000 simulations. Without even taking into considering the magnitude of our p-value for the goodness of fit test on the top 100 artists, we can see that our findings are already quite unlikely: there is only a 2.7% chance for our findings to have been a result of sheer chance."
   ]
  },
  {
   "cell_type": "code",
   "execution_count": 61,
   "metadata": {
    "scrolled": true
   },
   "outputs": [
    {
     "name": "stdout",
     "output_type": "stream",
     "text": [
      "number of times where the goodness of fit test rejects h0: 27\n"
     ]
    }
   ],
   "source": [
    "print(f\"number of times where the goodness of fit test rejects h0: {len(np.where(np.array(sim_data[1])<.05)[0])}\")"
   ]
  },
  {
   "cell_type": "markdown",
   "metadata": {},
   "source": [
    "Now, let's take into consideration the magnitude of our findings by looking at the distribution of $\\chi^2$ statistics in the simulation"
   ]
  },
  {
   "cell_type": "code",
   "execution_count": 143,
   "metadata": {},
   "outputs": [
    {
     "data": {
      "image/png": "[encoded data removed]",
      "text/plain": [
       "<Figure size 432x288 with 1 Axes>"
      ]
     },
     "metadata": {
      "needs_background": "light"
     },
     "output_type": "display_data"
    }
   ],
   "source": [
    "plt.hist(sim_data[0])\n",
    "plt.axvline(x =t100_chisq, color = 'g', linestyle = 'dashed', linewidth = 2, label = 'chisq (top 100)')\n",
    "plt.title(\"Distribution of Chi Squared variables from simulations\")\n",
    "plt.xlabel(\"Chisq\")\n",
    "plt.ylabel(\"Frequency\")\n",
    "plt.legend()\n",
    "plt.show()"
   ]
  },
  {
   "cell_type": "code",
   "execution_count": 144,
   "metadata": {},
   "outputs": [
    {
     "name": "stdout",
     "output_type": "stream",
     "text": [
      "number of simulated chisq variable > chisq variable for top 100: 0\n"
     ]
    }
   ],
   "source": [
    "print(f\"number of simulated chisq variable > chisq variable for top 100: {len(np.where(np.array(sim_data[0])>t100_chisq)[0])}\")"
   ]
  },
  {
   "cell_type": "markdown",
   "metadata": {},
   "source": [
    "This histogram shows the distribution of goodness of fit $\\chi^2$ statistics from the simulation (for example, there are ~300 simulated $\\chi^2$ variables around 5). \n",
    "\n",
    "In the above output, we can see that not a single simulation out of the 1000 simulations we ran produced results remotely close to the $\\chi^2$ statistic we observed for the top 100 artists. This means that it is extremely unlikely for our findings to be an artifact of randomness -- __the differences between the distributions of clusters in the top 100 artists and the overall dataset is very significant.__ \n",
    "\n",
    "*So what does this mean?* \n",
    "\n",
    "Since cluster assignments are determined using each artist's typical musical attributes (median audio feature values across their songs), we can see that __most popular artists' typical musical attributes that are in some ways similar__, which explains why they all fall into a single cluster. \n",
    "\n",
    "However, since we cluster based on 2 principal components created from PCA, it should be mentioned that this similarity cannot necessarily attributed to just a single audio feature, but rather to a linear combination of audio features. Consequently, we cannot definitively tell what these features are, but let's take a look at the distribution of features in each cluster anyways."
   ]
  },
  {
   "cell_type": "code",
   "execution_count": 53,
   "metadata": {
    "scrolled": false
   },
   "outputs": [
    {
     "data": {
      "image/png": "[encoded data removed]",
      "text/plain": [
       "<Figure size 1080x720 with 8 Axes>"
      ]
     },
     "metadata": {
      "needs_background": "light"
     },
     "output_type": "display_data"
    }
   ],
   "source": [
    "fig, axes = plt.subplots(nrows=2, ncols=4, figsize = (15,10))\n",
    "\n",
    "for i, ax in enumerate(axes.flat):\n",
    "    col = cluster_cols[i]\n",
    "    \n",
    "    data = [df_clustered.loc[df_clustered.cluster == i, col] for i in range(k)]\n",
    "    ax.boxplot(data)\n",
    "    ax.set_xlabel(\"cluster\")\n",
    "    ax.set_ylabel(\"value\")\n",
    "    ax.set_xticklabels(list(range(k)))\n",
    "    ax.set_title(col)\n",
    "\n",
    "fig.tight_layout()\n",
    "\n",
    "plt.show()"
   ]
  },
  {
   "cell_type": "markdown",
   "metadata": {},
   "source": [
    "Although we may not be able to empirically determine *how* the top 100 artists' typical musical attributes are similar , the fact these similarities exist is very interesting."
   ]
  },
  {
   "cell_type": "code",
   "execution_count": null,
   "metadata": {},
   "outputs": [],
   "source": []
  }
 ],
 "metadata": {
  "kernelspec": {
   "display_name": "Python 3",
   "language": "python",
   "name": "python3"
  },
  "language_info": {
   "codemirror_mode": {
    "name": "ipython",
    "version": 3
   },
   "file_extension": ".py",
   "mimetype": "text/x-python",
   "name": "python",
   "nbconvert_exporter": "python",
   "pygments_lexer": "ipython3",
   "version": "3.6.8"
  }
 },
 "nbformat": 4,
 "nbformat_minor": 4
}
