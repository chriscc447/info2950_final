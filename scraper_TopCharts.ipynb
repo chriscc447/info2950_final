{
 "cells": [
  {
   "cell_type": "code",
   "execution_count": 1,
   "metadata": {},
   "outputs": [],
   "source": [
    "# creating spotify charts scraper\n",
    "import pandas as pd\n",
    "from time import time, sleep\n",
    "import requests\n",
    "from datetime import timedelta, date, datetime\n",
    "from pprint import PrettyPrinter\n",
    "from bs4 import BeautifulSoup\n",
    "from tqdm.notebook import tqdm\n",
    "import pickle\n",
    "pp = PrettyPrinter(indent = 2)\n"
   ]
  },
  {
   "cell_type": "code",
   "execution_count": 2,
   "metadata": {},
   "outputs": [],
   "source": [
    "class Scraper():\n",
    "    \n",
    "    base = \"https://spotifycharts.com/regional/us/daily/\"\n",
    "    \n",
    "    def __init__(self, start_date = date(2017,1,1), end_date = date(2020, 4, 13)):\n",
    "        \"\"\"\n",
    "        input: start_date: date object, first date to consider (oldest possible is 2017-1-1)\n",
    "               end_date: date object, final date to consider\n",
    "        \"\"\"\n",
    "        self.start_date = max(start_date, date(2017,1,1))\n",
    "        self.end_date = min(end_date, date.today())\n",
    "        self.days_count = (end_date - start_date).days \n",
    "    \n",
    "    def _get_table(self, d):\n",
    "        \"\"\"\n",
    "        [Private function]\n",
    "        Gets html page of songs on Top 200 Chart for given date d and outputs html table with relevant data\n",
    "        \n",
    "        input: d = date object\n",
    "        output: body of table in html form if valid request, else None\n",
    "        \"\"\"\n",
    "        rq = requests.get(self.base + d.strftime(\"%Y-%m-%d\"))\n",
    "        if rq.status_code == 200:\n",
    "            s = BeautifulSoup(rq.text, \"html.parser\")\n",
    "            topchart = s.find(\"table\", {\"class\": \"chart-table\"})\n",
    "            body = topchart.find(\"tbody\")\n",
    "\n",
    "            return body\n",
    "        else:\n",
    "            print(f\"{d}: {rq.status_code}\")\n",
    "            return\n",
    "        \n",
    "    def _get_data(self, table, d):\n",
    "        \"\"\"\n",
    "        [Private function]\n",
    "        Scrapes table to create dataframe of songs on top 200 chart for given date d \n",
    "        \n",
    "        input: table = body of table in html form\n",
    "               d = date object\n",
    "        output: dataframe of songs in top 200 chart on inputted date\n",
    "        \"\"\"\n",
    "        data = []\n",
    "        for tr in table.find_all(\"tr\"):\n",
    "            song_info = dict()\n",
    "            song_info[\"rank\"] = tr.find(\"td\", {\"class\": \"chart-table-position\"}).text\n",
    "            song_info[\"artist\"] = tr.find(\"td\", {\"class\": \"chart-table-track\"}).find(\"span\").text.replace(\"by \",\"\").strip()\n",
    "            song_info[\"title\"] = tr.find(\"td\", {\"class\": \"chart-table-track\"}).find(\"strong\").text\n",
    "            song_info[\"streams\"] = tr.find(\"td\", {\"class\": \"chart-table-streams\"}).text\n",
    "            song_info[\"date\"] = d\n",
    "            data.append(song_info)\n",
    "        return data\n",
    "            \n",
    "            \n",
    "    \n",
    "    def run(self):\n",
    "        \"\"\"\n",
    "        [Public function]\n",
    "        Iterates through all days between start_date and end_date and scrapes top 200 chart for each date.\n",
    "        \n",
    "        output: dataframe of songs in top 200 charts from start_date to end_date\n",
    "                list of dates where data is not retrievable\n",
    "        \"\"\"\n",
    "        start_time = datetime.now()\n",
    "        errors = []\n",
    "        data = []\n",
    "        for d in tqdm([self.start_date + timedelta(n) for n in range(self.days_count)]):\n",
    "            table = self._get_table(d)\n",
    "            if table is None:\n",
    "                errors.append(d)\n",
    "            else:\n",
    "                data.extend(self._get_data(table, d))\n",
    "\n",
    "        df = pd.DataFrame(data, columns =  [\"rank\", \"date\", \"artist\", \"title\", \"streams\"])\n",
    "        end_time = datetime.now()\n",
    "        print(f\"Finished in {str(end_time - start_time)}\")\n",
    "        return df, errors\n",
    "            \n",
    "        "
   ]
  },
  {
   "cell_type": "code",
   "execution_count": 6,
   "metadata": {},
   "outputs": [],
   "source": [
    "s = Scraper()"
   ]
  },
  {
   "cell_type": "code",
   "execution_count": 7,
   "metadata": {},
   "outputs": [
    {
     "data": {
      "application/vnd.jupyter.widget-view+json": {
       "model_id": "372306e8f40649579d476b1f110b51e0",
       "version_major": 2,
       "version_minor": 0
      },
      "text/plain": [
       "HBox(children=(FloatProgress(value=0.0, max=1198.0), HTML(value='')))"
      ]
     },
     "metadata": {},
     "output_type": "display_data"
    },
    {
     "name": "stdout",
     "output_type": "stream",
     "text": [
      "2017-05-30: 404\n",
      "2017-05-31: 404\n",
      "2017-06-02: 404\n",
      "\n",
      "Finished in 0:20:47.482751\n"
     ]
    }
   ],
   "source": [
    "df, e = s.run()"
   ]
  },
  {
   "cell_type": "code",
   "execution_count": 8,
   "metadata": {
    "scrolled": false
   },
   "outputs": [
    {
     "data": {
      "text/html": [
       "<div>\n",
       "<style scoped>\n",
       "    .dataframe tbody tr th:only-of-type {\n",
       "        vertical-align: middle;\n",
       "    }\n",
       "\n",
       "    .dataframe tbody tr th {\n",
       "        vertical-align: top;\n",
       "    }\n",
       "\n",
       "    .dataframe thead th {\n",
       "        text-align: right;\n",
       "    }\n",
       "</style>\n",
       "<table border=\"1\" class=\"dataframe\">\n",
       "  <thead>\n",
       "    <tr style=\"text-align: right;\">\n",
       "      <th></th>\n",
       "      <th>rank</th>\n",
       "      <th>date</th>\n",
       "      <th>artist</th>\n",
       "      <th>title</th>\n",
       "      <th>streams</th>\n",
       "    </tr>\n",
       "  </thead>\n",
       "  <tbody>\n",
       "    <tr>\n",
       "      <th>0</th>\n",
       "      <td>1</td>\n",
       "      <td>2017-01-01</td>\n",
       "      <td>Migos</td>\n",
       "      <td>Bad and Boujee (feat. Lil Uzi Vert)</td>\n",
       "      <td>1,371,493</td>\n",
       "    </tr>\n",
       "    <tr>\n",
       "      <th>1</th>\n",
       "      <td>2</td>\n",
       "      <td>2017-01-01</td>\n",
       "      <td>Drake</td>\n",
       "      <td>Fake Love</td>\n",
       "      <td>1,180,074</td>\n",
       "    </tr>\n",
       "    <tr>\n",
       "      <th>2</th>\n",
       "      <td>3</td>\n",
       "      <td>2017-01-01</td>\n",
       "      <td>The Weeknd</td>\n",
       "      <td>Starboy</td>\n",
       "      <td>1,064,351</td>\n",
       "    </tr>\n",
       "    <tr>\n",
       "      <th>3</th>\n",
       "      <td>4</td>\n",
       "      <td>2017-01-01</td>\n",
       "      <td>The Chainsmokers</td>\n",
       "      <td>Closer</td>\n",
       "      <td>1,010,492</td>\n",
       "    </tr>\n",
       "    <tr>\n",
       "      <th>4</th>\n",
       "      <td>5</td>\n",
       "      <td>2017-01-01</td>\n",
       "      <td>Rae Sremmurd</td>\n",
       "      <td>Black Beatles</td>\n",
       "      <td>874,289</td>\n",
       "    </tr>\n",
       "  </tbody>\n",
       "</table>\n",
       "</div>"
      ],
      "text/plain": [
       "  rank        date            artist                                title  \\\n",
       "0    1  2017-01-01             Migos  Bad and Boujee (feat. Lil Uzi Vert)   \n",
       "1    2  2017-01-01             Drake                            Fake Love   \n",
       "2    3  2017-01-01        The Weeknd                              Starboy   \n",
       "3    4  2017-01-01  The Chainsmokers                               Closer   \n",
       "4    5  2017-01-01      Rae Sremmurd                        Black Beatles   \n",
       "\n",
       "     streams  \n",
       "0  1,371,493  \n",
       "1  1,180,074  \n",
       "2  1,064,351  \n",
       "3  1,010,492  \n",
       "4    874,289  "
      ]
     },
     "execution_count": 8,
     "metadata": {},
     "output_type": "execute_result"
    }
   ],
   "source": [
    "df.head()"
   ]
  },
  {
   "cell_type": "code",
   "execution_count": 9,
   "metadata": {},
   "outputs": [
    {
     "data": {
      "text/plain": [
       "[datetime.date(2017, 5, 30),\n",
       " datetime.date(2017, 5, 31),\n",
       " datetime.date(2017, 6, 2)]"
      ]
     },
     "execution_count": 9,
     "metadata": {},
     "output_type": "execute_result"
    }
   ],
   "source": [
    "e #dates for which data is not retrievable"
   ]
  },
  {
   "cell_type": "code",
   "execution_count": 11,
   "metadata": {},
   "outputs": [],
   "source": [
    "df = df.reset_index(drop = True)"
   ]
  },
  {
   "cell_type": "code",
   "execution_count": 12,
   "metadata": {
    "scrolled": true
   },
   "outputs": [
    {
     "data": {
      "text/html": [
       "<div>\n",
       "<style scoped>\n",
       "    .dataframe tbody tr th:only-of-type {\n",
       "        vertical-align: middle;\n",
       "    }\n",
       "\n",
       "    .dataframe tbody tr th {\n",
       "        vertical-align: top;\n",
       "    }\n",
       "\n",
       "    .dataframe thead th {\n",
       "        text-align: right;\n",
       "    }\n",
       "</style>\n",
       "<table border=\"1\" class=\"dataframe\">\n",
       "  <thead>\n",
       "    <tr style=\"text-align: right;\">\n",
       "      <th></th>\n",
       "      <th>rank</th>\n",
       "      <th>date</th>\n",
       "      <th>artist</th>\n",
       "      <th>title</th>\n",
       "      <th>streams</th>\n",
       "    </tr>\n",
       "  </thead>\n",
       "  <tbody>\n",
       "    <tr>\n",
       "      <th>0</th>\n",
       "      <td>1</td>\n",
       "      <td>2017-01-01</td>\n",
       "      <td>Migos</td>\n",
       "      <td>Bad and Boujee (feat. Lil Uzi Vert)</td>\n",
       "      <td>1,371,493</td>\n",
       "    </tr>\n",
       "    <tr>\n",
       "      <th>1</th>\n",
       "      <td>2</td>\n",
       "      <td>2017-01-01</td>\n",
       "      <td>Drake</td>\n",
       "      <td>Fake Love</td>\n",
       "      <td>1,180,074</td>\n",
       "    </tr>\n",
       "    <tr>\n",
       "      <th>2</th>\n",
       "      <td>3</td>\n",
       "      <td>2017-01-01</td>\n",
       "      <td>The Weeknd</td>\n",
       "      <td>Starboy</td>\n",
       "      <td>1,064,351</td>\n",
       "    </tr>\n",
       "    <tr>\n",
       "      <th>3</th>\n",
       "      <td>4</td>\n",
       "      <td>2017-01-01</td>\n",
       "      <td>The Chainsmokers</td>\n",
       "      <td>Closer</td>\n",
       "      <td>1,010,492</td>\n",
       "    </tr>\n",
       "    <tr>\n",
       "      <th>4</th>\n",
       "      <td>5</td>\n",
       "      <td>2017-01-01</td>\n",
       "      <td>Rae Sremmurd</td>\n",
       "      <td>Black Beatles</td>\n",
       "      <td>874,289</td>\n",
       "    </tr>\n",
       "  </tbody>\n",
       "</table>\n",
       "</div>"
      ],
      "text/plain": [
       "  rank        date            artist                                title  \\\n",
       "0    1  2017-01-01             Migos  Bad and Boujee (feat. Lil Uzi Vert)   \n",
       "1    2  2017-01-01             Drake                            Fake Love   \n",
       "2    3  2017-01-01        The Weeknd                              Starboy   \n",
       "3    4  2017-01-01  The Chainsmokers                               Closer   \n",
       "4    5  2017-01-01      Rae Sremmurd                        Black Beatles   \n",
       "\n",
       "     streams  \n",
       "0  1,371,493  \n",
       "1  1,180,074  \n",
       "2  1,064,351  \n",
       "3  1,010,492  \n",
       "4    874,289  "
      ]
     },
     "execution_count": 12,
     "metadata": {},
     "output_type": "execute_result"
    }
   ],
   "source": [
    "df.head()"
   ]
  },
  {
   "cell_type": "code",
   "execution_count": 13,
   "metadata": {},
   "outputs": [],
   "source": [
    "df.to_csv(\"TopCharts_incomplete.csv\", index = False)"
   ]
  }
 ],
 "metadata": {
  "kernelspec": {
   "display_name": "Python 3.7.4 64-bit ('base': conda)",
   "language": "python",
   "name": "python37464bitbasecondade3031e102d342aa8a702b3f5f29a489"
  },
  "language_info": {
   "codemirror_mode": {
    "name": "ipython",
    "version": 3
   },
   "file_extension": ".py",
   "mimetype": "text/x-python",
   "name": "python",
   "nbconvert_exporter": "python",
   "pygments_lexer": "ipython3",
   "version": "3.7.6"
  }
 },
 "nbformat": 4,
 "nbformat_minor": 4
}
