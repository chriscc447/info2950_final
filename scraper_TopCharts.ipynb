{
 "cells": [
  {
   "cell_type": "code",
   "execution_count": 32,
   "metadata": {},
   "outputs": [],
   "source": [
    "# creating spotify charts scraper\n",
    "import pandas as pd\n",
    "from time import time, sleep\n",
    "import requests\n",
    "from datetime import timedelta, date, datetime\n",
    "from pprint import PrettyPrinter\n",
    "from bs4 import BeautifulSoup\n",
    "from tqdm.notebook import tqdm\n",
    "import pickle\n",
    "pp = PrettyPrinter(indent = 2)\n"
   ]
  },
  {
   "cell_type": "code",
   "execution_count": 2,
   "metadata": {},
   "outputs": [],
   "source": [
    "class Scraper():\n",
    "    \n",
    "    base = \"https://spotifycharts.com/regional/us/daily/\"\n",
    "    \n",
    "    def __init__(self, start_date = date(2017,1,1), end_date = date(2020, 4, 13)):\n",
    "        self.start_date = start_date\n",
    "        self.end_date = end_date\n",
    "        self.days_count = (end_date - start_date).days \n",
    "    \n",
    "    def _get_table(self, d):\n",
    "        rq = requests.get(self.base + d.strftime(\"%Y-%m-%d\"))\n",
    "        if rq.status_code == 200:\n",
    "            s = BeautifulSoup(rq.text, \"html.parser\")\n",
    "            topchart = s.find(\"table\", {\"class\": \"chart-table\"})\n",
    "            body = topchart.find(\"tbody\")\n",
    "\n",
    "            return body\n",
    "        else:\n",
    "            print(f\"{d}: {rq.status_code}\")\n",
    "            return\n",
    "        \n",
    "    def _get_data(self, table, d):\n",
    "        dt = {i:[] for i in [\"rank\", \"artist\", \"title\", \"streams\", \"date\"]}\n",
    "        for tr in table.find_all(\"tr\"):\n",
    "            dt[\"rank\"].append(tr.find(\"td\", {\"class\": \"chart-table-position\"}).text)\n",
    "            dt[\"artist\"].append(tr.find(\"td\", {\"class\": \"chart-table-track\"}).find(\"span\").text.replace(\"by \",\"\").strip())\n",
    "            dt[\"title\"].append(tr.find(\"td\", {\"class\": \"chart-table-track\"}).find(\"strong\").text)\n",
    "            dt[\"streams\"].append(tr.find(\"td\", {\"class\": \"chart-table-streams\"}).text)\n",
    "            dt[\"date\"].append(d)\n",
    "        return pd.DataFrame(dt )\n",
    "            \n",
    "            \n",
    "    \n",
    "    def run(self):\n",
    "        start_time = datetime.now()\n",
    "        errors = []\n",
    "        df = pd.DataFrame(columns =  [\"rank\", \"artist\", \"title\", \"streams\", \"date\"])\n",
    "        for d in tqdm([self.start_date + timedelta(n) for n in range(self.days_count)]):\n",
    "            table = self._get_table(d)\n",
    "            if table is None:\n",
    "                errors.append(d)\n",
    "                \n",
    "            else:\n",
    "                tempdf = self._get_data(table, d)\n",
    "                df = pd.concat([df, tempdf])\n",
    "        \n",
    "        end_time = datetime.now()\n",
    "        print(f\"Finished in {str(end_time - start_time)}\")\n",
    "        return df, errors\n",
    "            \n",
    "        "
   ]
  },
  {
   "cell_type": "code",
   "execution_count": 3,
   "metadata": {},
   "outputs": [],
   "source": [
    "s = Scraper()"
   ]
  },
  {
   "cell_type": "code",
   "execution_count": 6,
   "metadata": {},
   "outputs": [
    {
     "data": {
      "application/vnd.jupyter.widget-view+json": {
       "model_id": "194f371763344102b0d50f3ba34e782a",
       "version_major": 2,
       "version_minor": 0
      },
      "text/plain": [
       "HBox(children=(FloatProgress(value=0.0, max=1198.0), HTML(value='')))"
      ]
     },
     "metadata": {},
     "output_type": "display_data"
    },
    {
     "name": "stdout",
     "output_type": "stream",
     "text": [
      "2017-05-30: 404\n",
      "2017-05-31: 404\n",
      "2017-06-02: 404\n",
      "\n",
      "Finished in 0:29:25.179703\n"
     ]
    }
   ],
   "source": [
    "df, e = s.run()"
   ]
  },
  {
   "cell_type": "code",
   "execution_count": 13,
   "metadata": {
    "scrolled": false
   },
   "outputs": [
    {
     "data": {
      "text/html": [
       "<div>\n",
       "<style scoped>\n",
       "    .dataframe tbody tr th:only-of-type {\n",
       "        vertical-align: middle;\n",
       "    }\n",
       "\n",
       "    .dataframe tbody tr th {\n",
       "        vertical-align: top;\n",
       "    }\n",
       "\n",
       "    .dataframe thead th {\n",
       "        text-align: right;\n",
       "    }\n",
       "</style>\n",
       "<table border=\"1\" class=\"dataframe\">\n",
       "  <thead>\n",
       "    <tr style=\"text-align: right;\">\n",
       "      <th></th>\n",
       "      <th>rank</th>\n",
       "      <th>artist</th>\n",
       "      <th>title</th>\n",
       "      <th>streams</th>\n",
       "      <th>date</th>\n",
       "    </tr>\n",
       "  </thead>\n",
       "  <tbody>\n",
       "    <tr>\n",
       "      <th>0</th>\n",
       "      <td>1</td>\n",
       "      <td>Migos</td>\n",
       "      <td>Bad and Boujee (feat. Lil Uzi Vert)</td>\n",
       "      <td>1,371,493</td>\n",
       "      <td>2017-01-01</td>\n",
       "    </tr>\n",
       "    <tr>\n",
       "      <th>1</th>\n",
       "      <td>2</td>\n",
       "      <td>Drake</td>\n",
       "      <td>Fake Love</td>\n",
       "      <td>1,180,074</td>\n",
       "      <td>2017-01-01</td>\n",
       "    </tr>\n",
       "    <tr>\n",
       "      <th>2</th>\n",
       "      <td>3</td>\n",
       "      <td>The Weeknd</td>\n",
       "      <td>Starboy</td>\n",
       "      <td>1,064,351</td>\n",
       "      <td>2017-01-01</td>\n",
       "    </tr>\n",
       "    <tr>\n",
       "      <th>3</th>\n",
       "      <td>4</td>\n",
       "      <td>The Chainsmokers</td>\n",
       "      <td>Closer</td>\n",
       "      <td>1,010,492</td>\n",
       "      <td>2017-01-01</td>\n",
       "    </tr>\n",
       "    <tr>\n",
       "      <th>4</th>\n",
       "      <td>5</td>\n",
       "      <td>Rae Sremmurd</td>\n",
       "      <td>Black Beatles</td>\n",
       "      <td>874,289</td>\n",
       "      <td>2017-01-01</td>\n",
       "    </tr>\n",
       "  </tbody>\n",
       "</table>\n",
       "</div>"
      ],
      "text/plain": [
       "  rank            artist                                title    streams  \\\n",
       "0    1             Migos  Bad and Boujee (feat. Lil Uzi Vert)  1,371,493   \n",
       "1    2             Drake                            Fake Love  1,180,074   \n",
       "2    3        The Weeknd                              Starboy  1,064,351   \n",
       "3    4  The Chainsmokers                               Closer  1,010,492   \n",
       "4    5      Rae Sremmurd                        Black Beatles    874,289   \n",
       "\n",
       "         date  \n",
       "0  2017-01-01  \n",
       "1  2017-01-01  \n",
       "2  2017-01-01  \n",
       "3  2017-01-01  \n",
       "4  2017-01-01  "
      ]
     },
     "execution_count": 13,
     "metadata": {},
     "output_type": "execute_result"
    }
   ],
   "source": [
    "df.head()"
   ]
  },
  {
   "cell_type": "code",
   "execution_count": 7,
   "metadata": {
    "scrolled": true
   },
   "outputs": [
    {
     "data": {
      "text/plain": [
       "4934"
      ]
     },
     "execution_count": 7,
     "metadata": {},
     "output_type": "execute_result"
    }
   ],
   "source": [
    "len(df.title.unique())"
   ]
  },
  {
   "cell_type": "code",
   "execution_count": 8,
   "metadata": {},
   "outputs": [
    {
     "data": {
      "text/plain": [
       "[datetime.date(2017, 5, 30),\n",
       " datetime.date(2017, 5, 31),\n",
       " datetime.date(2017, 6, 2)]"
      ]
     },
     "execution_count": 8,
     "metadata": {},
     "output_type": "execute_result"
    }
   ],
   "source": [
    "e"
   ]
  },
  {
   "cell_type": "code",
   "execution_count": 22,
   "metadata": {},
   "outputs": [],
   "source": [
    "df.set_axis(list(range(len(df))), inplace = True)"
   ]
  },
  {
   "cell_type": "code",
   "execution_count": 26,
   "metadata": {},
   "outputs": [
    {
     "data": {
      "text/html": [
       "<div>\n",
       "<style scoped>\n",
       "    .dataframe tbody tr th:only-of-type {\n",
       "        vertical-align: middle;\n",
       "    }\n",
       "\n",
       "    .dataframe tbody tr th {\n",
       "        vertical-align: top;\n",
       "    }\n",
       "\n",
       "    .dataframe thead th {\n",
       "        text-align: right;\n",
       "    }\n",
       "</style>\n",
       "<table border=\"1\" class=\"dataframe\">\n",
       "  <thead>\n",
       "    <tr style=\"text-align: right;\">\n",
       "      <th></th>\n",
       "      <th>rank</th>\n",
       "      <th>artist</th>\n",
       "      <th>title</th>\n",
       "      <th>streams</th>\n",
       "      <th>date</th>\n",
       "    </tr>\n",
       "  </thead>\n",
       "  <tbody>\n",
       "    <tr>\n",
       "      <th>0</th>\n",
       "      <td>1</td>\n",
       "      <td>Migos</td>\n",
       "      <td>Bad and Boujee (feat. Lil Uzi Vert)</td>\n",
       "      <td>1,371,493</td>\n",
       "      <td>2017-01-01</td>\n",
       "    </tr>\n",
       "    <tr>\n",
       "      <th>1</th>\n",
       "      <td>2</td>\n",
       "      <td>Drake</td>\n",
       "      <td>Fake Love</td>\n",
       "      <td>1,180,074</td>\n",
       "      <td>2017-01-01</td>\n",
       "    </tr>\n",
       "    <tr>\n",
       "      <th>2</th>\n",
       "      <td>3</td>\n",
       "      <td>The Weeknd</td>\n",
       "      <td>Starboy</td>\n",
       "      <td>1,064,351</td>\n",
       "      <td>2017-01-01</td>\n",
       "    </tr>\n",
       "    <tr>\n",
       "      <th>3</th>\n",
       "      <td>4</td>\n",
       "      <td>The Chainsmokers</td>\n",
       "      <td>Closer</td>\n",
       "      <td>1,010,492</td>\n",
       "      <td>2017-01-01</td>\n",
       "    </tr>\n",
       "    <tr>\n",
       "      <th>4</th>\n",
       "      <td>5</td>\n",
       "      <td>Rae Sremmurd</td>\n",
       "      <td>Black Beatles</td>\n",
       "      <td>874,289</td>\n",
       "      <td>2017-01-01</td>\n",
       "    </tr>\n",
       "  </tbody>\n",
       "</table>\n",
       "</div>"
      ],
      "text/plain": [
       "  rank            artist                                title    streams  \\\n",
       "0    1             Migos  Bad and Boujee (feat. Lil Uzi Vert)  1,371,493   \n",
       "1    2             Drake                            Fake Love  1,180,074   \n",
       "2    3        The Weeknd                              Starboy  1,064,351   \n",
       "3    4  The Chainsmokers                               Closer  1,010,492   \n",
       "4    5      Rae Sremmurd                        Black Beatles    874,289   \n",
       "\n",
       "         date  \n",
       "0  2017-01-01  \n",
       "1  2017-01-01  \n",
       "2  2017-01-01  \n",
       "3  2017-01-01  \n",
       "4  2017-01-01  "
      ]
     },
     "execution_count": 26,
     "metadata": {},
     "output_type": "execute_result"
    }
   ],
   "source": [
    "df.head()"
   ]
  },
  {
   "cell_type": "code",
   "execution_count": 27,
   "metadata": {},
   "outputs": [],
   "source": [
    "df.to_csv(\"TopCharts.csv\", index = False)"
   ]
  },
  {
   "cell_type": "code",
   "execution_count": 29,
   "metadata": {},
   "outputs": [],
   "source": [
    "def create_unique(df):\n",
    "    d = dict()\n",
    "    for i in tqdm(range(len(df))):\n",
    "        a = str(df.loc[i,\"artist\"])\n",
    "        t = str(df.loc[i,\"title\"])\n",
    "        if a not in d:\n",
    "            d[a] = set()\n",
    "        d[a].add(t)\n",
    "    return d"
   ]
  },
  {
   "cell_type": "code",
   "execution_count": 30,
   "metadata": {
    "scrolled": true
   },
   "outputs": [
    {
     "data": {
      "application/vnd.jupyter.widget-view+json": {
       "model_id": "996121ca03b1466f96fb7c151a5d984a",
       "version_major": 2,
       "version_minor": 0
      },
      "text/plain": [
       "HBox(children=(FloatProgress(value=0.0, max=239000.0), HTML(value='')))"
      ]
     },
     "metadata": {},
     "output_type": "display_data"
    },
    {
     "name": "stdout",
     "output_type": "stream",
     "text": [
      "\n"
     ]
    }
   ],
   "source": [
    "d = create_unique(df)"
   ]
  },
  {
   "cell_type": "code",
   "execution_count": 34,
   "metadata": {},
   "outputs": [],
   "source": [
    "with open('unique.data', 'wb') as f:\n",
    "    pickle.dump(d, f)"
   ]
  }
 ],
 "metadata": {
  "kernelspec": {
   "display_name": "Python 3.7.4 64-bit ('base': conda)",
   "language": "python",
   "name": "python37464bitbasecondade3031e102d342aa8a702b3f5f29a489"
  },
  "language_info": {
   "codemirror_mode": {
    "name": "ipython",
    "version": 3
   },
   "file_extension": ".py",
   "mimetype": "text/x-python",
   "name": "python",
   "nbconvert_exporter": "python",
   "pygments_lexer": "ipython3",
   "version": "3.7.6"
  }
 },
 "nbformat": 4,
 "nbformat_minor": 4
}
